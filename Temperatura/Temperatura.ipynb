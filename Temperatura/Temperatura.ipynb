{
 "cells": [
  {
   "cell_type": "code",
   "execution_count": 8,
   "metadata": {},
   "outputs": [],
   "source": [
    "import pandas as pd  \n",
    "import numpy as np  \n",
    "import matplotlib.pyplot as plt"
   ]
  },
  {
   "cell_type": "code",
   "execution_count": 9,
   "metadata": {},
   "outputs": [
    {
     "name": "stdout",
     "output_type": "stream",
     "text": [
      "     % visibilidad del sol  nro minuto  nro mes  temperatura\n",
      "0                     0.59       989.0      5.0         14.0\n",
      "1                     0.11      1294.0     10.0          3.0\n",
      "2                     0.39      1093.0      1.0          1.0\n",
      "3                     0.64       736.0      3.0         25.0\n",
      "4                     0.60      1016.0     11.0         13.0\n",
      "..                     ...         ...      ...          ...\n",
      "495                   0.78       919.0     10.0         10.0\n",
      "496                   0.27      1309.0      9.0          9.0\n",
      "497                   0.55      1044.0      3.0         13.0\n",
      "498                   0.78       909.0     10.0         14.0\n",
      "499                   0.01       189.0      1.0         10.0\n",
      "\n",
      "[500 rows x 4 columns]\n"
     ]
    }
   ],
   "source": [
    "data = pd.read_csv('temperature_dataSet.csv', sep=',')\n",
    "print(data)"
   ]
  },
  {
   "cell_type": "code",
   "execution_count": 11,
   "metadata": {},
   "outputs": [
    {
     "name": "stdout",
     "output_type": "stream",
     "text": [
      "     % visibilidad del sol  nro minuto  nro mes  temperatura  is_train\n",
      "0                     0.59       989.0      5.0         14.0      True\n",
      "1                     0.11      1294.0     10.0          3.0      True\n",
      "2                     0.39      1093.0      1.0          1.0      True\n",
      "3                     0.64       736.0      3.0         25.0      True\n",
      "4                     0.60      1016.0     11.0         13.0      True\n",
      "..                     ...         ...      ...          ...       ...\n",
      "493                   0.00      1107.0      1.0          5.0      True\n",
      "494                   0.55       889.0     11.0         18.0      True\n",
      "495                   0.78       919.0     10.0         10.0      True\n",
      "496                   0.27      1309.0      9.0          9.0      True\n",
      "498                   0.78       909.0     10.0         14.0      True\n",
      "\n",
      "[344 rows x 5 columns]\n",
      "     % visibilidad del sol  nro minuto  nro mes  temperatura  is_train\n",
      "7                     0.58       838.0      3.0         27.0     False\n",
      "8                     0.69       686.0     12.0         30.0     False\n",
      "15                    0.59       840.0     10.0         11.0     False\n",
      "19                    0.58       881.0      4.0         17.0     False\n",
      "25                    0.70       894.0      4.0         20.0     False\n",
      "..                     ...         ...      ...          ...       ...\n",
      "487                   0.38      1439.0      1.0          8.0     False\n",
      "491                   0.44      1079.0      3.0         18.0     False\n",
      "492                   0.50       718.0     11.0         25.0     False\n",
      "497                   0.55      1044.0      3.0         13.0     False\n",
      "499                   0.01       189.0      1.0         10.0     False\n",
      "\n",
      "[156 rows x 5 columns]\n",
      "Ejemplos usados para entrenar:  344\n",
      "Ejemplos usados para test:  156\n"
     ]
    }
   ],
   "source": [
    "p_train = 0.70 # Porcentaje de train.\n",
    "\n",
    "data['is_train'] = np.random.uniform(0, 1, len(data)) <= p_train\n",
    "train, test = data[data['is_train']==True], data[data['is_train']==False]\n",
    "data = data.drop('is_train', 1)\n",
    "print(train)\n",
    "print(test)\n",
    "\n",
    "print(\"Ejemplos usados para entrenar: \", len(train))\n",
    "print(\"Ejemplos usados para test: \", len(test))\n",
    "\n",
    "train.to_csv('train_temperatura.csv')\n",
    "test.to_csv('test_temperatura.csv')\n"
   ]
  },
  {
   "cell_type": "code",
   "execution_count": 12,
   "metadata": {},
   "outputs": [],
   "source": [
    "train = pd.read_csv('train_temperatura.csv')\n",
    "test = pd.read_csv('test_temperatura.csv')\n",
    "\n",
    "\n",
    "X_train = train.iloc[:, 1:4]\n",
    "y_train = train.iloc[:,4]\n",
    "\n",
    "X_test = test.iloc[:, 1:4]\n",
    "y_test = test.iloc[:,4]\n",
    "\n",
    "#print(X_train)\n",
    "#print(y_train)\n"
   ]
  },
  {
   "cell_type": "code",
   "execution_count": 13,
   "metadata": {},
   "outputs": [],
   "source": [
    "X_media = np.concatenate((X_train, X_test), axis=0).mean(axis=0)\n",
    "X_std = np.concatenate((X_train, X_test), axis=0).std(axis=0)\n",
    "y_media = np.concatenate((y_train, y_test), axis=0).mean()\n",
    "y_std = np.concatenate((y_train, y_test), axis=0).std()"
   ]
  },
  {
   "cell_type": "code",
   "execution_count": 14,
   "metadata": {},
   "outputs": [
    {
     "name": "stdout",
     "output_type": "stream",
     "text": [
      "(344, 3)\n"
     ]
    }
   ],
   "source": [
    "X_train = (X_train - X_media)/X_std\n",
    "y_train = (y_train - y_media)/y_std\n",
    "X_test = (X_test - X_media)/X_std\n",
    "y_test = (y_test - y_media)/y_std\n",
    "\n",
    "print(X_train.shape)"
   ]
  },
  {
   "cell_type": "code",
   "execution_count": 15,
   "metadata": {},
   "outputs": [
    {
     "name": "stdout",
     "output_type": "stream",
     "text": [
      "(344, 4)\n",
      "[[ 1.          0.24215995  0.60114624 -0.39674887]\n",
      " [ 1.         -1.6005283   1.58073486  0.83692298]\n",
      " [ 1.         -0.52562682  0.9351699  -1.38368634]\n",
      " ...\n",
      " [ 1.          0.97155738  0.37632262  0.83692298]\n",
      " [ 1.         -0.98629889  1.62891135  0.59018861]\n",
      " [ 1.          0.97155738  0.34420496  0.83692298]]\n"
     ]
    }
   ],
   "source": [
    "n_exa_train = len(y_train)\n",
    "n_exa_test = len(y_test)\n",
    "\n",
    "X_train = np.concatenate((np.ones([n_exa_train, 1]), X_train), axis=1)\n",
    "X_test = np.concatenate((np.ones([n_exa_test, 1]), X_test), axis=1)\n",
    "\n",
    "print(X_train.shape)\n",
    "print(X_train)"
   ]
  },
  {
   "cell_type": "code",
   "execution_count": 16,
   "metadata": {},
   "outputs": [],
   "source": [
    "def predict(theta, data):\n",
    "    return np.dot(data, theta)\n",
    "# print(predict(theta, X_train).shape)\n"
   ]
  },
  {
   "cell_type": "code",
   "execution_count": 17,
   "metadata": {},
   "outputs": [],
   "source": [
    "# m = X.shape[0]\n",
    "\n",
    "def cal_cost(theta, X, y):\n",
    "    y_pred_test = predict(theta, X)\n",
    "    to_sum = (y_pred_test - y) ** 2\n",
    "    return np.sum(to_sum) / (X.shape[0]*2)"
   ]
  },
  {
   "cell_type": "code",
   "execution_count": 18,
   "metadata": {},
   "outputs": [],
   "source": [
    "def gradient_descent(X,y, alpha, iterations):\n",
    "    cost_history = np.zeros(iterations)\n",
    "    n_features = X_train.shape[1]\n",
    "    theta = np.zeros(n_features)\n",
    "    \n",
    "    for it in range(iterations):\n",
    "        prediction = predict(theta, X)\n",
    "        # m = prediction.shape[0]\n",
    "        theta = theta - (1/prediction.shape[0])*alpha*( X.T.dot((prediction - y)))\n",
    "        cost_history[it]  = cal_cost(theta,X,y)\n",
    "    return theta, cost_history\n"
   ]
  },
  {
   "cell_type": "code",
   "execution_count": 19,
   "metadata": {},
   "outputs": [],
   "source": [
    "def normal_equation(X, y):\n",
    "    theta = np.dot(np.dot(np.linalg.inv(np.dot(X.T,X)),X.T),y)\n",
    "    h_array = np.dot(X, theta)\n",
    "    j = (1/(2*X.shape[0])) * np.sum((h_array-y)**2)\n",
    "    return theta,j"
   ]
  },
  {
   "cell_type": "code",
   "execution_count": 20,
   "metadata": {},
   "outputs": [
    {
     "name": "stdout",
     "output_type": "stream",
     "text": [
      "[-0.03165939  0.74922956 -0.0076528   0.06523043]\n",
      "[-0.03165939  0.74922957 -0.00765281  0.06523042]\n",
      "0.19202891722277274\n",
      "0.2054791771792598\n"
     ]
    }
   ],
   "source": [
    "alpha = 0.01 # learning rate\n",
    "iterations = 2000\n",
    "\n",
    "theta_r, cost_history_r = gradient_descent(X_train, y_train, alpha, iterations)\n",
    "print(theta_r)\n",
    "\n",
    "new_theta, j1 = normal_equation(X_train, y_train)\n",
    "print(new_theta)\n",
    "\n",
    "cost = cal_cost(theta_r,X_test, y_test)\n",
    "print(cost)\n",
    "print(j1)"
   ]
  },
  {
   "cell_type": "code",
   "execution_count": 21,
   "metadata": {},
   "outputs": [
    {
     "data": {
      "image/png": "[encoded data removed]",
      "text/plain": [
       "<Figure size 432x288 with 1 Axes>"
      ]
     },
     "metadata": {
      "needs_background": "light"
     },
     "output_type": "display_data"
    }
   ],
   "source": [
    "plt.plot(cost_history_r)\n",
    "plt.show()"
   ]
  },
  {
   "cell_type": "markdown",
   "metadata": {},
   "source": [
    "<h1>Experimentos</h1>"
   ]
  },
  {
   "cell_type": "code",
   "execution_count": 23,
   "metadata": {
    "scrolled": false
   },
   "outputs": [
    {
     "name": "stdout",
     "output_type": "stream",
     "text": [
      "learning rate: 0.01, iteraciones:   500, costo gradiente: 0.20549349436173408590, costo normal: 0.20547917717925978653\n",
      "learning rate: 0.01, iteraciones:  1000, costo gradiente: 0.20547917967785414572, costo normal: 0.20547917717925978653\n",
      "learning rate: 0.01, iteraciones:  1500, costo gradiente: 0.20547917717973857021, costo normal: 0.20547917717925978653\n",
      "learning rate: 0.01, iteraciones:  2000, costo gradiente: 0.20547917717925986980, costo normal: 0.20547917717925978653\n",
      "learning rate: 0.01, iteraciones:  2500, costo gradiente: 0.20547917717925978653, costo normal: 0.20547917717925978653\n",
      "learning rate: 0.01, iteraciones:  3000, costo gradiente: 0.20547917717925984205, costo normal: 0.20547917717925978653\n",
      "learning rate: 0.01, iteraciones:  3500, costo gradiente: 0.20547917717925984205, costo normal: 0.20547917717925978653\n"
     ]
    },
    {
     "data": {
      "image/png": "[encoded data removed]",
      "text/plain": [
       "<Figure size 432x288 with 1 Axes>"
      ]
     },
     "metadata": {
      "needs_background": "light"
     },
     "output_type": "display_data"
    },
    {
     "name": "stdout",
     "output_type": "stream",
     "text": [
      "learning rate: 0.05, iteraciones:   500, costo gradiente: 0.20547917717925984205, costo normal: 0.20547917717925978653\n",
      "learning rate: 0.05, iteraciones:  1000, costo gradiente: 0.20547917717925978653, costo normal: 0.20547917717925978653\n",
      "learning rate: 0.05, iteraciones:  1500, costo gradiente: 0.20547917717925978653, costo normal: 0.20547917717925978653\n",
      "learning rate: 0.05, iteraciones:  2000, costo gradiente: 0.20547917717925978653, costo normal: 0.20547917717925978653\n",
      "learning rate: 0.05, iteraciones:  2500, costo gradiente: 0.20547917717925978653, costo normal: 0.20547917717925978653\n",
      "learning rate: 0.05, iteraciones:  3000, costo gradiente: 0.20547917717925978653, costo normal: 0.20547917717925978653\n",
      "learning rate: 0.05, iteraciones:  3500, costo gradiente: 0.20547917717925978653, costo normal: 0.20547917717925978653\n"
     ]
    },
    {
     "data": {
      "image/png": "[encoded data removed]",
      "text/plain": [
       "<Figure size 432x288 with 1 Axes>"
      ]
     },
     "metadata": {
      "needs_background": "light"
     },
     "output_type": "display_data"
    },
    {
     "name": "stdout",
     "output_type": "stream",
     "text": [
      "learning rate: 0.10, iteraciones:   500, costo gradiente: 0.20547917717925978653, costo normal: 0.20547917717925978653\n",
      "learning rate: 0.10, iteraciones:  1000, costo gradiente: 0.20547917717925978653, costo normal: 0.20547917717925978653\n",
      "learning rate: 0.10, iteraciones:  1500, costo gradiente: 0.20547917717925978653, costo normal: 0.20547917717925978653\n",
      "learning rate: 0.10, iteraciones:  2000, costo gradiente: 0.20547917717925978653, costo normal: 0.20547917717925978653\n",
      "learning rate: 0.10, iteraciones:  2500, costo gradiente: 0.20547917717925978653, costo normal: 0.20547917717925978653\n",
      "learning rate: 0.10, iteraciones:  3000, costo gradiente: 0.20547917717925978653, costo normal: 0.20547917717925978653\n",
      "learning rate: 0.10, iteraciones:  3500, costo gradiente: 0.20547917717925978653, costo normal: 0.20547917717925978653\n"
     ]
    },
    {
     "data": {
      "image/png": "[encoded data removed]",
      "text/plain": [
       "<Figure size 432x288 with 1 Axes>"
      ]
     },
     "metadata": {
      "needs_background": "light"
     },
     "output_type": "display_data"
    },
    {
     "name": "stdout",
     "output_type": "stream",
     "text": [
      "learning rate: 0.20, iteraciones:   500, costo gradiente: 0.20547917717925978653, costo normal: 0.20547917717925978653\n",
      "learning rate: 0.20, iteraciones:  1000, costo gradiente: 0.20547917717925978653, costo normal: 0.20547917717925978653\n",
      "learning rate: 0.20, iteraciones:  1500, costo gradiente: 0.20547917717925978653, costo normal: 0.20547917717925978653\n",
      "learning rate: 0.20, iteraciones:  2000, costo gradiente: 0.20547917717925978653, costo normal: 0.20547917717925978653\n",
      "learning rate: 0.20, iteraciones:  2500, costo gradiente: 0.20547917717925978653, costo normal: 0.20547917717925978653\n",
      "learning rate: 0.20, iteraciones:  3000, costo gradiente: 0.20547917717925978653, costo normal: 0.20547917717925978653\n",
      "learning rate: 0.20, iteraciones:  3500, costo gradiente: 0.20547917717925978653, costo normal: 0.20547917717925978653\n"
     ]
    },
    {
     "data": {
      "image/png": "[encoded data removed]",
      "text/plain": [
       "<Figure size 432x288 with 1 Axes>"
      ]
     },
     "metadata": {
      "needs_background": "light"
     },
     "output_type": "display_data"
    }
   ],
   "source": [
    "iteraciones = [500, 1000, 1500, 2000, 2500, 3000, 3500]\n",
    "learning_rates = [0.01,0.05,0.1, 0.2]\n",
    "\n",
    "n_features = X_train.shape[1]\n",
    "\n",
    "for alpha in learning_rates:\n",
    "    costos_gradiente = []\n",
    "    costos_normal = []\n",
    "    for iteracion in  iteraciones:\n",
    "        #calcular gradiente\n",
    "        theta_r, cost_history_r = gradient_descent(X_train, y_train, alpha, iteracion)\n",
    "        costo_gradiente = cost_history_r[-1]\n",
    "        \n",
    "        #calcular normal\n",
    "        theta_normal, costo_normal = normal_equation(X_train, y_train)\n",
    "        \n",
    "        costos_gradiente.append(costo_gradiente)\n",
    "        costos_normal.append(costo_normal)\n",
    "        print(\"learning rate: %1.2f, iteraciones: %5d, costo gradiente: %2.20f, costo normal: %2.20f\"%(alpha,iteracion,costo_gradiente, costo_normal))\n",
    "    \n",
    "    plt.plot(iteraciones, costos_gradiente, label='Gradiente')\n",
    "    plt.plot(iteraciones, costos_normal, label='Normal')\n",
    "    plt.title('Learning Rate %f'%alpha)\n",
    "    plt.xlabel('Iteraciones')\n",
    "    plt.ylabel('Costo')\n",
    "    plt.legend()\n",
    "    plt.show()\n"
   ]
  },
  {
   "cell_type": "code",
   "execution_count": null,
   "metadata": {},
   "outputs": [],
   "source": []
  }
 ],
 "metadata": {
  "kernelspec": {
   "display_name": "Python 3",
   "language": "python",
   "name": "python3"
  },
  "language_info": {
   "codemirror_mode": {
    "name": "ipython",
    "version": 3
   },
   "file_extension": ".py",
   "mimetype": "text/x-python",
   "name": "python",
   "nbconvert_exporter": "python",
   "pygments_lexer": "ipython3",
   "version": "3.8.3"
  }
 },
 "nbformat": 4,
 "nbformat_minor": 4
}
