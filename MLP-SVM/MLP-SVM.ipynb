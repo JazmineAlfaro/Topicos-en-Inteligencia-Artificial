{
 "cells": [
  {
   "cell_type": "code",
   "execution_count": 10,
   "metadata": {},
   "outputs": [],
   "source": [
    "import numpy as np\n",
    "import pandas as pd\n",
    "import matplotlib.pyplot as plt"
   ]
  },
  {
   "cell_type": "markdown",
   "metadata": {},
   "source": [
    "Cargar datos: Glass"
   ]
  },
  {
   "cell_type": "markdown",
   "metadata": {},
   "source": [
    "Atributos:\n",
    "1. Número de identificación: 1 a 214\n",
    "2. RI: índice de refracción\n",
    "3. Na: Sodio (unidad de medida: porcentaje en peso en el óxido correspondiente, al igual que los atributos 4-10)\n",
    "4. Mg: magnesio\n",
    "5. Al: Aluminio\n",
    "6. Si: silicio\n",
    "7. K: Potasio\n",
    "8. Ca: calcio\n",
    "9. Ba: bario\n",
    "10. Fe: Hierro\n",
    "11. Tipo de vidrio: (atributo de clase)\n",
    "     1. building_windows_float_processed\n",
    "     2. building_windows_non_float_processed\n",
    "     3. vehicle_windows_float_processed\n",
    "     4. vehicle_windows_non_float_processed (ninguno en esta base de datos)\n",
    "     5. contenedores\n",
    "     6. vajilla\n",
    "     7. faros\n",
    "    \n",
    "    \n",
    "Distribución de clases: (de un total de 214 instancias)\n",
    "\n",
    "1. 163 Vidrio de ventana (ventanas de edificios y ventanas de vehículos)\n",
    "     1. 87 flotador procesado\n",
    "         - 70 ventanas de construcción\n",
    "         - 17 ventanas de vehículos\n",
    "     2. 76 procesado sin flotación\n",
    "         - 76 ventanas de construcción\n",
    "         - 0 ventanas de vehículos\n",
    "2. 51 Vidrio no de ventana\n",
    "     - 13 contenedores\n",
    "     - 9 vajillas\n",
    "     - 29 faros"
   ]
  },
  {
   "cell_type": "code",
   "execution_count": 11,
   "metadata": {},
   "outputs": [
    {
     "name": "stdout",
     "output_type": "stream",
     "text": [
      "Glass shape:  (213, 11)\n"
     ]
    }
   ],
   "source": [
    "glass = pd.read_csv('glass.csv')\n",
    "glass.columns = ['id','ri','na','mg','al','si','k','ca','ba','fe','class']\n",
    "print(\"Glass shape: \", glass.shape)"
   ]
  },
  {
   "cell_type": "markdown",
   "metadata": {},
   "source": [
    "Cargar datos: Titanic"
   ]
  },
  {
   "cell_type": "code",
   "execution_count": 12,
   "metadata": {},
   "outputs": [
    {
     "name": "stdout",
     "output_type": "stream",
     "text": [
      "Titanic Train Shape :  (712, 5)\n",
      "Titanic Test Shape :  (712, 5)\n",
      "Titanic Shape:  (1043, 5)\n"
     ]
    }
   ],
   "source": [
    "train_titanic = pd.read_csv('titanic_train.csv', sep=',')\n",
    "test_t = pd.read_csv('titanic_test.csv', sep=',')\n",
    "gender_sub = pd.read_csv('gender_submission.csv', sep=',')\n",
    "gender_sub.PassengerId = gender_sub.PassengerId.astype(float)\n",
    "\n",
    "train_titanic = train_titanic.replace('Q', 0)\n",
    "train_titanic = train_titanic.replace('S', 1)\n",
    "train_titanic = train_titanic.replace('C', 2)\n",
    "train_titanic = train_titanic.replace('male', 0)\n",
    "train_titanic = train_titanic.replace('female', 1)\n",
    "train_titanic = np.array(train_titanic.loc[:,['Sex','Age','Fare','Embarked', 'Survived']])\n",
    "train_titanic = train_titanic[~np.isnan(train_titanic).any(axis=1)]\n",
    "\n",
    "print(\"Titanic Train Shape : \", train_titanic.shape)\n",
    "\n",
    "test1_t = pd.merge(test_t, gender_sub,  how='left', on='PassengerId')\n",
    "test1_t = test1_t.replace('Q', 0)\n",
    "test1_t = test1_t.replace('S', 1)\n",
    "test1_t = test1_t.replace('C', 2)\n",
    "test1_t = test1_t.replace('male', 0)\n",
    "test1_t = test1_t.replace('female', 1)\n",
    "\n",
    "print(\"Titanic Test Shape : \", train_titanic.shape)\n",
    "\n",
    "test_titanic = np.array(test1_t.loc[:,['Sex','Age','Fare','Embarked', 'Survived']])\n",
    "test_titanic = test_titanic[~np.isnan(test_titanic).any(axis=1)]\n",
    "\n",
    "titanic = np.concatenate((train_titanic, test_titanic), axis=0)\n",
    "titanic = pd.DataFrame(data=titanic, columns=['Sex','Age','Fare','Embarked', 'Survived'])\n",
    "\n",
    "print(\"Titanic Shape: \", titanic.shape)\n"
   ]
  },
  {
   "cell_type": "markdown",
   "metadata": {},
   "source": [
    "Normalizar Datos"
   ]
  },
  {
   "cell_type": "code",
   "execution_count": 13,
   "metadata": {},
   "outputs": [],
   "source": [
    "def Normalizar_Datos(data):\n",
    "    print(data)\n",
    "    tam = len(data.columns)\n",
    "    y = data.iloc[:,-1]\n",
    "    data = data.iloc[:,:-1]\n",
    "    data = (data - data.mean(axis=0))/data.std(axis=0)\n",
    "    data.insert(tam-1, \"y\", y, True) \n",
    "    return data"
   ]
  },
  {
   "cell_type": "code",
   "execution_count": 20,
   "metadata": {},
   "outputs": [
    {
     "name": "stdout",
     "output_type": "stream",
     "text": [
      "      Sex   Age      Fare  Embarked  Survived\n",
      "0     0.0  22.0    7.2500       1.0       0.0\n",
      "1     1.0  38.0   71.2833       2.0       1.0\n",
      "2     1.0  26.0    7.9250       1.0       1.0\n",
      "3     1.0  35.0   53.1000       1.0       1.0\n",
      "4     0.0  35.0    8.0500       1.0       0.0\n",
      "...   ...   ...       ...       ...       ...\n",
      "1038  1.0   3.0   13.7750       1.0       1.0\n",
      "1039  1.0  37.0   90.0000       0.0       1.0\n",
      "1040  1.0  28.0    7.7750       1.0       1.0\n",
      "1041  1.0  39.0  108.9000       2.0       1.0\n",
      "1042  0.0  38.5    7.2500       1.0       0.0\n",
      "\n",
      "[1043 rows x 5 columns]\n"
     ]
    }
   ],
   "source": [
    "titanic_data = Normalizar_Datos(titanic)"
   ]
  },
  {
   "cell_type": "code",
   "execution_count": 21,
   "metadata": {},
   "outputs": [
    {
     "name": "stdout",
     "output_type": "stream",
     "text": [
      "      id       ri     na    mg    al     si     k    ca    ba    fe  class\n",
      "0      2  1.51761  13.89  3.60  1.36  72.73  0.48  7.83  0.00  0.00      1\n",
      "1      3  1.51618  13.53  3.55  1.54  72.99  0.39  7.78  0.00  0.00      1\n",
      "2      4  1.51766  13.21  3.69  1.29  72.61  0.57  8.22  0.00  0.00      1\n",
      "3      5  1.51742  13.27  3.62  1.24  73.08  0.55  8.07  0.00  0.00      1\n",
      "4      6  1.51596  12.79  3.61  1.62  72.97  0.64  8.07  0.00  0.26      1\n",
      "..   ...      ...    ...   ...   ...    ...   ...   ...   ...   ...    ...\n",
      "208  210  1.51623  14.14  0.00  2.88  72.61  0.08  9.18  1.06  0.00      7\n",
      "209  211  1.51685  14.92  0.00  1.99  73.06  0.00  8.40  1.59  0.00      7\n",
      "210  212  1.52065  14.36  0.00  2.02  73.42  0.00  8.44  1.64  0.00      7\n",
      "211  213  1.51651  14.38  0.00  1.94  73.61  0.00  8.48  1.57  0.00      7\n",
      "212  214  1.51711  14.23  0.00  2.08  73.36  0.00  8.62  1.67  0.00      7\n",
      "\n",
      "[213 rows x 11 columns]\n"
     ]
    }
   ],
   "source": [
    "glass_data = Normalizar_Datos(glass)"
   ]
  },
  {
   "cell_type": "code",
   "execution_count": 16,
   "metadata": {},
   "outputs": [],
   "source": [
    "def Sigmoidal(x):\n",
    "    return 1.0 / (1.0+np.exp(-x))"
   ]
  },
  {
   "cell_type": "markdown",
   "metadata": {},
   "source": [
    "Exactitud - Accuracy"
   ]
  },
  {
   "cell_type": "code",
   "execution_count": 17,
   "metadata": {},
   "outputs": [],
   "source": [
    "def Calcular_Accuracy(X, Y, W, A):\n",
    "    count = 0\n",
    "    for i,x in enumerate(X):\n",
    "        y_predict,_ = Forward(x,W,A)\n",
    "        y_predict = np.around(y_predict)\n",
    "        yy = Y[i]\n",
    "        y = y_predict - yy\n",
    "\n",
    "        cc = y_predict == yy\n",
    "        if (y_predict == yy).all():\n",
    "            count+=1\n",
    "    return (count/len(Y)) * 100"
   ]
  },
  {
   "cell_type": "markdown",
   "metadata": {},
   "source": [
    "KFolds - 2 Clases"
   ]
  },
  {
   "cell_type": "code",
   "execution_count": 18,
   "metadata": {},
   "outputs": [],
   "source": [
    "def kFolds(data, k=3, classes=2):\n",
    "    data = data.sort_values(by=[\"y\"]).values\n",
    "    \n",
    "    #Normalizar_Datos(data)\n",
    "\n",
    "    #obtener el indice de la primera ocucrrencia de unos\n",
    "    indice_break = np.where(data[:,-1])[0][0]\n",
    "    #dividar los datos en dos clases\n",
    "    list_class0, list_class1 = np.split(data, [indice_break])\n",
    "    \n",
    "    #dividir los datos en k folds\n",
    "    datos_split = list()\n",
    "    folds_class0 = np.array_split(list_class0, k)\n",
    "    folds_class1 = np.array_split(list_class1, k)\n",
    "    \n",
    "    #distribuir una porcion equitativa de cada clase a cada fold\n",
    "    for i in range(k):\n",
    "        fold = np.concatenate((folds_class0[i],folds_class1[i]))\n",
    "        \n",
    "        #mezclar los dataFrames\n",
    "        np.random.shuffle(fold)\n",
    "        \n",
    "        #separar x e y\n",
    "        x_weather = fold[:, 0:-1]\n",
    "        y_weather = fold[:, -1]\n",
    "        \n",
    "        datos_split.append([x_weather, y_weather])\n",
    "    \n",
    "    return datos_split"
   ]
  },
  {
   "cell_type": "code",
   "execution_count": 22,
   "metadata": {},
   "outputs": [
    {
     "data": {
      "text/plain": [
       "[[array([[-0.76613036,  0.43064793, -0.18322611, -0.32579087],\n",
       "         [-0.76613036,  0.77868576, -0.5287192 , -0.32579087],\n",
       "         [-0.76613036, -0.61346556, -0.50525347, -0.32579087],\n",
       "         ...,\n",
       "         [-0.76613036,  0.01300253,  0.15957657, -0.32579087],\n",
       "         [ 1.30400945, -0.61346556, -0.27985656, -0.32579087],\n",
       "         [-0.76613036,  0.22182523, -0.51706077, -0.32579087]]),\n",
       "  array([1., 0., 0., 0., 0., 0., 0., 0., 0., 0., 0., 1., 0., 0., 0., 1., 0.,\n",
       "         0., 0., 0., 0., 1., 1., 0., 1., 0., 0., 0., 0., 0., 0., 1., 1., 0.,\n",
       "         0., 0., 0., 0., 0., 1., 1., 0., 0., 0., 0., 1., 1., 1., 0., 1., 1.,\n",
       "         0., 0., 0., 1., 1., 1., 0., 0., 0., 1., 0., 0., 1., 0., 0., 0., 0.,\n",
       "         0., 1., 0., 0., 0., 0., 1., 1., 0., 0., 1., 0., 0., 1., 0., 1., 0.,\n",
       "         0., 1., 1., 1., 0., 0., 0., 0., 0., 1., 0., 0., 0., 0., 0., 0., 0.,\n",
       "         1., 0., 0., 0., 0., 1., 1., 0., 1., 1., 0., 0., 1., 0., 0., 1., 1.,\n",
       "         0., 0., 1., 0., 0., 1., 0., 0., 1., 0., 0., 1., 0., 0., 0., 0., 0.,\n",
       "         0., 1., 1., 1., 1., 0., 1., 0., 1., 0., 0., 1., 0., 1., 1., 0., 1.,\n",
       "         0., 0., 1., 0., 0., 1., 0., 1., 0., 0., 0., 1., 1., 1., 1., 0., 1.,\n",
       "         0., 0., 0., 0., 1., 1., 1., 1., 0., 0., 0., 0., 0., 0., 1., 0., 0.,\n",
       "         1., 1., 0., 0., 1., 0., 1., 1., 1., 1., 0., 0., 1., 1., 0., 0., 1.,\n",
       "         0., 1., 0., 1., 0., 0., 1., 1., 1., 1., 0., 0., 0., 0., 1., 0., 1.,\n",
       "         1., 1., 0., 0., 0., 0., 1., 0., 1., 0., 1., 0., 0., 0., 0., 0., 1.,\n",
       "         0., 1., 0., 0., 1., 1., 0., 1., 0., 0., 1., 1., 1., 0., 0., 1., 0.,\n",
       "         0., 1., 0., 0., 0., 0., 1., 1., 0., 0., 0., 1., 1., 0., 0., 0., 1.,\n",
       "         0., 1., 0., 1., 1., 0., 1., 0., 0., 0., 1., 0., 0., 1., 0., 1., 0.,\n",
       "         0., 0., 0., 1., 1., 0., 1., 0., 0., 0., 1., 1., 0., 1., 0., 1., 1.,\n",
       "         0., 1., 1., 1., 1., 0., 1., 0., 0., 1., 0., 1., 1., 0., 0., 0., 1.,\n",
       "         1., 0., 0., 0., 0., 1., 1., 1., 0., 1., 0., 1., 0., 1., 0., 0., 1.,\n",
       "         0., 1., 0., 1., 1., 0., 0., 1., 0.])],\n",
       " [array([[-0.76613036, -0.54385799, -0.52647719, -0.32579087],\n",
       "         [ 1.30400945,  1.75319167, -0.36953679, -0.32579087],\n",
       "         [ 1.30400945,  2.3100522 , -0.48455168, -0.32579087],\n",
       "         ...,\n",
       "         [-0.76613036, -0.61346556, -0.5166877 , -0.32579087],\n",
       "         [-0.76613036, -0.75268069, -0.46818504, -0.32579087],\n",
       "         [ 1.30400945, -0.61346556, -0.46818504, -0.32579087]]),\n",
       "  array([0., 1., 1., 0., 1., 0., 1., 1., 1., 0., 0., 1., 0., 0., 1., 0., 0.,\n",
       "         1., 0., 1., 1., 1., 0., 1., 0., 1., 1., 1., 0., 0., 0., 1., 1., 0.,\n",
       "         0., 0., 1., 0., 0., 1., 0., 1., 1., 0., 1., 0., 0., 1., 1., 0., 0.,\n",
       "         0., 0., 1., 0., 0., 0., 0., 1., 1., 1., 1., 1., 0., 0., 1., 0., 0.,\n",
       "         0., 0., 1., 0., 1., 0., 0., 1., 1., 0., 1., 0., 0., 0., 0., 1., 1.,\n",
       "         0., 1., 0., 1., 0., 1., 0., 0., 0., 0., 0., 1., 0., 0., 0., 1., 1.,\n",
       "         0., 1., 0., 0., 0., 1., 0., 0., 0., 0., 1., 1., 0., 0., 1., 0., 1.,\n",
       "         0., 0., 1., 1., 0., 0., 0., 0., 0., 0., 0., 0., 0., 0., 0., 0., 0.,\n",
       "         0., 1., 0., 0., 1., 1., 1., 0., 1., 1., 0., 1., 0., 0., 0., 1., 0.,\n",
       "         1., 0., 0., 0., 0., 1., 1., 1., 0., 0., 0., 0., 1., 0., 0., 1., 0.,\n",
       "         0., 1., 1., 0., 1., 0., 0., 0., 0., 0., 0., 1., 1., 1., 0., 0., 0.,\n",
       "         0., 1., 0., 0., 1., 1., 0., 0., 1., 1., 1., 0., 1., 0., 0., 0., 0.,\n",
       "         0., 0., 0., 0., 0., 0., 0., 1., 1., 0., 1., 0., 1., 1., 0., 0., 1.,\n",
       "         1., 0., 1., 0., 1., 0., 1., 0., 0., 0., 0., 1., 1., 0., 0., 1., 0.,\n",
       "         1., 1., 0., 1., 1., 0., 0., 0., 1., 0., 1., 0., 1., 1., 0., 0., 0.,\n",
       "         1., 0., 0., 1., 0., 0., 0., 1., 1., 0., 0., 1., 0., 0., 0., 0., 0.,\n",
       "         1., 1., 0., 1., 1., 0., 0., 0., 0., 0., 0., 1., 1., 0., 0., 1., 1.,\n",
       "         0., 0., 1., 0., 1., 1., 1., 0., 1., 1., 0., 1., 0., 0., 1., 0., 1.,\n",
       "         0., 1., 0., 0., 0., 0., 0., 1., 1., 0., 0., 0., 0., 0., 0., 0., 1.,\n",
       "         0., 0., 1., 0., 1., 1., 1., 0., 0., 0., 0., 1., 0., 1., 1., 0., 1.,\n",
       "         1., 0., 0., 0., 1., 0., 1.])],\n",
       " [array([[ 1.30400945,  0.22182523,  0.89495447, -0.32579087],\n",
       "         [-0.76613036,  0.60466684, -0.52647719, -0.32579087],\n",
       "         [ 1.30400945, -0.05660503, -0.19017633, -0.32579087],\n",
       "         ...,\n",
       "         [-0.76613036, -1.9360093 , -0.19017633, -0.32579087],\n",
       "         [ 1.30400945, -0.82228825, -0.3372519 , -0.32579087],\n",
       "         [-0.76613036, -1.44875635, -0.28837618, -0.32579087]]),\n",
       "  array([1., 0., 1., 1., 0., 0., 0., 0., 1., 0., 0., 0., 0., 0., 0., 0., 1.,\n",
       "         1., 1., 0., 0., 0., 0., 0., 0., 1., 0., 0., 0., 0., 0., 1., 0., 0.,\n",
       "         1., 1., 0., 0., 1., 1., 0., 0., 1., 0., 1., 1., 0., 1., 1., 0., 1.,\n",
       "         0., 0., 0., 1., 0., 1., 0., 0., 0., 0., 1., 1., 1., 0., 0., 0., 0.,\n",
       "         0., 0., 0., 0., 1., 0., 0., 1., 1., 0., 0., 1., 1., 0., 0., 0., 1.,\n",
       "         0., 0., 0., 1., 0., 1., 0., 1., 1., 0., 0., 0., 0., 1., 1., 1., 0.,\n",
       "         0., 0., 0., 1., 1., 1., 1., 0., 0., 1., 1., 1., 0., 0., 0., 0., 0.,\n",
       "         0., 0., 0., 0., 0., 1., 1., 0., 0., 0., 1., 1., 1., 1., 1., 0., 0.,\n",
       "         0., 0., 0., 0., 1., 0., 0., 0., 0., 0., 1., 0., 1., 1., 1., 1., 0.,\n",
       "         1., 1., 1., 1., 1., 0., 1., 0., 1., 1., 0., 0., 0., 0., 0., 1., 0.,\n",
       "         0., 1., 0., 0., 1., 0., 1., 1., 0., 0., 0., 0., 0., 0., 1., 0., 0.,\n",
       "         1., 1., 1., 1., 0., 0., 0., 1., 1., 0., 1., 0., 1., 1., 0., 1., 0.,\n",
       "         0., 0., 0., 0., 0., 1., 1., 0., 0., 1., 0., 0., 1., 0., 1., 1., 0.,\n",
       "         1., 0., 0., 1., 0., 0., 1., 0., 0., 1., 0., 0., 1., 0., 1., 1., 1.,\n",
       "         1., 0., 1., 0., 1., 0., 1., 1., 0., 0., 0., 1., 1., 0., 1., 1., 1.,\n",
       "         0., 0., 1., 1., 0., 0., 0., 0., 1., 0., 1., 1., 0., 0., 1., 1., 1.,\n",
       "         0., 0., 0., 0., 1., 0., 0., 0., 1., 1., 0., 0., 1., 1., 0., 0., 0.,\n",
       "         0., 1., 0., 0., 0., 0., 0., 1., 1., 0., 0., 0., 0., 0., 0., 0., 1.,\n",
       "         1., 0., 0., 1., 1., 0., 1., 0., 1., 0., 0., 0., 0., 1., 0., 0., 1.,\n",
       "         0., 1., 0., 1., 0., 0., 1., 1., 0., 0., 0., 1., 0., 0., 0., 1., 0.,\n",
       "         0., 0., 0., 1., 1., 0., 1.])]]"
      ]
     },
     "execution_count": 22,
     "metadata": {},
     "output_type": "execute_result"
    }
   ],
   "source": [
    "kFolds(titanic_data)"
   ]
  },
  {
   "cell_type": "code",
   "execution_count": 40,
   "metadata": {},
   "outputs": [],
   "source": [
    "def kFolds2(data, k=3, classes=2):\n",
    "    data = data.sort_values(by=[\"y\"]).values\n",
    "    \n",
    "    #Normalizar_Datos(data)\n",
    "\n",
    "    #obtener el indice de la primera ocucrrencia de unos\n",
    "    indice_break = np.where(data[:,-1])[0][0]\n",
    "    print(indice_break)\n",
    "    #dividar los datos en dos clases\n",
    "    list_class = []\n",
    "\n",
    "    list_class = np.split(data, [indice_break])\n",
    "    print(list_class[0])\n",
    "    #dividir los datos en k folds\n",
    "   \n",
    "    \n",
    "    return 0"
   ]
  },
  {
   "cell_type": "code",
   "execution_count": 41,
   "metadata": {},
   "outputs": [
    {
     "name": "stdout",
     "output_type": "stream",
     "text": [
      "628\n",
      "[[-0.76613036 -0.54385799 -0.52647719 -0.32579087  0.        ]\n",
      " [ 1.30400945  0.04780632 -0.51750917 -2.42332094  0.        ]\n",
      " [-0.76613036  0.15221766 -0.50652334 -0.32579087  0.        ]\n",
      " ...\n",
      " [-0.76613036 -0.82228825 -0.54000456 -0.32579087  0.        ]\n",
      " [-0.76613036 -0.75268069 -0.51212835 -0.32579087  0.        ]\n",
      " [-0.76613036  0.01300253 -0.52647719 -0.32579087  0.        ]]\n"
     ]
    },
    {
     "data": {
      "text/plain": [
       "0"
      ]
     },
     "execution_count": 41,
     "metadata": {},
     "output_type": "execute_result"
    }
   ],
   "source": [
    "kFolds2(titanic_data)"
   ]
  },
  {
   "cell_type": "code",
   "execution_count": null,
   "metadata": {},
   "outputs": [],
   "source": []
  }
 ],
 "metadata": {
  "kernelspec": {
   "display_name": "Python 3",
   "language": "python",
   "name": "python3"
  },
  "language_info": {
   "codemirror_mode": {
    "name": "ipython",
    "version": 3
   },
   "file_extension": ".py",
   "mimetype": "text/x-python",
   "name": "python",
   "nbconvert_exporter": "python",
   "pygments_lexer": "ipython3",
   "version": "3.8.3"
  }
 },
 "nbformat": 4,
 "nbformat_minor": 4
}
