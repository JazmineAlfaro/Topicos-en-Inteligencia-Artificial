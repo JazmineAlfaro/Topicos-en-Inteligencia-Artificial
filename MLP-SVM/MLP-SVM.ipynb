{
 "cells": [
  {
   "cell_type": "code",
   "execution_count": 67,
   "metadata": {},
   "outputs": [],
   "source": [
    "import numpy as np\n",
    "import pandas as pd\n",
    "import matplotlib.pyplot as plt\n",
    "import random"
   ]
  },
  {
   "cell_type": "markdown",
   "metadata": {},
   "source": [
    "<h1 style=\"font-size:10\">1. Leer datos</h1>"
   ]
  },
  {
   "cell_type": "markdown",
   "metadata": {},
   "source": [
    "Cargar datos: Glass"
   ]
  },
  {
   "cell_type": "markdown",
   "metadata": {},
   "source": [
    "Atributos:\n",
    "1. Número de identificación: 1 a 214\n",
    "2. RI: índice de refracción\n",
    "3. Na: Sodio (unidad de medida: porcentaje en peso en el óxido correspondiente, al igual que los atributos 4-10)\n",
    "4. Mg: magnesio\n",
    "5. Al: Aluminio\n",
    "6. Si: silicio\n",
    "7. K: Potasio\n",
    "8. Ca: calcio\n",
    "9. Ba: bario\n",
    "10. Fe: Hierro\n",
    "11. Tipo de vidrio: (atributo de clase)\n",
    "     1. building_windows_float_processed\n",
    "     2. building_windows_non_float_processed\n",
    "     3. vehicle_windows_float_processed\n",
    "     4. vehicle_windows_non_float_processed (ninguno en esta base de datos)\n",
    "     5. contenedores\n",
    "     6. vajilla\n",
    "     7. faros\n",
    "    \n",
    "    \n",
    "Distribución de clases: (de un total de 214 instancias)\n",
    "\n",
    "1. 163 Vidrio de ventana (ventanas de edificios y ventanas de vehículos)\n",
    "     1. 87 flotador procesado\n",
    "         - 70 ventanas de construcción\n",
    "         - 17 ventanas de vehículos\n",
    "     2. 76 procesado sin flotación\n",
    "         - 76 ventanas de construcción\n",
    "         - 0 ventanas de vehículos\n",
    "2. 51 Vidrio no de ventana\n",
    "     - 13 contenedores\n",
    "     - 9 vajillas\n",
    "     - 29 faros"
   ]
  },
  {
   "cell_type": "code",
   "execution_count": 3,
   "metadata": {},
   "outputs": [
    {
     "name": "stdout",
     "output_type": "stream",
     "text": [
      "Glass shape:  (213, 11)\n"
     ]
    }
   ],
   "source": [
    "glass = pd.read_csv('glass.csv')\n",
    "glass.columns = ['id','ri','na','mg','al','si','k','ca','ba','fe','class']\n",
    "print(\"Glass shape: \", glass.shape)"
   ]
  },
  {
   "cell_type": "markdown",
   "metadata": {},
   "source": [
    "Cargar datos: Titanic"
   ]
  },
  {
   "cell_type": "code",
   "execution_count": 73,
   "metadata": {},
   "outputs": [
    {
     "name": "stdout",
     "output_type": "stream",
     "text": [
      "Titanic Train Shape :  (712, 5)\n",
      "Titanic Test Shape :  (712, 5)\n",
      "Titanic Shape:  (1043, 5)\n",
      "<class 'pandas.core.frame.DataFrame'>\n",
      "RangeIndex: 1043 entries, 0 to 1042\n",
      "Data columns (total 5 columns):\n",
      " #   Column    Non-Null Count  Dtype  \n",
      "---  ------    --------------  -----  \n",
      " 0   Sex       1043 non-null   float64\n",
      " 1   Age       1043 non-null   float64\n",
      " 2   Fare      1043 non-null   float64\n",
      " 3   Embarked  1043 non-null   float64\n",
      " 4   Survived  1043 non-null   float64\n",
      "dtypes: float64(5)\n",
      "memory usage: 40.9 KB\n",
      "None\n"
     ]
    }
   ],
   "source": [
    "train_titanic = pd.read_csv('titanic_train.csv', sep=',')\n",
    "test_t = pd.read_csv('titanic_test.csv', sep=',')\n",
    "gender_sub = pd.read_csv('gender_submission.csv', sep=',')\n",
    "gender_sub.PassengerId = gender_sub.PassengerId.astype(float)\n",
    "\n",
    "train_titanic = train_titanic.replace('Q', 0)\n",
    "train_titanic = train_titanic.replace('S', 1)\n",
    "train_titanic = train_titanic.replace('C', 2)\n",
    "train_titanic = train_titanic.replace('male', 0)\n",
    "train_titanic = train_titanic.replace('female', 1)\n",
    "train_titanic = np.array(train_titanic.loc[:,['Sex','Age','Fare','Embarked', 'Survived']])\n",
    "train_titanic = train_titanic[~np.isnan(train_titanic).any(axis=1)]\n",
    "\n",
    "print(\"Titanic Train Shape : \", train_titanic.shape)\n",
    "\n",
    "test1_t = pd.merge(test_t, gender_sub,  how='left', on='PassengerId')\n",
    "test1_t = test1_t.replace('Q', 0)\n",
    "test1_t = test1_t.replace('S', 1)\n",
    "test1_t = test1_t.replace('C', 2)\n",
    "test1_t = test1_t.replace('male', 0)\n",
    "test1_t = test1_t.replace('female', 1)\n",
    "\n",
    "print(\"Titanic Test Shape : \", train_titanic.shape)\n",
    "\n",
    "test_titanic = np.array(test1_t.loc[:,['Sex','Age','Fare','Embarked', 'Survived']])\n",
    "test_titanic = test_titanic[~np.isnan(test_titanic).any(axis=1)]\n",
    "\n",
    "titanic = np.concatenate((train_titanic, test_titanic), axis=0)\n",
    "titanic = pd.DataFrame(data=titanic, columns=['Sex','Age','Fare','Embarked', 'Survived'])\n",
    "\n",
    "print(\"Titanic Shape: \", titanic.shape)\n",
    "print(titanic.info())"
   ]
  },
  {
   "cell_type": "markdown",
   "metadata": {},
   "source": [
    "<h1 style=\"font-size:10\">2. Normalizar datos</h1>"
   ]
  },
  {
   "cell_type": "code",
   "execution_count": 5,
   "metadata": {},
   "outputs": [],
   "source": [
    "def Normalizar_Datos(data):\n",
    "    print(data)\n",
    "    tam = len(data.columns)\n",
    "    y = data.iloc[:,-1]\n",
    "    data = data.iloc[:,:-1]\n",
    "    data = (data - data.mean(axis=0))/data.std(axis=0)\n",
    "    data.insert(tam-1, \"y\", y, True) \n",
    "    return data"
   ]
  },
  {
   "cell_type": "code",
   "execution_count": 6,
   "metadata": {},
   "outputs": [
    {
     "name": "stdout",
     "output_type": "stream",
     "text": [
      "      Sex   Age      Fare  Embarked  Survived\n",
      "0     0.0  22.0    7.2500       1.0       0.0\n",
      "1     1.0  38.0   71.2833       2.0       1.0\n",
      "2     1.0  26.0    7.9250       1.0       1.0\n",
      "3     1.0  35.0   53.1000       1.0       1.0\n",
      "4     0.0  35.0    8.0500       1.0       0.0\n",
      "...   ...   ...       ...       ...       ...\n",
      "1038  1.0   3.0   13.7750       1.0       1.0\n",
      "1039  1.0  37.0   90.0000       0.0       1.0\n",
      "1040  1.0  28.0    7.7750       1.0       1.0\n",
      "1041  1.0  39.0  108.9000       2.0       1.0\n",
      "1042  0.0  38.5    7.2500       1.0       0.0\n",
      "\n",
      "[1043 rows x 5 columns]\n"
     ]
    }
   ],
   "source": [
    "titanic_data = Normalizar_Datos(titanic)"
   ]
  },
  {
   "cell_type": "code",
   "execution_count": 7,
   "metadata": {},
   "outputs": [
    {
     "name": "stdout",
     "output_type": "stream",
     "text": [
      "      id       ri     na    mg    al     si     k    ca    ba    fe  class\n",
      "0      2  1.51761  13.89  3.60  1.36  72.73  0.48  7.83  0.00  0.00      1\n",
      "1      3  1.51618  13.53  3.55  1.54  72.99  0.39  7.78  0.00  0.00      1\n",
      "2      4  1.51766  13.21  3.69  1.29  72.61  0.57  8.22  0.00  0.00      1\n",
      "3      5  1.51742  13.27  3.62  1.24  73.08  0.55  8.07  0.00  0.00      1\n",
      "4      6  1.51596  12.79  3.61  1.62  72.97  0.64  8.07  0.00  0.26      1\n",
      "..   ...      ...    ...   ...   ...    ...   ...   ...   ...   ...    ...\n",
      "208  210  1.51623  14.14  0.00  2.88  72.61  0.08  9.18  1.06  0.00      7\n",
      "209  211  1.51685  14.92  0.00  1.99  73.06  0.00  8.40  1.59  0.00      7\n",
      "210  212  1.52065  14.36  0.00  2.02  73.42  0.00  8.44  1.64  0.00      7\n",
      "211  213  1.51651  14.38  0.00  1.94  73.61  0.00  8.48  1.57  0.00      7\n",
      "212  214  1.51711  14.23  0.00  2.08  73.36  0.00  8.62  1.67  0.00      7\n",
      "\n",
      "[213 rows x 11 columns]\n"
     ]
    }
   ],
   "source": [
    "glass_data = Normalizar_Datos(glass)"
   ]
  },
  {
   "cell_type": "markdown",
   "metadata": {},
   "source": [
    "# 3. Kfolds"
   ]
  },
  {
   "cell_type": "code",
   "execution_count": 71,
   "metadata": {},
   "outputs": [],
   "source": [
    "def kFolds(data, k=3, clases=[0, 1]):\n",
    "    list_clases = []\n",
    "    list_indices_break = []\n",
    "    list_folds_clases = []\n",
    "\n",
    "    #ordenar segun ultima columna\n",
    "    data = data.sort_values(by=[\"y\"]).values\n",
    "\n",
    "    for i in range(1, len(clases)):\n",
    "        #obtener el primer indice que sea igual a la clase actual\n",
    "        indice_break = np.where(data[:,-1] == clases[i])[0][0]\n",
    "        list_indices_break.append(indice_break)\n",
    "\n",
    "    #dividir los datos en la cantidad de clases\n",
    "    list_clases = np.split(data, list_indices_break)\n",
    "\n",
    "\n",
    "    #dividir en k folds\n",
    "    for clase in list_clases:\n",
    "        clase = np.array_split(clase, k)\n",
    "        list_folds_clases.append(clase)\n",
    "\n",
    "    datos_split = list()\n",
    "\n",
    "    #distribuir una porcion equitativa de cada clase a cada fold\n",
    "    for i in range(k):\n",
    "        fold = list_folds_clases[0][i]\n",
    "\n",
    "        #combinar cada fold con una proporcion de cada clase\n",
    "        for j in range(len(list_folds_clases)):\n",
    "            fold = np.concatenate((fold, list_folds_clases[j][i]))\n",
    "\n",
    "        #mezclar los dataFrames\n",
    "        np.random.shuffle(fold)\n",
    "\n",
    "        #separar x e y\n",
    "        x_data = fold[:, :-1]\n",
    "        y_data = fold[:, -1]\n",
    "\n",
    "        datos_split.append([x_data, y_data])\n",
    "\n",
    "    return datos_split"
   ]
  },
  {
   "cell_type": "code",
   "execution_count": 72,
   "metadata": {},
   "outputs": [],
   "source": [
    "titanic_folds = kFolds(titanic_data, k=3, clases=[0,1])"
   ]
  },
  {
   "cell_type": "code",
   "execution_count": null,
   "metadata": {},
   "outputs": [],
   "source": [
    "glass_folds = kFolds(glass_data, k=3, clases=[1,2,3,5,6,7])"
   ]
  },
  {
   "cell_type": "markdown",
   "metadata": {},
   "source": [
    "# SVM"
   ]
  },
  {
   "cell_type": "code",
   "execution_count": 13,
   "metadata": {},
   "outputs": [
    {
     "name": "stdout",
     "output_type": "stream",
     "text": [
      "Score de linear SVM:\n",
      " 0.9610244988864143\n",
      "Score de polynomial SVM:\n",
      " 0.9749443207126949\n",
      "Score de sigmoid SVM:\n",
      " 0.717706013363029\n",
      "Score de kernel gausiano SVM:\n",
      " 0.982739420935412\n"
     ]
    }
   ],
   "source": [
    "import pandas as pd\n",
    "import matplotlib.pyplot as plt\n",
    "from sklearn import svm\n",
    "\n",
    "def linear_SVM(X_train, y_train, X_test, y_test, C=1):\n",
    "\n",
    "    svc = svm.SVC(kernel='linear', C=C, gamma=0.001)\n",
    "    svc.fit(X_train, y_train) \n",
    "    \n",
    "    # Calcular el score del SVM\n",
    "    score = svc.score(X_test, y_test)\n",
    "    return score\n",
    "\n",
    "def poly_SVM(X_train, y_train, X_test, y_test, C=1):\n",
    "\n",
    "    svc = svm.SVC(kernel='poly', C=C, degree=3, gamma=0.001)\n",
    "    svc.fit(X_train, y_train) \n",
    "    \n",
    "    # Calcular el score del SVM\n",
    "    score = svc.score(X_test, y_test)\n",
    "    return score\n",
    "\n",
    "def sigmoid_SVM(X_train, y_train, X_test, y_test, C=1):\n",
    "\n",
    "    svc = svm.SVC(kernel='sigmoid', C=C, gamma=0.001)\n",
    "    svc.fit(X_train, y_train) \n",
    "    \n",
    "    # Calcular el score del SVM\n",
    "    score = svc.score(X_test, y_test)\n",
    "    return score\n",
    "\n",
    "def kernel_gausiano_SVM(X_train, y_train, X_test, y_test, C=1):\n",
    "\n",
    "    svc = svm.SVC(kernel='rbf', C=C, gamma=0.001)\n",
    "    svc.fit(X_train, y_train) \n",
    "    \n",
    "    # Calcular el score del SVM\n",
    "    score = svc.score(X_test, y_test)\n",
    "    return score"
   ]
  },
  {
   "cell_type": "markdown",
   "metadata": {},
   "source": [
    "### Dataset titanic"
   ]
  },
  {
   "cell_type": "markdown",
   "metadata": {},
   "source": [
    "Iterar variando los paramteros C"
   ]
  },
  {
   "cell_type": "code",
   "execution_count": 52,
   "metadata": {},
   "outputs": [
    {
     "name": "stdout",
     "output_type": "stream",
     "text": [
      "c_0.1_fold_0\n",
      "c_0.1_fold_1\n",
      "c_0.1_fold_2\n",
      "c_0.25_fold_0\n",
      "c_0.25_fold_1\n",
      "c_0.25_fold_2\n",
      "c_0.5_fold_0\n",
      "c_0.5_fold_1\n",
      "c_0.5_fold_2\n",
      "c_0.75_fold_0\n",
      "c_0.75_fold_1\n",
      "c_0.75_fold_2\n",
      "c_1.0_fold_0\n",
      "c_1.0_fold_1\n",
      "c_1.0_fold_2\n",
      "c_1.5_fold_0\n",
      "c_1.5_fold_1\n",
      "c_1.5_fold_2\n"
     ]
    }
   ],
   "source": [
    "modelos_SVM = [\"linear\", \"polynomial\", \"sigmoidal\", \"kernel gausiano\"]\n",
    "paramteros_C = [0.1, 0.25, 0.50, 0.75, 1.0, 1.5]\n",
    "numFolds = 3\n",
    "results_SVM_titanic = {}\n",
    "\n",
    "matrix_ac = np.random.rand(len(modelos_SVM), len(paramteros_C), numFolds)\n",
    "\n",
    "for j in range(len(paramteros_C)):\n",
    "    c = paramteros_C[j]\n",
    "    for i in range(numFolds):\n",
    "        #actual fold (usado para test)\n",
    "        fold = titanic_folds[i]\n",
    "        test_fold_X = fold[0]\n",
    "        test_fold_y = fold[1]\n",
    "\n",
    "        #los otros dos folds usados para train\n",
    "        fold_2 = titanic_folds[(i+1)%numFolds]\n",
    "        fold_3 = titanic_folds[(i+2)%numFolds]\n",
    "        train_fold_X = np.concatenate((fold_2[0], fold_3[0]), axis=0)\n",
    "        train_fold_y = np.concatenate((fold_2[1], fold_3[1]), axis=0)\n",
    "\n",
    "        #calcular score\n",
    "        matrix_ac[0,j,i] = linear_SVM(X_train, y_train, X_test, y_test, C=c)\n",
    "        matrix_ac[1,j,i] = poly_SVM(X_train, y_train, X_test, y_test, C=c)\n",
    "        matrix_ac[2,j,i] = sigmoid_SVM(X_train, y_train, X_test, y_test, C=c)\n",
    "        matrix_ac[3,j,i] = kernel_gausiano_SVM(X_train, y_train, X_test, y_test, C=c)\n",
    "\n",
    "        #guardar datos\n",
    "        results_SVM_titanic[\"linear_iter_\"+str(c)+\"_fold_\"+str(i)] = matrix_ac[0,j,i]\n",
    "        results_SVM_titanic[\"poly_iter_\"+str(c)+\"_fold_\"+str(i)] = matrix_ac[1,j,i]\n",
    "        results_SVM_titanic[\"sigmoid_\"+str(c)+\"_fold_\"+str(i)] = matrix_ac[2,j,i]\n",
    "        results_SVM_titanic[\"kernel_gausiano_iter_\"+str(c)+\"_fold_\"+str(i)] = matrix_ac[3,j,i]\n",
    "\n",
    "        #imprimir seguimiento\n",
    "        print(\"c_\"+str(c)+\"_fold_\"+str(i))\n",
    "        \n",
    "#calcular el promedio de los 3 folds\n",
    "matrix_ac = np.mean(matrix_ac,axis=2)"
   ]
  },
  {
   "cell_type": "markdown",
   "metadata": {},
   "source": [
    "Mostrar tabla de resultados"
   ]
  },
  {
   "cell_type": "code",
   "execution_count": 59,
   "metadata": {
    "scrolled": false
   },
   "outputs": [
    {
     "name": "stdout",
     "output_type": "stream",
     "text": [
      "Mayor accuracy promedio con: kernel gausiano empleando un C de 1.5\n"
     ]
    },
    {
     "data": {
      "text/html": [
       "<div>\n",
       "<style scoped>\n",
       "    .dataframe tbody tr th:only-of-type {\n",
       "        vertical-align: middle;\n",
       "    }\n",
       "\n",
       "    .dataframe tbody tr th {\n",
       "        vertical-align: top;\n",
       "    }\n",
       "\n",
       "    .dataframe thead th {\n",
       "        text-align: right;\n",
       "    }\n",
       "</style>\n",
       "<table border=\"1\" class=\"dataframe\">\n",
       "  <thead>\n",
       "    <tr style=\"text-align: right;\">\n",
       "      <th></th>\n",
       "      <th>0.10</th>\n",
       "      <th>0.25</th>\n",
       "      <th>0.50</th>\n",
       "      <th>0.75</th>\n",
       "      <th>1.00</th>\n",
       "      <th>1.50</th>\n",
       "    </tr>\n",
       "  </thead>\n",
       "  <tbody>\n",
       "    <tr>\n",
       "      <th>linear</th>\n",
       "      <td>0.961581</td>\n",
       "      <td>0.961024</td>\n",
       "      <td>0.961024</td>\n",
       "      <td>0.961024</td>\n",
       "      <td>0.961024</td>\n",
       "      <td>0.961024</td>\n",
       "    </tr>\n",
       "    <tr>\n",
       "      <th>polynomial</th>\n",
       "      <td>0.974944</td>\n",
       "      <td>0.974388</td>\n",
       "      <td>0.974944</td>\n",
       "      <td>0.974944</td>\n",
       "      <td>0.974944</td>\n",
       "      <td>0.974944</td>\n",
       "    </tr>\n",
       "    <tr>\n",
       "      <th>sigmoidal</th>\n",
       "      <td>0.434855</td>\n",
       "      <td>0.693207</td>\n",
       "      <td>0.743318</td>\n",
       "      <td>0.739421</td>\n",
       "      <td>0.717706</td>\n",
       "      <td>0.650891</td>\n",
       "    </tr>\n",
       "    <tr>\n",
       "      <th>kernel gausiano</th>\n",
       "      <td>0.964365</td>\n",
       "      <td>0.971047</td>\n",
       "      <td>0.977728</td>\n",
       "      <td>0.981626</td>\n",
       "      <td>0.982739</td>\n",
       "      <td>0.984410</td>\n",
       "    </tr>\n",
       "  </tbody>\n",
       "</table>\n",
       "</div>"
      ],
      "text/plain": [
       "                     0.10      0.25      0.50      0.75      1.00      1.50\n",
       "linear           0.961581  0.961024  0.961024  0.961024  0.961024  0.961024\n",
       "polynomial       0.974944  0.974388  0.974944  0.974944  0.974944  0.974944\n",
       "sigmoidal        0.434855  0.693207  0.743318  0.739421  0.717706  0.650891\n",
       "kernel gausiano  0.964365  0.971047  0.977728  0.981626  0.982739  0.984410"
      ]
     },
     "execution_count": 59,
     "metadata": {},
     "output_type": "execute_result"
    }
   ],
   "source": [
    "#obtener mejores parametros\n",
    "parametros = (0,0)\n",
    "for s in range(len(modelos_SVM)):\n",
    "    for it in range(len(paramteros_C)):\n",
    "        if(matrix_ac[s,it] > matrix_ac[parametros[0],parametros[1]]):\n",
    "            parametros = (s, it)\n",
    "\n",
    "#setear labels a columnas y filas\n",
    "result_SVM_titanic = pd.DataFrame(data = matrix_ac, index= modelos_SVM, columns = paramteros_C)\n",
    "\n",
    "#imprimir mejor acuracy\n",
    "print(\"Mayor accuracy promedio con: \" + str(modelos_SVM[parametros[0]]) + \" empleando un C de \" + str(paramteros_C[parametros[1]]))\n",
    "\n",
    "#mostrar resultados empleando SVM en Titanic\n",
    "result_SVM_titanic"
   ]
  },
  {
   "cell_type": "markdown",
   "metadata": {},
   "source": [
    "Plotear los resultados obtenidos"
   ]
  },
  {
   "cell_type": "code",
   "execution_count": 61,
   "metadata": {
    "scrolled": true
   },
   "outputs": [
    {
     "data": {
      "image/png": "[encoded data removed]",
      "text/plain": [
       "<Figure size 432x288 with 1 Axes>"
      ]
     },
     "metadata": {
      "needs_background": "light"
     },
     "output_type": "display_data"
    }
   ],
   "source": [
    "for s in range(len(result_SVM_titanic)):\n",
    "    plt.plot(paramteros_C, result_SVM_titanic.iloc[s], label='SVM ' + modelos_SVM[s])\n",
    "        \n",
    "plt.title('Exactitud de los modelos de SVM variando el parámetro C')\n",
    "plt.xlabel('Parámetro C')\n",
    "plt.ylabel('Accuracy')\n",
    "plt.legend()\n",
    "plt.show()"
   ]
  },
  {
   "cell_type": "markdown",
   "metadata": {},
   "source": [
    "### Dataset glass"
   ]
  },
  {
   "cell_type": "markdown",
   "metadata": {},
   "source": [
    "Iterar variando los paramteros C"
   ]
  },
  {
   "cell_type": "code",
   "execution_count": 63,
   "metadata": {},
   "outputs": [
    {
     "name": "stdout",
     "output_type": "stream",
     "text": [
      "c_0.1_fold_0\n",
      "c_0.1_fold_1\n",
      "c_0.1_fold_2\n",
      "c_0.25_fold_0\n",
      "c_0.25_fold_1\n",
      "c_0.25_fold_2\n",
      "c_0.5_fold_0\n",
      "c_0.5_fold_1\n",
      "c_0.5_fold_2\n",
      "c_0.75_fold_0\n",
      "c_0.75_fold_1\n",
      "c_0.75_fold_2\n",
      "c_1.0_fold_0\n",
      "c_1.0_fold_1\n",
      "c_1.0_fold_2\n",
      "c_1.5_fold_0\n",
      "c_1.5_fold_1\n",
      "c_1.5_fold_2\n"
     ]
    }
   ],
   "source": [
    "modelos_SVM = [\"linear\", \"polynomial\", \"sigmoidal\", \"kernel gausiano\"]\n",
    "paramteros_C = [0.1, 0.25, 0.50, 0.75, 1.0, 1.5]\n",
    "numFolds = 3\n",
    "results_SVM_titanic = {}\n",
    "\n",
    "matrix_ac_glass = np.random.rand(len(modelos_SVM), len(paramteros_C), numFolds)\n",
    "\n",
    "for j in range(len(paramteros_C)):\n",
    "    c = paramteros_C[j]\n",
    "    for i in range(numFolds):\n",
    "        #actual fold (usado para test)\n",
    "        fold = glass_folds[i]\n",
    "        test_fold_X = fold[0]\n",
    "        test_fold_y = fold[1]\n",
    "\n",
    "        #los otros dos folds usados para train\n",
    "        fold_2 = glass_folds[(i+1)%numFolds]\n",
    "        fold_3 = glass_folds[(i+2)%numFolds]\n",
    "        train_fold_X = np.concatenate((fold_2[0], fold_3[0]), axis=0)\n",
    "        train_fold_y = np.concatenate((fold_2[1], fold_3[1]), axis=0)\n",
    "\n",
    "        #calcular score\n",
    "        matrix_ac_glass[0,j,i] = linear_SVM(X_train, y_train, X_test, y_test, C=c)\n",
    "        matrix_ac_glass[1,j,i] = poly_SVM(X_train, y_train, X_test, y_test, C=c)\n",
    "        matrix_ac_glass[2,j,i] = sigmoid_SVM(X_train, y_train, X_test, y_test, C=c)\n",
    "        matrix_ac_glass[3,j,i] = kernel_gausiano_SVM(X_train, y_train, X_test, y_test, C=c)\n",
    "\n",
    "        #imprimir seguimiento\n",
    "        print(\"c_\"+str(c)+\"_fold_\"+str(i))\n",
    "        \n",
    "#calcular el promedio de los 3 folds\n",
    "matrix_ac_glass = np.mean(matrix_ac,axis=2)"
   ]
  },
  {
   "cell_type": "markdown",
   "metadata": {},
   "source": [
    "Mostrar tabla de resultados"
   ]
  },
  {
   "cell_type": "code",
   "execution_count": 64,
   "metadata": {
    "scrolled": false
   },
   "outputs": [
    {
     "name": "stdout",
     "output_type": "stream",
     "text": [
      "Mayor accuracy promedio con: polynomial empleando un C de 1.0\n"
     ]
    },
    {
     "data": {
      "text/html": [
       "<div>\n",
       "<style scoped>\n",
       "    .dataframe tbody tr th:only-of-type {\n",
       "        vertical-align: middle;\n",
       "    }\n",
       "\n",
       "    .dataframe tbody tr th {\n",
       "        vertical-align: top;\n",
       "    }\n",
       "\n",
       "    .dataframe thead th {\n",
       "        text-align: right;\n",
       "    }\n",
       "</style>\n",
       "<table border=\"1\" class=\"dataframe\">\n",
       "  <thead>\n",
       "    <tr style=\"text-align: right;\">\n",
       "      <th></th>\n",
       "      <th>0.10</th>\n",
       "      <th>0.25</th>\n",
       "      <th>0.50</th>\n",
       "      <th>0.75</th>\n",
       "      <th>1.00</th>\n",
       "      <th>1.50</th>\n",
       "    </tr>\n",
       "  </thead>\n",
       "  <tbody>\n",
       "    <tr>\n",
       "      <th>linear</th>\n",
       "      <td>0.511074</td>\n",
       "      <td>0.416970</td>\n",
       "      <td>0.485961</td>\n",
       "      <td>0.180101</td>\n",
       "      <td>0.410306</td>\n",
       "      <td>0.413148</td>\n",
       "    </tr>\n",
       "    <tr>\n",
       "      <th>polynomial</th>\n",
       "      <td>0.291010</td>\n",
       "      <td>0.512755</td>\n",
       "      <td>0.213885</td>\n",
       "      <td>0.743295</td>\n",
       "      <td>0.758899</td>\n",
       "      <td>0.608562</td>\n",
       "    </tr>\n",
       "    <tr>\n",
       "      <th>sigmoidal</th>\n",
       "      <td>0.541727</td>\n",
       "      <td>0.113591</td>\n",
       "      <td>0.674038</td>\n",
       "      <td>0.625097</td>\n",
       "      <td>0.170028</td>\n",
       "      <td>0.546843</td>\n",
       "    </tr>\n",
       "    <tr>\n",
       "      <th>kernel gausiano</th>\n",
       "      <td>0.378412</td>\n",
       "      <td>0.410005</td>\n",
       "      <td>0.425699</td>\n",
       "      <td>0.330558</td>\n",
       "      <td>0.534553</td>\n",
       "      <td>0.635492</td>\n",
       "    </tr>\n",
       "  </tbody>\n",
       "</table>\n",
       "</div>"
      ],
      "text/plain": [
       "                     0.10      0.25      0.50      0.75      1.00      1.50\n",
       "linear           0.511074  0.416970  0.485961  0.180101  0.410306  0.413148\n",
       "polynomial       0.291010  0.512755  0.213885  0.743295  0.758899  0.608562\n",
       "sigmoidal        0.541727  0.113591  0.674038  0.625097  0.170028  0.546843\n",
       "kernel gausiano  0.378412  0.410005  0.425699  0.330558  0.534553  0.635492"
      ]
     },
     "execution_count": 64,
     "metadata": {},
     "output_type": "execute_result"
    }
   ],
   "source": [
    "#obtener mejores parametros\n",
    "parametros = (0,0)\n",
    "for s in range(len(modelos_SVM)):\n",
    "    for it in range(len(paramteros_C)):\n",
    "        if(matrix_ac_glass[s,it] > matrix_ac_glass[parametros[0],parametros[1]]):\n",
    "            parametros = (s, it)\n",
    "\n",
    "#setear labels a columnas y filas\n",
    "result_SVM_glass = pd.DataFrame(data = matrix_ac_glass, index= modelos_SVM, columns = paramteros_C)\n",
    "\n",
    "#imprimir mejor acuracy\n",
    "print(\"Mayor accuracy promedio con: \" + str(modelos_SVM[parametros[0]]) + \" empleando un C de \" + str(paramteros_C[parametros[1]]))\n",
    "\n",
    "#mostrar resultados empleando SVM en Titanic\n",
    "result_SVM_glass"
   ]
  },
  {
   "cell_type": "markdown",
   "metadata": {},
   "source": [
    "Plotear los resultados obtenidos"
   ]
  },
  {
   "cell_type": "code",
   "execution_count": 66,
   "metadata": {
    "scrolled": false
   },
   "outputs": [
    {
     "data": {
      "image/png": "[encoded data removed]",
      "text/plain": [
       "<Figure size 432x288 with 1 Axes>"
      ]
     },
     "metadata": {
      "needs_background": "light"
     },
     "output_type": "display_data"
    }
   ],
   "source": [
    "for s in range(len(result_SVM_glass)):\n",
    "    plt.plot(paramteros_C, result_SVM_glass.iloc[s], label='SVM ' + modelos_SVM[s])\n",
    "        \n",
    "plt.title('Exactitud de los modelos de SVM variando el parámetro C')\n",
    "plt.xlabel('Parámetro C')\n",
    "plt.ylabel('Accuracy')\n",
    "plt.legend()\n",
    "plt.show()"
   ]
  }
 ],
 "metadata": {
  "kernelspec": {
   "display_name": "Python 3",
   "language": "python",
   "name": "python3"
  },
  "language_info": {
   "codemirror_mode": {
    "name": "ipython",
    "version": 3
   },
   "file_extension": ".py",
   "mimetype": "text/x-python",
   "name": "python",
   "nbconvert_exporter": "python",
   "pygments_lexer": "ipython3",
   "version": "3.8.5"
  }
 },
 "nbformat": 4,
 "nbformat_minor": 4
}
