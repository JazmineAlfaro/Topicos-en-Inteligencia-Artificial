{
 "cells": [
  {
   "cell_type": "code",
   "execution_count": 1,
   "metadata": {},
   "outputs": [],
   "source": [
    "import numpy as np\n",
    "import pandas as pd\n",
    "import matplotlib.pyplot as plt"
   ]
  },
  {
   "cell_type": "markdown",
   "metadata": {},
   "source": [
    "Cargar datos: Glass"
   ]
  },
  {
   "cell_type": "markdown",
   "metadata": {},
   "source": [
    "Atributos:\n",
    "1. Número de identificación: 1 a 214\n",
    "2. RI: índice de refracción\n",
    "3. Na: Sodio (unidad de medida: porcentaje en peso en el óxido correspondiente, al igual que los atributos 4-10)\n",
    "4. Mg: magnesio\n",
    "5. Al: Aluminio\n",
    "6. Si: silicio\n",
    "7. K: Potasio\n",
    "8. Ca: calcio\n",
    "9. Ba: bario\n",
    "10. Fe: Hierro\n",
    "11. Tipo de vidrio: (atributo de clase)\n",
    "     1. building_windows_float_processed\n",
    "     2. building_windows_non_float_processed\n",
    "     3. vehicle_windows_float_processed\n",
    "     4. vehicle_windows_non_float_processed (ninguno en esta base de datos)\n",
    "     5. contenedores\n",
    "     6. vajilla\n",
    "     7. faros\n",
    "    \n",
    "    \n",
    "Distribución de clases: (de un total de 214 instancias)\n",
    "\n",
    "1. 163 Vidrio de ventana (ventanas de edificios y ventanas de vehículos)\n",
    "     1. 87 flotador procesado\n",
    "         - 70 ventanas de construcción\n",
    "         - 17 ventanas de vehículos\n",
    "     2. 76 procesado sin flotación\n",
    "         - 76 ventanas de construcción\n",
    "         - 0 ventanas de vehículos\n",
    "2. 51 Vidrio no de ventana\n",
    "     - 13 contenedores\n",
    "     - 9 vajillas\n",
    "     - 29 faros"
   ]
  },
  {
   "cell_type": "code",
   "execution_count": 2,
   "metadata": {},
   "outputs": [
    {
     "name": "stdout",
     "output_type": "stream",
     "text": [
      "Glass shape:  (213, 11)\n"
     ]
    }
   ],
   "source": [
    "glass = pd.read_csv('glass.csv')\n",
    "glass.columns = ['id','ri','na','mg','al','si','k','ca','ba','fe','class']\n",
    "print(\"Glass shape: \", glass.shape)"
   ]
  },
  {
   "cell_type": "markdown",
   "metadata": {},
   "source": [
    "Cargar datos: Titanic"
   ]
  },
  {
   "cell_type": "code",
   "execution_count": 3,
   "metadata": {},
   "outputs": [
    {
     "name": "stdout",
     "output_type": "stream",
     "text": [
      "Titanic Train Shape :  (712, 5)\n",
      "Titanic Test Shape :  (712, 5)\n",
      "Titanic Shape:  (1043, 5)\n"
     ]
    }
   ],
   "source": [
    "train_titanic = pd.read_csv('titanic_train.csv', sep=',')\n",
    "test_t = pd.read_csv('titanic_test.csv', sep=',')\n",
    "gender_sub = pd.read_csv('gender_submission.csv', sep=',')\n",
    "gender_sub.PassengerId = gender_sub.PassengerId.astype(float)\n",
    "\n",
    "train_titanic = train_titanic.replace('Q', 0)\n",
    "train_titanic = train_titanic.replace('S', 1)\n",
    "train_titanic = train_titanic.replace('C', 2)\n",
    "train_titanic = train_titanic.replace('male', 0)\n",
    "train_titanic = train_titanic.replace('female', 1)\n",
    "train_titanic = np.array(train_titanic.loc[:,['Sex','Age','Fare','Embarked', 'Survived']])\n",
    "train_titanic = train_titanic[~np.isnan(train_titanic).any(axis=1)]\n",
    "\n",
    "print(\"Titanic Train Shape : \", train_titanic.shape)\n",
    "\n",
    "test1_t = pd.merge(test_t, gender_sub,  how='left', on='PassengerId')\n",
    "test1_t = test1_t.replace('Q', 0)\n",
    "test1_t = test1_t.replace('S', 1)\n",
    "test1_t = test1_t.replace('C', 2)\n",
    "test1_t = test1_t.replace('male', 0)\n",
    "test1_t = test1_t.replace('female', 1)\n",
    "\n",
    "print(\"Titanic Test Shape : \", train_titanic.shape)\n",
    "\n",
    "test_titanic = np.array(test1_t.loc[:,['Sex','Age','Fare','Embarked', 'Survived']])\n",
    "test_titanic = test_titanic[~np.isnan(test_titanic).any(axis=1)]\n",
    "\n",
    "titanic = np.concatenate((train_titanic, test_titanic), axis=0)\n",
    "titanic = pd.DataFrame(data=titanic, columns=['Sex','Age','Fare','Embarked', 'Survived'])\n",
    "\n",
    "print(\"Titanic Shape: \", titanic.shape)\n"
   ]
  },
  {
   "cell_type": "markdown",
   "metadata": {},
   "source": [
    "Normalizar Datos"
   ]
  },
  {
   "cell_type": "code",
   "execution_count": 4,
   "metadata": {},
   "outputs": [],
   "source": [
    "def Normalizar_Datos(data):\n",
    "    print(data)\n",
    "    tam = len(data.columns)\n",
    "    y = data.iloc[:,-1]\n",
    "    data = data.iloc[:,:-1]\n",
    "    data = (data - data.mean(axis=0))/data.std(axis=0)\n",
    "    data.insert(tam-1, \"y\", y, True) \n",
    "    return data"
   ]
  },
  {
   "cell_type": "code",
   "execution_count": 5,
   "metadata": {},
   "outputs": [
    {
     "name": "stdout",
     "output_type": "stream",
     "text": [
      "      Sex   Age      Fare  Embarked  Survived\n",
      "0     0.0  22.0    7.2500       1.0       0.0\n",
      "1     1.0  38.0   71.2833       2.0       1.0\n",
      "2     1.0  26.0    7.9250       1.0       1.0\n",
      "3     1.0  35.0   53.1000       1.0       1.0\n",
      "4     0.0  35.0    8.0500       1.0       0.0\n",
      "...   ...   ...       ...       ...       ...\n",
      "1038  1.0   3.0   13.7750       1.0       1.0\n",
      "1039  1.0  37.0   90.0000       0.0       1.0\n",
      "1040  1.0  28.0    7.7750       1.0       1.0\n",
      "1041  1.0  39.0  108.9000       2.0       1.0\n",
      "1042  0.0  38.5    7.2500       1.0       0.0\n",
      "\n",
      "[1043 rows x 5 columns]\n"
     ]
    }
   ],
   "source": [
    "titanic_data = Normalizar_Datos(titanic)"
   ]
  },
  {
   "cell_type": "code",
   "execution_count": 6,
   "metadata": {},
   "outputs": [
    {
     "name": "stdout",
     "output_type": "stream",
     "text": [
      "      id       ri     na    mg    al     si     k    ca    ba    fe  class\n",
      "0      2  1.51761  13.89  3.60  1.36  72.73  0.48  7.83  0.00  0.00      1\n",
      "1      3  1.51618  13.53  3.55  1.54  72.99  0.39  7.78  0.00  0.00      1\n",
      "2      4  1.51766  13.21  3.69  1.29  72.61  0.57  8.22  0.00  0.00      1\n",
      "3      5  1.51742  13.27  3.62  1.24  73.08  0.55  8.07  0.00  0.00      1\n",
      "4      6  1.51596  12.79  3.61  1.62  72.97  0.64  8.07  0.00  0.26      1\n",
      "..   ...      ...    ...   ...   ...    ...   ...   ...   ...   ...    ...\n",
      "208  210  1.51623  14.14  0.00  2.88  72.61  0.08  9.18  1.06  0.00      7\n",
      "209  211  1.51685  14.92  0.00  1.99  73.06  0.00  8.40  1.59  0.00      7\n",
      "210  212  1.52065  14.36  0.00  2.02  73.42  0.00  8.44  1.64  0.00      7\n",
      "211  213  1.51651  14.38  0.00  1.94  73.61  0.00  8.48  1.57  0.00      7\n",
      "212  214  1.51711  14.23  0.00  2.08  73.36  0.00  8.62  1.67  0.00      7\n",
      "\n",
      "[213 rows x 11 columns]\n"
     ]
    }
   ],
   "source": [
    "glass_data = Normalizar_Datos(glass)"
   ]
  },
  {
   "cell_type": "code",
   "execution_count": 7,
   "metadata": {},
   "outputs": [],
   "source": [
    "def Sigmoidal(x):\n",
    "    return 1.0 / (1.0+np.exp(-x))"
   ]
  },
  {
   "cell_type": "markdown",
   "metadata": {},
   "source": [
    "Exactitud - Accuracy"
   ]
  },
  {
   "cell_type": "code",
   "execution_count": 8,
   "metadata": {},
   "outputs": [],
   "source": [
    "def Calcular_Accuracy(X, Y, W, A):\n",
    "    count = 0\n",
    "    for i,x in enumerate(X):\n",
    "        y_predict,_ = Forward(x,W,A)\n",
    "        y_predict = np.around(y_predict)\n",
    "        yy = Y[i]\n",
    "        y = y_predict - yy\n",
    "\n",
    "        cc = y_predict == yy\n",
    "        if (y_predict == yy).all():\n",
    "            count+=1\n",
    "    return (count/len(Y)) * 100"
   ]
  },
  {
   "cell_type": "markdown",
   "metadata": {},
   "source": [
    "KFolds - Multiclase"
   ]
  },
  {
   "cell_type": "code",
   "execution_count": 117,
   "metadata": {},
   "outputs": [],
   "source": [
    "def kFolds(data, k=3, clases=[0, 1]):\n",
    "    list_clases = []\n",
    "    list_indices_break = []\n",
    "    list_folds_clases = []\n",
    "    \n",
    "    #ordenar segun ultima columna\n",
    "    data = data.sort_values(by=[\"y\"]).values\n",
    "\n",
    "    for i in range(1, len(clases)):\n",
    "        #obtener el indice de la primera ocucrrencia de unos\n",
    "        indice_break = np.where(data[:,-1] == clases[i])[0][0]\n",
    "        list_indices_break.append(indice_break)\n",
    "        \n",
    "    #dividar los datos en dos clases\n",
    "    list_clases = np.split(data, list_indices_break)\n",
    "\n",
    "    \n",
    "    #dividir en k folds\n",
    "    for clase in list_clases:\n",
    "        clase = np.array_split(clase, k)\n",
    "        list_folds_clases.append(clase)\n",
    "\n",
    "    datos_split = list()\n",
    "\n",
    "    #distribuir una porcion equitativa de cada clase a cada fold\n",
    "    for i in range(k):\n",
    "        fold = list_folds_clases[0][i]\n",
    "        \n",
    "        #combinar cada fold con una proporcion de cada clase\n",
    "        for j in range(len(list_folds_clases)):\n",
    "            fold = np.concatenate((fold, list_folds_clases[j][i]))\n",
    "\n",
    "        #mezclar los dataFrames\n",
    "        np.random.shuffle(fold)\n",
    "\n",
    "        #separar x e y\n",
    "        x_data = fold[:, :-1]\n",
    "        y_data = fold[:, -1]\n",
    "\n",
    "        datos_split.append([x_data, y_data])\n",
    "\n",
    "    return datos_split"
   ]
  },
  {
   "cell_type": "code",
   "execution_count": 118,
   "metadata": {},
   "outputs": [],
   "source": [
    "titanic_folds = kFolds(titanic_data, k=3, clases=[0,1])"
   ]
  },
  {
   "cell_type": "code",
   "execution_count": 119,
   "metadata": {},
   "outputs": [],
   "source": [
    "glass_folds = kFolds(glass_data, k=3, clases=[1,2,3,5,6,7])"
   ]
  },
  {
   "cell_type": "markdown",
   "metadata": {},
   "source": [
    "# SVM"
   ]
  },
  {
   "cell_type": "code",
   "execution_count": 120,
   "metadata": {},
   "outputs": [
    {
     "name": "stdout",
     "output_type": "stream",
     "text": [
      "Score de linear SVM:\n",
      " 0.9610244988864143\n",
      "Score de polynomial SVM:\n",
      " 0.9749443207126949\n",
      "Score de sigmoid SVM:\n",
      " 0.717706013363029\n",
      "Score de kernel gausiano SVM:\n",
      " 0.982739420935412\n"
     ]
    }
   ],
   "source": [
    "import pandas as pd\n",
    "import matplotlib.pyplot as plt\n",
    "from sklearn import svm\n",
    "\n",
    "# The Dataset comes from:\n",
    "# https://archive.ics.uci.edu/ml/datasets/Optical+Recognition+of+Handwritten+Digits\n",
    "\n",
    "def load(path_test, path_train):\n",
    "  # Load up the data.\n",
    "  with open(path_test, 'r')  as f: testing  = pd.read_csv(f)\n",
    "  with open(path_train, 'r') as f: training = pd.read_csv(f)\n",
    "\n",
    "  # The number of samples between training and testing can vary\n",
    "  # But the number of features better remain the same!\n",
    "  n_features = testing.shape[1]\n",
    "\n",
    "  X_test  = testing.iloc[:, :n_features-1]\n",
    "  X_train = training.iloc[:, :n_features-1]\n",
    "  y_test  = testing.iloc[:,n_features-1].values.ravel()\n",
    "  y_train = training.iloc[:,n_features-1].values.ravel()\n",
    "\n",
    "  return X_train, X_test, y_train, y_test\n",
    "\n",
    "\n",
    "def linear_SVM(X_train, y_train, X_test, y_test):\n",
    "\n",
    "    svc = svm.SVC(kernel='linear', C=1, gamma=0.001)\n",
    "    svc.fit(X_train, y_train) \n",
    "    \n",
    "    # Calcular el score del SVM\n",
    "    score = svc.score(X_test, y_test)\n",
    "    return score\n",
    "\n",
    "def poly_SVM(X_train, y_train, X_test, y_test):\n",
    "\n",
    "    svc = svm.SVC(kernel='poly', C=1, degree=3, gamma=0.001)\n",
    "    svc.fit(X_train, y_train) \n",
    "    \n",
    "    # Calcular el score del SVM\n",
    "    score = svc.score(X_test, y_test)\n",
    "    return score\n",
    "\n",
    "def sigmoid_SVM(X_train, y_train, X_test, y_test):\n",
    "\n",
    "    svc = svm.SVC(kernel='sigmoid', C=1, gamma=0.001)\n",
    "    svc.fit(X_train, y_train) \n",
    "    \n",
    "    # Calcular el score del SVM\n",
    "    score = svc.score(X_test, y_test)\n",
    "    return score\n",
    "\n",
    "def kernel_gausiano_SVM(X_train, y_train, X_test, y_test):\n",
    "\n",
    "    svc = svm.SVC(kernel='rbf', C=1, gamma=0.001)\n",
    "    svc.fit(X_train, y_train) \n",
    "    \n",
    "    # Calcular el score del SVM\n",
    "    score = svc.score(X_test, y_test)\n",
    "    return score\n",
    "\n",
    "\n",
    "\n",
    "\n",
    "#cargando datos\n",
    "X_train, X_test, y_train, y_test = load('Datasets/optdigits.tes', 'Datasets/optdigits.tra')\n",
    "\n",
    "score = linear_SVM(X_train, y_train, X_test, y_test)\n",
    "print (\"Score de linear SVM:\\n\", score)\n",
    "\n",
    "score = poly_SVM(X_train, y_train, X_test, y_test)\n",
    "print (\"Score de polynomial SVM:\\n\", score)\n",
    "\n",
    "score = sigmoid_SVM(X_train, y_train, X_test, y_test)\n",
    "print (\"Score de sigmoid SVM:\\n\", score)\n",
    "\n",
    "score = kernel_gausiano_SVM(X_train, y_train, X_test, y_test)\n",
    "print (\"Score de kernel gausiano SVM:\\n\", score)"
   ]
  },
  {
   "cell_type": "code",
   "execution_count": null,
   "metadata": {},
   "outputs": [],
   "source": []
  }
 ],
 "metadata": {
  "kernelspec": {
   "display_name": "Python 3",
   "language": "python",
   "name": "python3"
  },
  "language_info": {
   "codemirror_mode": {
    "name": "ipython",
    "version": 3
   },
   "file_extension": ".py",
   "mimetype": "text/x-python",
   "name": "python",
   "nbconvert_exporter": "python",
   "pygments_lexer": "ipython3",
   "version": "3.8.5"
  }
 },
 "nbformat": 4,
 "nbformat_minor": 4
}
