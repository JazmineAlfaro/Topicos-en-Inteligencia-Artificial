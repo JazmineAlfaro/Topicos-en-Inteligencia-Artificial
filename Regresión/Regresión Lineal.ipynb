{
 "cells": [
  {
   "cell_type": "code",
   "execution_count": 1,
   "metadata": {},
   "outputs": [],
   "source": [
    "import pandas as pd\n",
    "import numpy as np\n",
    "import matplotlib.pyplot as plt"
   ]
  },
  {
   "cell_type": "markdown",
   "metadata": {},
   "source": [
    "Pasos:\n",
    "- Cargar datos\n",
    "- Normalizar los datos\n",
    "- Agregar una columna de unos\n",
    "- Calcular la predicción\n",
    "- Calcular el costo\n",
    "- Dos formas para calcular los parámetros (thetas)\n",
    "  1. Ecuación Normal\n",
    "  2. Gradiente Descendiente"
   ]
  },
  {
   "cell_type": "markdown",
   "metadata": {},
   "source": [
    "<h1 style=\"font-size:10\">1. Cargar los datos</h1>"
   ]
  },
  {
   "cell_type": "code",
   "execution_count": 2,
   "metadata": {},
   "outputs": [],
   "source": [
    "X_train = pd.read_csv('train_ex1data1.csv')\n",
    "y_train = pd.read_csv('y_train_ex1data1.csv')\n",
    "X_test = pd.read_csv('test_ex1data1.csv')\n",
    "y_test = pd.read_csv('y_test_ex1data1.csv')"
   ]
  },
  {
   "cell_type": "code",
   "execution_count": 3,
   "metadata": {},
   "outputs": [
    {
     "name": "stdout",
     "output_type": "stream",
     "text": [
      "    Num_Hab_Ciudad(Miles)\n",
      "0                  6.1101\n",
      "1                  5.5277\n",
      "2                  8.5186\n",
      "3                  7.0032\n",
      "4                  5.8598\n",
      "..                    ...\n",
      "63                 5.0594\n",
      "64                 5.7077\n",
      "65                 7.6366\n",
      "66                 5.3054\n",
      "67                 8.2934\n",
      "\n",
      "[68 rows x 1 columns]\n"
     ]
    }
   ],
   "source": [
    "print(X_train)"
   ]
  },
  {
   "cell_type": "code",
   "execution_count": 4,
   "metadata": {},
   "outputs": [
    {
     "name": "stdout",
     "output_type": "stream",
     "text": [
      "    Rentabilidad_Ciudad(Miles)\n",
      "0                     17.59200\n",
      "1                      9.13020\n",
      "2                     13.66200\n",
      "3                     11.85400\n",
      "4                      6.82330\n",
      "..                         ...\n",
      "63                     2.82140\n",
      "64                     1.84510\n",
      "65                     4.29590\n",
      "66                     1.98690\n",
      "67                     0.14454\n",
      "\n",
      "[68 rows x 1 columns]\n"
     ]
    }
   ],
   "source": [
    "print(y_train)"
   ]
  },
  {
   "cell_type": "code",
   "execution_count": 5,
   "metadata": {},
   "outputs": [],
   "source": [
    "X_train = X_train.iloc[:,:] \n",
    "y_train = y_train.iloc[:, 0]\n",
    "X_test = X_test.iloc[:,:] \n",
    "y_test = y_test.iloc[:, 0]"
   ]
  },
  {
   "cell_type": "markdown",
   "metadata": {},
   "source": [
    "<h1 style=\"font-size:10\">2. Normalización</h1>"
   ]
  },
  {
   "cell_type": "markdown",
   "metadata": {},
   "source": [
    "Nos ayuda a extender o comprimir los valores de la variable para que estén en un rango definido.\n",
    "\n",
    " <span style='color:red'> - Feature Scaling, MinMax Scaler </span> \n",
    "\n",
    "  $X_{normalized} = \\frac{X - X_{min}}{X_{max}- X_{min}}$\n",
    "\n",
    " <span style='color:red'> -Standard Scaler: </span> \n",
    "\n",
    "  $X_{normalized} = \\frac{X - X_{mean}}{X_{stddev}}$\n",
    "\n",
    "  también:\n",
    "\n",
    "  $X_{i} = \\frac{X_i - \\mu_i}{S_i}$\n",
    "\n",
    "  donde:\n",
    "\n",
    "  - $\\mu_i$ : media\n",
    "  - $S_i$ : desviación estándar\n"
   ]
  },
  {
   "cell_type": "code",
   "execution_count": 6,
   "metadata": {},
   "outputs": [],
   "source": [
    "X_media = np.concatenate((X_train, X_test), axis=0).mean(axis=0)\n",
    "X_std = np.concatenate((X_train, X_test), axis=0).std(axis=0)\n",
    "y_media = np.concatenate((y_train, y_test), axis=0).mean()\n",
    "y_std = np.concatenate((y_train, y_test), axis=0).std()"
   ]
  },
  {
   "cell_type": "code",
   "execution_count": 7,
   "metadata": {},
   "outputs": [
    {
     "name": "stdout",
     "output_type": "stream",
     "text": [
      "(68, 1)\n"
     ]
    }
   ],
   "source": [
    "X_train = (X_train - X_media)/X_std\n",
    "y_train = (y_train - y_media)/y_std\n",
    "X_test = (X_test - X_media)/X_std\n",
    "y_test = (y_test - y_media)/y_std\n",
    "\n",
    "print(X_train.shape)"
   ]
  },
  {
   "cell_type": "markdown",
   "metadata": {},
   "source": [
    "<h1 style=\"font-size:10\">3. Agregar unos</h1>"
   ]
  },
  {
   "cell_type": "code",
   "execution_count": 8,
   "metadata": {},
   "outputs": [
    {
     "name": "stdout",
     "output_type": "stream",
     "text": [
      "(68, 2)\n",
      "[[ 1.         -0.53240565]\n",
      " [ 1.         -0.68368294]\n",
      " [ 1.          0.09319761]\n",
      " [ 1.         -0.30042464]\n",
      " [ 1.         -0.5974206 ]\n",
      " [ 1.          0.0579498 ]\n",
      " [ 1.         -0.63614904]\n",
      " [ 1.         -0.63009691]\n",
      " [ 1.          0.06457337]\n",
      " [ 1.         -0.6543314 ]\n",
      " [ 1.         -0.46609197]\n",
      " [ 1.         -0.78695878]\n",
      " [ 1.         -0.51188555]\n",
      " [ 1.         -0.47630007]\n",
      " [ 1.         -0.67402031]\n",
      " [ 1.          2.80143506]\n",
      " [ 1.          1.21255602]\n",
      " [ 1.          0.72656735]\n",
      " [ 1.          3.64769432]\n",
      " [ 1.         -0.75519159]\n",
      " [ 1.         -0.40790839]\n",
      " [ 1.         -0.58910866]\n",
      " [ 1.          0.01332508]\n",
      " [ 1.         -0.05880697]\n",
      " [ 1.         -0.0165979 ]\n",
      " [ 1.         -0.66326674]\n",
      " [ 1.          1.214634  ]\n",
      " [ 1.         -0.46920894]\n",
      " [ 1.         -0.71506051]\n",
      " [ 1.         -0.33177623]\n",
      " [ 1.         -0.61978491]\n",
      " [ 1.         -0.27707328]\n",
      " [ 1.         -0.61258989]\n",
      " [ 1.          0.91956017]\n",
      " [ 1.         -0.68007244]\n",
      " [ 1.         -0.74082752]\n",
      " [ 1.         -0.19114862]\n",
      " [ 1.         -0.47455975]\n",
      " [ 1.         -0.46778033]\n",
      " [ 1.         -0.48978099]\n",
      " [ 1.         -0.65459115]\n",
      " [ 1.          0.33606207]\n",
      " [ 1.         -0.77417917]\n",
      " [ 1.          3.40768709]\n",
      " [ 1.          1.75283204]\n",
      " [ 1.          2.80507153]\n",
      " [ 1.         -0.2445788 ]\n",
      " [ 1.          0.03514392]\n",
      " [ 1.          0.53928898]\n",
      " [ 1.         -0.69103381]\n",
      " [ 1.         -0.2143701 ]\n",
      " [ 1.         -0.55939348]\n",
      " [ 1.         -0.24257874]\n",
      " [ 1.         -0.16135551]\n",
      " [ 1.          0.5491594 ]\n",
      " [ 1.         -0.79277713]\n",
      " [ 1.         -0.77181546]\n",
      " [ 1.         -0.46861152]\n",
      " [ 1.         -0.42699988]\n",
      " [ 1.          0.09283397]\n",
      " [ 1.          0.26504695]\n",
      " [ 1.         -0.56048442]\n",
      " [ 1.         -0.6855791 ]\n",
      " [ 1.         -0.80532297]\n",
      " [ 1.         -0.63692828]\n",
      " [ 1.         -0.1359002 ]\n",
      " [ 1.         -0.74142494]\n",
      " [ 1.          0.03470234]]\n"
     ]
    }
   ],
   "source": [
    "n_exa_train = len(y_train)\n",
    "n_exa_test = len(y_test)\n",
    "\n",
    "X_train = np.concatenate((np.ones([n_exa_train, 1]), X_train), axis=1)\n",
    "X_test = np.concatenate((np.ones([n_exa_test, 1]), X_test), axis=1)\n",
    "\n",
    "print(X_train.shape)\n",
    "print(X_train)"
   ]
  },
  {
   "cell_type": "markdown",
   "metadata": {},
   "source": [
    "<h1 style=\"font-size:10\">4. Calcular la predicción</h1>"
   ]
  },
  {
   "cell_type": "code",
   "execution_count": 9,
   "metadata": {},
   "outputs": [],
   "source": [
    "def predict(theta, data):\n",
    "    return np.dot(data, theta)\n",
    "# print(predict(theta, X_train).shape)"
   ]
  },
  {
   "cell_type": "markdown",
   "metadata": {},
   "source": [
    "<h1 style=\"font-size:10\">5. Calcular costos</h1>"
   ]
  },
  {
   "cell_type": "markdown",
   "metadata": {},
   "source": [
    "La función de costo nos ayuda a saber que tan incorrecto es el modelo en términos de su capacidad para estimar la relación entre X e y.\n",
    "\n",
    "<span style='color:red'> - Función de costo </span> \n",
    "\n",
    "$J(\\theta) = J(\\theta_0, \\theta_1, ..., \\theta_n ) = \\frac{1}{2m} \\sum_{i=1}^m (h_{\\theta}(x^{(i)})-y^{(i)})^2$\n",
    "\n",
    "Donde:\n",
    "\n",
    "- Parámetros : $\\theta_0, \\theta_1, ..., \\theta_n$ \n",
    "- Predicción : $h_{\\theta}(x^{(i)})$\n",
    "- Respuesta correcta : $y^{(i)}$\n"
   ]
  },
  {
   "cell_type": "code",
   "execution_count": 10,
   "metadata": {},
   "outputs": [],
   "source": [
    "# m = X.shape[0]\n",
    "\n",
    "def cal_cost(theta, X, y):\n",
    "    y_pred_test = predict(theta, X)\n",
    "    to_sum = (y_pred_test - y) ** 2\n",
    "    return np.sum(to_sum) / (X.shape[0]*2)"
   ]
  },
  {
   "cell_type": "markdown",
   "metadata": {},
   "source": [
    "<h1 style=\"font-size:10\">6. Calcular los parámetros</h1>"
   ]
  },
  {
   "cell_type": "markdown",
   "metadata": {},
   "source": [
    "Una vez que definamos la función de costo para nuestro modelo, tendremos que averiguar cómo asignar valores de $\\theta_0$ y $\\theta_1$ (función lineal) de manera que el error para nuestro modelo sea mínimo.\n",
    "Se comienza con algún valor de los parámetros y luego estos van a estar cambiando repetidamente los parámetros de modo que terminemos con un error mínimo para nuestro conjunto de datos de entrenamiento usando nuestra función de modelo.\n",
    "\n",
    "<span style='color:red'> Gradiente descendiente </span> \n",
    "\n",
    "$\\theta_j := \\theta_j - \\alpha \\frac{\\partial}{\\partial\\theta_j} J(\\theta_0, \\theta_1, ..., \\theta_n )$\n",
    "\n",
    "$\\theta_j := \\theta_j - \\alpha \\frac{1}{m} \\sum_{i=1}^m (h_{\\theta}(x^{(i)})-y^{(i)})x_j^{(i)}$\n"
   ]
  },
  {
   "cell_type": "code",
   "execution_count": 11,
   "metadata": {},
   "outputs": [],
   "source": [
    "n_features = X_train.shape[1]\n",
    "theta = np.zeros(n_features)\n",
    "alpha = 0.01 # learning rate\n",
    "iterations = 2000\n",
    "\n",
    "def gradient_descent(X,y,theta):\n",
    "    cost_history = np.zeros(iterations)\n",
    "    for it in range(iterations):\n",
    "        prediction = predict(theta, X)\n",
    "        # m = prediction.shape[0]\n",
    "        theta = theta - (1/prediction.shape[0])*alpha*( X.T.dot((prediction - y)))\n",
    "        cost_history[it]  = cal_cost(theta,X,y)\n",
    "    return theta, cost_history\n"
   ]
  },
  {
   "cell_type": "code",
   "execution_count": 12,
   "metadata": {},
   "outputs": [
    {
     "name": "stdout",
     "output_type": "stream",
     "text": [
      "[-0.03170536  0.83116436]\n",
      "0.5362361804170243\n"
     ]
    }
   ],
   "source": [
    "theta_r, cost_history_r = gradient_descent(X_train, y_train, theta)\n",
    "print(theta_r)\n",
    "cost = cal_cost(theta,X_test, y_test)\n",
    "print(cost)"
   ]
  },
  {
   "cell_type": "code",
   "execution_count": 13,
   "metadata": {},
   "outputs": [
    {
     "data": {
      "image/png": "[encoded data removed]",
      "text/plain": [
       "<Figure size 432x288 with 1 Axes>"
      ]
     },
     "metadata": {
      "needs_background": "light"
     },
     "output_type": "display_data"
    }
   ],
   "source": [
    "import matplotlib.pyplot as plt\n",
    "plt.plot(cost_history_r)\n",
    "plt.show()"
   ]
  },
  {
   "cell_type": "code",
   "execution_count": null,
   "metadata": {},
   "outputs": [],
   "source": []
  }
 ],
 "metadata": {
  "kernelspec": {
   "display_name": "Python 3",
   "language": "python",
   "name": "python3"
  },
  "language_info": {
   "codemirror_mode": {
    "name": "ipython",
    "version": 3
   },
   "file_extension": ".py",
   "mimetype": "text/x-python",
   "name": "python",
   "nbconvert_exporter": "python",
   "pygments_lexer": "ipython3",
   "version": "3.8.3"
  }
 },
 "nbformat": 4,
 "nbformat_minor": 4
}
