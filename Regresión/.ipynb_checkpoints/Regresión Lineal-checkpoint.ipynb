{
 "cells": [
  {
   "cell_type": "code",
   "execution_count": null,
   "metadata": {},
   "outputs": [],
   "source": [
    "import pandas as pd\n",
    "import numpy as np\n",
    "import matplotlib.pyplot as plt"
   ]
  },
  {
   "cell_type": "markdown",
   "metadata": {},
   "source": [
    "Pasos:\n",
    "- Cargar datos\n",
    "- Normalizar los datos\n",
    "- Agregar una columna de unos\n",
    "- Calcular la predicción\n",
    "- Calcular el costo\n",
    "- Dos formas para calcular los parámetros (thetas)\n",
    "  1. Ecuación Normal\n",
    "  2. Gradiente Descendiente"
   ]
  },
  {
   "cell_type": "markdown",
   "metadata": {},
   "source": [
    "<h1 style=\"font-size:10\">1. Cargar los datos</h1>"
   ]
  },
  {
   "cell_type": "code",
   "execution_count": null,
   "metadata": {},
   "outputs": [],
   "source": [
    "X_train = pd.read_csv('train_ex1data1.csv')\n",
    "y_train = pd.read_csv('y_train_ex1data1.csv')\n",
    "X_test = pd.read_csv('test_ex1data1.csv')\n",
    "y_test = pd.read_csv('y_test_ex1data1.csv')"
   ]
  },
  {
   "cell_type": "code",
   "execution_count": null,
   "metadata": {},
   "outputs": [],
   "source": [
    "print(X_train)"
   ]
  },
  {
   "cell_type": "code",
   "execution_count": null,
   "metadata": {},
   "outputs": [],
   "source": [
    "print(y_train)"
   ]
  },
  {
   "cell_type": "code",
   "execution_count": null,
   "metadata": {},
   "outputs": [],
   "source": [
    "X_train = X_train.iloc[:,:] \n",
    "y_train = y_train.iloc[:, 0]\n",
    "X_test = X_test.iloc[:,:] \n",
    "y_test = y_test.iloc[:, 0]"
   ]
  },
  {
   "cell_type": "markdown",
   "metadata": {},
   "source": [
    "<h1 style=\"font-size:10\">2. Normalización</h1>"
   ]
  },
  {
   "cell_type": "markdown",
   "metadata": {},
   "source": [
    "Nos ayuda a extender o comprimir los valores de la variable para que estén en un rango definido.\n",
    "\n",
    " <span style='color:red'> - Feature Scaling, MinMax Scaler </span> \n",
    "\n",
    "  $X_{normalized} = \\frac{X - X_{min}}{X_{max}- X_{min}}$\n",
    "\n",
    " <span style='color:red'> -Standard Scaler: </span> \n",
    "\n",
    "  $X_{normalized} = \\frac{X - X_{mean}}{X_{stddev}}$\n",
    "\n",
    "  también:\n",
    "\n",
    "  $X_{i} = \\frac{X_i - \\mu_i}{S_i}$\n",
    "\n",
    "  donde:\n",
    "\n",
    "  - $\\mu_i$ : media\n",
    "  - $S_i$ : desviación estándar\n"
   ]
  },
  {
   "cell_type": "code",
   "execution_count": null,
   "metadata": {},
   "outputs": [],
   "source": [
    "X_media = np.concatenate((X_train, X_test), axis=0).mean(axis=0)\n",
    "X_std = np.concatenate((X_train, X_test), axis=0).std(axis=0)\n",
    "y_media = np.concatenate((y_train, y_test), axis=0).mean()\n",
    "y_std = np.concatenate((y_train, y_test), axis=0).std()"
   ]
  },
  {
   "cell_type": "code",
   "execution_count": null,
   "metadata": {},
   "outputs": [],
   "source": [
    "X_train = (X_train - X_media)/X_std\n",
    "y_train = (y_train - y_media)/y_std\n",
    "X_test = (X_test - X_media)/X_std\n",
    "y_test = (y_test - y_media)/y_std\n",
    "\n",
    "print(X_train.shape)"
   ]
  },
  {
   "cell_type": "markdown",
   "metadata": {},
   "source": [
    "<h1 style=\"font-size:10\">3. Agregar unos</h1>"
   ]
  },
  {
   "cell_type": "code",
   "execution_count": null,
   "metadata": {},
   "outputs": [],
   "source": [
    "n_exa_train = len(y_train)\n",
    "n_exa_test = len(y_test)\n",
    "\n",
    "X_train = np.concatenate((np.ones([n_exa_train, 1]), X_train), axis=1)\n",
    "X_test = np.concatenate((np.ones([n_exa_test, 1]), X_test), axis=1)\n",
    "\n",
    "print(X_train.shape)\n",
    "print(X_train)"
   ]
  },
  {
   "cell_type": "markdown",
   "metadata": {},
   "source": [
    "<h1 style=\"font-size:10\">4. Calcular la predicción</h1>"
   ]
  },
  {
   "cell_type": "code",
   "execution_count": null,
   "metadata": {},
   "outputs": [],
   "source": [
    "def predict(theta, data):\n",
    "    return np.dot(data, theta)\n",
    "# print(predict(theta, X_train).shape)"
   ]
  },
  {
   "cell_type": "markdown",
   "metadata": {},
   "source": [
    "<h1 style=\"font-size:10\">5. Calcular costos</h1>"
   ]
  },
  {
   "cell_type": "markdown",
   "metadata": {},
   "source": [
    "La función de costo nos ayuda a saber que tan incorrecto es el modelo en términos de su capacidad para estimar la relación entre X e y.\n",
    "\n",
    "<span style='color:red'> - Función de costo </span> \n",
    "\n",
    "$J(\\theta) = J(\\theta_0, \\theta_1, ..., \\theta_n ) = \\frac{1}{2m} \\sum_{i=1}^m (h_{\\theta}(x^{(i)})-y^{(i)})^2$\n",
    "\n",
    "Donde:\n",
    "\n",
    "- Parámetros : $\\theta_0, \\theta_1, ..., \\theta_n$ \n",
    "- Predicción : $h_{\\theta}(x^{(i)})$\n",
    "- Respuesta correcta : $y^{(i)}$\n"
   ]
  },
  {
   "cell_type": "code",
   "execution_count": null,
   "metadata": {},
   "outputs": [],
   "source": [
    "# m = X.shape[0]\n",
    "\n",
    "def cal_cost(theta, X, y):\n",
    "    y_pred_test = predict(theta, X)\n",
    "    to_sum = (y_pred_test - y) ** 2\n",
    "    return np.sum(to_sum) / (X.shape[0]*2)"
   ]
  },
  {
   "cell_type": "markdown",
   "metadata": {},
   "source": [
    "<h1 style=\"font-size:10\">6. Calcular los parámetros</h1>"
   ]
  },
  {
   "cell_type": "markdown",
   "metadata": {},
   "source": [
    "Una vez que definamos la función de costo para nuestro modelo, tendremos que averiguar cómo asignar valores de $\\theta_0$ y $\\theta_1$ (función lineal) de manera que el error para nuestro modelo sea mínimo.\n",
    "Se comienza con algún valor de los parámetros y luego estos van a estar cambiando repetidamente los parámetros de modo que terminemos con un error mínimo para nuestro conjunto de datos de entrenamiento usando nuestra función de modelo.\n",
    "\n",
    "<span style='color:red'> Gradiente descendiente </span> \n",
    "\n",
    "$\\theta_j := \\theta_j - \\alpha \\frac{\\partial}{\\partial\\theta_j} J(\\theta_0, \\theta_1, ..., \\theta_n )$\n",
    "\n",
    "$\\theta_j := \\theta_j - \\alpha \\frac{1}{m} \\sum_{i=1}^m (h_{\\theta}(x^{(i)})-y^{(i)})x_j^{(i)}$\n"
   ]
  },
  {
   "cell_type": "code",
   "execution_count": null,
   "metadata": {},
   "outputs": [],
   "source": [
    "n_features = X_train.shape[1]\n",
    "theta = np.zeros(n_features)\n",
    "alpha = 0.01 # learning rate\n",
    "iterations = 2000\n",
    "\n",
    "def gradient_descent(X,y,theta):\n",
    "    cost_history = np.zeros(iterations)\n",
    "    for it in range(iterations):\n",
    "        prediction = predict(theta, X)\n",
    "        # m = prediction.shape[0]\n",
    "        theta = theta - (1/prediction.shape[0])*alpha*( X.T.dot((prediction - y)))\n",
    "        cost_history[it]  = cal_cost(theta,X,y)\n",
    "    return theta, cost_history\n"
   ]
  },
  {
   "cell_type": "code",
   "execution_count": null,
   "metadata": {},
   "outputs": [],
   "source": [
    "theta_r, cost_history_r = gradient_descent(X_train, y_train, theta)\n",
    "print(theta_r)\n",
    "cost = cal_cost(theta,X_test, y_test)\n",
    "print(cost)"
   ]
  }
 ],
 "metadata": {
  "kernelspec": {
   "display_name": "Python 3",
   "language": "python",
   "name": "python3"
  },
  "language_info": {
   "codemirror_mode": {
    "name": "ipython",
    "version": 3
   },
   "file_extension": ".py",
   "mimetype": "text/x-python",
   "name": "python",
   "nbconvert_exporter": "python",
   "pygments_lexer": "ipython3",
   "version": "3.8.3"
  }
 },
 "nbformat": 4,
 "nbformat_minor": 4
}
