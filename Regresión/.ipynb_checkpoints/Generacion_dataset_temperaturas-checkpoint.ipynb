{
 "cells": [
  {
   "cell_type": "code",
   "execution_count": 1,
   "metadata": {},
   "outputs": [],
   "source": [
    "def genDataset(n_features = 4, n_samples = 1000, low = 0, high = 10, weights = [0.25, 0.25, 0.25, 0.25], threshold = 5):\n",
    "    \"\"\"\n",
    "    The function generates a random dataset with n predictor features and the result. The result\n",
    "    can take two values, zero and one. The result depends on the threshold.\n",
    "    \n",
    "    :param n_features: Number of features.\n",
    "    :param n_samples: Number of samples.\n",
    "    :param low: The lowest value for the range of random values.\n",
    "    :param high: The highest value for the range of random values.\n",
    "    :param weight: List of the weights for each feature. There must be a weight for each feature.\n",
    "    :param threshold: It is the value that marks the limit to assign zero or one to the result.\n",
    "    \n",
    "    :return: Dataframe \n",
    "    \n",
    "    \"\"\"\n",
    "    import pandas as pd\n",
    "    import numpy as np\n",
    "\n",
    "    if len(weights) == n_features:\n",
    "        randomData = np.random.randint(low = low, high = high , size=(n_samples, n_features))\n",
    "        weights_m = np.asarray([weights]*n_samples)\n",
    "        p = np.array([1 if sum(row) >= threshold else 0 for row in randomData * weights_m])\n",
    "        res = pd.DataFrame(data=np.column_stack((randomData, p)),\n",
    "                columns = ['feat_%s_%s' %(str(i), str(w)) for i, w in enumerate(weights)]+['result_thr_%s'%threshold])\n",
    " \n",
    "        return res \n",
    "    else:\n",
    "        print (\"There must be a weight for each feature. Please, check the weights matrix.\")"
   ]
  },
  {
   "cell_type": "code",
   "execution_count": 2,
   "metadata": {},
   "outputs": [],
   "source": [
    "data = genDataset(n_features = 4, n_samples = 100000, low = 0, high = 10, weights = [0.125, 0.375, 0.375, 0.125], threshold = 6)"
   ]
  },
  {
   "cell_type": "code",
   "execution_count": 3,
   "metadata": {
    "scrolled": true
   },
   "outputs": [
    {
     "data": {
      "text/html": [
       "<div>\n",
       "<style scoped>\n",
       "    .dataframe tbody tr th:only-of-type {\n",
       "        vertical-align: middle;\n",
       "    }\n",
       "\n",
       "    .dataframe tbody tr th {\n",
       "        vertical-align: top;\n",
       "    }\n",
       "\n",
       "    .dataframe thead th {\n",
       "        text-align: right;\n",
       "    }\n",
       "</style>\n",
       "<table border=\"1\" class=\"dataframe\">\n",
       "  <thead>\n",
       "    <tr style=\"text-align: right;\">\n",
       "      <th></th>\n",
       "      <th>feat_0_0.125</th>\n",
       "      <th>feat_1_0.375</th>\n",
       "      <th>feat_2_0.375</th>\n",
       "      <th>feat_3_0.125</th>\n",
       "      <th>result_thr_6</th>\n",
       "    </tr>\n",
       "  </thead>\n",
       "  <tbody>\n",
       "    <tr>\n",
       "      <th>0</th>\n",
       "      <td>0</td>\n",
       "      <td>6</td>\n",
       "      <td>4</td>\n",
       "      <td>1</td>\n",
       "      <td>0</td>\n",
       "    </tr>\n",
       "    <tr>\n",
       "      <th>1</th>\n",
       "      <td>8</td>\n",
       "      <td>7</td>\n",
       "      <td>7</td>\n",
       "      <td>4</td>\n",
       "      <td>1</td>\n",
       "    </tr>\n",
       "    <tr>\n",
       "      <th>2</th>\n",
       "      <td>4</td>\n",
       "      <td>5</td>\n",
       "      <td>6</td>\n",
       "      <td>3</td>\n",
       "      <td>0</td>\n",
       "    </tr>\n",
       "    <tr>\n",
       "      <th>3</th>\n",
       "      <td>5</td>\n",
       "      <td>2</td>\n",
       "      <td>5</td>\n",
       "      <td>7</td>\n",
       "      <td>0</td>\n",
       "    </tr>\n",
       "    <tr>\n",
       "      <th>4</th>\n",
       "      <td>6</td>\n",
       "      <td>6</td>\n",
       "      <td>4</td>\n",
       "      <td>5</td>\n",
       "      <td>0</td>\n",
       "    </tr>\n",
       "  </tbody>\n",
       "</table>\n",
       "</div>"
      ],
      "text/plain": [
       "   feat_0_0.125  feat_1_0.375  feat_2_0.375  feat_3_0.125  result_thr_6\n",
       "0             0             6             4             1             0\n",
       "1             8             7             7             4             1\n",
       "2             4             5             6             3             0\n",
       "3             5             2             5             7             0\n",
       "4             6             6             4             5             0"
      ]
     },
     "execution_count": 3,
     "metadata": {},
     "output_type": "execute_result"
    }
   ],
   "source": [
    "data.head()"
   ]
  },
  {
   "cell_type": "code",
   "execution_count": 5,
   "metadata": {},
   "outputs": [
    {
     "name": "stdout",
     "output_type": "stream",
     "text": [
      "     Name   Age\n",
      "0    Alex  10.0\n",
      "1     Bob  12.0\n",
      "2  Clarke  13.0\n"
     ]
    }
   ],
   "source": [
    "import pandas as pd\n",
    "data = [['Alex',10],['Bob',12],['Clarke',13]]\n",
    "df = pd.DataFrame(data,columns=['Name','Age'],dtype=float)\n",
    "print (df)"
   ]
  },
  {
   "cell_type": "code",
   "execution_count": 20,
   "metadata": {},
   "outputs": [
    {
     "name": "stdout",
     "output_type": "stream",
     "text": [
      "number of samples: 5\n",
      "None\n"
     ]
    }
   ],
   "source": [
    "import random\n",
    "\n",
    "def generate_data_Temp_High(number_of_samples):\n",
    "    samples = []\n",
    "    for i in range (number_of_samples):\n",
    "        visibility = random.randint(50, 100)/100\n",
    "        numMin = random.randint(540, 900)\n",
    "        \n",
    "        #generate month between 2 - 6 or between 10 - 12\n",
    "        randMonth = random.randint(0, 1)\n",
    "        if randMonth:\n",
    "            numMonth = random.randint(2, 6)\n",
    "        else:\n",
    "            numMonth = random.randint(10, 12)\n",
    "        \n",
    "        #temperature\n",
    "        temperature =  random.randint(20, 30)\n",
    "        \n",
    "        sample = [visibility, numMin, numMonth, temperature]\n",
    "        samples.append(sample)\n",
    "    return samples\n",
    "\n",
    "def generate_data_Temp_Medium(number_of_samples):\n",
    "    samples = []\n",
    "    for i in range (number_of_samples):\n",
    "        visibility = random.randint(40, 80)/100\n",
    "        numMin = random.randint(840, 1080)\n",
    "        \n",
    "        #generate month between 2 - 6 or between 10 - 12\n",
    "        randMonth = random.randint(0, 1)\n",
    "        if randMonth:\n",
    "            numMonth = random.randint(2, 6)\n",
    "        else:\n",
    "            numMonth = random.randint(10, 12)\n",
    "        \n",
    "        #temperature\n",
    "        temperature =  random.randint(10, 20)\n",
    "        \n",
    "        sample = [visibility, numMin, numMonth, temperature]\n",
    "        samples.append(sample)\n",
    "    return samples\n",
    "\n",
    "def generate_data_Temp_Low(number_of_samples):\n",
    "    samples = []\n",
    "    for i in range (number_of_samples):\n",
    "        visibility = random.randint(0, 40)/100\n",
    "        \n",
    "        #generate min between 0 - 540 or between 1080 - 1440\n",
    "        randMin = random.randint(0, 1)\n",
    "        if randMin:\n",
    "            numMin = random.randint(0, 540)\n",
    "        else:\n",
    "            numMin = random.randint(1080, 1440)\n",
    "            \n",
    "        #generate month between 1 or between 7 - 12\n",
    "        randMonth = random.randint(0, 1)\n",
    "        if randMonth:\n",
    "            numMonth = 1\n",
    "        else:\n",
    "            numMonth = random.randint(7, 12)\n",
    "        \n",
    "        #temperature\n",
    "        temperature =  random.randint(0, 10)\n",
    "        \n",
    "        sample = [visibility, numMin, numMonth, temperature]\n",
    "        samples.append(sample)\n",
    "    return samples\n",
    "        \n",
    "def generate_data(number_of_samples, percent_high, percent_medium, percen_low):\n",
    "    num_samples_high = int(number_of_samples * percent_high)\n",
    "    num_samples_medium = int(number_of_samples * percent_medium)\n",
    "    num_samples_low = int(number_of_samples * percen_low)\n",
    "    \n",
    "    samples_high = generate_data_Temp_High(num_samples_high)\n",
    "    samples_medium = generate_data_Temp_Medium(num_samples_medium)\n",
    "    samples_low = generate_data_Temp_Low(num_samples_low)\n",
    "    \n",
    "    print(\"number of samples: %d\" %(number_of_samples))  \n",
    "    samples = []\n",
    "    \n",
    "data = generate_data(5, 0.5, 0.2, 0.3)\n",
    "print(data)\n"
   ]
  },
  {
   "cell_type": "code",
   "execution_count": null,
   "metadata": {},
   "outputs": [],
   "source": []
  }
 ],
 "metadata": {
  "kernelspec": {
   "display_name": "Python 3",
   "language": "python",
   "name": "python3"
  },
  "language_info": {
   "codemirror_mode": {
    "name": "ipython",
    "version": 3
   },
   "file_extension": ".py",
   "mimetype": "text/x-python",
   "name": "python",
   "nbconvert_exporter": "python",
   "pygments_lexer": "ipython3",
   "version": "3.8.3"
  }
 },
 "nbformat": 4,
 "nbformat_minor": 4
}
