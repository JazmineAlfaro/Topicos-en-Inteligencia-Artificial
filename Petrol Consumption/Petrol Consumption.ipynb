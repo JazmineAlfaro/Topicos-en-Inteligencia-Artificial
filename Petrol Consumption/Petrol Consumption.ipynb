{
 "cells": [
  {
   "cell_type": "code",
   "execution_count": 73,
   "metadata": {},
   "outputs": [],
   "source": [
    "import pandas as pd  \n",
    "import numpy as np  \n",
    "import matplotlib.pyplot as plt"
   ]
  },
  {
   "cell_type": "code",
   "execution_count": 74,
   "metadata": {},
   "outputs": [
    {
     "name": "stdout",
     "output_type": "stream",
     "text": [
      "    datos 1  datos 2  datos 3  datos 4  datos 5\n",
      "0      9.00     3571     1976    0.525      541\n",
      "1      9.00     4092     1250    0.572      524\n",
      "2      9.00     3865     1586    0.580      561\n",
      "3      7.50     4870     2351    0.529      414\n",
      "4      8.00     4399      431    0.544      410\n",
      "5     10.00     5342     1333    0.571      457\n",
      "6      8.00     5319    11868    0.451      344\n",
      "7      8.00     5126     2138    0.553      467\n",
      "8      8.00     4447     8577    0.529      464\n",
      "9      7.00     4512     8507    0.552      498\n",
      "10     8.00     4391     5939    0.530      580\n",
      "11     7.50     5126    14186    0.525      471\n",
      "12     7.00     4817     6930    0.574      525\n",
      "13     7.00     4207     6580    0.545      508\n",
      "14     7.00     4332     8159    0.608      566\n",
      "15     7.00     4318    10340    0.586      635\n",
      "16     7.00     4206     8508    0.572      603\n",
      "17     7.00     3718     4725    0.540      714\n",
      "18     7.00     4716     5915    0.724      865\n",
      "19     8.50     4341     6010    0.677      640\n",
      "20     7.00     4593     7834    0.663      649\n",
      "21     8.00     4983      602    0.602      540\n",
      "22     9.00     4897     2449    0.511      464\n",
      "23     9.00     4258     4686    0.517      547\n",
      "24     8.50     4574     2619    0.551      460\n",
      "25     9.00     3721     4746    0.544      566\n",
      "26     8.00     3448     5399    0.548      577\n",
      "27     7.50     3846     9061    0.579      631\n",
      "28     8.00     4188     5975    0.563      574\n",
      "29     9.00     3601     4650    0.493      534\n",
      "30     7.00     3640     6905    0.518      571\n",
      "31     7.00     3333     6594    0.513      554\n",
      "32     8.00     3063     6524    0.578      577\n",
      "33     7.50     3357     4121    0.547      628\n",
      "34     8.00     3528     3495    0.487      487\n",
      "35     6.58     3802     7834    0.629      644\n",
      "36     5.00     4045    17782    0.566      640\n",
      "37     7.00     3897     6385    0.586      704\n",
      "38     8.50     3635     3274    0.663      648\n",
      "39     7.00     4345     3905    0.672      968\n",
      "40     7.00     4449     4639    0.626      587\n",
      "41     7.00     3656     3985    0.563      699\n",
      "42     7.00     4300     3635    0.603      632\n",
      "43     7.00     3745     2611    0.508      591\n",
      "44     6.00     5215     2302    0.672      782\n",
      "45     9.00     4476     3942    0.571      510\n",
      "46     7.00     4296     4083    0.623      610\n",
      "47     7.00     5002     9794    0.593      524\n"
     ]
    }
   ],
   "source": [
    "data = pd.read_csv('Libro2.csv', sep=';')\n",
    "print(data)"
   ]
  },
  {
   "cell_type": "code",
   "execution_count": 85,
   "metadata": {},
   "outputs": [
    {
     "name": "stdout",
     "output_type": "stream",
     "text": [
      "    datos 1  datos 2  datos 3  datos 4  datos 5  is_train\n",
      "0      9.00     3571     1976    0.525      541      True\n",
      "1      9.00     4092     1250    0.572      524      True\n",
      "4      8.00     4399      431    0.544      410      True\n",
      "5     10.00     5342     1333    0.571      457      True\n",
      "8      8.00     4447     8577    0.529      464      True\n",
      "9      7.00     4512     8507    0.552      498      True\n",
      "10     8.00     4391     5939    0.530      580      True\n",
      "12     7.00     4817     6930    0.574      525      True\n",
      "13     7.00     4207     6580    0.545      508      True\n",
      "14     7.00     4332     8159    0.608      566      True\n",
      "16     7.00     4206     8508    0.572      603      True\n",
      "17     7.00     3718     4725    0.540      714      True\n",
      "18     7.00     4716     5915    0.724      865      True\n",
      "19     8.50     4341     6010    0.677      640      True\n",
      "22     9.00     4897     2449    0.511      464      True\n",
      "23     9.00     4258     4686    0.517      547      True\n",
      "24     8.50     4574     2619    0.551      460      True\n",
      "25     9.00     3721     4746    0.544      566      True\n",
      "26     8.00     3448     5399    0.548      577      True\n",
      "28     8.00     4188     5975    0.563      574      True\n",
      "30     7.00     3640     6905    0.518      571      True\n",
      "31     7.00     3333     6594    0.513      554      True\n",
      "32     8.00     3063     6524    0.578      577      True\n",
      "35     6.58     3802     7834    0.629      644      True\n",
      "37     7.00     3897     6385    0.586      704      True\n",
      "38     8.50     3635     3274    0.663      648      True\n",
      "39     7.00     4345     3905    0.672      968      True\n",
      "40     7.00     4449     4639    0.626      587      True\n",
      "41     7.00     3656     3985    0.563      699      True\n",
      "42     7.00     4300     3635    0.603      632      True\n",
      "43     7.00     3745     2611    0.508      591      True\n",
      "44     6.00     5215     2302    0.672      782      True\n",
      "46     7.00     4296     4083    0.623      610      True\n",
      "47     7.00     5002     9794    0.593      524      True\n",
      "    datos 1  datos 2  datos 3  datos 4  datos 5  is_train\n",
      "2       9.0     3865     1586    0.580      561     False\n",
      "3       7.5     4870     2351    0.529      414     False\n",
      "6       8.0     5319    11868    0.451      344     False\n",
      "7       8.0     5126     2138    0.553      467     False\n",
      "11      7.5     5126    14186    0.525      471     False\n",
      "15      7.0     4318    10340    0.586      635     False\n",
      "20      7.0     4593     7834    0.663      649     False\n",
      "21      8.0     4983      602    0.602      540     False\n",
      "27      7.5     3846     9061    0.579      631     False\n",
      "29      9.0     3601     4650    0.493      534     False\n",
      "33      7.5     3357     4121    0.547      628     False\n",
      "34      8.0     3528     3495    0.487      487     False\n",
      "36      5.0     4045    17782    0.566      640     False\n",
      "45      9.0     4476     3942    0.571      510     False\n",
      "Ejemplos usados para entrenar:  34\n",
      "Ejemplos usados para test:  14\n"
     ]
    }
   ],
   "source": [
    "p_train = 0.70 # Porcentaje de train.\n",
    "\n",
    "data['is_train'] = np.random.uniform(0, 1, len(data)) <= p_train\n",
    "train, test = data[data['is_train']==True], data[data['is_train']==False]\n",
    "data = data.drop('is_train', 1)\n",
    "print(train)\n",
    "print(test)\n",
    "\n",
    "print(\"Ejemplos usados para entrenar: \", len(train))\n",
    "print(\"Ejemplos usados para test: \", len(test))\n",
    "\n",
    "train.to_csv('train_petrol.csv')\n",
    "test.to_csv('test_petrol.csv')\n"
   ]
  },
  {
   "cell_type": "code",
   "execution_count": 86,
   "metadata": {},
   "outputs": [],
   "source": [
    "train = pd.read_csv('train_petrol.csv')\n",
    "test = pd.read_csv('test_petrol.csv')\n",
    "\n",
    "\n",
    "X_train = train.iloc[:, 1:5]\n",
    "y_train = train.iloc[:,5]\n",
    "\n",
    "X_test = test.iloc[:, 1:5]\n",
    "y_test = test.iloc[:,5]\n",
    "\n",
    "#print(X_train)\n",
    "#print(y_train)\n"
   ]
  },
  {
   "cell_type": "code",
   "execution_count": 87,
   "metadata": {},
   "outputs": [],
   "source": [
    "X_media = np.concatenate((X_train, X_test), axis=0).mean(axis=0)\n",
    "X_std = np.concatenate((X_train, X_test), axis=0).std(axis=0)\n",
    "y_media = np.concatenate((y_train, y_test), axis=0).mean()\n",
    "y_std = np.concatenate((y_train, y_test), axis=0).std()"
   ]
  },
  {
   "cell_type": "code",
   "execution_count": 88,
   "metadata": {},
   "outputs": [
    {
     "name": "stdout",
     "output_type": "stream",
     "text": [
      "(34, 4)\n"
     ]
    }
   ],
   "source": [
    "X_train = (X_train - X_media)/X_std\n",
    "y_train = (y_train - y_media)/y_std\n",
    "X_test = (X_test - X_media)/X_std\n",
    "y_test = (y_test - y_media)/y_std\n",
    "\n",
    "print(X_train.shape)"
   ]
  },
  {
   "cell_type": "code",
   "execution_count": 89,
   "metadata": {},
   "outputs": [
    {
     "name": "stdout",
     "output_type": "stream",
     "text": [
      "(34, 5)\n",
      "[[ 1.          1.4154413  -1.18184136 -1.03892124 -0.8259031 ]\n",
      " [ 1.          1.4154413  -0.26396904 -1.24905478  0.03036408]\n",
      " [ 1.          0.35253169  0.27688855 -1.48610625 -0.47975254]\n",
      " [ 1.          2.47835091  1.93821984 -1.22503125  0.01214563]\n",
      " [ 1.          0.35253169  0.3614526   0.87167309 -0.7530293 ]\n",
      " [ 1.         -0.71037792  0.47596642  0.85141228 -0.33400493]\n",
      " [ 1.          0.35253169  0.26279454  0.10813001 -0.73481085]\n",
      " [ 1.         -0.71037792  1.01330051  0.39496518  0.06680099]\n",
      " [ 1.         -0.71037792 -0.06136766  0.29366114 -0.46153409]\n",
      " [ 1.         -0.71037792  0.15885122  0.75068711  0.68622832]\n",
      " [ 1.         -0.71037792 -0.06312941  0.85170172  0.03036408]\n",
      " [ 1.         -0.71037792 -0.92286395 -0.24325031 -0.55262634]\n",
      " [ 1.         -0.71037792  0.83536365  0.10118345  2.79956861]\n",
      " [ 1.          0.88398649  0.17470698  0.12868026  1.94330142]\n",
      " [ 1.          1.4154413   1.1542406  -0.90201606 -1.08096142]\n",
      " [ 1.          1.4154413   0.02848164 -0.25453848 -0.97165071]\n",
      " [ 1.          0.88398649  0.58519499 -0.85281124 -0.35222338]\n",
      " [ 1.          1.4154413  -0.9175787  -0.23717207 -0.47975254]\n",
      " [ 1.          0.35253169 -1.39853675 -0.04816766 -0.40687874]\n",
      " [ 1.          0.35253169 -0.09484093  0.11854986 -0.13360197]\n",
      " [ 1.         -0.71037792 -1.06028054  0.38772918 -0.95343226]\n",
      " [ 1.         -0.71037792 -1.60113813  0.2977133  -1.04452452]\n",
      " [ 1.          0.35253169 -2.07681092  0.27745249  0.13967479]\n",
      " [ 1.         -1.15679996 -0.77487686  0.65661907  1.06881578]\n",
      " [ 1.         -0.71037792 -0.60751051  0.23722031  0.2854224 ]\n",
      " [ 1.          0.88398649 -1.06908929 -0.66322795  1.68824311]\n",
      " [ 1.         -0.71037792  0.18175399 -0.48059122  1.85220917]\n",
      " [ 1.         -0.71037792  0.3649761  -0.26814217  1.01416043]\n",
      " [ 1.         -0.71037792 -1.03209252 -0.45743601 -0.13360197]\n",
      " [ 1.         -0.71037792  0.10247519 -0.55874006  0.59513606]\n",
      " [ 1.         -0.71037792 -0.87529667 -0.85512676 -1.13561677]\n",
      " [ 1.         -1.77328753  1.71447745 -0.94456376  1.85220917]\n",
      " [ 1.         -0.71037792  0.09542818 -0.42907088  0.95950508]\n",
      " [ 1.         -0.71037792  1.33922446  1.22392173  0.41295155]]\n"
     ]
    }
   ],
   "source": [
    "n_exa_train = len(y_train)\n",
    "n_exa_test = len(y_test)\n",
    "\n",
    "X_train = np.concatenate((np.ones([n_exa_train, 1]), X_train), axis=1)\n",
    "X_test = np.concatenate((np.ones([n_exa_test, 1]), X_test), axis=1)\n",
    "\n",
    "print(X_train.shape)\n",
    "print(X_train)"
   ]
  },
  {
   "cell_type": "code",
   "execution_count": 90,
   "metadata": {},
   "outputs": [],
   "source": [
    "def predict(theta, data):\n",
    "    return np.dot(data, theta)\n",
    "# print(predict(theta, X_train).shape)\n"
   ]
  },
  {
   "cell_type": "code",
   "execution_count": 91,
   "metadata": {},
   "outputs": [],
   "source": [
    "# m = X.shape[0]\n",
    "\n",
    "def cal_cost(theta, X, y):\n",
    "    y_pred_test = predict(theta, X)\n",
    "    to_sum = (y_pred_test - y) ** 2\n",
    "    return np.sum(to_sum) / (X.shape[0]*2)"
   ]
  },
  {
   "cell_type": "code",
   "execution_count": 92,
   "metadata": {},
   "outputs": [],
   "source": [
    "def gradient_descent(X,y, alpha, iterations):\n",
    "    cost_history = np.zeros(iterations)\n",
    "    n_features = X_train.shape[1]\n",
    "    theta = np.zeros(n_features)\n",
    "    \n",
    "    for it in range(iterations):\n",
    "        prediction = predict(theta, X)\n",
    "        # m = prediction.shape[0]\n",
    "        theta = theta - (1/prediction.shape[0])*alpha*( X.T.dot((prediction - y)))\n",
    "        cost_history[it]  = cal_cost(theta,X,y)\n",
    "    return theta, cost_history\n"
   ]
  },
  {
   "cell_type": "code",
   "execution_count": 103,
   "metadata": {},
   "outputs": [],
   "source": [
    "def normal_equation(X, y):\n",
    "    theta = np.dot(np.dot(np.linalg.inv(np.dot(X.T,X)),X.T),y)\n",
    "    h_array = np.dot(X, theta)\n",
    "    j = (1/(2*X.shape[0])) * np.sum((h_array-y)**2)\n",
    "    return theta,j"
   ]
  },
  {
   "cell_type": "code",
   "execution_count": 104,
   "metadata": {},
   "outputs": [
    {
     "name": "stdout",
     "output_type": "stream",
     "text": [
      "[-0.01292412 -0.37478265 -0.30214042 -0.27644408  0.67467649]\n",
      "[-0.01303526 -0.37512682 -0.30213799 -0.27707534  0.67455837]\n",
      "0.12828907656702387\n",
      "0.19654950994186943\n"
     ]
    }
   ],
   "source": [
    "alpha = 0.01 # learning rate\n",
    "iterations = 2000\n",
    "\n",
    "theta_r, cost_history_r = gradient_descent(X_train, y_train, alpha, iterations)\n",
    "print(theta_r)\n",
    "\n",
    "new_theta, j1 = normal_equation(X_train, y_train)\n",
    "print(new_theta)\n",
    "\n",
    "cost = cal_cost(theta_r,X_test, y_test)\n",
    "print(cost)\n",
    "print(j1)"
   ]
  },
  {
   "cell_type": "code",
   "execution_count": 105,
   "metadata": {},
   "outputs": [
    {
     "data": {
      "image/png": "[encoded data removed]",
      "text/plain": [
       "<Figure size 432x288 with 1 Axes>"
      ]
     },
     "metadata": {
      "needs_background": "light"
     },
     "output_type": "display_data"
    }
   ],
   "source": [
    "plt.plot(cost_history_r)\n",
    "plt.show()"
   ]
  },
  {
   "cell_type": "markdown",
   "metadata": {},
   "source": [
    "<h1>Experimentos</h1>"
   ]
  },
  {
   "cell_type": "code",
   "execution_count": 110,
   "metadata": {
    "scrolled": false
   },
   "outputs": [
    {
     "name": "stdout",
     "output_type": "stream",
     "text": [
      "learning rate: 0.01, iteraciones:   500, costo gradiente: 0.19757946506055232283, costo normal: 0.19654950994186942692\n",
      "learning rate: 0.01, iteraciones:  1000, costo gradiente: 0.19658395129713809868, costo normal: 0.19654950994186942692\n",
      "learning rate: 0.01, iteraciones:  1500, costo gradiente: 0.19655115008942075638, costo normal: 0.19654950994186942692\n",
      "learning rate: 0.01, iteraciones:  2000, costo gradiente: 0.19654959130702415182, costo normal: 0.19654950994186942692\n",
      "learning rate: 0.01, iteraciones:  2500, costo gradiente: 0.19654951399357747932, costo normal: 0.19654950994186942692\n",
      "learning rate: 0.01, iteraciones:  3000, costo gradiente: 0.19654951014369975715, costo normal: 0.19654950994186942692\n",
      "learning rate: 0.01, iteraciones:  3500, costo gradiente: 0.19654950995192366214, costo normal: 0.19654950994186942692\n"
     ]
    },
    {
     "data": {
      "image/png": "[encoded data removed]",
      "text/plain": [
       "<Figure size 432x288 with 1 Axes>"
      ]
     },
     "metadata": {
      "needs_background": "light"
     },
     "output_type": "display_data"
    },
    {
     "name": "stdout",
     "output_type": "stream",
     "text": [
      "learning rate: 0.05, iteraciones:   500, costo gradiente: 0.19654951364192496666, costo normal: 0.19654950994186942692\n",
      "learning rate: 0.05, iteraciones:  1000, costo gradiente: 0.19654950994187045388, costo normal: 0.19654950994186942692\n",
      "learning rate: 0.05, iteraciones:  1500, costo gradiente: 0.19654950994186942692, costo normal: 0.19654950994186942692\n",
      "learning rate: 0.05, iteraciones:  2000, costo gradiente: 0.19654950994186945468, costo normal: 0.19654950994186942692\n",
      "learning rate: 0.05, iteraciones:  2500, costo gradiente: 0.19654950994186939917, costo normal: 0.19654950994186942692\n",
      "learning rate: 0.05, iteraciones:  3000, costo gradiente: 0.19654950994186939917, costo normal: 0.19654950994186942692\n",
      "learning rate: 0.05, iteraciones:  3500, costo gradiente: 0.19654950994186939917, costo normal: 0.19654950994186942692\n"
     ]
    },
    {
     "data": {
      "image/png": "[encoded data removed]",
      "text/plain": [
       "<Figure size 432x288 with 1 Axes>"
      ]
     },
     "metadata": {
      "needs_background": "light"
     },
     "output_type": "display_data"
    },
    {
     "name": "stdout",
     "output_type": "stream",
     "text": [
      "learning rate: 0.10, iteraciones:   500, costo gradiente: 0.19654950994187025959, costo normal: 0.19654950994186942692\n",
      "learning rate: 0.10, iteraciones:  1000, costo gradiente: 0.19654950994186945468, costo normal: 0.19654950994186942692\n",
      "learning rate: 0.10, iteraciones:  1500, costo gradiente: 0.19654950994186945468, costo normal: 0.19654950994186942692\n",
      "learning rate: 0.10, iteraciones:  2000, costo gradiente: 0.19654950994186945468, costo normal: 0.19654950994186942692\n",
      "learning rate: 0.10, iteraciones:  2500, costo gradiente: 0.19654950994186945468, costo normal: 0.19654950994186942692\n",
      "learning rate: 0.10, iteraciones:  3000, costo gradiente: 0.19654950994186945468, costo normal: 0.19654950994186942692\n",
      "learning rate: 0.10, iteraciones:  3500, costo gradiente: 0.19654950994186945468, costo normal: 0.19654950994186942692\n"
     ]
    },
    {
     "data": {
      "image/png": "[encoded data removed]",
      "text/plain": [
       "<Figure size 432x288 with 1 Axes>"
      ]
     },
     "metadata": {
      "needs_background": "light"
     },
     "output_type": "display_data"
    },
    {
     "name": "stdout",
     "output_type": "stream",
     "text": [
      "learning rate: 0.20, iteraciones:   500, costo gradiente: 0.19654950994186945468, costo normal: 0.19654950994186942692\n",
      "learning rate: 0.20, iteraciones:  1000, costo gradiente: 0.19654950994186942692, costo normal: 0.19654950994186942692\n",
      "learning rate: 0.20, iteraciones:  1500, costo gradiente: 0.19654950994186942692, costo normal: 0.19654950994186942692\n",
      "learning rate: 0.20, iteraciones:  2000, costo gradiente: 0.19654950994186942692, costo normal: 0.19654950994186942692\n",
      "learning rate: 0.20, iteraciones:  2500, costo gradiente: 0.19654950994186942692, costo normal: 0.19654950994186942692\n",
      "learning rate: 0.20, iteraciones:  3000, costo gradiente: 0.19654950994186942692, costo normal: 0.19654950994186942692\n",
      "learning rate: 0.20, iteraciones:  3500, costo gradiente: 0.19654950994186942692, costo normal: 0.19654950994186942692\n"
     ]
    },
    {
     "data": {
      "image/png": "[encoded data removed]",
      "text/plain": [
       "<Figure size 432x288 with 1 Axes>"
      ]
     },
     "metadata": {
      "needs_background": "light"
     },
     "output_type": "display_data"
    },
    {
     "name": "stdout",
     "output_type": "stream",
     "text": [
      "learning rate: 0.30, iteraciones:   500, costo gradiente: 0.19654950994186942692, costo normal: 0.19654950994186942692\n",
      "learning rate: 0.30, iteraciones:  1000, costo gradiente: 0.19654950994186942692, costo normal: 0.19654950994186942692\n",
      "learning rate: 0.30, iteraciones:  1500, costo gradiente: 0.19654950994186942692, costo normal: 0.19654950994186942692\n",
      "learning rate: 0.30, iteraciones:  2000, costo gradiente: 0.19654950994186942692, costo normal: 0.19654950994186942692\n",
      "learning rate: 0.30, iteraciones:  2500, costo gradiente: 0.19654950994186942692, costo normal: 0.19654950994186942692\n",
      "learning rate: 0.30, iteraciones:  3000, costo gradiente: 0.19654950994186942692, costo normal: 0.19654950994186942692\n",
      "learning rate: 0.30, iteraciones:  3500, costo gradiente: 0.19654950994186942692, costo normal: 0.19654950994186942692\n"
     ]
    },
    {
     "data": {
      "image/png": "[encoded data removed]",
      "text/plain": [
       "<Figure size 432x288 with 1 Axes>"
      ]
     },
     "metadata": {
      "needs_background": "light"
     },
     "output_type": "display_data"
    },
    {
     "name": "stdout",
     "output_type": "stream",
     "text": [
      "learning rate: 0.40, iteraciones:   500, costo gradiente: 0.19654950994186942692, costo normal: 0.19654950994186942692\n",
      "learning rate: 0.40, iteraciones:  1000, costo gradiente: 0.19654950994186942692, costo normal: 0.19654950994186942692\n",
      "learning rate: 0.40, iteraciones:  1500, costo gradiente: 0.19654950994186942692, costo normal: 0.19654950994186942692\n",
      "learning rate: 0.40, iteraciones:  2000, costo gradiente: 0.19654950994186942692, costo normal: 0.19654950994186942692\n",
      "learning rate: 0.40, iteraciones:  2500, costo gradiente: 0.19654950994186942692, costo normal: 0.19654950994186942692\n",
      "learning rate: 0.40, iteraciones:  3000, costo gradiente: 0.19654950994186942692, costo normal: 0.19654950994186942692\n",
      "learning rate: 0.40, iteraciones:  3500, costo gradiente: 0.19654950994186942692, costo normal: 0.19654950994186942692\n"
     ]
    },
    {
     "data": {
      "image/png": "[encoded data removed]",
      "text/plain": [
       "<Figure size 432x288 with 1 Axes>"
      ]
     },
     "metadata": {
      "needs_background": "light"
     },
     "output_type": "display_data"
    }
   ],
   "source": [
    "iteraciones = [500, 1000, 1500, 2000, 2500, 3000, 3500]\n",
    "learning_rates = [0.01,0.05,0.1, 0.2, 0.3, 0.4]\n",
    "\n",
    "n_features = X_train.shape[1]\n",
    "\n",
    "for alpha in learning_rates:\n",
    "    costos_gradiente = []\n",
    "    costos_normal = []\n",
    "    for iteracion in  iteraciones:\n",
    "        #calcular gradiente\n",
    "        theta_r, cost_history_r = gradient_descent(X_train, y_train, alpha, iteracion)\n",
    "        costo_gradiente = cost_history_r[-1]\n",
    "        \n",
    "        #calcular normal\n",
    "        theta_normal, costo_normal = normal_equation(X_train, y_train)\n",
    "        \n",
    "        costos_gradiente.append(costo_gradiente)\n",
    "        costos_normal.append(costo_normal)\n",
    "        print(\"learning rate: %1.2f, iteraciones: %5d, costo gradiente: %2.20f, costo normal: %2.20f\"%(alpha,iteracion,costo_gradiente, costo_normal))\n",
    "    \n",
    "    plt.plot(iteraciones, costos_gradiente, label='Gradiente')\n",
    "    plt.plot(iteraciones, costos_normal, label='Normal')\n",
    "    plt.title('Learning Rate %f'%alpha)\n",
    "    plt.xlabel('Iteraciones')\n",
    "    plt.ylabel('Costo')\n",
    "    plt.legend()\n",
    "    plt.show()\n"
   ]
  },
  {
   "cell_type": "code",
   "execution_count": 116,
   "metadata": {},
   "outputs": [
    {
     "name": "stdout",
     "output_type": "stream",
     "text": [
      "0.12858877512036418\n"
     ]
    }
   ],
   "source": [
    "print(cal_cost(theta_r, X_test, y_test))"
   ]
  },
  {
   "cell_type": "code",
   "execution_count": null,
   "metadata": {},
   "outputs": [],
   "source": []
  }
 ],
 "metadata": {
  "kernelspec": {
   "display_name": "Python 3",
   "language": "python",
   "name": "python3"
  },
  "language_info": {
   "codemirror_mode": {
    "name": "ipython",
    "version": 3
   },
   "file_extension": ".py",
   "mimetype": "text/x-python",
   "name": "python",
   "nbconvert_exporter": "python",
   "pygments_lexer": "ipython3",
   "version": "3.8.3"
  }
 },
 "nbformat": 4,
 "nbformat_minor": 4
}
