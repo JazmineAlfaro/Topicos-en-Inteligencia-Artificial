{
 "cells": [
  {
   "cell_type": "markdown",
   "metadata": {
    "id": "42JtVxPD4cjO"
   },
   "source": [
    "Regresión Logística"
   ]
  },
  {
   "cell_type": "code",
   "execution_count": null,
   "metadata": {
    "id": "XLqIcrfi4gDR"
   },
   "outputs": [],
   "source": [
    "import pandas as pd\n",
    "import numpy as np\n",
    "import matplotlib.pyplot as plt\n",
    "from sklearn.model_selection import train_test_split"
   ]
  },
  {
   "cell_type": "markdown",
   "metadata": {
    "id": "3zbAIsRJ6qMh"
   },
   "source": [
    "**Cargar datos**"
   ]
  },
  {
   "cell_type": "markdown",
   "metadata": {
    "id": "iZpxXxWig-oP"
   },
   "source": [
    "Cargar datos del clima de australia"
   ]
  },
  {
   "cell_type": "code",
   "execution_count": null,
   "metadata": {
    "colab": {
     "base_uri": "https://localhost:8080/",
     "height": 731
    },
    "id": "q8hhyjPO6r3s",
    "outputId": "17810475-5dc2-4273-a8ca-2fd63c1654f0"
   },
   "outputs": [
    {
     "name": "stdout",
     "output_type": "stream",
     "text": [
      "<class 'pandas.core.frame.DataFrame'>\n",
      "RangeIndex: 142193 entries, 0 to 142192\n",
      "Data columns (total 24 columns):\n",
      " #   Column         Non-Null Count   Dtype  \n",
      "---  ------         --------------   -----  \n",
      " 0   Date           142193 non-null  object \n",
      " 1   Location       142193 non-null  object \n",
      " 2   MinTemp        141556 non-null  float64\n",
      " 3   MaxTemp        141871 non-null  float64\n",
      " 4   Rainfall       140787 non-null  float64\n",
      " 5   Evaporation    81350 non-null   float64\n",
      " 6   Sunshine       74377 non-null   float64\n",
      " 7   WindGustDir    132863 non-null  object \n",
      " 8   WindGustSpeed  132923 non-null  float64\n",
      " 9   WindDir9am     132180 non-null  object \n",
      " 10  WindDir3pm     138415 non-null  object \n",
      " 11  WindSpeed9am   140845 non-null  float64\n",
      " 12  WindSpeed3pm   139563 non-null  float64\n",
      " 13  Humidity9am    140419 non-null  float64\n",
      " 14  Humidity3pm    138583 non-null  float64\n",
      " 15  Pressure9am    128179 non-null  float64\n",
      " 16  Pressure3pm    128212 non-null  float64\n",
      " 17  Cloud9am       88536 non-null   float64\n",
      " 18  Cloud3pm       85099 non-null   float64\n",
      " 19  Temp9am        141289 non-null  float64\n",
      " 20  Temp3pm        139467 non-null  float64\n",
      " 21  RainToday      140787 non-null  object \n",
      " 22  RISK_MM        142193 non-null  float64\n",
      " 23  RainTomorrow   142193 non-null  object \n",
      "dtypes: float64(17), object(7)\n",
      "memory usage: 26.0+ MB\n",
      "<class 'pandas.core.frame.DataFrame'>\n",
      "RangeIndex: 140086 entries, 0 to 140085\n",
      "Data columns (total 4 columns):\n",
      " #   Column        Non-Null Count   Dtype  \n",
      "---  ------        --------------   -----  \n",
      " 0   MinTemp       140086 non-null  float64\n",
      " 1   MaxTemp       140086 non-null  float64\n",
      " 2   RainToday     140086 non-null  float64\n",
      " 3   RainTomorrow  140086 non-null  float64\n",
      "dtypes: float64(4)\n",
      "memory usage: 4.3 MB\n"
     ]
    }
   ],
   "source": [
    "# Weather AUS\n",
    "data = pd.read_csv('weatherAUS.csv', sep=',')\n",
    "data.info()\n",
    "\n",
    "data = data.replace('No', 0)\n",
    "data = data.replace('Yes', 1)\n",
    "#print(data)\n",
    "#print(data.shape)\n",
    "weather = np.array(data.loc[:,['MinTemp', 'MaxTemp', 'RainToday', 'RainTomorrow']])\n",
    "weather = weather[~np.isnan(weather).any(axis=1)]\n",
    "#print(weather)\n",
    "#print(weather.shape)\n",
    "\n",
    "data_weather = pd.DataFrame(data=weather, columns=['MinTemp', 'MaxTemp', 'RainToday', 'RainTomorrow'])\n",
    "data_weather.info()\n",
    "#np.savetxt(\"weather-new.csv\", weather, delimiter=\",\")"
   ]
  },
  {
   "cell_type": "markdown",
   "metadata": {
    "id": "EaYz9L5VhCBX"
   },
   "source": [
    "Cargar datos del Titanic"
   ]
  },
  {
   "cell_type": "code",
   "execution_count": null,
   "metadata": {
    "colab": {
     "base_uri": "https://localhost:8080/",
     "height": 374
    },
    "id": "Nbw8_cDVYqqt",
    "outputId": "13690846-5ba8-4820-ec3a-8a8fb5127848"
   },
   "outputs": [
    {
     "name": "stdout",
     "output_type": "stream",
     "text": [
      "     PassengerId  Survived  Pclass  ...     Fare Cabin  Embarked\n",
      "0              1         0       3  ...   7.2500   NaN         S\n",
      "1              2         1       1  ...  71.2833   C85         C\n",
      "2              3         1       3  ...   7.9250   NaN         S\n",
      "3              4         1       1  ...  53.1000  C123         S\n",
      "4              5         0       3  ...   8.0500   NaN         S\n",
      "..           ...       ...     ...  ...      ...   ...       ...\n",
      "886          887         0       2  ...  13.0000   NaN         S\n",
      "887          888         1       1  ...  30.0000   B42         S\n",
      "888          889         0       3  ...  23.4500   NaN         S\n",
      "889          890         1       1  ...  30.0000  C148         C\n",
      "890          891         0       3  ...   7.7500   NaN         Q\n",
      "\n",
      "[891 rows x 12 columns]\n",
      "[[ 0.     22.      7.25    1.      0.    ]\n",
      " [ 1.     38.     71.2833  2.      1.    ]\n",
      " [ 1.     26.      7.925   1.      1.    ]\n",
      " ...\n",
      " [ 1.     19.     30.      1.      1.    ]\n",
      " [ 0.     26.     30.      2.      1.    ]\n",
      " [ 0.     32.      7.75    0.      0.    ]]\n"
     ]
    }
   ],
   "source": [
    "# Dataset Titanic\n",
    "# TRAIN\n",
    "train_titanic = pd.read_csv('titanic_train.csv', sep=',')\n",
    "print(train_titanic)\n",
    "train_titanic = train_titanic.replace('Q', 0)\n",
    "train_titanic = train_titanic.replace('S', 1)\n",
    "train_titanic = train_titanic.replace('C', 2)\n",
    "train_titanic = train_titanic.replace('male', 0)\n",
    "train_titanic = train_titanic.replace('female', 1)\n",
    "\n",
    "train_titanic = np.array(train_titanic.loc[:,['Sex','Age','Fare','Embarked', 'Survived']])\n",
    "train_titanic = train_titanic[~np.isnan(train_titanic).any(axis=1)]\n",
    "\n",
    "print(train_titanic)\n",
    "#print(test_titanic.shape)\n"
   ]
  },
  {
   "cell_type": "code",
   "execution_count": null,
   "metadata": {
    "colab": {
     "base_uri": "https://localhost:8080/",
     "height": 68
    },
    "id": "hKYYzrnCbD7q",
    "outputId": "320c7211-315b-47e5-9bfa-85d475164afc"
   },
   "outputs": [
    {
     "name": "stdout",
     "output_type": "stream",
     "text": [
      "TEST: \n",
      "\n",
      "(331, 5)\n"
     ]
    }
   ],
   "source": [
    "# Cargar datos Titanic\n",
    "\n",
    "test_t = pd.read_csv('titanic_test.csv', sep=',')\n",
    "#print(test_t)\n",
    "#print(test_t.shape)\n",
    "\n",
    "gender_sub = pd.read_csv('gender_submission.csv', sep=',')\n",
    "\n",
    "print(\"TEST: \\n\")\n",
    "\n",
    "test1_t = pd.merge(test_t, gender_sub,  how='left', on='PassengerId')\n",
    "#print(test1_t)\n",
    "#print(test1_t.shape)\n",
    "\n",
    "test1_t = test1_t.replace('Q', 0)\n",
    "test1_t = test1_t.replace('S', 1)\n",
    "test1_t = test1_t.replace('C', 2)\n",
    "test1_t = test1_t.replace('male', 0)\n",
    "test1_t = test1_t.replace('female', 1)\n",
    "\n",
    "test_titanic = np.array(test1_t.loc[:,['Sex','Age','Fare','Embarked', 'Survived']])\n",
    "test_titanic = test_titanic[~np.isnan(test_titanic).any(axis=1)]\n",
    "\n",
    "#print(test_titanic)\n",
    "print(test_titanic.shape)\n"
   ]
  },
  {
   "cell_type": "code",
   "execution_count": null,
   "metadata": {
    "colab": {
     "base_uri": "https://localhost:8080/",
     "height": 459
    },
    "id": "iCvCdSgvht2k",
    "outputId": "0dd9e08d-9944-4699-f8ea-979025841981"
   },
   "outputs": [
    {
     "name": "stdout",
     "output_type": "stream",
     "text": [
      "<class 'pandas.core.frame.DataFrame'>\n",
      "RangeIndex: 1043 entries, 0 to 1042\n",
      "Data columns (total 5 columns):\n",
      " #   Column    Non-Null Count  Dtype  \n",
      "---  ------    --------------  -----  \n",
      " 0   Sex       1043 non-null   float64\n",
      " 1   Age       1043 non-null   float64\n",
      " 2   Fare      1043 non-null   float64\n",
      " 3   Embarked  1043 non-null   float64\n",
      " 4   Survived  1043 non-null   float64\n",
      "dtypes: float64(5)\n",
      "memory usage: 40.9 KB\n",
      "      Sex   Age      Fare  Embarked  Survived\n",
      "0     0.0  22.0    7.2500       1.0       0.0\n",
      "1     1.0  38.0   71.2833       2.0       1.0\n",
      "2     1.0  26.0    7.9250       1.0       1.0\n",
      "3     1.0  35.0   53.1000       1.0       1.0\n",
      "4     0.0  35.0    8.0500       1.0       0.0\n",
      "...   ...   ...       ...       ...       ...\n",
      "1038  1.0   3.0   13.7750       1.0       1.0\n",
      "1039  1.0  37.0   90.0000       0.0       1.0\n",
      "1040  1.0  28.0    7.7750       1.0       1.0\n",
      "1041  1.0  39.0  108.9000       2.0       1.0\n",
      "1042  0.0  38.5    7.2500       1.0       0.0\n",
      "\n",
      "[1043 rows x 5 columns]\n"
     ]
    }
   ],
   "source": [
    "#unir datos de titanic\n",
    "titanic = np.concatenate((train_titanic, test_titanic), axis=0)\n",
    "data_titanic = pd.DataFrame(data=titanic, columns=['Sex','Age','Fare','Embarked', 'Survived'])\n",
    "data_titanic.info()\n",
    "print(data_titanic)\n",
    "np.savetxt(\"titanic-new.csv\", data_titanic, delimiter=\",\")"
   ]
  },
  {
   "cell_type": "markdown",
   "metadata": {
    "id": "tSJLNQlZ8XF6"
   },
   "source": [
    "Normalización"
   ]
  },
  {
   "cell_type": "code",
   "execution_count": null,
   "metadata": {
    "id": "Slp-NJFi7eAK"
   },
   "outputs": [],
   "source": [
    "def Normalizar_Datos(data):\n",
    "  y = data.iloc[:,-1]\n",
    "  data = data.iloc[:,:-1]\n",
    "  data = (data - data.mean(axis=0))/data.std(axis=0)\n",
    "  data.insert(3, \"y\", y, True) \n",
    "  return data"
   ]
  },
  {
   "cell_type": "markdown",
   "metadata": {
    "id": "a-wz2k_z8RY1"
   },
   "source": [
    "Regresión Logística"
   ]
  },
  {
   "cell_type": "markdown",
   "metadata": {
    "id": "XjnCHgl8_rpf"
   },
   "source": [
    "$\\theta^{T}x = g(\\theta^{T}x)$\n",
    "\n",
    "$g(z) = \\frac{1}{1+e^{-z}}$"
   ]
  },
  {
   "cell_type": "code",
   "execution_count": null,
   "metadata": {
    "id": "ejRj7NfZ8dLK"
   },
   "outputs": [],
   "source": [
    "# función sigmoidea\n",
    "\n",
    "def Sigmoidal(X, theta):\n",
    "    z=np.dot(X,theta)\n",
    "    return 1/(1+np.exp(-z))\n"
   ]
  },
  {
   "cell_type": "markdown",
   "metadata": {
    "id": "IeeiHf63CrSO"
   },
   "source": [
    "**Función de costo para la regresión logística:**\n",
    "\n",
    "$J(\\theta) = - \\frac{1}{m}[\\sum_{i=1}^{m}y^{(i)}\\log h_\\theta(x^{(i)})+(1-y^{(i)})\\log(1-h_\\theta(x^{(i)}))]$"
   ]
  },
  {
   "cell_type": "code",
   "execution_count": null,
   "metadata": {
    "id": "SwvnuG0a80tt"
   },
   "outputs": [],
   "source": [
    "def Calcular_Funcion_Costo(X, y, theta):\n",
    "    y_pred = Sigmoidal(X, theta)\n",
    "    cross_entropy = y * np.log(y_pred) + (1-y) * np.log(1-y_pred)\n",
    "    return (-1/X.shape[0]) * np.sum(cross_entropy)"
   ]
  },
  {
   "cell_type": "markdown",
   "metadata": {
    "id": "FkfxhCSY8Vea"
   },
   "source": [
    "**Gradiente descendiente**\n",
    "\n",
    "$\\theta_j = \\theta_j - \\alpha \\frac{1}{m} \\sum_{i=1}^m (h_{\\theta}(x^{(i)})-y^{(i)})x_j^{(i)}$\n",
    "\n",
    "Donde : $h_{\\theta}(x) = \\frac{1}{1+e^{-z}}$\n"
   ]
  },
  {
   "cell_type": "code",
   "execution_count": null,
   "metadata": {
    "id": "rJjig2hxCVZS"
   },
   "outputs": [],
   "source": [
    "def Calcular_Gradiente(X, y, theta):\n",
    "    m = X.shape[0]\n",
    "    h = Sigmoidal(X, theta) - y\n",
    "    return X.T.dot(h)/m"
   ]
  },
  {
   "cell_type": "code",
   "execution_count": null,
   "metadata": {
    "id": "tk2uKhu0H85h"
   },
   "outputs": [],
   "source": [
    "#n_features = x_Diab.shape[1]\n",
    "#theta = np.zeros(n_features)\n",
    "#alpha = 0.01 # learning rate\n",
    "#iterations = 2000\n",
    "\n",
    "def Gradiente_Descendiente(X,y,theta,alpha,iterations):\n",
    "    cost_history = np.zeros(iterations)\n",
    "    for it in range(iterations):\n",
    "        theta = theta - (alpha * Calcular_Gradiente(X,y,theta))\n",
    "        #theta = theta - alpha*( X.T.dot((prediction - y)))*(1/prediction.shape[0])\n",
    "        cost_history[it] = Calcular_Funcion_Costo(X,y,theta)\n",
    "    return theta, cost_history"
   ]
  },
  {
   "cell_type": "markdown",
   "metadata": {
    "id": "xsZfikg8IyRq"
   },
   "source": [
    "**Exactitud (Accuracy)**\n",
    "\n",
    "\n"
   ]
  },
  {
   "cell_type": "code",
   "execution_count": null,
   "metadata": {
    "id": "TvCZv5LUIyhq"
   },
   "outputs": [],
   "source": [
    "def Calcular_Accuracy(X, y, theta):\n",
    "   prediction = Sigmoidal(X, theta).round()\n",
    "   true = 0\n",
    "\n",
    "   for i in (y-prediction):\n",
    "     if i==0:\n",
    "       true +=1\n",
    "   return (true/np.size(y))*100"
   ]
  },
  {
   "cell_type": "markdown",
   "metadata": {
    "id": "XIkC7pSGpldc"
   },
   "source": [
    "**KFolds**"
   ]
  },
  {
   "cell_type": "code",
   "execution_count": null,
   "metadata": {
    "id": "xgfE_eWePuuy"
   },
   "outputs": [],
   "source": [
    " def kFolds(data, k=3):\n",
    "    data = data.sort_values(by=[\"y\"]).values\n",
    "    #data = data.sort_values(by=[\"RainTomorrow\"]).values\n",
    "    #data = data.sort_values(\"Outcome\").values\n",
    "    \n",
    "    #Normalizar_Datos(data)\n",
    "\n",
    "    #obtener el indice de la primera ocucrrencia de unos\n",
    "    indice_break = np.where(data[:,-1])[0][0]\n",
    "    #dividar los datos en dos clases\n",
    "    list_class0, list_class1 = np.split(data, [indice_break])\n",
    "    \n",
    "    #dividir los datos en k folds\n",
    "    datos_split = list()\n",
    "    folds_class0 = np.array_split(list_class0, k)\n",
    "    folds_class1 = np.array_split(list_class1, k)\n",
    "    \n",
    "    #distribuir una porcion equitativa de cada clase a cada fold\n",
    "    for i in range(k):\n",
    "        fold = np.concatenate((folds_class0[i],folds_class1[i]))\n",
    "        \n",
    "        #mezclar los dataFrames\n",
    "        np.random.shuffle(fold)\n",
    "        \n",
    "        #separar x e y\n",
    "        x_weather = fold[:, 0:-1]\n",
    "        y_weather = fold[:, -1]\n",
    "        \n",
    "        datos_split.append([x_weather, y_weather])\n",
    "    \n",
    "    return datos_split"
   ]
  },
  {
   "cell_type": "markdown",
   "metadata": {
    "id": "19cpZ2O2idxX"
   },
   "source": [
    "# Calcular costos y accuracy"
   ]
  },
  {
   "cell_type": "markdown",
   "metadata": {
    "id": "xdLoe2r2pw8z"
   },
   "source": [
    "**Calcular el historial de costos** variando la tasa, cantidad de iteraciones y los folds usados en entrenamiento y prueba"
   ]
  },
  {
   "cell_type": "markdown",
   "metadata": {
    "id": "XwZAE7bsisbD"
   },
   "source": [
    "### Datos de Weather AUS"
   ]
  },
  {
   "cell_type": "markdown",
   "metadata": {
    "id": "64TyEpuclwXn"
   },
   "source": [
    "Normalizar Datos"
   ]
  },
  {
   "cell_type": "code",
   "execution_count": null,
   "metadata": {
    "colab": {
     "base_uri": "https://localhost:8080/",
     "height": 255
    },
    "id": "ayVaLUDHlggy",
    "outputId": "5fe687a3-f30b-45ba-a6bd-42bd820d80f8"
   },
   "outputs": [
    {
     "name": "stdout",
     "output_type": "stream",
     "text": [
      "         MinTemp   MaxTemp  RainToday    y\n",
      "0       0.189992 -0.046891  -0.536383  0.0\n",
      "1      -0.746917  0.262314  -0.536383  0.0\n",
      "2       0.111917  0.346642  -0.536383  0.0\n",
      "3      -0.465844  0.669902  -0.536383  0.0\n",
      "4       0.830214  1.274257  -0.536383  0.0\n",
      "...          ...       ...        ...  ...\n",
      "140081 -1.355909 -0.201494  -0.536383  0.0\n",
      "140082 -1.465215  0.023383  -0.536383  0.0\n",
      "140083 -1.340294  0.290423  -0.536383  0.0\n",
      "140084 -1.059221  0.515300  -0.536383  0.0\n",
      "140085 -0.684457  0.529354  -0.536383  0.0\n",
      "\n",
      "[140086 rows x 4 columns]\n"
     ]
    }
   ],
   "source": [
    "data_weather = Normalizar_Datos(data_weather)\n",
    "print(data_weather)"
   ]
  },
  {
   "cell_type": "code",
   "execution_count": null,
   "metadata": {
    "colab": {
     "base_uri": "https://localhost:8080/",
     "height": 136
    },
    "id": "KPQAa3TajHzM",
    "outputId": "9c130b2d-3480-48d7-e6f3-f60098aa0e91"
   },
   "outputs": [
    {
     "name": "stdout",
     "output_type": "stream",
     "text": [
      "_____________________resultFolds_weather________________\n",
      "(46696, 3)\n",
      "[1. 1. 0. ... 0. 1. 0.]\n",
      "(46695, 3)\n",
      "[0. 0. 0. ... 0. 0. 0.]\n",
      "(46695, 3)\n",
      "[0. 1. 0. ... 0. 0. 0.]\n"
     ]
    }
   ],
   "source": [
    "folds_weather = kFolds(data_weather, 3)\n",
    "\n",
    "#3 folds con x,y en cada uno\n",
    "print('_____________________resultFolds_weather________________')\n",
    "print(folds_weather[0][0].shape)\n",
    "print(folds_weather[0][1])\n",
    "print(folds_weather[1][0].shape)\n",
    "print(folds_weather[1][1])\n",
    "print(folds_weather[2][0].shape)\n",
    "print(folds_weather[2][1])"
   ]
  },
  {
   "cell_type": "code",
   "execution_count": null,
   "metadata": {
    "colab": {
     "base_uri": "https://localhost:8080/",
     "height": 1000
    },
    "id": "mb8KXGmnpjyE",
    "outputId": "f8506d08-ec1e-4e4a-ccfb-145b19b005c7"
   },
   "outputs": [
    {
     "name": "stdout",
     "output_type": "stream",
     "text": [
      "tasa_0.01_iter_500_fold_0\n",
      "tasa_0.01_iter_500_fold_1\n",
      "tasa_0.01_iter_500_fold_2\n",
      "tasa_0.01_iter_1000_fold_0\n",
      "tasa_0.01_iter_1000_fold_1\n",
      "tasa_0.01_iter_1000_fold_2\n",
      "tasa_0.01_iter_1500_fold_0\n",
      "tasa_0.01_iter_1500_fold_1\n",
      "tasa_0.01_iter_1500_fold_2\n",
      "tasa_0.01_iter_2000_fold_0\n",
      "tasa_0.01_iter_2000_fold_1\n",
      "tasa_0.01_iter_2000_fold_2\n",
      "tasa_0.01_iter_2500_fold_0\n",
      "tasa_0.01_iter_2500_fold_1\n",
      "tasa_0.01_iter_2500_fold_2\n",
      "tasa_0.01_iter_3000_fold_0\n",
      "tasa_0.01_iter_3000_fold_1\n",
      "tasa_0.01_iter_3000_fold_2\n",
      "tasa_0.01_iter_3500_fold_0\n",
      "tasa_0.01_iter_3500_fold_1\n",
      "tasa_0.01_iter_3500_fold_2\n",
      "tasa_0.05_iter_500_fold_0\n",
      "tasa_0.05_iter_500_fold_1\n",
      "tasa_0.05_iter_500_fold_2\n",
      "tasa_0.05_iter_1000_fold_0\n",
      "tasa_0.05_iter_1000_fold_1\n",
      "tasa_0.05_iter_1000_fold_2\n",
      "tasa_0.05_iter_1500_fold_0\n",
      "tasa_0.05_iter_1500_fold_1\n",
      "tasa_0.05_iter_1500_fold_2\n",
      "tasa_0.05_iter_2000_fold_0\n",
      "tasa_0.05_iter_2000_fold_1\n",
      "tasa_0.05_iter_2000_fold_2\n",
      "tasa_0.05_iter_2500_fold_0\n",
      "tasa_0.05_iter_2500_fold_1\n",
      "tasa_0.05_iter_2500_fold_2\n",
      "tasa_0.05_iter_3000_fold_0\n",
      "tasa_0.05_iter_3000_fold_1\n",
      "tasa_0.05_iter_3000_fold_2\n",
      "tasa_0.05_iter_3500_fold_0\n",
      "tasa_0.05_iter_3500_fold_1\n",
      "tasa_0.05_iter_3500_fold_2\n",
      "tasa_0.1_iter_500_fold_0\n",
      "tasa_0.1_iter_500_fold_1\n",
      "tasa_0.1_iter_500_fold_2\n",
      "tasa_0.1_iter_1000_fold_0\n",
      "tasa_0.1_iter_1000_fold_1\n",
      "tasa_0.1_iter_1000_fold_2\n",
      "tasa_0.1_iter_1500_fold_0\n",
      "tasa_0.1_iter_1500_fold_1\n",
      "tasa_0.1_iter_1500_fold_2\n",
      "tasa_0.1_iter_2000_fold_0\n",
      "tasa_0.1_iter_2000_fold_1\n",
      "tasa_0.1_iter_2000_fold_2\n",
      "tasa_0.1_iter_2500_fold_0\n",
      "tasa_0.1_iter_2500_fold_1\n",
      "tasa_0.1_iter_2500_fold_2\n",
      "tasa_0.1_iter_3000_fold_0\n",
      "tasa_0.1_iter_3000_fold_1\n",
      "tasa_0.1_iter_3000_fold_2\n",
      "tasa_0.1_iter_3500_fold_0\n",
      "tasa_0.1_iter_3500_fold_1\n",
      "tasa_0.1_iter_3500_fold_2\n",
      "tasa_0.2_iter_500_fold_0\n",
      "tasa_0.2_iter_500_fold_1\n",
      "tasa_0.2_iter_500_fold_2\n",
      "tasa_0.2_iter_1000_fold_0\n",
      "tasa_0.2_iter_1000_fold_1\n",
      "tasa_0.2_iter_1000_fold_2\n",
      "tasa_0.2_iter_1500_fold_0\n",
      "tasa_0.2_iter_1500_fold_1\n",
      "tasa_0.2_iter_1500_fold_2\n",
      "tasa_0.2_iter_2000_fold_0\n",
      "tasa_0.2_iter_2000_fold_1\n",
      "tasa_0.2_iter_2000_fold_2\n",
      "tasa_0.2_iter_2500_fold_0\n",
      "tasa_0.2_iter_2500_fold_1\n",
      "tasa_0.2_iter_2500_fold_2\n",
      "tasa_0.2_iter_3000_fold_0\n",
      "tasa_0.2_iter_3000_fold_1\n",
      "tasa_0.2_iter_3000_fold_2\n",
      "tasa_0.2_iter_3500_fold_0\n",
      "tasa_0.2_iter_3500_fold_1\n",
      "tasa_0.2_iter_3500_fold_2\n",
      "tasa_0.3_iter_500_fold_0\n",
      "tasa_0.3_iter_500_fold_1\n",
      "tasa_0.3_iter_500_fold_2\n",
      "tasa_0.3_iter_1000_fold_0\n",
      "tasa_0.3_iter_1000_fold_1\n",
      "tasa_0.3_iter_1000_fold_2\n",
      "tasa_0.3_iter_1500_fold_0\n",
      "tasa_0.3_iter_1500_fold_1\n",
      "tasa_0.3_iter_1500_fold_2\n",
      "tasa_0.3_iter_2000_fold_0\n",
      "tasa_0.3_iter_2000_fold_1\n",
      "tasa_0.3_iter_2000_fold_2\n",
      "tasa_0.3_iter_2500_fold_0\n",
      "tasa_0.3_iter_2500_fold_1\n",
      "tasa_0.3_iter_2500_fold_2\n",
      "tasa_0.3_iter_3000_fold_0\n",
      "tasa_0.3_iter_3000_fold_1\n",
      "tasa_0.3_iter_3000_fold_2\n",
      "tasa_0.3_iter_3500_fold_0\n",
      "tasa_0.3_iter_3500_fold_1\n",
      "tasa_0.3_iter_3500_fold_2\n",
      "tasa_0.4_iter_500_fold_0\n",
      "tasa_0.4_iter_500_fold_1\n",
      "tasa_0.4_iter_500_fold_2\n",
      "tasa_0.4_iter_1000_fold_0\n",
      "tasa_0.4_iter_1000_fold_1\n",
      "tasa_0.4_iter_1000_fold_2\n",
      "tasa_0.4_iter_1500_fold_0\n",
      "tasa_0.4_iter_1500_fold_1\n",
      "tasa_0.4_iter_1500_fold_2\n",
      "tasa_0.4_iter_2000_fold_0\n",
      "tasa_0.4_iter_2000_fold_1\n",
      "tasa_0.4_iter_2000_fold_2\n",
      "tasa_0.4_iter_2500_fold_0\n",
      "tasa_0.4_iter_2500_fold_1\n",
      "tasa_0.4_iter_2500_fold_2\n",
      "tasa_0.4_iter_3000_fold_0\n",
      "tasa_0.4_iter_3000_fold_1\n",
      "tasa_0.4_iter_3000_fold_2\n",
      "tasa_0.4_iter_3500_fold_0\n",
      "tasa_0.4_iter_3500_fold_1\n",
      "tasa_0.4_iter_3500_fold_2\n"
     ]
    }
   ],
   "source": [
    "tasas = [0.01, 0.05, 0.1, 0.2, 0.3, 0.4]\n",
    "iteraciones = [500, 1000, 1500, 2000, 2500, 3000, 3500]\n",
    "\n",
    "results = {}\n",
    "thetas = {}\n",
    "\n",
    "numFolds = len(folds_titanic)\n",
    "results_titanic = {}\n",
    "thetas_titanic = {}\n",
    "matrix_ac = np.random.rand(len(tasas),len(iteraciones),numFolds)\n",
    "\n",
    "for t in range(len(tasas)):\n",
    "    tasa = tasas[t]\n",
    "    for it in range(len(iteraciones)):\n",
    "        iteracion = iteraciones[it]\n",
    "        for i in range(numFolds):\n",
    "            #actual fold (usado para test)\n",
    "            fold = folds_weather[i]\n",
    "            test_fold_X = fold[0]\n",
    "            test_fold_y = fold[1]\n",
    "\n",
    "            #los otros dos folds usados para train\n",
    "            fold_2 = folds_weather[(i+1)%numFolds]\n",
    "            fold_3 = folds_weather[(i+2)%numFolds]\n",
    "            train_fold_X = np.concatenate((fold_2[0], fold_3[0]), axis=0)\n",
    "            train_fold_y = np.concatenate((fold_2[1], fold_3[1]), axis=0)\n",
    " \n",
    "            n_features = train_fold_X.shape[1]\n",
    "            theta = np.zeros(n_features)\n",
    "\n",
    "            #calcular gradiente\n",
    "            theta_r, cost_history_r = Gradiente_Descendiente(train_fold_X, train_fold_y, theta, tasa, iteracion)\n",
    "            #calcular accuracy\n",
    "            matrix_ac[t,it,i] = Calcular_Accuracy(test_fold_X, test_fold_y, theta_r)\n",
    "\n",
    "            #guardar datos\n",
    "            costo_gradiente = cost_history_r[-1]\n",
    "            results[\"tasa_\"+str(tasa)+\"_iter_\"+str(iteracion)+\"_fold_\"+str(i)] = costo_gradiente\n",
    "            thetas[\"tasa_\"+str(tasa)+\"_iter_\"+str(iteracion)+\"_fold_\"+str(i)] = theta_r\n",
    "\n",
    "            #imprimir seguimiento\n",
    "            print(\"tasa_\"+str(tasa)+\"_iter_\"+str(iteracion)+\"_fold_\"+str(i))\n"
   ]
  },
  {
   "cell_type": "markdown",
   "metadata": {
    "id": "HvgD3ILRIkL8"
   },
   "source": [
    "Mostrar accuracis obtenidos"
   ]
  },
  {
   "cell_type": "code",
   "execution_count": null,
   "metadata": {
    "colab": {
     "base_uri": "https://localhost:8080/",
     "height": 231
    },
    "id": "yk9xQv1rIkL-",
    "outputId": "5fb1c658-3f8e-4e86-d3b8-f4e20d22f904"
   },
   "outputs": [
    {
     "ename": "NameError",
     "evalue": "ignored",
     "output_type": "error",
     "traceback": [
      "\u001b[0;31m---------------------------------------------------------------------------\u001b[0m",
      "\u001b[0;31mNameError\u001b[0m                                 Traceback (most recent call last)",
      "\u001b[0;32m<ipython-input-1-25dfecab59cf>\u001b[0m in \u001b[0;36m<module>\u001b[0;34m()\u001b[0m\n\u001b[0;32m----> 1\u001b[0;31m \u001b[0mmatrix_ac\u001b[0m \u001b[0;34m=\u001b[0m \u001b[0mnp\u001b[0m\u001b[0;34m.\u001b[0m\u001b[0mmean\u001b[0m\u001b[0;34m(\u001b[0m\u001b[0mmatrix_ac\u001b[0m\u001b[0;34m,\u001b[0m\u001b[0maxis\u001b[0m\u001b[0;34m=\u001b[0m\u001b[0;36m2\u001b[0m\u001b[0;34m)\u001b[0m\u001b[0;34m\u001b[0m\u001b[0;34m\u001b[0m\u001b[0m\n\u001b[0m\u001b[1;32m      2\u001b[0m \u001b[0mparametros\u001b[0m \u001b[0;34m=\u001b[0m \u001b[0;34m(\u001b[0m\u001b[0;36m0\u001b[0m\u001b[0;34m,\u001b[0m\u001b[0;36m0\u001b[0m\u001b[0;34m)\u001b[0m\u001b[0;34m\u001b[0m\u001b[0;34m\u001b[0m\u001b[0m\n\u001b[1;32m      3\u001b[0m \u001b[0;32mfor\u001b[0m \u001b[0mt\u001b[0m \u001b[0;32min\u001b[0m \u001b[0mrange\u001b[0m\u001b[0;34m(\u001b[0m\u001b[0mlen\u001b[0m\u001b[0;34m(\u001b[0m\u001b[0mtasas\u001b[0m\u001b[0;34m)\u001b[0m\u001b[0;34m)\u001b[0m\u001b[0;34m:\u001b[0m\u001b[0;34m\u001b[0m\u001b[0;34m\u001b[0m\u001b[0m\n\u001b[1;32m      4\u001b[0m     \u001b[0;32mfor\u001b[0m \u001b[0mit\u001b[0m \u001b[0;32min\u001b[0m \u001b[0mrange\u001b[0m\u001b[0;34m(\u001b[0m\u001b[0mlen\u001b[0m\u001b[0;34m(\u001b[0m\u001b[0miteraciones\u001b[0m\u001b[0;34m)\u001b[0m\u001b[0;34m)\u001b[0m\u001b[0;34m:\u001b[0m\u001b[0;34m\u001b[0m\u001b[0;34m\u001b[0m\u001b[0m\n\u001b[1;32m      5\u001b[0m         \u001b[0;32mif\u001b[0m\u001b[0;34m(\u001b[0m\u001b[0mmatrix_ac\u001b[0m\u001b[0;34m[\u001b[0m\u001b[0mt\u001b[0m\u001b[0;34m,\u001b[0m\u001b[0mit\u001b[0m\u001b[0;34m]\u001b[0m \u001b[0;34m>\u001b[0m \u001b[0mmatrix_ac\u001b[0m\u001b[0;34m[\u001b[0m\u001b[0mparametros\u001b[0m\u001b[0;34m[\u001b[0m\u001b[0;36m0\u001b[0m\u001b[0;34m]\u001b[0m\u001b[0;34m,\u001b[0m\u001b[0mparametros\u001b[0m\u001b[0;34m[\u001b[0m\u001b[0;36m1\u001b[0m\u001b[0;34m]\u001b[0m\u001b[0;34m]\u001b[0m\u001b[0;34m)\u001b[0m\u001b[0;34m:\u001b[0m\u001b[0;34m\u001b[0m\u001b[0;34m\u001b[0m\u001b[0m\n",
      "\u001b[0;31mNameError\u001b[0m: name 'np' is not defined"
     ]
    }
   ],
   "source": [
    "matrix_ac = np.mean(matrix_ac,axis=2)\n",
    "parametros = (0,0)\n",
    "for t in range(len(tasas)):\n",
    "    for it in range(len(iteraciones)):\n",
    "        if(matrix_ac[t,it] > matrix_ac[parametros[0],parametros[1]]):\n",
    "            parametros = (t, it)\n",
    "\n",
    "df1 = pd.DataFrame(data = matrix_ac, index= tasas, columns = iteraciones)\n",
    "print(\"Mayor accuracy promedio con:\",tasas[parametros[0]],iteraciones[parametros[1]])\n",
    "df1"
   ]
  },
  {
   "cell_type": "markdown",
   "metadata": {
    "id": "XP03ndq2qA2D"
   },
   "source": [
    "**Funciones de ploteo de datos**"
   ]
  },
  {
   "cell_type": "code",
   "execution_count": null,
   "metadata": {
    "colab": {
     "base_uri": "https://localhost:8080/",
     "height": 346
    },
    "id": "fnBtUXVbqDv0",
    "outputId": "3f4cfd08-e210-42e4-db6e-72a3ccb53b99"
   },
   "outputs": [
    {
     "name": "stdout",
     "output_type": "stream",
     "text": [
      "[0.6221702139795969, 0.6221701893045778]\n",
      "[0.6404340184156021, 0.6404340100702275]\n",
      "[0.6390948681208468, 0.6390948551514071]\n"
     ]
    },
    {
     "data": {
      "image/png": "[encoded data removed]",
      "text/plain": [
       "<Figure size 432x288 with 1 Axes>"
      ]
     },
     "metadata": {
      "needs_background": "light",
      "tags": []
     },
     "output_type": "display_data"
    }
   ],
   "source": [
    "for tasa in tasas:\n",
    "    numFold = 0\n",
    "    for fold in folds_weather:\n",
    "        costo_iteraciones = []\n",
    "        for iteracion in iteraciones:\n",
    "            costo = results[\"tasa_\"+str(tasa)+\"_iter_\"+str(iteracion)+\"_fold_\"+str(numFold)]\n",
    "            costo_iteraciones.append(costo)\n",
    "            \n",
    "        plt.plot(iteraciones, costo_iteraciones, label='Entrenandco con folds ' + str((numFold+1)%3) + ' y ' + str((numFold+2)%3) )\n",
    "        numFold += 1\n",
    "        print(costo_iteraciones)\n",
    "    plt.title('Learning Rate %f'%tasa)\n",
    "    plt.xlabel('Iteraciones')\n",
    "    plt.ylabel('Costo')\n",
    "    plt.legend()\n",
    "    plt.show()"
   ]
  },
  {
   "cell_type": "markdown",
   "metadata": {
    "id": "l4Ltuko5aPnB"
   },
   "source": [
    "**Calcular Error**"
   ]
  },
  {
   "cell_type": "code",
   "execution_count": null,
   "metadata": {
    "colab": {
     "base_uri": "https://localhost:8080/",
     "height": 295
    },
    "id": "D886W4xXaSDX",
    "outputId": "20869c23-c644-421c-e440-a2c30abb3a22"
   },
   "outputs": [
    {
     "data": {
      "image/png": "[encoded data removed]",
      "text/plain": [
       "<Figure size 432x288 with 1 Axes>"
      ]
     },
     "metadata": {
      "needs_background": "light",
      "tags": []
     },
     "output_type": "display_data"
    }
   ],
   "source": [
    "numFolds = len(folds_weather)\n",
    "for tasa in tasas:\n",
    "    numFold = 0\n",
    "    for fold in folds_weather:\n",
    "        #actual fold (usado para test)\n",
    "        fold = folds_weather[i]\n",
    "        test_fold_X = fold[0]\n",
    "        test_fold_y = fold[1]\n",
    "        accuracies = []\n",
    "        for iteracion in iteraciones:\n",
    "            theta = thetas[\"tasa_\"+str(tasa)+\"_iter_\"+str(iteracion)+\"_fold_\"+str(numFold)]\n",
    "            accuracy = Calcular_Accuracy(test_fold_X, test_fold_y, theta)\n",
    "            accuracies.append(accuracy)\n",
    "            \n",
    "        plt.plot(iteraciones, accuracies, label='Testeando con fold ' + str(numFold))\n",
    "        #print(accuracies)\n",
    "        numFold += 1\n",
    "        \n",
    "    plt.title('Learning Rate %f'%tasa)\n",
    "    plt.xlabel('Iteraciones')\n",
    "    plt.ylabel('Accuracy')\n",
    "    plt.legend()\n",
    "    plt.show()"
   ]
  },
  {
   "cell_type": "markdown",
   "metadata": {
    "id": "ASR18I4ai2nr"
   },
   "source": [
    "### Datos de Titanic"
   ]
  },
  {
   "cell_type": "markdown",
   "metadata": {
    "id": "F3RgJ9Qql67E"
   },
   "source": [
    "Normalizar Datos"
   ]
  },
  {
   "cell_type": "code",
   "execution_count": null,
   "metadata": {
    "colab": {
     "base_uri": "https://localhost:8080/",
     "height": 255
    },
    "id": "EUHM_SjRl67G",
    "outputId": "bc25d90c-6314-4947-aa0d-da454560e6d6"
   },
   "outputs": [
    {
     "name": "stdout",
     "output_type": "stream",
     "text": [
      "           Sex       Age      Fare  Embarked    y\n",
      "0    -0.766130 -0.543858 -0.526477 -0.325791  0.0\n",
      "1     1.304009  0.569863  0.622027  1.771739  1.0\n",
      "2     1.304009 -0.265428 -0.514370 -0.325791  1.0\n",
      "3     1.304009  0.361040  0.295891 -0.325791  1.0\n",
      "4    -0.766130  0.361040 -0.512128 -0.325791  0.0\n",
      "...        ...       ...       ...       ...  ...\n",
      "1038  1.304009 -1.866402 -0.409444 -0.325791  1.0\n",
      "1039  1.304009  0.500255  0.957731 -2.423321  1.0\n",
      "1040  1.304009 -0.126213 -0.517061 -0.325791  1.0\n",
      "1041  1.304009  0.639471  1.296722  1.771739  1.0\n",
      "1042 -0.766130  0.604667 -0.526477 -0.325791  0.0\n",
      "\n",
      "[1043 rows x 5 columns]\n"
     ]
    }
   ],
   "source": [
    "data_titanic = Normalizar_Datos(data_titanic)\n",
    "print(data_titanic)"
   ]
  },
  {
   "cell_type": "code",
   "execution_count": null,
   "metadata": {
    "colab": {
     "base_uri": "https://localhost:8080/",
     "height": 85
    },
    "id": "sYUGZt0ojNoq",
    "outputId": "fda72c46-0a64-4d27-f5de-8a547eeb5a6a"
   },
   "outputs": [
    {
     "name": "stdout",
     "output_type": "stream",
     "text": [
      "_____________________result_folds_titanic________________\n",
      "(349, 4)\n",
      "(347, 4)\n",
      "(347, 4)\n"
     ]
    }
   ],
   "source": [
    "folds_titanic = kFolds(data_titanic, 3)\n",
    "\n",
    "#3 folds con x,y en cada uno\n",
    "print('_____________________result_folds_titanic________________')\n",
    "print(folds_titanic[0][0].shape)\n",
    "#print(folds_titanic[0][1])\n",
    "print(folds_titanic[1][0].shape)\n",
    "#print(folds_titanic[1][1])\n",
    "print(folds_titanic[2][0].shape)\n",
    "#print(folds_titanic[2][1])"
   ]
  },
  {
   "cell_type": "code",
   "execution_count": null,
   "metadata": {
    "colab": {
     "base_uri": "https://localhost:8080/",
     "height": 1000
    },
    "id": "V9dMCvm9jBV9",
    "outputId": "65ece83a-3b45-46aa-b3f6-5628c9507813"
   },
   "outputs": [
    {
     "name": "stdout",
     "output_type": "stream",
     "text": [
      "tasa_0.01_iter_500_fold_0\n",
      "tasa_0.01_iter_500_fold_1\n",
      "tasa_0.01_iter_500_fold_2\n",
      "tasa_0.01_iter_1000_fold_0\n",
      "tasa_0.01_iter_1000_fold_1\n",
      "tasa_0.01_iter_1000_fold_2\n",
      "tasa_0.01_iter_1500_fold_0\n",
      "tasa_0.01_iter_1500_fold_1\n",
      "tasa_0.01_iter_1500_fold_2\n",
      "tasa_0.01_iter_2000_fold_0\n",
      "tasa_0.01_iter_2000_fold_1\n",
      "tasa_0.01_iter_2000_fold_2\n",
      "tasa_0.01_iter_2500_fold_0\n",
      "tasa_0.01_iter_2500_fold_1\n",
      "tasa_0.01_iter_2500_fold_2\n",
      "tasa_0.01_iter_3000_fold_0\n",
      "tasa_0.01_iter_3000_fold_1\n",
      "tasa_0.01_iter_3000_fold_2\n",
      "tasa_0.01_iter_3500_fold_0\n",
      "tasa_0.01_iter_3500_fold_1\n",
      "tasa_0.01_iter_3500_fold_2\n",
      "tasa_0.05_iter_500_fold_0\n",
      "tasa_0.05_iter_500_fold_1\n",
      "tasa_0.05_iter_500_fold_2\n",
      "tasa_0.05_iter_1000_fold_0\n",
      "tasa_0.05_iter_1000_fold_1\n",
      "tasa_0.05_iter_1000_fold_2\n",
      "tasa_0.05_iter_1500_fold_0\n",
      "tasa_0.05_iter_1500_fold_1\n",
      "tasa_0.05_iter_1500_fold_2\n",
      "tasa_0.05_iter_2000_fold_0\n",
      "tasa_0.05_iter_2000_fold_1\n",
      "tasa_0.05_iter_2000_fold_2\n",
      "tasa_0.05_iter_2500_fold_0\n",
      "tasa_0.05_iter_2500_fold_1\n",
      "tasa_0.05_iter_2500_fold_2\n",
      "tasa_0.05_iter_3000_fold_0\n",
      "tasa_0.05_iter_3000_fold_1\n",
      "tasa_0.05_iter_3000_fold_2\n",
      "tasa_0.05_iter_3500_fold_0\n",
      "tasa_0.05_iter_3500_fold_1\n",
      "tasa_0.05_iter_3500_fold_2\n",
      "tasa_0.1_iter_500_fold_0\n",
      "tasa_0.1_iter_500_fold_1\n",
      "tasa_0.1_iter_500_fold_2\n",
      "tasa_0.1_iter_1000_fold_0\n",
      "tasa_0.1_iter_1000_fold_1\n",
      "tasa_0.1_iter_1000_fold_2\n",
      "tasa_0.1_iter_1500_fold_0\n",
      "tasa_0.1_iter_1500_fold_1\n",
      "tasa_0.1_iter_1500_fold_2\n",
      "tasa_0.1_iter_2000_fold_0\n",
      "tasa_0.1_iter_2000_fold_1\n",
      "tasa_0.1_iter_2000_fold_2\n",
      "tasa_0.1_iter_2500_fold_0\n",
      "tasa_0.1_iter_2500_fold_1\n",
      "tasa_0.1_iter_2500_fold_2\n",
      "tasa_0.1_iter_3000_fold_0\n",
      "tasa_0.1_iter_3000_fold_1\n",
      "tasa_0.1_iter_3000_fold_2\n",
      "tasa_0.1_iter_3500_fold_0\n",
      "tasa_0.1_iter_3500_fold_1\n",
      "tasa_0.1_iter_3500_fold_2\n",
      "tasa_0.2_iter_500_fold_0\n",
      "tasa_0.2_iter_500_fold_1\n",
      "tasa_0.2_iter_500_fold_2\n",
      "tasa_0.2_iter_1000_fold_0\n",
      "tasa_0.2_iter_1000_fold_1\n",
      "tasa_0.2_iter_1000_fold_2\n",
      "tasa_0.2_iter_1500_fold_0\n",
      "tasa_0.2_iter_1500_fold_1\n",
      "tasa_0.2_iter_1500_fold_2\n",
      "tasa_0.2_iter_2000_fold_0\n",
      "tasa_0.2_iter_2000_fold_1\n",
      "tasa_0.2_iter_2000_fold_2\n",
      "tasa_0.2_iter_2500_fold_0\n",
      "tasa_0.2_iter_2500_fold_1\n",
      "tasa_0.2_iter_2500_fold_2\n",
      "tasa_0.2_iter_3000_fold_0\n",
      "tasa_0.2_iter_3000_fold_1\n",
      "tasa_0.2_iter_3000_fold_2\n",
      "tasa_0.2_iter_3500_fold_0\n",
      "tasa_0.2_iter_3500_fold_1\n",
      "tasa_0.2_iter_3500_fold_2\n",
      "tasa_0.3_iter_500_fold_0\n",
      "tasa_0.3_iter_500_fold_1\n",
      "tasa_0.3_iter_500_fold_2\n",
      "tasa_0.3_iter_1000_fold_0\n",
      "tasa_0.3_iter_1000_fold_1\n",
      "tasa_0.3_iter_1000_fold_2\n",
      "tasa_0.3_iter_1500_fold_0\n",
      "tasa_0.3_iter_1500_fold_1\n",
      "tasa_0.3_iter_1500_fold_2\n",
      "tasa_0.3_iter_2000_fold_0\n",
      "tasa_0.3_iter_2000_fold_1\n",
      "tasa_0.3_iter_2000_fold_2\n",
      "tasa_0.3_iter_2500_fold_0\n",
      "tasa_0.3_iter_2500_fold_1\n",
      "tasa_0.3_iter_2500_fold_2\n",
      "tasa_0.3_iter_3000_fold_0\n",
      "tasa_0.3_iter_3000_fold_1\n",
      "tasa_0.3_iter_3000_fold_2\n",
      "tasa_0.3_iter_3500_fold_0\n",
      "tasa_0.3_iter_3500_fold_1\n",
      "tasa_0.3_iter_3500_fold_2\n",
      "tasa_0.4_iter_500_fold_0\n",
      "tasa_0.4_iter_500_fold_1\n",
      "tasa_0.4_iter_500_fold_2\n",
      "tasa_0.4_iter_1000_fold_0\n",
      "tasa_0.4_iter_1000_fold_1\n",
      "tasa_0.4_iter_1000_fold_2\n",
      "tasa_0.4_iter_1500_fold_0\n",
      "tasa_0.4_iter_1500_fold_1\n",
      "tasa_0.4_iter_1500_fold_2\n",
      "tasa_0.4_iter_2000_fold_0\n",
      "tasa_0.4_iter_2000_fold_1\n",
      "tasa_0.4_iter_2000_fold_2\n",
      "tasa_0.4_iter_2500_fold_0\n",
      "tasa_0.4_iter_2500_fold_1\n",
      "tasa_0.4_iter_2500_fold_2\n",
      "tasa_0.4_iter_3000_fold_0\n",
      "tasa_0.4_iter_3000_fold_1\n",
      "tasa_0.4_iter_3000_fold_2\n",
      "tasa_0.4_iter_3500_fold_0\n",
      "tasa_0.4_iter_3500_fold_1\n",
      "tasa_0.4_iter_3500_fold_2\n"
     ]
    }
   ],
   "source": [
    "tasas = [0.01, 0.05, 0.1, 0.2, 0.3, 0.4]\n",
    "iteraciones = [500, 1000, 1500, 2000, 2500, 3000, 3500]\n",
    "#tasas = [0.01]\n",
    "#iteraciones = [500, 1000, 1500]\n",
    "\n",
    "\n",
    "numFolds = len(folds_titanic)\n",
    "results_titanic = {}\n",
    "thetas_titanic = {}\n",
    "matrix_ac = np.random.rand(len(tasas),len(iteraciones),numFolds)\n",
    "\n",
    "for t in range(len(tasas)):\n",
    "    tasa = tasas[t]\n",
    "    for it in range(len(iteraciones)):\n",
    "        iteracion = iteraciones[it]\n",
    "        for i in range(numFolds):\n",
    "            #actual fold (usado para test)\n",
    "            fold = folds_titanic[i]\n",
    "            test_fold_X = fold[0]\n",
    "            test_fold_y = fold[1]\n",
    "\n",
    "            #los otros dos folds usados para train\n",
    "            fold_2 = folds_titanic[(i+1)%numFolds]\n",
    "            fold_3 = folds_titanic[(i+2)%numFolds]\n",
    "            train_fold_X = np.concatenate((fold_2[0], fold_3[0]), axis=0)\n",
    "            train_fold_y = np.concatenate((fold_2[1], fold_3[1]), axis=0)\n",
    " \n",
    "            n_features = train_fold_X.shape[1]\n",
    "            theta = np.zeros(n_features)\n",
    "\n",
    "            #calcular gradiente\n",
    "            theta_r, cost_history_r = Gradiente_Descendiente(train_fold_X, train_fold_y, theta, tasa, iteracion)\n",
    "            #calcular accuracy\n",
    "            matrix_ac[t,it,i] = Calcular_Accuracy(test_fold_X, test_fold_y, theta_r)\n",
    "\n",
    "            #guardar datos\n",
    "            costo_gradiente = cost_history_r[-1]\n",
    "            results_titanic[\"tasa_\"+str(tasa)+\"_iter_\"+str(iteracion)+\"_fold_\"+str(i)] = costo_gradiente\n",
    "            thetas_titanic[\"tasa_\"+str(tasa)+\"_iter_\"+str(iteracion)+\"_fold_\"+str(i)] = theta_r\n",
    "\n",
    "            #imprimir seguimiento\n",
    "            print(\"tasa_\"+str(tasa)+\"_iter_\"+str(iteracion)+\"_fold_\"+str(i))\n"
   ]
  },
  {
   "cell_type": "markdown",
   "metadata": {
    "id": "-u-kmK10E1EM"
   },
   "source": [
    "Mostrar accuracis obtenidos"
   ]
  },
  {
   "cell_type": "code",
   "execution_count": null,
   "metadata": {
    "colab": {
     "base_uri": "https://localhost:8080/",
     "height": 252
    },
    "id": "7pc_3QjdE0lE",
    "outputId": "5df72801-6f50-441f-adfc-23d1942eb27f"
   },
   "outputs": [
    {
     "name": "stdout",
     "output_type": "stream",
     "text": [
      "Mayor accuracy promedio con: 0.01 1000\n"
     ]
    },
    {
     "data": {
      "text/html": [
       "<div>\n",
       "<style scoped>\n",
       "    .dataframe tbody tr th:only-of-type {\n",
       "        vertical-align: middle;\n",
       "    }\n",
       "\n",
       "    .dataframe tbody tr th {\n",
       "        vertical-align: top;\n",
       "    }\n",
       "\n",
       "    .dataframe thead th {\n",
       "        text-align: right;\n",
       "    }\n",
       "</style>\n",
       "<table border=\"1\" class=\"dataframe\">\n",
       "  <thead>\n",
       "    <tr style=\"text-align: right;\">\n",
       "      <th></th>\n",
       "      <th>500</th>\n",
       "      <th>1000</th>\n",
       "      <th>1500</th>\n",
       "      <th>2000</th>\n",
       "      <th>2500</th>\n",
       "      <th>3000</th>\n",
       "      <th>3500</th>\n",
       "    </tr>\n",
       "  </thead>\n",
       "  <tbody>\n",
       "    <tr>\n",
       "      <th>0.01</th>\n",
       "      <td>83.89305</td>\n",
       "      <td>83.989111</td>\n",
       "      <td>83.989111</td>\n",
       "      <td>83.989111</td>\n",
       "      <td>83.89305</td>\n",
       "      <td>83.796988</td>\n",
       "      <td>83.89305</td>\n",
       "    </tr>\n",
       "    <tr>\n",
       "      <th>0.05</th>\n",
       "      <td>83.89305</td>\n",
       "      <td>83.893050</td>\n",
       "      <td>83.893050</td>\n",
       "      <td>83.893050</td>\n",
       "      <td>83.89305</td>\n",
       "      <td>83.893050</td>\n",
       "      <td>83.89305</td>\n",
       "    </tr>\n",
       "    <tr>\n",
       "      <th>0.10</th>\n",
       "      <td>83.89305</td>\n",
       "      <td>83.893050</td>\n",
       "      <td>83.893050</td>\n",
       "      <td>83.893050</td>\n",
       "      <td>83.89305</td>\n",
       "      <td>83.893050</td>\n",
       "      <td>83.89305</td>\n",
       "    </tr>\n",
       "    <tr>\n",
       "      <th>0.20</th>\n",
       "      <td>83.89305</td>\n",
       "      <td>83.893050</td>\n",
       "      <td>83.893050</td>\n",
       "      <td>83.893050</td>\n",
       "      <td>83.89305</td>\n",
       "      <td>83.893050</td>\n",
       "      <td>83.89305</td>\n",
       "    </tr>\n",
       "    <tr>\n",
       "      <th>0.30</th>\n",
       "      <td>83.89305</td>\n",
       "      <td>83.893050</td>\n",
       "      <td>83.893050</td>\n",
       "      <td>83.893050</td>\n",
       "      <td>83.89305</td>\n",
       "      <td>83.893050</td>\n",
       "      <td>83.89305</td>\n",
       "    </tr>\n",
       "    <tr>\n",
       "      <th>0.40</th>\n",
       "      <td>83.89305</td>\n",
       "      <td>83.893050</td>\n",
       "      <td>83.893050</td>\n",
       "      <td>83.893050</td>\n",
       "      <td>83.89305</td>\n",
       "      <td>83.893050</td>\n",
       "      <td>83.89305</td>\n",
       "    </tr>\n",
       "  </tbody>\n",
       "</table>\n",
       "</div>"
      ],
      "text/plain": [
       "          500        1000       1500       2000      2500       3000      3500\n",
       "0.01  83.89305  83.989111  83.989111  83.989111  83.89305  83.796988  83.89305\n",
       "0.05  83.89305  83.893050  83.893050  83.893050  83.89305  83.893050  83.89305\n",
       "0.10  83.89305  83.893050  83.893050  83.893050  83.89305  83.893050  83.89305\n",
       "0.20  83.89305  83.893050  83.893050  83.893050  83.89305  83.893050  83.89305\n",
       "0.30  83.89305  83.893050  83.893050  83.893050  83.89305  83.893050  83.89305\n",
       "0.40  83.89305  83.893050  83.893050  83.893050  83.89305  83.893050  83.89305"
      ]
     },
     "execution_count": 50,
     "metadata": {
      "tags": []
     },
     "output_type": "execute_result"
    }
   ],
   "source": [
    "#matrix_ac = np.mean(matrix_ac,axis=2)\n",
    "parametros = (0,0)\n",
    "for t in range(len(tasas)):\n",
    "    for it in range(len(iteraciones)):\n",
    "        if(matrix_ac[t,it] > matrix_ac[parametros[0],parametros[1]]):\n",
    "            parametros = (t, it)\n",
    "\n",
    "df1 = pd.DataFrame(data = matrix_ac, index= tasas, columns = iteraciones)\n",
    "print(\"Mayor accuracy promedio con:\",tasas[parametros[0]],iteraciones[parametros[1]])\n",
    "df1"
   ]
  },
  {
   "cell_type": "markdown",
   "metadata": {
    "id": "w0MdWDJrGvg_"
   },
   "source": [
    "Sabiendo que el mayor accuracy promedio es con una tasa de 0.01 y 1000 iteraciones, plotearemos el historial de costos con esos hiperparametros definidos"
   ]
  },
  {
   "cell_type": "code",
   "execution_count": null,
   "metadata": {
    "colab": {
     "base_uri": "https://localhost:8080/",
     "height": 281
    },
    "id": "5XANX5huG9NQ",
    "outputId": "9e70d22b-0541-49c5-8219-ef6870fbc3c1"
   },
   "outputs": [
    {
     "data": {
      "image/png": "[encoded data removed]",
      "text/plain": [
       "<Figure size 432x288 with 1 Axes>"
      ]
     },
     "metadata": {
      "needs_background": "light",
      "tags": []
     },
     "output_type": "display_data"
    }
   ],
   "source": [
    "tasa = 0.1\n",
    "iteracion = 1000\n",
    "\n",
    "n_features = train_fold_X.shape[1]\n",
    "theta = np.zeros(n_features)\n",
    "theta_r, cost_history_r = Gradiente_Descendiente(train_fold_X, train_fold_y, theta, tasa, iteracion)\n",
    "plt.plot(cost_history_r)\n",
    "plt.title('Historial de costo')\n",
    "plt.show()"
   ]
  },
  {
   "cell_type": "markdown",
   "metadata": {
    "id": "R_zRB0eVjBWF"
   },
   "source": [
    "**Funciones de ploteo de datos**"
   ]
  },
  {
   "cell_type": "code",
   "execution_count": null,
   "metadata": {
    "colab": {
     "base_uri": "https://localhost:8080/",
     "height": 1000
    },
    "id": "LaD01AGojBWF",
    "outputId": "2a336cbe-756a-4dee-f482-020d1275295e"
   },
   "outputs": [
    {
     "name": "stdout",
     "output_type": "stream",
     "text": [
      "[0.4558076411313702, 0.42375804769873654, 0.4163665054520998, 0.41426150772970355, 0.4135980131201399, 0.4133771096751379, 0.41330119079821365]\n",
      "[0.503981853565396, 0.4826602076945154, 0.47845323686426816, 0.4773803554669682, 0.47705283796370995, 0.4769346442184388, 0.4768845179575045]\n",
      "[0.42028489689304616, 0.3811707101421262, 0.37112259710766937, 0.3678560746544598, 0.36665756667956856, 0.3661850616128484, 0.3659897793600004]\n"
     ]
    },
    {
     "data": {
      "image/png": "[encoded data removed]",
      "text/plain": [
       "<Figure size 432x288 with 1 Axes>"
      ]
     },
     "metadata": {
      "needs_background": "light",
      "tags": []
     },
     "output_type": "display_data"
    },
    {
     "name": "stdout",
     "output_type": "stream",
     "text": [
      "[0.41359262820971204, 0.4132617155210714, 0.41325986174487805, 0.4132598493087046, 0.4132598492040533, 0.4132598492028157, 0.41325984920279607]\n",
      "[0.47705013638569105, 0.47683970191209374, 0.4768299193297097, 0.4768291428732742, 0.4768290795107457, 0.47682907431975136, 0.47682907389404106]\n",
      "[0.3666477814171311, 0.3658530265653475, 0.365839352771222, 0.36583895807430034, 0.36583894030429065, 0.36583893926957944, 0.36583893920332267]\n"
     ]
    },
    {
     "data": {
      "image/png": "[encoded data removed]",
      "text/plain": [
       "<Figure size 432x288 with 1 Axes>"
      ]
     },
     "metadata": {
      "needs_background": "light",
      "tags": []
     },
     "output_type": "display_data"
    },
    {
     "name": "stdout",
     "output_type": "stream",
     "text": [
      "[0.4132616555440371, 0.413259849303306, 0.4132598492028146, 0.4132598492027957, 0.4132598492027956, 0.4132598492027957, 0.4132598492027957]\n",
      "[0.4768395828486506, 0.4768291417130219, 0.4768290743091112, 0.476829073859028, 0.47682907385601786, 0.4768290738559977, 0.4768290738559976]\n",
      "[0.36585275348601143, 0.3658389577161296, 0.3658389392679632, 0.3658389391989492, 0.3658389391986493, 0.36583893919864796, 0.36583893919864796]\n"
     ]
    },
    {
     "data": {
      "image/png": "[encoded data removed]",
      "text/plain": [
       "<Figure size 432x288 with 1 Axes>"
      ]
     },
     "metadata": {
      "needs_background": "light",
      "tags": []
     },
     "output_type": "display_data"
    },
    {
     "name": "stdout",
     "output_type": "stream",
     "text": [
      "[0.41325984929322274, 0.4132598492027956, 0.4132598492027957, 0.4132598492027956, 0.4132598492027956, 0.4132598492027956, 0.4132598492027956]\n",
      "[0.47682913943178235, 0.4768290738588533, 0.4768290738559977, 0.4768290738559976, 0.4768290738559976, 0.4768290738559976, 0.4768290738559976]\n",
      "[0.3658389570214732, 0.36583893919893157, 0.36583893919864796, 0.36583893919864796, 0.36583893919864796, 0.36583893919864796, 0.36583893919864796]\n"
     ]
    },
    {
     "data": {
      "image/png": "[encoded data removed]",
      "text/plain": [
       "<Figure size 432x288 with 1 Axes>"
      ]
     },
     "metadata": {
      "needs_background": "light",
      "tags": []
     },
     "output_type": "display_data"
    },
    {
     "name": "stdout",
     "output_type": "stream",
     "text": [
      "[0.41325984920281034, 0.41325984920279574, 0.4132598492027957, 0.4132598492027957, 0.4132598492027957, 0.4132598492027957, 0.4132598492027957]\n",
      "[0.47682907426844756, 0.47682907385599776, 0.4768290738559976, 0.4768290738559976, 0.4768290738559976, 0.4768290738559976, 0.4768290738559976]\n",
      "[0.3658389392618393, 0.36583893919864796, 0.365838939198648, 0.36583893919864796, 0.36583893919864796, 0.36583893919864796, 0.36583893919864796]\n"
     ]
    },
    {
     "data": {
      "image/png": "[encoded data removed]",
      "text/plain": [
       "<Figure size 432x288 with 1 Axes>"
      ]
     },
     "metadata": {
      "needs_background": "light",
      "tags": []
     },
     "output_type": "display_data"
    },
    {
     "name": "stdout",
     "output_type": "stream",
     "text": [
      "[0.4132598492027956, 0.4132598492027956, 0.4132598492027956, 0.4132598492027956, 0.4132598492027956, 0.4132598492027956, 0.4132598492027956]\n",
      "[0.47682907385852924, 0.4768290738559976, 0.4768290738559976, 0.4768290738559976, 0.4768290738559976, 0.4768290738559976, 0.4768290738559976]\n",
      "[0.36583893919889926, 0.36583893919864796, 0.365838939198648, 0.365838939198648, 0.365838939198648, 0.365838939198648, 0.365838939198648]\n"
     ]
    },
    {
     "data": {
      "image/png": "[encoded data removed]",
      "text/plain": [
       "<Figure size 432x288 with 1 Axes>"
      ]
     },
     "metadata": {
      "needs_background": "light",
      "tags": []
     },
     "output_type": "display_data"
    }
   ],
   "source": [
    "for tasa in tasas:\n",
    "    numFold = 0\n",
    "    for fold in folds_titanic:\n",
    "        costo_iteraciones = []\n",
    "        for iteracion in iteraciones:\n",
    "            costo = results_titanic[\"tasa_\"+str(tasa)+\"_iter_\"+str(iteracion)+\"_fold_\"+str(numFold)]\n",
    "            costo_iteraciones.append(costo)\n",
    "            \n",
    "        plt.plot(iteraciones, costo_iteraciones, label='Entrenandco con folds ' + str((numFold+1)%3) + ' y ' + str((numFold+2)%3) )\n",
    "        numFold += 1\n",
    "        print(costo_iteraciones)\n",
    "    plt.title('Learning Rate %f'%tasa)\n",
    "    plt.xlabel('Iteraciones')\n",
    "    plt.ylabel('Costo')\n",
    "    plt.legend()\n",
    "    plt.show()"
   ]
  },
  {
   "cell_type": "markdown",
   "metadata": {
    "id": "SM6cAugGjBWI"
   },
   "source": [
    "**Plotear Error**"
   ]
  },
  {
   "cell_type": "code",
   "execution_count": null,
   "metadata": {
    "colab": {
     "base_uri": "https://localhost:8080/",
     "height": 1000
    },
    "id": "kMtPV7X-jBWJ",
    "outputId": "199f288f-c467-4a1e-e9ac-7fcfa3fe54ac"
   },
   "outputs": [
    {
     "data": {
      "image/png": "[encoded data removed]",
      "text/plain": [
       "<Figure size 432x288 with 1 Axes>"
      ]
     },
     "metadata": {
      "needs_background": "light",
      "tags": []
     },
     "output_type": "display_data"
    },
    {
     "data": {
      "image/png": "[encoded data removed]",
      "text/plain": [
       "<Figure size 432x288 with 1 Axes>"
      ]
     },
     "metadata": {
      "needs_background": "light",
      "tags": []
     },
     "output_type": "display_data"
    },
    {
     "data": {
      "image/png": "[encoded data removed]",
      "text/plain": [
       "<Figure size 432x288 with 1 Axes>"
      ]
     },
     "metadata": {
      "needs_background": "light",
      "tags": []
     },
     "output_type": "display_data"
    },
    {
     "data": {
      "image/png": "[encoded data removed]",
      "text/plain": [
       "<Figure size 432x288 with 1 Axes>"
      ]
     },
     "metadata": {
      "needs_background": "light",
      "tags": []
     },
     "output_type": "display_data"
    },
    {
     "data": {
      "image/png": "[encoded data removed]",
      "text/plain": [
       "<Figure size 432x288 with 1 Axes>"
      ]
     },
     "metadata": {
      "needs_background": "light",
      "tags": []
     },
     "output_type": "display_data"
    },
    {
     "data": {
      "image/png": "[encoded data removed]",
      "text/plain": [
       "<Figure size 432x288 with 1 Axes>"
      ]
     },
     "metadata": {
      "needs_background": "light",
      "tags": []
     },
     "output_type": "display_data"
    }
   ],
   "source": [
    "numFolds = len(folds_titanic)\n",
    "for tasa in tasas:\n",
    "    numFold = 0\n",
    "    for fold in folds_titanic:\n",
    "        #actual fold (usado para test)\n",
    "        fold = folds_titanic[i]\n",
    "        test_fold_X = fold[0]\n",
    "        test_fold_y = fold[1]\n",
    "        accuracies = []\n",
    "        for iteracion in iteraciones:\n",
    "            theta = thetas_titanic[\"tasa_\"+str(tasa)+\"_iter_\"+str(iteracion)+\"_fold_\"+str(numFold)]\n",
    "            accuracy = Calcular_Accuracy(test_fold_X, test_fold_y, theta)\n",
    "            accuracies.append(accuracy)\n",
    "            \n",
    "        plt.plot(iteraciones, accuracies, label='Testeando con fold ' + str(numFold))\n",
    "        #print(accuracies)\n",
    "        numFold += 1\n",
    "        \n",
    "    plt.title('Learning Rate %f'%tasa)\n",
    "    plt.xlabel('Iteraciones')\n",
    "    plt.ylabel('Accuracy')\n",
    "    plt.legend()\n",
    "    plt.show()"
   ]
  }
 ],
 "metadata": {
  "colab": {
   "collapsed_sections": [],
   "name": "Regresion-Logistica.ipynb",
   "provenance": [],
   "toc_visible": true
  },
  "kernelspec": {
   "display_name": "Python 3",
   "language": "python",
   "name": "python3"
  },
  "language_info": {
   "codemirror_mode": {
    "name": "ipython",
    "version": 3
   },
   "file_extension": ".py",
   "mimetype": "text/x-python",
   "name": "python",
   "nbconvert_exporter": "python",
   "pygments_lexer": "ipython3",
   "version": "3.8.3"
  }
 },
 "nbformat": 4,
 "nbformat_minor": 1
}
