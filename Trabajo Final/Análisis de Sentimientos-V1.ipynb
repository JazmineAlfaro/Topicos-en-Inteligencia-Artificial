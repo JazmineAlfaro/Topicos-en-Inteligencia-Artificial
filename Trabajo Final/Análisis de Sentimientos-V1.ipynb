{
 "cells": [
  {
   "cell_type": "code",
   "execution_count": 2,
   "metadata": {},
   "outputs": [
    {
     "name": "stdout",
     "output_type": "stream",
     "text": [
      "Requirement already satisfied: gensim in c:\\users\\jazmi\\anaconda3\\lib\\site-packages (3.8.3)\n",
      "Requirement already satisfied: smart-open>=1.8.1 in c:\\users\\jazmi\\anaconda3\\lib\\site-packages (from gensim) (4.0.1)\n",
      "Requirement already satisfied: numpy>=1.11.3 in c:\\users\\jazmi\\appdata\\roaming\\python\\python38\\site-packages (from gensim) (1.18.4)\n",
      "Requirement already satisfied: scipy>=0.18.1 in c:\\users\\jazmi\\appdata\\roaming\\python\\python38\\site-packages (from gensim) (1.4.1)\n",
      "Requirement already satisfied: Cython==0.29.14 in c:\\users\\jazmi\\anaconda3\\lib\\site-packages (from gensim) (0.29.14)\n",
      "Requirement already satisfied: six>=1.5.0 in c:\\users\\jazmi\\appdata\\roaming\\python\\python38\\site-packages (from gensim) (1.15.0)\n"
     ]
    },
    {
     "name": "stderr",
     "output_type": "stream",
     "text": [
      "WARNING: You are using pip version 20.2b1; however, version 20.3.1 is available.\n",
      "You should consider upgrading via the 'C:\\Users\\jazmi\\anaconda3\\python.exe -m pip install --upgrade pip' command.\n"
     ]
    }
   ],
   "source": [
    "!pip3 install gensim"
   ]
  },
  {
   "cell_type": "code",
   "execution_count": 1,
   "metadata": {},
   "outputs": [
    {
     "name": "stderr",
     "output_type": "stream",
     "text": [
      "Using TensorFlow backend.\n"
     ]
    }
   ],
   "source": [
    "# DataFrame\n",
    "import pandas as pd\n",
    "\n",
    "# Matplot\n",
    "import matplotlib.pyplot as plt\n",
    "%matplotlib inline\n",
    "\n",
    "# Scikit-learn\n",
    "from sklearn.model_selection import train_test_split\n",
    "from sklearn.preprocessing import LabelEncoder\n",
    "from sklearn.metrics import confusion_matrix, classification_report, accuracy_score\n",
    "from sklearn.manifold import TSNE\n",
    "from sklearn.feature_extraction.text import TfidfVectorizer\n",
    "\n",
    "# Keras\n",
    "from keras.preprocessing.text import Tokenizer\n",
    "from keras.preprocessing.sequence import pad_sequences\n",
    "from keras.models import Sequential\n",
    "from keras.layers import Activation, Dense, Dropout, Embedding, Flatten, Conv1D, MaxPooling1D, LSTM\n",
    "from keras import utils\n",
    "from keras.callbacks import ReduceLROnPlateau, EarlyStopping\n",
    "\n",
    "# nltk\n",
    "import nltk\n",
    "from nltk.corpus import stopwords\n",
    "from  nltk.stem import SnowballStemmer\n",
    "\n",
    "# Word2vec\n",
    "import gensim\n",
    "\n",
    "# Utility\n",
    "import re\n",
    "import numpy as np\n",
    "import os\n",
    "from collections import Counter\n",
    "import logging\n",
    "import time\n",
    "import pickle\n",
    "import itertools\n",
    "\n",
    "# Set log\n",
    "logging.basicConfig(format='%(asctime)s : %(levelname)s : %(message)s', level=logging.INFO)"
   ]
  },
  {
   "cell_type": "markdown",
   "metadata": {},
   "source": [
    "# Obtener los datos"
   ]
  },
  {
   "cell_type": "markdown",
   "metadata": {},
   "source": [
    "El conjunto de datos a utilizar será sentiment140."
   ]
  },
  {
   "cell_type": "code",
   "execution_count": 39,
   "metadata": {},
   "outputs": [
    {
     "data": {
      "text/html": [
       "<div>\n",
       "<style scoped>\n",
       "    .dataframe tbody tr th:only-of-type {\n",
       "        vertical-align: middle;\n",
       "    }\n",
       "\n",
       "    .dataframe tbody tr th {\n",
       "        vertical-align: top;\n",
       "    }\n",
       "\n",
       "    .dataframe thead th {\n",
       "        text-align: right;\n",
       "    }\n",
       "</style>\n",
       "<table border=\"1\" class=\"dataframe\">\n",
       "  <thead>\n",
       "    <tr style=\"text-align: right;\">\n",
       "      <th></th>\n",
       "      <th>target</th>\n",
       "      <th>ids</th>\n",
       "      <th>date</th>\n",
       "      <th>flag</th>\n",
       "      <th>user</th>\n",
       "      <th>text</th>\n",
       "    </tr>\n",
       "  </thead>\n",
       "  <tbody>\n",
       "    <tr>\n",
       "      <th>0</th>\n",
       "      <td>0</td>\n",
       "      <td>1467810369</td>\n",
       "      <td>Mon Apr 06 22:19:45 PDT 2009</td>\n",
       "      <td>NO_QUERY</td>\n",
       "      <td>_TheSpecialOne_</td>\n",
       "      <td>@switchfoot http://twitpic.com/2y1zl - Awww, t...</td>\n",
       "    </tr>\n",
       "    <tr>\n",
       "      <th>1</th>\n",
       "      <td>0</td>\n",
       "      <td>1467810672</td>\n",
       "      <td>Mon Apr 06 22:19:49 PDT 2009</td>\n",
       "      <td>NO_QUERY</td>\n",
       "      <td>scotthamilton</td>\n",
       "      <td>is upset that he can't update his Facebook by ...</td>\n",
       "    </tr>\n",
       "    <tr>\n",
       "      <th>2</th>\n",
       "      <td>0</td>\n",
       "      <td>1467810917</td>\n",
       "      <td>Mon Apr 06 22:19:53 PDT 2009</td>\n",
       "      <td>NO_QUERY</td>\n",
       "      <td>mattycus</td>\n",
       "      <td>@Kenichan I dived many times for the ball. Man...</td>\n",
       "    </tr>\n",
       "    <tr>\n",
       "      <th>3</th>\n",
       "      <td>0</td>\n",
       "      <td>1467811184</td>\n",
       "      <td>Mon Apr 06 22:19:57 PDT 2009</td>\n",
       "      <td>NO_QUERY</td>\n",
       "      <td>ElleCTF</td>\n",
       "      <td>my whole body feels itchy and like its on fire</td>\n",
       "    </tr>\n",
       "    <tr>\n",
       "      <th>4</th>\n",
       "      <td>0</td>\n",
       "      <td>1467811193</td>\n",
       "      <td>Mon Apr 06 22:19:57 PDT 2009</td>\n",
       "      <td>NO_QUERY</td>\n",
       "      <td>Karoli</td>\n",
       "      <td>@nationwideclass no, it's not behaving at all....</td>\n",
       "    </tr>\n",
       "  </tbody>\n",
       "</table>\n",
       "</div>"
      ],
      "text/plain": [
       "   target         ids                          date      flag  \\\n",
       "0       0  1467810369  Mon Apr 06 22:19:45 PDT 2009  NO_QUERY   \n",
       "1       0  1467810672  Mon Apr 06 22:19:49 PDT 2009  NO_QUERY   \n",
       "2       0  1467810917  Mon Apr 06 22:19:53 PDT 2009  NO_QUERY   \n",
       "3       0  1467811184  Mon Apr 06 22:19:57 PDT 2009  NO_QUERY   \n",
       "4       0  1467811193  Mon Apr 06 22:19:57 PDT 2009  NO_QUERY   \n",
       "\n",
       "              user                                               text  \n",
       "0  _TheSpecialOne_  @switchfoot http://twitpic.com/2y1zl - Awww, t...  \n",
       "1    scotthamilton  is upset that he can't update his Facebook by ...  \n",
       "2         mattycus  @Kenichan I dived many times for the ball. Man...  \n",
       "3          ElleCTF    my whole body feels itchy and like its on fire   \n",
       "4           Karoli  @nationwideclass no, it's not behaving at all....  "
      ]
     },
     "execution_count": 39,
     "metadata": {},
     "output_type": "execute_result"
    }
   ],
   "source": [
    "ENCODING = \"ISO-8859-1\"\n",
    "COLUMNS = [\"target\", \"ids\", \"date\", \"flag\", \"user\", \"text\"]\n",
    "\n",
    "twitter_data = pd.read_csv('dataset.csv',  encoding =ENCODING , names=COLUMNS)\n",
    "twitter_data.head()"
   ]
  },
  {
   "cell_type": "markdown",
   "metadata": {},
   "source": [
    "# Explorar los datos para obtener información"
   ]
  },
  {
   "cell_type": "markdown",
   "metadata": {},
   "source": [
    "Contiene 1,600,000 tweets extraídos usando la API de Twitter. Los tweets se han anotado (0 = negativo, 2 = neutral, 4 = positivo) y se pueden utilizar para detectar sentimientos. El idioma en el que están es el inglés."
   ]
  },
  {
   "cell_type": "code",
   "execution_count": 5,
   "metadata": {},
   "outputs": [
    {
     "name": "stdout",
     "output_type": "stream",
     "text": [
      "Tamaño del conjunto de datos: 1600000\n"
     ]
    }
   ],
   "source": [
    "print(\"Tamaño del conjunto de datos:\", len(twitter_data))"
   ]
  },
  {
   "cell_type": "markdown",
   "metadata": {},
   "source": [
    "El conjunto de datos contiene los siguientes 6 campos:\n",
    "- target: la polaridad del tweet (0 = negativo, 2 = neutral, 4 = positivo)\n",
    "- ids: la identificación del tweet \n",
    "- date: la fecha del tweet\n",
    "- flag: la consulta. Si no hay ninguna consulta, este valor es NO_QUERY.\n",
    "- user: el usuario que tuiteó \n",
    "- text: el texto del tweet"
   ]
  },
  {
   "cell_type": "code",
   "execution_count": 6,
   "metadata": {},
   "outputs": [
    {
     "name": "stdout",
     "output_type": "stream",
     "text": [
      "Información sobre el conjunto de datos \n",
      "\n",
      "<class 'pandas.core.frame.DataFrame'>\n",
      "RangeIndex: 1600000 entries, 0 to 1599999\n",
      "Data columns (total 6 columns):\n",
      " #   Column  Non-Null Count    Dtype \n",
      "---  ------  --------------    ----- \n",
      " 0   target  1600000 non-null  int64 \n",
      " 1   ids     1600000 non-null  int64 \n",
      " 2   date    1600000 non-null  object\n",
      " 3   flag    1600000 non-null  object\n",
      " 4   user    1600000 non-null  object\n",
      " 5   text    1600000 non-null  object\n",
      "dtypes: int64(2), object(4)\n",
      "memory usage: 73.2+ MB\n",
      "None\n"
     ]
    }
   ],
   "source": [
    "print(\"Información sobre el conjunto de datos \\n\")\n",
    "print(twitter_data.info())"
   ]
  },
  {
   "cell_type": "markdown",
   "metadata": {},
   "source": [
    "<p style=\"font-family: Arial; font-size:1.4em;color:blue;\"> Sentimientos </p>"
   ]
  },
  {
   "cell_type": "markdown",
   "metadata": {},
   "source": [
    "Los sentimientos dentro del conjunto de datos se distribuye entre los valores de sentimiento positivo y negativo. En un gráfico de barras se desplegará la cantidad de tweets negativos en rojo y tweets positivos en verde."
   ]
  },
  {
   "cell_type": "code",
   "execution_count": 7,
   "metadata": {},
   "outputs": [
    {
     "data": {
      "image/png": "[encoded data removed]",
      "text/plain": [
       "<Figure size 432x432 with 1 Axes>"
      ]
     },
     "metadata": {
      "needs_background": "light"
     },
     "output_type": "display_data"
    }
   ],
   "source": [
    "class_count = twitter_data['target'].value_counts()\n",
    "plt.figure(figsize = (6, 6))\n",
    "plt.xticks([4, 0], ['Positive', 'Negative'])\n",
    "plt.xticks([4, 0])\n",
    "plt.bar(x = class_count.keys(), \n",
    "        height = class_count.values, \n",
    "        color = ['g', 'r'], width = 2.5)\n",
    "plt.xlabel(\"Sentimiento del tweet\")\n",
    "plt.ylabel(\"Cantidad de tweets\")\n",
    "plt.title(\"Cantidad de tweets por cada sentimiento\")\n",
    "plt.show()"
   ]
  },
  {
   "cell_type": "markdown",
   "metadata": {},
   "source": [
    "El conjunto de datos se distribuye uniformemente entre tweets positivos (4) y negativos (0)."
   ]
  },
  {
   "cell_type": "code",
   "execution_count": 8,
   "metadata": {},
   "outputs": [],
   "source": [
    "sentiment = {0: \"NEGATIVE\", 2: \"NEUTRAL\", 4: \"POSITIVE\"}\n",
    "def decode_sentiment(label):\n",
    "    return sentiment[int(label)]"
   ]
  },
  {
   "cell_type": "code",
   "execution_count": 9,
   "metadata": {},
   "outputs": [
    {
     "name": "stdout",
     "output_type": "stream",
     "text": [
      "Wall time: 546 ms\n"
     ]
    }
   ],
   "source": [
    "%%time\n",
    "twitter_data.target = twitter_data.target.apply(lambda x: decode_sentiment(x))"
   ]
  },
  {
   "cell_type": "markdown",
   "metadata": {},
   "source": [
    "<p style=\"font-family: Arial; font-size:1.4em;color:blue;\"> Fecha </p>"
   ]
  },
  {
   "cell_type": "markdown",
   "metadata": {},
   "source": [
    "La fecha es una característica importante si se desea analizar los tweets basados en el mes de un año. Se extraerá el mes de cada tweet y en un gráfico se apreciará el recuento de tweets para cada uno de ellos."
   ]
  },
  {
   "cell_type": "code",
   "execution_count": 10,
   "metadata": {},
   "outputs": [
    {
     "data": {
      "image/png": "[encoded data removed]",
      "text/plain": [
       "<Figure size 432x432 with 1 Axes>"
      ]
     },
     "metadata": {
      "needs_background": "light"
     },
     "output_type": "display_data"
    }
   ],
   "source": [
    "twitter_data['month'] = twitter_data['date'].apply(lambda date: date.split(' ')[1])\n",
    "months_count = twitter_data['month'].value_counts()\n",
    "\n",
    "plt.figure(figsize = (6,6))\n",
    "plt.bar(['Junio', 'Mayo', 'Abril'], months_count.values, color = ['r', 'g', 'b'])\n",
    "for i, v in enumerate(months_count.values):\n",
    "    plt.text(i - 0.1, v + 10000, str(v))\n",
    "plt.xlabel('Mes')\n",
    "plt.ylabel('Cantidad de tweets')\n",
    "plt.title('Tweets durante el año 2009')\n",
    "plt.show()"
   ]
  },
  {
   "cell_type": "markdown",
   "metadata": {},
   "source": [
    "En el mes de junio se capturó el mayor número de tweets, con una cantidad de 923608."
   ]
  },
  {
   "cell_type": "code",
   "execution_count": 54,
   "metadata": {},
   "outputs": [],
   "source": [
    "data = twitter_data"
   ]
  },
  {
   "cell_type": "markdown",
   "metadata": {},
   "source": [
    "# Preparación de los datos"
   ]
  },
  {
   "cell_type": "markdown",
   "metadata": {},
   "source": [
    "El proceso de convertir datos en algo que una computadora pueda entender se conoce como preprocesamiento. Una de las principales formas de preprocesamiento es filtrar los datos inútiles. En el procesamiento del lenguaje natural, las palabras inútiles(datos) se denominan stop words. Por lo tanto, estas deben ser eliminadas.\n",
    "\n",
    "- Natural Language Toolkit (NLTK) es un conjunto de bibliotecas y programas para el procesamiento del lenguaje natural"
   ]
  },
  {
   "cell_type": "code",
   "execution_count": 15,
   "metadata": {
    "scrolled": true
   },
   "outputs": [
    {
     "name": "stderr",
     "output_type": "stream",
     "text": [
      "[nltk_data] Downloading package stopwords to\n",
      "[nltk_data]     C:\\Users\\jazmi\\AppData\\Roaming\\nltk_data...\n",
      "[nltk_data]   Package stopwords is already up-to-date!\n"
     ]
    }
   ],
   "source": [
    "nltk.download('stopwords')\n",
    "stop_words = stopwords.words(\"english\")"
   ]
  },
  {
   "cell_type": "markdown",
   "metadata": {},
   "source": [
    "<p style=\"font-family: Arial; font-size:1.4em;color:blue;\"> Stemming </p> "
   ]
  },
  {
   "cell_type": "markdown",
   "metadata": {},
   "source": [
    "Es el proceso de reducir la palabra a su palabra base o raíz de tal manera que las palabras de tipo similar se encuentren bajo una raíz común.\n",
    "\n",
    "Ejemplo: Word        -         Stem\n",
    "\n",
    "- cared -         care\n",
    "- fairly -        fair\n",
    "- easily  -       easili\n",
    "- singing  -      sing\n",
    "- sings     -     sing\n",
    "- sung       -    sung\n",
    "- singer      -   singer\n",
    "- sportingly   -  sport\n",
    "\n",
    "Existen varios algoritmos que se pueden aplicar en este proceso:\n",
    "\n",
    "- Snowball Stemmer: es un algoritmo de derivación que también se conoce como algoritmo de derivación de Porter2, ya que es una mejor versión de Porter Stemmer, ya que algunos problemas se solucionaron en esta derivación.\n",
    "\n",
    "- Porter Stemmer: Este es un antiguo algoritmo de derivación que fue desarrollado por Martin Porter en 1980. En comparación con otros algoritmos, es un algoritmo de derivación muy suave.\n",
    "\n",
    "- Lancaster Stemmer: es el algoritmo de derivación más agresivo. También podemos agregar nuestras propias reglas personalizadas en este algoritmo cuando lo implementamos usando el paquete NLTK. Dado que es agresivo, a veces también puede dar como resultado raíces extrañas.\n",
    "\n",
    "Para este trabajo se optó por utilizar Snowball Stemmer.\n"
   ]
  },
  {
   "cell_type": "code",
   "execution_count": 24,
   "metadata": {},
   "outputs": [],
   "source": [
    "stemmer = SnowballStemmer(\"english\")"
   ]
  },
  {
   "cell_type": "code",
   "execution_count": 25,
   "metadata": {},
   "outputs": [],
   "source": [
    "# Expresión regular para eliminar el usuario, el enlace (https o http) y los caracteres especiales\n",
    "TEXT_CLEANING = \"@\\S+|https?:\\S+|http?:\\S|[^A-Za-z0-9]+\"\n",
    "\n",
    "def preprocess(text, stem=False):\n",
    "    text = re.sub(TEXT_CLEANING, ' ', str(text).lower()).strip()\n",
    "    tokens = []\n",
    "    for token in text.split():\n",
    "        if token not in stop_words:\n",
    "            if stem:\n",
    "                tokens.append(stemmer.stem(token))\n",
    "            else:\n",
    "                tokens.append(token)\n",
    "    return \" \".join(tokens)"
   ]
  },
  {
   "cell_type": "code",
   "execution_count": 63,
   "metadata": {},
   "outputs": [
    {
     "name": "stdout",
     "output_type": "stream",
     "text": [
      "1374558    @jbtaylor WIth ya. &quot;I'd like a Palm Pre, ...\n",
      "Name: text, dtype: object\n"
     ]
    }
   ],
   "source": [
    "s1 = data.loc[data['ids'] == 2051457557]['text']\n",
    "print(s1)"
   ]
  },
  {
   "cell_type": "code",
   "execution_count": 26,
   "metadata": {},
   "outputs": [
    {
     "name": "stdout",
     "output_type": "stream",
     "text": [
      "Wall time: 50.4 s\n"
     ]
    }
   ],
   "source": [
    "%%time\n",
    "data.text = data.text.apply(lambda x: preprocess(x))"
   ]
  },
  {
   "cell_type": "markdown",
   "metadata": {},
   "source": [
    "El conjunto de datos se dividirá en 80% de los datos para el entrenamiento y el 20% restante para las pruebas. "
   ]
  },
  {
   "cell_type": "code",
   "execution_count": 27,
   "metadata": {},
   "outputs": [
    {
     "name": "stdout",
     "output_type": "stream",
     "text": [
      "Tamaño del conjunto de entrenamiento: 1280000\n",
      "Tamaño del conjunto de pruebas: 320000\n"
     ]
    }
   ],
   "source": [
    "df_train, df_test = train_test_split(data, test_size=0.2, random_state=42)\n",
    "print(\"Tamaño del conjunto de entrenamiento:\", len(df_train))\n",
    "print(\"Tamaño del conjunto de pruebas:\", len(df_test))"
   ]
  },
  {
   "cell_type": "code",
   "execution_count": 41,
   "metadata": {},
   "outputs": [
    {
     "data": {
      "text/html": [
       "<div>\n",
       "<style scoped>\n",
       "    .dataframe tbody tr th:only-of-type {\n",
       "        vertical-align: middle;\n",
       "    }\n",
       "\n",
       "    .dataframe tbody tr th {\n",
       "        vertical-align: top;\n",
       "    }\n",
       "\n",
       "    .dataframe thead th {\n",
       "        text-align: right;\n",
       "    }\n",
       "</style>\n",
       "<table border=\"1\" class=\"dataframe\">\n",
       "  <thead>\n",
       "    <tr style=\"text-align: right;\">\n",
       "      <th></th>\n",
       "      <th>target</th>\n",
       "      <th>ids</th>\n",
       "      <th>date</th>\n",
       "      <th>flag</th>\n",
       "      <th>user</th>\n",
       "      <th>text</th>\n",
       "      <th>month</th>\n",
       "    </tr>\n",
       "  </thead>\n",
       "  <tbody>\n",
       "    <tr>\n",
       "      <th>1374558</th>\n",
       "      <td>POSITIVE</td>\n",
       "      <td>2051457557</td>\n",
       "      <td>Fri Jun 05 22:04:23 PDT 2009</td>\n",
       "      <td>NO_QUERY</td>\n",
       "      <td>JGoldsborough</td>\n",
       "      <td>ya quot like palm pre touchstone charger ready...</td>\n",
       "      <td>Jun</td>\n",
       "    </tr>\n",
       "    <tr>\n",
       "      <th>1389115</th>\n",
       "      <td>POSITIVE</td>\n",
       "      <td>2053083567</td>\n",
       "      <td>Sat Jun 06 03:12:21 PDT 2009</td>\n",
       "      <td>NO_QUERY</td>\n",
       "      <td>Psioui</td>\n",
       "      <td>felt earthquake afternoon seems epicenter</td>\n",
       "      <td>Jun</td>\n",
       "    </tr>\n",
       "    <tr>\n",
       "      <th>1137831</th>\n",
       "      <td>POSITIVE</td>\n",
       "      <td>1976779404</td>\n",
       "      <td>Sat May 30 19:02:49 PDT 2009</td>\n",
       "      <td>NO_QUERY</td>\n",
       "      <td>adriville</td>\n",
       "      <td>ruffles shirts like likey</td>\n",
       "      <td>May</td>\n",
       "    </tr>\n",
       "    <tr>\n",
       "      <th>790714</th>\n",
       "      <td>NEGATIVE</td>\n",
       "      <td>2325739990</td>\n",
       "      <td>Thu Jun 25 05:59:18 PDT 2009</td>\n",
       "      <td>NO_QUERY</td>\n",
       "      <td>Blondie128</td>\n",
       "      <td>pretty bad night crappy morning fml buttface d...</td>\n",
       "      <td>Jun</td>\n",
       "    </tr>\n",
       "    <tr>\n",
       "      <th>1117911</th>\n",
       "      <td>POSITIVE</td>\n",
       "      <td>1973503391</td>\n",
       "      <td>Sat May 30 11:16:35 PDT 2009</td>\n",
       "      <td>NO_QUERY</td>\n",
       "      <td>khrabrov</td>\n",
       "      <td>yeah clear view</td>\n",
       "      <td>May</td>\n",
       "    </tr>\n",
       "  </tbody>\n",
       "</table>\n",
       "</div>"
      ],
      "text/plain": [
       "           target         ids                          date      flag  \\\n",
       "1374558  POSITIVE  2051457557  Fri Jun 05 22:04:23 PDT 2009  NO_QUERY   \n",
       "1389115  POSITIVE  2053083567  Sat Jun 06 03:12:21 PDT 2009  NO_QUERY   \n",
       "1137831  POSITIVE  1976779404  Sat May 30 19:02:49 PDT 2009  NO_QUERY   \n",
       "790714   NEGATIVE  2325739990  Thu Jun 25 05:59:18 PDT 2009  NO_QUERY   \n",
       "1117911  POSITIVE  1973503391  Sat May 30 11:16:35 PDT 2009  NO_QUERY   \n",
       "\n",
       "                  user                                               text  \\\n",
       "1374558  JGoldsborough  ya quot like palm pre touchstone charger ready...   \n",
       "1389115         Psioui          felt earthquake afternoon seems epicenter   \n",
       "1137831      adriville                          ruffles shirts like likey   \n",
       "790714      Blondie128  pretty bad night crappy morning fml buttface d...   \n",
       "1117911       khrabrov                                    yeah clear view   \n",
       "\n",
       "        month  \n",
       "1374558   Jun  \n",
       "1389115   Jun  \n",
       "1137831   May  \n",
       "790714    Jun  \n",
       "1117911   May  "
      ]
     },
     "execution_count": 41,
     "metadata": {},
     "output_type": "execute_result"
    }
   ],
   "source": [
    "df_train.head()"
   ]
  },
  {
   "cell_type": "code",
   "execution_count": 28,
   "metadata": {},
   "outputs": [
    {
     "name": "stdout",
     "output_type": "stream",
     "text": [
      "['ya', 'quot', 'like', 'palm', 'pre', 'touchstone', 'charger', 'readynow', 'yes', 'sounds', 'good', 'beer', 'ready', 'prelaunch']\n",
      "Wall time: 5.58 s\n"
     ]
    }
   ],
   "source": [
    "%%time\n",
    "documents = [_text.split() for _text in df_train.text] \n",
    "print(documents[0])"
   ]
  },
  {
   "cell_type": "markdown",
   "metadata": {},
   "source": [
    "<p style=\"font-family: Arial; font-size:1.4em;color:blue;\"> Word2Vec </p> "
   ]
  },
  {
   "cell_type": "markdown",
   "metadata": {},
   "source": [
    "Word2Vec fue presentado en dos artículos entre septiembre y octubre de 2013, por un equipo de investigadores de Google. Junto con los artículos, los investigadores publicaron su implementación en C. La implementación de Python se realizó poco después del primer artículo, por Gensim.\n",
    "\n",
    "La suposición subyacente de Word2Vec es que dos palabras que comparten contextos similares también comparten un significado similar y, en consecuencia, una representación vectorial similar del modelo. Por ejemplo: \"perro\", \"cachorro\" y \"cachorro\" se usan a menudo en situaciones similares, con palabras circundantes similares como \"bueno\", \"esponjoso\" o \"lindo\", y de acuerdo con Word2Vec, por lo tanto, compartirán una representación vectorial similar.\n",
    "\n",
    "A partir de esta suposición, Word2Vec se puede usar para averiguar las relaciones entre palabras en un conjunto de datos, calcular la similitud entre ellas o usar la representación vectorial de esas palabras como entrada para otras aplicaciones, como clasificación de texto o agrupamiento."
   ]
  },
  {
   "cell_type": "markdown",
   "metadata": {},
   "source": [
    "Parámetros del Modelo:\n",
    "- min_count = int - Ignora todas las palabras con una frecuencia absoluta total menor que esta - (2, 100)\n",
    "- window = int: la distancia máxima entre la palabra actual y la predicha dentro de una oración. P.ej. palabras de ventana a la izquierda y palabras de ventana a la izquierda de nuestro objetivo - (2, 10)\n",
    "- size = int - Dimensionalidad de los vectores de características. - (50, 300)\n",
    "- sample = float: el umbral para configurar qué palabras de mayor frecuencia se reducen aleatoriamente. Altamente influyente. - (0, 1e-5)\n",
    "- alpha = float - La tasa de aprendizaje inicial - (0.01, 0.05)\n",
    "- min_alpha = float: la tasa de aprendizaje descenderá linealmente a min_alpha a medida que avanza el entrenamiento. Para configurarlo: alpha - (min_alpha * epochs) ~ 0.00\n",
    "- negativo = int - Si> 0, se usará un muestreo negativo, el int para negativo especifica cuántas \"palabras irrelevantes\" deben ahogarse. Si se establece en 0, no se utiliza ningún muestreo negativo. - (5, 20)\n",
    "- workers = int: número de threads de trabajo para entrenar el modelo (= entrenamiento más rápido con máquinas multinúcleo)"
   ]
  },
  {
   "cell_type": "code",
   "execution_count": 14,
   "metadata": {},
   "outputs": [],
   "source": [
    "W2V_SIZE = 300\n",
    "W2V_WINDOW = 7\n",
    "W2V_EPOCH = 32\n",
    "W2V_MIN_COUNT = 10\n",
    "\n",
    "w2v_model = gensim.models.word2vec.Word2Vec(min_count=W2V_MIN_COUNT, \n",
    "                                            window=W2V_WINDOW, \n",
    "                                            size=W2V_SIZE, \n",
    "                                            workers=8)"
   ]
  },
  {
   "cell_type": "markdown",
   "metadata": {},
   "source": [
    "Aquí construye el vocabulario a partir de una secuencia de oraciones y así inicializa el modelo.\n",
    "Con los registros, puedo seguir el progreso y aún más importante, el efecto de min_count y sample en el corpus de palabras. Noté que estos dos parámetros, y en particular la muestra, tienen una gran influencia sobre el rendimiento de un modelo. La visualización de ambos permite una gestión más precisa y sencilla de su influencia."
   ]
  },
  {
   "cell_type": "code",
   "execution_count": 64,
   "metadata": {},
   "outputs": [
    {
     "name": "stderr",
     "output_type": "stream",
     "text": [
      "2020-12-15 18:13:36,991 : INFO : collecting all words and their counts\n",
      "2020-12-15 18:13:36,993 : INFO : PROGRESS: at sentence #0, processed 0 words, keeping 0 word types\n",
      "2020-12-15 18:13:37,019 : INFO : PROGRESS: at sentence #10000, processed 72565 words, keeping 14005 word types\n",
      "2020-12-15 18:13:37,040 : INFO : PROGRESS: at sentence #20000, processed 144393 words, keeping 21587 word types\n",
      "2020-12-15 18:13:37,062 : INFO : PROGRESS: at sentence #30000, processed 215826 words, keeping 27541 word types\n",
      "2020-12-15 18:13:37,085 : INFO : PROGRESS: at sentence #40000, processed 288271 words, keeping 32764 word types\n",
      "2020-12-15 18:13:37,107 : INFO : PROGRESS: at sentence #50000, processed 359772 words, keeping 37587 word types\n",
      "2020-12-15 18:13:37,127 : INFO : PROGRESS: at sentence #60000, processed 431431 words, keeping 42198 word types\n",
      "2020-12-15 18:13:37,151 : INFO : PROGRESS: at sentence #70000, processed 503103 words, keeping 46458 word types\n",
      "2020-12-15 18:13:37,174 : INFO : PROGRESS: at sentence #80000, processed 575709 words, keeping 50476 word types\n",
      "2020-12-15 18:13:37,195 : INFO : PROGRESS: at sentence #90000, processed 647100 words, keeping 54140 word types\n",
      "2020-12-15 18:13:37,217 : INFO : PROGRESS: at sentence #100000, processed 718681 words, keeping 57777 word types\n",
      "2020-12-15 18:13:37,240 : INFO : PROGRESS: at sentence #110000, processed 790696 words, keeping 61207 word types\n",
      "2020-12-15 18:13:37,265 : INFO : PROGRESS: at sentence #120000, processed 863134 words, keeping 64583 word types\n",
      "2020-12-15 18:13:37,291 : INFO : PROGRESS: at sentence #130000, processed 935111 words, keeping 67865 word types\n",
      "2020-12-15 18:13:37,317 : INFO : PROGRESS: at sentence #140000, processed 1006668 words, keeping 70966 word types\n",
      "2020-12-15 18:13:37,340 : INFO : PROGRESS: at sentence #150000, processed 1078512 words, keeping 74119 word types\n",
      "2020-12-15 18:13:37,364 : INFO : PROGRESS: at sentence #160000, processed 1149914 words, keeping 77187 word types\n",
      "2020-12-15 18:13:37,389 : INFO : PROGRESS: at sentence #170000, processed 1222145 words, keeping 80267 word types\n",
      "2020-12-15 18:13:37,413 : INFO : PROGRESS: at sentence #180000, processed 1294708 words, keeping 83393 word types\n",
      "2020-12-15 18:13:37,437 : INFO : PROGRESS: at sentence #190000, processed 1367608 words, keeping 86329 word types\n",
      "2020-12-15 18:13:37,464 : INFO : PROGRESS: at sentence #200000, processed 1439469 words, keeping 89103 word types\n",
      "2020-12-15 18:13:37,489 : INFO : PROGRESS: at sentence #210000, processed 1512099 words, keeping 91840 word types\n",
      "2020-12-15 18:13:37,514 : INFO : PROGRESS: at sentence #220000, processed 1584149 words, keeping 94636 word types\n",
      "2020-12-15 18:13:37,540 : INFO : PROGRESS: at sentence #230000, processed 1656354 words, keeping 97353 word types\n",
      "2020-12-15 18:13:37,567 : INFO : PROGRESS: at sentence #240000, processed 1728573 words, keeping 99975 word types\n",
      "2020-12-15 18:13:37,594 : INFO : PROGRESS: at sentence #250000, processed 1801102 words, keeping 102594 word types\n",
      "2020-12-15 18:13:37,619 : INFO : PROGRESS: at sentence #260000, processed 1873103 words, keeping 105162 word types\n",
      "2020-12-15 18:13:37,645 : INFO : PROGRESS: at sentence #270000, processed 1945245 words, keeping 107626 word types\n",
      "2020-12-15 18:13:37,673 : INFO : PROGRESS: at sentence #280000, processed 2017163 words, keeping 110141 word types\n",
      "2020-12-15 18:13:37,698 : INFO : PROGRESS: at sentence #290000, processed 2089574 words, keeping 112539 word types\n",
      "2020-12-15 18:13:37,721 : INFO : PROGRESS: at sentence #300000, processed 2160996 words, keeping 114893 word types\n",
      "2020-12-15 18:13:37,746 : INFO : PROGRESS: at sentence #310000, processed 2232913 words, keeping 117298 word types\n",
      "2020-12-15 18:13:37,771 : INFO : PROGRESS: at sentence #320000, processed 2305039 words, keeping 119693 word types\n",
      "2020-12-15 18:13:37,797 : INFO : PROGRESS: at sentence #330000, processed 2377119 words, keeping 122131 word types\n",
      "2020-12-15 18:13:37,822 : INFO : PROGRESS: at sentence #340000, processed 2449370 words, keeping 124416 word types\n",
      "2020-12-15 18:13:37,847 : INFO : PROGRESS: at sentence #350000, processed 2521564 words, keeping 126669 word types\n",
      "2020-12-15 18:13:37,872 : INFO : PROGRESS: at sentence #360000, processed 2593681 words, keeping 128912 word types\n",
      "2020-12-15 18:13:37,898 : INFO : PROGRESS: at sentence #370000, processed 2665692 words, keeping 131135 word types\n",
      "2020-12-15 18:13:37,925 : INFO : PROGRESS: at sentence #380000, processed 2737859 words, keeping 133403 word types\n",
      "2020-12-15 18:13:37,952 : INFO : PROGRESS: at sentence #390000, processed 2809848 words, keeping 135551 word types\n",
      "2020-12-15 18:13:37,979 : INFO : PROGRESS: at sentence #400000, processed 2882438 words, keeping 137742 word types\n",
      "2020-12-15 18:13:38,006 : INFO : PROGRESS: at sentence #410000, processed 2954075 words, keeping 139909 word types\n",
      "2020-12-15 18:13:38,034 : INFO : PROGRESS: at sentence #420000, processed 3026247 words, keeping 142144 word types\n",
      "2020-12-15 18:13:38,062 : INFO : PROGRESS: at sentence #430000, processed 3098659 words, keeping 144364 word types\n",
      "2020-12-15 18:13:38,089 : INFO : PROGRESS: at sentence #440000, processed 3170663 words, keeping 146439 word types\n",
      "2020-12-15 18:13:38,114 : INFO : PROGRESS: at sentence #450000, processed 3243344 words, keeping 148526 word types\n",
      "2020-12-15 18:13:38,141 : INFO : PROGRESS: at sentence #460000, processed 3315466 words, keeping 150610 word types\n",
      "2020-12-15 18:13:38,167 : INFO : PROGRESS: at sentence #470000, processed 3388295 words, keeping 152737 word types\n",
      "2020-12-15 18:13:38,191 : INFO : PROGRESS: at sentence #480000, processed 3460120 words, keeping 154757 word types\n",
      "2020-12-15 18:13:38,216 : INFO : PROGRESS: at sentence #490000, processed 3531883 words, keeping 156825 word types\n",
      "2020-12-15 18:13:38,241 : INFO : PROGRESS: at sentence #500000, processed 3604217 words, keeping 158859 word types\n",
      "2020-12-15 18:13:38,267 : INFO : PROGRESS: at sentence #510000, processed 3676427 words, keeping 160852 word types\n",
      "2020-12-15 18:13:38,292 : INFO : PROGRESS: at sentence #520000, processed 3749045 words, keeping 162863 word types\n",
      "2020-12-15 18:13:38,317 : INFO : PROGRESS: at sentence #530000, processed 3821622 words, keeping 164929 word types\n",
      "2020-12-15 18:13:38,343 : INFO : PROGRESS: at sentence #540000, processed 3893627 words, keeping 166840 word types\n",
      "2020-12-15 18:13:38,369 : INFO : PROGRESS: at sentence #550000, processed 3965477 words, keeping 168799 word types\n",
      "2020-12-15 18:13:38,394 : INFO : PROGRESS: at sentence #560000, processed 4038050 words, keeping 170802 word types\n",
      "2020-12-15 18:13:38,420 : INFO : PROGRESS: at sentence #570000, processed 4110296 words, keeping 172760 word types\n",
      "2020-12-15 18:13:38,447 : INFO : PROGRESS: at sentence #580000, processed 4182385 words, keeping 174635 word types\n",
      "2020-12-15 18:13:38,477 : INFO : PROGRESS: at sentence #590000, processed 4254632 words, keeping 176470 word types\n",
      "2020-12-15 18:13:38,502 : INFO : PROGRESS: at sentence #600000, processed 4326859 words, keeping 178350 word types\n",
      "2020-12-15 18:13:38,529 : INFO : PROGRESS: at sentence #610000, processed 4399183 words, keeping 180290 word types\n",
      "2020-12-15 18:13:38,556 : INFO : PROGRESS: at sentence #620000, processed 4471343 words, keeping 182129 word types\n",
      "2020-12-15 18:13:38,582 : INFO : PROGRESS: at sentence #630000, processed 4543286 words, keeping 184005 word types\n",
      "2020-12-15 18:13:38,607 : INFO : PROGRESS: at sentence #640000, processed 4615780 words, keeping 185835 word types\n",
      "2020-12-15 18:13:38,634 : INFO : PROGRESS: at sentence #650000, processed 4688481 words, keeping 187705 word types\n",
      "2020-12-15 18:13:38,660 : INFO : PROGRESS: at sentence #660000, processed 4760481 words, keeping 189439 word types\n",
      "2020-12-15 18:13:38,683 : INFO : PROGRESS: at sentence #670000, processed 4833024 words, keeping 191232 word types\n",
      "2020-12-15 18:13:38,707 : INFO : PROGRESS: at sentence #680000, processed 4904516 words, keeping 193177 word types\n",
      "2020-12-15 18:13:38,732 : INFO : PROGRESS: at sentence #690000, processed 4976968 words, keeping 194960 word types\n",
      "2020-12-15 18:13:38,756 : INFO : PROGRESS: at sentence #700000, processed 5049412 words, keeping 196725 word types\n",
      "2020-12-15 18:13:38,780 : INFO : PROGRESS: at sentence #710000, processed 5121976 words, keeping 198516 word types\n"
     ]
    },
    {
     "name": "stderr",
     "output_type": "stream",
     "text": [
      "2020-12-15 18:13:38,804 : INFO : PROGRESS: at sentence #720000, processed 5193881 words, keeping 200325 word types\n",
      "2020-12-15 18:13:38,830 : INFO : PROGRESS: at sentence #730000, processed 5265467 words, keeping 202133 word types\n",
      "2020-12-15 18:13:38,855 : INFO : PROGRESS: at sentence #740000, processed 5337518 words, keeping 203818 word types\n",
      "2020-12-15 18:13:38,880 : INFO : PROGRESS: at sentence #750000, processed 5409321 words, keeping 205535 word types\n",
      "2020-12-15 18:13:38,907 : INFO : PROGRESS: at sentence #760000, processed 5481512 words, keeping 207282 word types\n",
      "2020-12-15 18:13:38,935 : INFO : PROGRESS: at sentence #770000, processed 5554093 words, keeping 209076 word types\n",
      "2020-12-15 18:13:38,961 : INFO : PROGRESS: at sentence #780000, processed 5625382 words, keeping 210805 word types\n",
      "2020-12-15 18:13:38,988 : INFO : PROGRESS: at sentence #790000, processed 5698066 words, keeping 212618 word types\n",
      "2020-12-15 18:13:39,013 : INFO : PROGRESS: at sentence #800000, processed 5770880 words, keeping 214374 word types\n",
      "2020-12-15 18:13:39,039 : INFO : PROGRESS: at sentence #810000, processed 5843418 words, keeping 216009 word types\n",
      "2020-12-15 18:13:39,063 : INFO : PROGRESS: at sentence #820000, processed 5915628 words, keeping 217804 word types\n",
      "2020-12-15 18:13:39,089 : INFO : PROGRESS: at sentence #830000, processed 5987499 words, keeping 219585 word types\n",
      "2020-12-15 18:13:39,113 : INFO : PROGRESS: at sentence #840000, processed 6058973 words, keeping 221344 word types\n",
      "2020-12-15 18:13:39,137 : INFO : PROGRESS: at sentence #850000, processed 6131125 words, keeping 223002 word types\n",
      "2020-12-15 18:13:39,162 : INFO : PROGRESS: at sentence #860000, processed 6202951 words, keeping 224643 word types\n",
      "2020-12-15 18:13:39,186 : INFO : PROGRESS: at sentence #870000, processed 6275461 words, keeping 226362 word types\n",
      "2020-12-15 18:13:39,210 : INFO : PROGRESS: at sentence #880000, processed 6347661 words, keeping 227986 word types\n",
      "2020-12-15 18:13:39,234 : INFO : PROGRESS: at sentence #890000, processed 6419806 words, keeping 229634 word types\n",
      "2020-12-15 18:13:39,258 : INFO : PROGRESS: at sentence #900000, processed 6491644 words, keeping 231389 word types\n",
      "2020-12-15 18:13:39,283 : INFO : PROGRESS: at sentence #910000, processed 6564022 words, keeping 233050 word types\n",
      "2020-12-15 18:13:39,308 : INFO : PROGRESS: at sentence #920000, processed 6636228 words, keeping 234686 word types\n",
      "2020-12-15 18:13:39,331 : INFO : PROGRESS: at sentence #930000, processed 6708573 words, keeping 236393 word types\n",
      "2020-12-15 18:13:39,356 : INFO : PROGRESS: at sentence #940000, processed 6779956 words, keeping 238052 word types\n",
      "2020-12-15 18:13:39,381 : INFO : PROGRESS: at sentence #950000, processed 6852599 words, keeping 239716 word types\n",
      "2020-12-15 18:13:39,407 : INFO : PROGRESS: at sentence #960000, processed 6924717 words, keeping 241354 word types\n",
      "2020-12-15 18:13:39,432 : INFO : PROGRESS: at sentence #970000, processed 6996992 words, keeping 242980 word types\n",
      "2020-12-15 18:13:39,458 : INFO : PROGRESS: at sentence #980000, processed 7068402 words, keeping 244646 word types\n",
      "2020-12-15 18:13:39,484 : INFO : PROGRESS: at sentence #990000, processed 7140346 words, keeping 246186 word types\n",
      "2020-12-15 18:13:39,509 : INFO : PROGRESS: at sentence #1000000, processed 7211757 words, keeping 247726 word types\n",
      "2020-12-15 18:13:39,535 : INFO : PROGRESS: at sentence #1010000, processed 7283267 words, keeping 249288 word types\n",
      "2020-12-15 18:13:39,561 : INFO : PROGRESS: at sentence #1020000, processed 7355299 words, keeping 250860 word types\n",
      "2020-12-15 18:13:39,587 : INFO : PROGRESS: at sentence #1030000, processed 7426918 words, keeping 252366 word types\n",
      "2020-12-15 18:13:39,612 : INFO : PROGRESS: at sentence #1040000, processed 7498815 words, keeping 253930 word types\n",
      "2020-12-15 18:13:39,637 : INFO : PROGRESS: at sentence #1050000, processed 7570499 words, keeping 255471 word types\n",
      "2020-12-15 18:13:39,662 : INFO : PROGRESS: at sentence #1060000, processed 7643251 words, keeping 257035 word types\n",
      "2020-12-15 18:13:39,686 : INFO : PROGRESS: at sentence #1070000, processed 7714721 words, keeping 258509 word types\n",
      "2020-12-15 18:13:39,710 : INFO : PROGRESS: at sentence #1080000, processed 7787371 words, keeping 260071 word types\n",
      "2020-12-15 18:13:39,734 : INFO : PROGRESS: at sentence #1090000, processed 7859336 words, keeping 261683 word types\n",
      "2020-12-15 18:13:39,759 : INFO : PROGRESS: at sentence #1100000, processed 7932029 words, keeping 263278 word types\n",
      "2020-12-15 18:13:39,783 : INFO : PROGRESS: at sentence #1110000, processed 8004146 words, keeping 264800 word types\n",
      "2020-12-15 18:13:39,807 : INFO : PROGRESS: at sentence #1120000, processed 8075880 words, keeping 266309 word types\n",
      "2020-12-15 18:13:39,831 : INFO : PROGRESS: at sentence #1130000, processed 8148163 words, keeping 267826 word types\n",
      "2020-12-15 18:13:39,855 : INFO : PROGRESS: at sentence #1140000, processed 8220487 words, keeping 269391 word types\n",
      "2020-12-15 18:13:39,877 : INFO : PROGRESS: at sentence #1150000, processed 8292498 words, keeping 270894 word types\n",
      "2020-12-15 18:13:39,901 : INFO : PROGRESS: at sentence #1160000, processed 8363838 words, keeping 272400 word types\n",
      "2020-12-15 18:13:39,924 : INFO : PROGRESS: at sentence #1170000, processed 8435510 words, keeping 273970 word types\n",
      "2020-12-15 18:13:39,948 : INFO : PROGRESS: at sentence #1180000, processed 8507795 words, keeping 275521 word types\n",
      "2020-12-15 18:13:39,970 : INFO : PROGRESS: at sentence #1190000, processed 8579080 words, keeping 277007 word types\n",
      "2020-12-15 18:13:39,994 : INFO : PROGRESS: at sentence #1200000, processed 8650606 words, keeping 278457 word types\n",
      "2020-12-15 18:13:40,016 : INFO : PROGRESS: at sentence #1210000, processed 8721893 words, keeping 279959 word types\n",
      "2020-12-15 18:13:40,039 : INFO : PROGRESS: at sentence #1220000, processed 8793795 words, keeping 281427 word types\n",
      "2020-12-15 18:13:40,063 : INFO : PROGRESS: at sentence #1230000, processed 8865726 words, keeping 282981 word types\n",
      "2020-12-15 18:13:40,087 : INFO : PROGRESS: at sentence #1240000, processed 8938173 words, keeping 284542 word types\n",
      "2020-12-15 18:13:40,110 : INFO : PROGRESS: at sentence #1250000, processed 9010842 words, keeping 286064 word types\n",
      "2020-12-15 18:13:40,133 : INFO : PROGRESS: at sentence #1260000, processed 9083261 words, keeping 287521 word types\n",
      "2020-12-15 18:13:40,157 : INFO : PROGRESS: at sentence #1270000, processed 9155616 words, keeping 288987 word types\n",
      "2020-12-15 18:13:40,179 : INFO : collected 290418 word types from a corpus of 9227204 raw words and 1280000 sentences\n",
      "2020-12-15 18:13:40,180 : INFO : Loading a fresh vocabulary\n",
      "2020-12-15 18:13:40,448 : INFO : effective_min_count=10 retains 30369 unique words (10% of original 290418, drops 260049)\n",
      "2020-12-15 18:13:40,449 : INFO : effective_min_count=10 leaves 8780739 word corpus (95% of original 9227204, drops 446465)\n",
      "2020-12-15 18:13:40,547 : INFO : deleting the raw counts dictionary of 290418 items\n",
      "2020-12-15 18:13:40,552 : INFO : sample=0.001 downsamples 45 most-common words\n",
      "2020-12-15 18:13:40,553 : INFO : downsampling leaves estimated 8222658 word corpus (93.6% of prior 8780739)\n",
      "2020-12-15 18:13:40,655 : INFO : estimated required memory for 30369 words and 300 dimensions: 88070100 bytes\n",
      "2020-12-15 18:13:40,656 : INFO : resetting layer weights\n"
     ]
    }
   ],
   "source": [
    "w2v_model.build_vocab(documents)"
   ]
  },
  {
   "cell_type": "code",
   "execution_count": 65,
   "metadata": {},
   "outputs": [
    {
     "name": "stdout",
     "output_type": "stream",
     "text": [
      "Tamaño del vocabulario:  30369\n"
     ]
    }
   ],
   "source": [
    "words = w2v_model.wv.vocab.keys()\n",
    "vocab_size = len(words)\n",
    "print(\"Tamaño del vocabulario: \", vocab_size)"
   ]
  },
  {
   "cell_type": "markdown",
   "metadata": {},
   "source": [
    "Entrenar el modelo\n",
    "\n",
    "Parámetros del Entrenamiento del Modelo:\n",
    "- total_examples = int - Recuento de oraciones\n",
    "- epochs = int - Número de iteraciones (épocas) sobre el corpus"
   ]
  },
  {
   "cell_type": "code",
   "execution_count": 19,
   "metadata": {},
   "outputs": [
    {
     "name": "stderr",
     "output_type": "stream",
     "text": [
      "2020-12-10 20:25:53,520 : INFO : training model with 8 workers on 30369 vocabulary and 300 features, using sg=0 hs=0 sample=0.001 negative=5 window=7\n",
      "2020-12-10 20:25:54,571 : INFO : EPOCH 1 - PROGRESS: at 13.79% examples, 1121911 words/s, in_qsize 16, out_qsize 1\n",
      "2020-12-10 20:25:55,574 : INFO : EPOCH 1 - PROGRESS: at 28.07% examples, 1147678 words/s, in_qsize 15, out_qsize 0\n",
      "2020-12-10 20:25:56,590 : INFO : EPOCH 1 - PROGRESS: at 41.91% examples, 1138956 words/s, in_qsize 16, out_qsize 1\n",
      "2020-12-10 20:25:57,592 : INFO : EPOCH 1 - PROGRESS: at 55.32% examples, 1130063 words/s, in_qsize 15, out_qsize 0\n",
      "2020-12-10 20:25:58,602 : INFO : EPOCH 1 - PROGRESS: at 69.50% examples, 1135073 words/s, in_qsize 15, out_qsize 0\n",
      "2020-12-10 20:25:59,627 : INFO : EPOCH 1 - PROGRESS: at 83.18% examples, 1128447 words/s, in_qsize 16, out_qsize 1\n",
      "2020-12-10 20:26:00,638 : INFO : EPOCH 1 - PROGRESS: at 97.39% examples, 1131859 words/s, in_qsize 14, out_qsize 1\n",
      "2020-12-10 20:26:00,753 : INFO : worker thread finished; awaiting finish of 7 more threads\n",
      "2020-12-10 20:26:00,763 : INFO : worker thread finished; awaiting finish of 6 more threads\n",
      "2020-12-10 20:26:00,767 : INFO : worker thread finished; awaiting finish of 5 more threads\n",
      "2020-12-10 20:26:00,773 : INFO : worker thread finished; awaiting finish of 4 more threads\n",
      "2020-12-10 20:26:00,776 : INFO : worker thread finished; awaiting finish of 3 more threads\n",
      "2020-12-10 20:26:00,777 : INFO : worker thread finished; awaiting finish of 2 more threads\n",
      "2020-12-10 20:26:00,787 : INFO : worker thread finished; awaiting finish of 1 more threads\n",
      "2020-12-10 20:26:00,795 : INFO : worker thread finished; awaiting finish of 0 more threads\n",
      "2020-12-10 20:26:00,796 : INFO : EPOCH - 1 : training on 9227204 raw words (8223031 effective words) took 7.2s, 1136897 effective words/s\n",
      "2020-12-10 20:26:01,852 : INFO : EPOCH 2 - PROGRESS: at 14.00% examples, 1138903 words/s, in_qsize 16, out_qsize 0\n",
      "2020-12-10 20:26:02,857 : INFO : EPOCH 2 - PROGRESS: at 28.72% examples, 1172068 words/s, in_qsize 14, out_qsize 1\n",
      "2020-12-10 20:26:03,859 : INFO : EPOCH 2 - PROGRESS: at 43.00% examples, 1172931 words/s, in_qsize 16, out_qsize 0\n",
      "2020-12-10 20:26:04,863 : INFO : EPOCH 2 - PROGRESS: at 57.27% examples, 1172321 words/s, in_qsize 16, out_qsize 0\n",
      "2020-12-10 20:26:05,875 : INFO : EPOCH 2 - PROGRESS: at 71.35% examples, 1166683 words/s, in_qsize 15, out_qsize 0\n",
      "2020-12-10 20:26:06,883 : INFO : EPOCH 2 - PROGRESS: at 85.99% examples, 1171015 words/s, in_qsize 16, out_qsize 0\n",
      "2020-12-10 20:26:07,807 : INFO : worker thread finished; awaiting finish of 7 more threads\n",
      "2020-12-10 20:26:07,810 : INFO : worker thread finished; awaiting finish of 6 more threads\n",
      "2020-12-10 20:26:07,815 : INFO : worker thread finished; awaiting finish of 5 more threads\n",
      "2020-12-10 20:26:07,818 : INFO : worker thread finished; awaiting finish of 4 more threads\n",
      "2020-12-10 20:26:07,824 : INFO : worker thread finished; awaiting finish of 3 more threads\n",
      "2020-12-10 20:26:07,836 : INFO : worker thread finished; awaiting finish of 2 more threads\n",
      "2020-12-10 20:26:07,838 : INFO : worker thread finished; awaiting finish of 1 more threads\n",
      "2020-12-10 20:26:07,843 : INFO : worker thread finished; awaiting finish of 0 more threads\n",
      "2020-12-10 20:26:07,844 : INFO : EPOCH - 2 : training on 9227204 raw words (8221781 effective words) took 7.0s, 1174445 effective words/s\n",
      "2020-12-10 20:26:08,875 : INFO : EPOCH 3 - PROGRESS: at 13.36% examples, 1080786 words/s, in_qsize 15, out_qsize 0\n",
      "2020-12-10 20:26:09,880 : INFO : EPOCH 3 - PROGRESS: at 27.21% examples, 1107022 words/s, in_qsize 16, out_qsize 1\n",
      "2020-12-10 20:26:10,885 : INFO : EPOCH 3 - PROGRESS: at 41.37% examples, 1124888 words/s, in_qsize 15, out_qsize 0\n",
      "2020-12-10 20:26:11,890 : INFO : EPOCH 3 - PROGRESS: at 55.32% examples, 1129649 words/s, in_qsize 15, out_qsize 0\n",
      "2020-12-10 20:26:12,907 : INFO : EPOCH 3 - PROGRESS: at 68.96% examples, 1124510 words/s, in_qsize 16, out_qsize 1\n",
      "2020-12-10 20:26:13,908 : INFO : EPOCH 3 - PROGRESS: at 83.29% examples, 1132812 words/s, in_qsize 16, out_qsize 0\n",
      "2020-12-10 20:26:14,910 : INFO : EPOCH 3 - PROGRESS: at 97.39% examples, 1135813 words/s, in_qsize 15, out_qsize 0\n",
      "2020-12-10 20:26:15,029 : INFO : worker thread finished; awaiting finish of 7 more threads\n",
      "2020-12-10 20:26:15,032 : INFO : worker thread finished; awaiting finish of 6 more threads\n",
      "2020-12-10 20:26:15,035 : INFO : worker thread finished; awaiting finish of 5 more threads\n",
      "2020-12-10 20:26:15,037 : INFO : worker thread finished; awaiting finish of 4 more threads\n",
      "2020-12-10 20:26:15,039 : INFO : worker thread finished; awaiting finish of 3 more threads\n",
      "2020-12-10 20:26:15,043 : INFO : worker thread finished; awaiting finish of 2 more threads\n",
      "2020-12-10 20:26:15,059 : INFO : worker thread finished; awaiting finish of 1 more threads\n",
      "2020-12-10 20:26:15,060 : INFO : worker thread finished; awaiting finish of 0 more threads\n",
      "2020-12-10 20:26:15,061 : INFO : EPOCH - 3 : training on 9227204 raw words (8222557 effective words) took 7.2s, 1141983 effective words/s\n",
      "2020-12-10 20:26:16,092 : INFO : EPOCH 4 - PROGRESS: at 14.22% examples, 1162912 words/s, in_qsize 16, out_qsize 0\n",
      "2020-12-10 20:26:17,102 : INFO : EPOCH 4 - PROGRESS: at 28.40% examples, 1159653 words/s, in_qsize 15, out_qsize 0\n",
      "2020-12-10 20:26:18,107 : INFO : EPOCH 4 - PROGRESS: at 42.13% examples, 1148013 words/s, in_qsize 14, out_qsize 1\n",
      "2020-12-10 20:26:19,109 : INFO : EPOCH 4 - PROGRESS: at 56.40% examples, 1154597 words/s, in_qsize 15, out_qsize 0\n",
      "2020-12-10 20:26:20,121 : INFO : EPOCH 4 - PROGRESS: at 70.16% examples, 1147307 words/s, in_qsize 15, out_qsize 0\n",
      "2020-12-10 20:26:21,126 : INFO : EPOCH 4 - PROGRESS: at 84.48% examples, 1151067 words/s, in_qsize 14, out_qsize 1\n",
      "2020-12-10 20:26:22,130 : INFO : EPOCH 4 - PROGRESS: at 99.23% examples, 1158838 words/s, in_qsize 7, out_qsize 2\n",
      "2020-12-10 20:26:22,135 : INFO : worker thread finished; awaiting finish of 7 more threads\n",
      "2020-12-10 20:26:22,136 : INFO : worker thread finished; awaiting finish of 6 more threads\n",
      "2020-12-10 20:26:22,139 : INFO : worker thread finished; awaiting finish of 5 more threads\n",
      "2020-12-10 20:26:22,140 : INFO : worker thread finished; awaiting finish of 4 more threads\n",
      "2020-12-10 20:26:22,150 : INFO : worker thread finished; awaiting finish of 3 more threads\n",
      "2020-12-10 20:26:22,151 : INFO : worker thread finished; awaiting finish of 2 more threads\n",
      "2020-12-10 20:26:22,167 : INFO : worker thread finished; awaiting finish of 1 more threads\n",
      "2020-12-10 20:26:22,168 : INFO : worker thread finished; awaiting finish of 0 more threads\n",
      "2020-12-10 20:26:22,169 : INFO : EPOCH - 4 : training on 9227204 raw words (8223449 effective words) took 7.1s, 1161508 effective words/s\n",
      "2020-12-10 20:26:23,208 : INFO : EPOCH 5 - PROGRESS: at 14.65% examples, 1202554 words/s, in_qsize 16, out_qsize 0\n",
      "2020-12-10 20:26:24,208 : INFO : EPOCH 5 - PROGRESS: at 28.07% examples, 1153409 words/s, in_qsize 16, out_qsize 0\n",
      "2020-12-10 20:26:25,227 : INFO : EPOCH 5 - PROGRESS: at 42.35% examples, 1153623 words/s, in_qsize 16, out_qsize 2\n",
      "2020-12-10 20:26:26,234 : INFO : EPOCH 5 - PROGRESS: at 56.73% examples, 1159504 words/s, in_qsize 15, out_qsize 0\n",
      "2020-12-10 20:26:27,235 : INFO : EPOCH 5 - PROGRESS: at 71.56% examples, 1171338 words/s, in_qsize 15, out_qsize 0\n",
      "2020-12-10 20:26:28,239 : INFO : EPOCH 5 - PROGRESS: at 85.55% examples, 1166713 words/s, in_qsize 15, out_qsize 0\n",
      "2020-12-10 20:26:29,175 : INFO : worker thread finished; awaiting finish of 7 more threads\n",
      "2020-12-10 20:26:29,185 : INFO : worker thread finished; awaiting finish of 6 more threads\n",
      "2020-12-10 20:26:29,186 : INFO : worker thread finished; awaiting finish of 5 more threads\n",
      "2020-12-10 20:26:29,195 : INFO : worker thread finished; awaiting finish of 4 more threads\n",
      "2020-12-10 20:26:29,200 : INFO : worker thread finished; awaiting finish of 3 more threads\n",
      "2020-12-10 20:26:29,201 : INFO : worker thread finished; awaiting finish of 2 more threads\n",
      "2020-12-10 20:26:29,207 : INFO : worker thread finished; awaiting finish of 1 more threads\n",
      "2020-12-10 20:26:29,215 : INFO : worker thread finished; awaiting finish of 0 more threads\n",
      "2020-12-10 20:26:29,216 : INFO : EPOCH - 5 : training on 9227204 raw words (8222426 effective words) took 7.0s, 1173376 effective words/s\n",
      "2020-12-10 20:26:30,255 : INFO : EPOCH 6 - PROGRESS: at 13.79% examples, 1112019 words/s, in_qsize 16, out_qsize 0\n",
      "2020-12-10 20:26:31,261 : INFO : EPOCH 6 - PROGRESS: at 27.75% examples, 1127129 words/s, in_qsize 16, out_qsize 0\n",
      "2020-12-10 20:26:32,280 : INFO : EPOCH 6 - PROGRESS: at 42.02% examples, 1136107 words/s, in_qsize 15, out_qsize 0\n",
      "2020-12-10 20:26:33,284 : INFO : EPOCH 6 - PROGRESS: at 55.75% examples, 1133930 words/s, in_qsize 14, out_qsize 1\n",
      "2020-12-10 20:26:34,287 : INFO : EPOCH 6 - PROGRESS: at 69.94% examples, 1140081 words/s, in_qsize 16, out_qsize 2\n",
      "2020-12-10 20:26:35,294 : INFO : EPOCH 6 - PROGRESS: at 84.37% examples, 1145957 words/s, in_qsize 16, out_qsize 0\n",
      "2020-12-10 20:26:36,298 : INFO : EPOCH 6 - PROGRESS: at 97.18% examples, 1131784 words/s, in_qsize 14, out_qsize 2\n",
      "2020-12-10 20:26:36,437 : INFO : worker thread finished; awaiting finish of 7 more threads\n",
      "2020-12-10 20:26:36,442 : INFO : worker thread finished; awaiting finish of 6 more threads\n",
      "2020-12-10 20:26:36,443 : INFO : worker thread finished; awaiting finish of 5 more threads\n",
      "2020-12-10 20:26:36,449 : INFO : worker thread finished; awaiting finish of 4 more threads\n",
      "2020-12-10 20:26:36,451 : INFO : worker thread finished; awaiting finish of 3 more threads\n",
      "2020-12-10 20:26:36,458 : INFO : worker thread finished; awaiting finish of 2 more threads\n",
      "2020-12-10 20:26:36,460 : INFO : worker thread finished; awaiting finish of 1 more threads\n",
      "2020-12-10 20:26:36,469 : INFO : worker thread finished; awaiting finish of 0 more threads\n",
      "2020-12-10 20:26:36,470 : INFO : EPOCH - 6 : training on 9227204 raw words (8222617 effective words) took 7.2s, 1137081 effective words/s\n",
      "2020-12-10 20:26:37,497 : INFO : EPOCH 7 - PROGRESS: at 13.47% examples, 1099439 words/s, in_qsize 16, out_qsize 0\n",
      "2020-12-10 20:26:38,503 : INFO : EPOCH 7 - PROGRESS: at 27.64% examples, 1129358 words/s, in_qsize 16, out_qsize 0\n",
      "2020-12-10 20:26:39,509 : INFO : EPOCH 7 - PROGRESS: at 41.05% examples, 1118765 words/s, in_qsize 16, out_qsize 2\n",
      "2020-12-10 20:26:40,521 : INFO : EPOCH 7 - PROGRESS: at 54.35% examples, 1109807 words/s, in_qsize 16, out_qsize 1\n",
      "2020-12-10 20:26:41,527 : INFO : EPOCH 7 - PROGRESS: at 67.77% examples, 1107374 words/s, in_qsize 16, out_qsize 0\n",
      "2020-12-10 20:26:42,533 : INFO : EPOCH 7 - PROGRESS: at 81.99% examples, 1116324 words/s, in_qsize 15, out_qsize 0\n",
      "2020-12-10 20:26:43,533 : INFO : EPOCH 7 - PROGRESS: at 95.88% examples, 1119537 words/s, in_qsize 16, out_qsize 0\n",
      "2020-12-10 20:26:43,775 : INFO : worker thread finished; awaiting finish of 7 more threads\n",
      "2020-12-10 20:26:43,784 : INFO : worker thread finished; awaiting finish of 6 more threads\n",
      "2020-12-10 20:26:43,789 : INFO : worker thread finished; awaiting finish of 5 more threads\n",
      "2020-12-10 20:26:43,791 : INFO : worker thread finished; awaiting finish of 4 more threads\n",
      "2020-12-10 20:26:43,799 : INFO : worker thread finished; awaiting finish of 3 more threads\n",
      "2020-12-10 20:26:43,800 : INFO : worker thread finished; awaiting finish of 2 more threads\n",
      "2020-12-10 20:26:43,815 : INFO : worker thread finished; awaiting finish of 1 more threads\n",
      "2020-12-10 20:26:43,816 : INFO : worker thread finished; awaiting finish of 0 more threads\n",
      "2020-12-10 20:26:43,817 : INFO : EPOCH - 7 : training on 9227204 raw words (8223208 effective words) took 7.3s, 1122441 effective words/s\n",
      "2020-12-10 20:26:44,847 : INFO : EPOCH 8 - PROGRESS: at 13.57% examples, 1100170 words/s, in_qsize 13, out_qsize 2\n",
      "2020-12-10 20:26:45,849 : INFO : EPOCH 8 - PROGRESS: at 27.86% examples, 1136724 words/s, in_qsize 16, out_qsize 1\n",
      "2020-12-10 20:26:46,856 : INFO : EPOCH 8 - PROGRESS: at 41.70% examples, 1135351 words/s, in_qsize 14, out_qsize 1\n",
      "2020-12-10 20:26:47,861 : INFO : EPOCH 8 - PROGRESS: at 55.86% examples, 1141715 words/s, in_qsize 16, out_qsize 0\n",
      "2020-12-10 20:26:48,869 : INFO : EPOCH 8 - PROGRESS: at 70.05% examples, 1144997 words/s, in_qsize 13, out_qsize 2\n",
      "2020-12-10 20:26:49,884 : INFO : EPOCH 8 - PROGRESS: at 84.16% examples, 1144076 words/s, in_qsize 15, out_qsize 0\n",
      "2020-12-10 20:26:50,885 : INFO : EPOCH 8 - PROGRESS: at 98.69% examples, 1150898 words/s, in_qsize 12, out_qsize 1\n",
      "2020-12-10 20:26:50,919 : INFO : worker thread finished; awaiting finish of 7 more threads\n",
      "2020-12-10 20:26:50,934 : INFO : worker thread finished; awaiting finish of 6 more threads\n",
      "2020-12-10 20:26:50,937 : INFO : worker thread finished; awaiting finish of 5 more threads\n",
      "2020-12-10 20:26:50,939 : INFO : worker thread finished; awaiting finish of 4 more threads\n",
      "2020-12-10 20:26:50,944 : INFO : worker thread finished; awaiting finish of 3 more threads\n",
      "2020-12-10 20:26:50,952 : INFO : worker thread finished; awaiting finish of 2 more threads\n",
      "2020-12-10 20:26:50,954 : INFO : worker thread finished; awaiting finish of 1 more threads\n",
      "2020-12-10 20:26:50,960 : INFO : worker thread finished; awaiting finish of 0 more threads\n",
      "2020-12-10 20:26:50,960 : INFO : EPOCH - 8 : training on 9227204 raw words (8222443 effective words) took 7.1s, 1153994 effective words/s\n",
      "2020-12-10 20:26:51,982 : INFO : EPOCH 9 - PROGRESS: at 12.82% examples, 1048460 words/s, in_qsize 16, out_qsize 1\n",
      "2020-12-10 20:26:53,000 : INFO : EPOCH 9 - PROGRESS: at 26.88% examples, 1093114 words/s, in_qsize 15, out_qsize 0\n",
      "2020-12-10 20:26:54,001 : INFO : EPOCH 9 - PROGRESS: at 39.00% examples, 1061209 words/s, in_qsize 15, out_qsize 0\n",
      "2020-12-10 20:26:55,005 : INFO : EPOCH 9 - PROGRESS: at 52.73% examples, 1077664 words/s, in_qsize 16, out_qsize 0\n",
      "2020-12-10 20:26:56,009 : INFO : EPOCH 9 - PROGRESS: at 66.80% examples, 1092878 words/s, in_qsize 15, out_qsize 0\n",
      "2020-12-10 20:26:57,024 : INFO : EPOCH 9 - PROGRESS: at 81.12% examples, 1103934 words/s, in_qsize 16, out_qsize 0\n",
      "2020-12-10 20:26:58,027 : INFO : EPOCH 9 - PROGRESS: at 95.01% examples, 1108445 words/s, in_qsize 15, out_qsize 0\n",
      "2020-12-10 20:26:58,306 : INFO : worker thread finished; awaiting finish of 7 more threads\n",
      "2020-12-10 20:26:58,312 : INFO : worker thread finished; awaiting finish of 6 more threads\n",
      "2020-12-10 20:26:58,315 : INFO : worker thread finished; awaiting finish of 5 more threads\n",
      "2020-12-10 20:26:58,317 : INFO : worker thread finished; awaiting finish of 4 more threads\n",
      "2020-12-10 20:26:58,329 : INFO : worker thread finished; awaiting finish of 3 more threads\n",
      "2020-12-10 20:26:58,330 : INFO : worker thread finished; awaiting finish of 2 more threads\n",
      "2020-12-10 20:26:58,333 : INFO : worker thread finished; awaiting finish of 1 more threads\n",
      "2020-12-10 20:26:58,339 : INFO : worker thread finished; awaiting finish of 0 more threads\n",
      "2020-12-10 20:26:58,340 : INFO : EPOCH - 9 : training on 9227204 raw words (8222466 effective words) took 7.4s, 1117011 effective words/s\n",
      "2020-12-10 20:26:59,380 : INFO : EPOCH 10 - PROGRESS: at 12.82% examples, 1038419 words/s, in_qsize 16, out_qsize 0\n",
      "2020-12-10 20:27:00,392 : INFO : EPOCH 10 - PROGRESS: at 26.34% examples, 1069063 words/s, in_qsize 15, out_qsize 0\n",
      "2020-12-10 20:27:01,395 : INFO : EPOCH 10 - PROGRESS: at 39.97% examples, 1085737 words/s, in_qsize 16, out_qsize 1\n",
      "2020-12-10 20:27:02,398 : INFO : EPOCH 10 - PROGRESS: at 53.70% examples, 1096281 words/s, in_qsize 15, out_qsize 0\n",
      "2020-12-10 20:27:03,408 : INFO : EPOCH 10 - PROGRESS: at 67.24% examples, 1097707 words/s, in_qsize 15, out_qsize 0\n",
      "2020-12-10 20:27:04,418 : INFO : EPOCH 10 - PROGRESS: at 81.01% examples, 1101312 words/s, in_qsize 16, out_qsize 2\n",
      "2020-12-10 20:27:05,422 : INFO : EPOCH 10 - PROGRESS: at 94.68% examples, 1103632 words/s, in_qsize 14, out_qsize 1\n",
      "2020-12-10 20:27:05,734 : INFO : worker thread finished; awaiting finish of 7 more threads\n",
      "2020-12-10 20:27:05,736 : INFO : worker thread finished; awaiting finish of 6 more threads\n",
      "2020-12-10 20:27:05,737 : INFO : worker thread finished; awaiting finish of 5 more threads\n",
      "2020-12-10 20:27:05,738 : INFO : worker thread finished; awaiting finish of 4 more threads\n",
      "2020-12-10 20:27:05,742 : INFO : worker thread finished; awaiting finish of 3 more threads\n",
      "2020-12-10 20:27:05,744 : INFO : worker thread finished; awaiting finish of 2 more threads\n",
      "2020-12-10 20:27:05,756 : INFO : worker thread finished; awaiting finish of 1 more threads\n",
      "2020-12-10 20:27:05,758 : INFO : worker thread finished; awaiting finish of 0 more threads\n",
      "2020-12-10 20:27:05,759 : INFO : EPOCH - 10 : training on 9227204 raw words (8222803 effective words) took 7.4s, 1112497 effective words/s\n",
      "2020-12-10 20:27:06,778 : INFO : EPOCH 11 - PROGRESS: at 12.71% examples, 1034024 words/s, in_qsize 16, out_qsize 0\n",
      "2020-12-10 20:27:07,784 : INFO : EPOCH 11 - PROGRESS: at 26.23% examples, 1070768 words/s, in_qsize 14, out_qsize 1\n",
      "2020-12-10 20:27:08,786 : INFO : EPOCH 11 - PROGRESS: at 39.86% examples, 1087278 words/s, in_qsize 13, out_qsize 2\n",
      "2020-12-10 20:27:09,787 : INFO : EPOCH 11 - PROGRESS: at 53.92% examples, 1104794 words/s, in_qsize 16, out_qsize 0\n",
      "2020-12-10 20:27:10,792 : INFO : EPOCH 11 - PROGRESS: at 67.66% examples, 1108840 words/s, in_qsize 16, out_qsize 0\n",
      "2020-12-10 20:27:11,816 : INFO : EPOCH 11 - PROGRESS: at 80.80% examples, 1099239 words/s, in_qsize 16, out_qsize 1\n",
      "2020-12-10 20:27:12,827 : INFO : EPOCH 11 - PROGRESS: at 94.69% examples, 1103258 words/s, in_qsize 15, out_qsize 0\n",
      "2020-12-10 20:27:13,144 : INFO : worker thread finished; awaiting finish of 7 more threads\n",
      "2020-12-10 20:27:13,149 : INFO : worker thread finished; awaiting finish of 6 more threads\n",
      "2020-12-10 20:27:13,150 : INFO : worker thread finished; awaiting finish of 5 more threads\n",
      "2020-12-10 20:27:13,152 : INFO : worker thread finished; awaiting finish of 4 more threads\n",
      "2020-12-10 20:27:13,161 : INFO : worker thread finished; awaiting finish of 3 more threads\n",
      "2020-12-10 20:27:13,165 : INFO : worker thread finished; awaiting finish of 2 more threads\n",
      "2020-12-10 20:27:13,176 : INFO : worker thread finished; awaiting finish of 1 more threads\n",
      "2020-12-10 20:27:13,178 : INFO : worker thread finished; awaiting finish of 0 more threads\n",
      "2020-12-10 20:27:13,178 : INFO : EPOCH - 11 : training on 9227204 raw words (8223285 effective words) took 7.4s, 1110082 effective words/s\n",
      "2020-12-10 20:27:14,212 : INFO : EPOCH 12 - PROGRESS: at 13.25% examples, 1076511 words/s, in_qsize 15, out_qsize 0\n",
      "2020-12-10 20:27:15,226 : INFO : EPOCH 12 - PROGRESS: at 26.77% examples, 1087151 words/s, in_qsize 14, out_qsize 1\n",
      "2020-12-10 20:27:16,228 : INFO : EPOCH 12 - PROGRESS: at 40.94% examples, 1112709 words/s, in_qsize 15, out_qsize 0\n",
      "2020-12-10 20:27:17,235 : INFO : EPOCH 12 - PROGRESS: at 55.42% examples, 1131309 words/s, in_qsize 16, out_qsize 0\n",
      "2020-12-10 20:27:18,243 : INFO : EPOCH 12 - PROGRESS: at 69.72% examples, 1138370 words/s, in_qsize 16, out_qsize 0\n",
      "2020-12-10 20:27:19,249 : INFO : EPOCH 12 - PROGRESS: at 84.15% examples, 1144862 words/s, in_qsize 16, out_qsize 1\n",
      "2020-12-10 20:27:20,255 : INFO : EPOCH 12 - PROGRESS: at 98.47% examples, 1148106 words/s, in_qsize 15, out_qsize 0\n",
      "2020-12-10 20:27:20,298 : INFO : worker thread finished; awaiting finish of 7 more threads\n",
      "2020-12-10 20:27:20,304 : INFO : worker thread finished; awaiting finish of 6 more threads\n",
      "2020-12-10 20:27:20,307 : INFO : worker thread finished; awaiting finish of 5 more threads\n",
      "2020-12-10 20:27:20,314 : INFO : worker thread finished; awaiting finish of 4 more threads\n",
      "2020-12-10 20:27:20,318 : INFO : worker thread finished; awaiting finish of 3 more threads\n",
      "2020-12-10 20:27:20,323 : INFO : worker thread finished; awaiting finish of 2 more threads\n",
      "2020-12-10 20:27:20,331 : INFO : worker thread finished; awaiting finish of 1 more threads\n",
      "2020-12-10 20:27:20,333 : INFO : worker thread finished; awaiting finish of 0 more threads\n",
      "2020-12-10 20:27:20,334 : INFO : EPOCH - 12 : training on 9227204 raw words (8222791 effective words) took 7.1s, 1153115 effective words/s\n",
      "2020-12-10 20:27:21,355 : INFO : EPOCH 13 - PROGRESS: at 13.79% examples, 1119289 words/s, in_qsize 15, out_qsize 0\n",
      "2020-12-10 20:27:22,360 : INFO : EPOCH 13 - PROGRESS: at 27.64% examples, 1127259 words/s, in_qsize 16, out_qsize 0\n",
      "2020-12-10 20:27:23,379 : INFO : EPOCH 13 - PROGRESS: at 41.48% examples, 1124325 words/s, in_qsize 16, out_qsize 1\n",
      "2020-12-10 20:27:24,393 : INFO : EPOCH 13 - PROGRESS: at 54.67% examples, 1111213 words/s, in_qsize 16, out_qsize 0\n",
      "2020-12-10 20:27:25,397 : INFO : EPOCH 13 - PROGRESS: at 68.75% examples, 1119544 words/s, in_qsize 14, out_qsize 1\n",
      "2020-12-10 20:27:26,402 : INFO : EPOCH 13 - PROGRESS: at 83.07% examples, 1128052 words/s, in_qsize 15, out_qsize 0\n",
      "2020-12-10 20:27:27,413 : INFO : EPOCH 13 - PROGRESS: at 97.50% examples, 1134251 words/s, in_qsize 14, out_qsize 1\n",
      "2020-12-10 20:27:27,527 : INFO : worker thread finished; awaiting finish of 7 more threads\n",
      "2020-12-10 20:27:27,530 : INFO : worker thread finished; awaiting finish of 6 more threads\n",
      "2020-12-10 20:27:27,532 : INFO : worker thread finished; awaiting finish of 5 more threads\n",
      "2020-12-10 20:27:27,537 : INFO : worker thread finished; awaiting finish of 4 more threads\n",
      "2020-12-10 20:27:27,548 : INFO : worker thread finished; awaiting finish of 3 more threads\n",
      "2020-12-10 20:27:27,551 : INFO : worker thread finished; awaiting finish of 2 more threads\n",
      "2020-12-10 20:27:27,553 : INFO : worker thread finished; awaiting finish of 1 more threads\n",
      "2020-12-10 20:27:27,558 : INFO : worker thread finished; awaiting finish of 0 more threads\n",
      "2020-12-10 20:27:27,559 : INFO : EPOCH - 13 : training on 9227204 raw words (8223363 effective words) took 7.2s, 1139805 effective words/s\n",
      "2020-12-10 20:27:28,613 : INFO : EPOCH 14 - PROGRESS: at 13.90% examples, 1119248 words/s, in_qsize 15, out_qsize 0\n",
      "2020-12-10 20:27:29,622 : INFO : EPOCH 14 - PROGRESS: at 27.64% examples, 1120307 words/s, in_qsize 16, out_qsize 0\n",
      "2020-12-10 20:27:30,626 : INFO : EPOCH 14 - PROGRESS: at 41.37% examples, 1122398 words/s, in_qsize 16, out_qsize 2\n",
      "2020-12-10 20:27:31,632 : INFO : EPOCH 14 - PROGRESS: at 55.10% examples, 1123426 words/s, in_qsize 13, out_qsize 2\n",
      "2020-12-10 20:27:32,639 : INFO : EPOCH 14 - PROGRESS: at 68.43% examples, 1116357 words/s, in_qsize 15, out_qsize 0\n",
      "2020-12-10 20:27:33,645 : INFO : EPOCH 14 - PROGRESS: at 82.32% examples, 1119227 words/s, in_qsize 15, out_qsize 0\n",
      "2020-12-10 20:27:34,651 : INFO : EPOCH 14 - PROGRESS: at 96.10% examples, 1119762 words/s, in_qsize 15, out_qsize 0\n",
      "2020-12-10 20:27:34,883 : INFO : worker thread finished; awaiting finish of 7 more threads\n",
      "2020-12-10 20:27:34,886 : INFO : worker thread finished; awaiting finish of 6 more threads\n",
      "2020-12-10 20:27:34,886 : INFO : worker thread finished; awaiting finish of 5 more threads\n",
      "2020-12-10 20:27:34,889 : INFO : worker thread finished; awaiting finish of 4 more threads\n",
      "2020-12-10 20:27:34,891 : INFO : worker thread finished; awaiting finish of 3 more threads\n",
      "2020-12-10 20:27:34,899 : INFO : worker thread finished; awaiting finish of 2 more threads\n",
      "2020-12-10 20:27:34,904 : INFO : worker thread finished; awaiting finish of 1 more threads\n",
      "2020-12-10 20:27:34,910 : INFO : worker thread finished; awaiting finish of 0 more threads\n",
      "2020-12-10 20:27:34,911 : INFO : EPOCH - 14 : training on 9227204 raw words (8222775 effective words) took 7.3s, 1124055 effective words/s\n",
      "2020-12-10 20:27:35,958 : INFO : EPOCH 15 - PROGRESS: at 13.47% examples, 1094966 words/s, in_qsize 15, out_qsize 0\n",
      "2020-12-10 20:27:36,959 : INFO : EPOCH 15 - PROGRESS: at 27.64% examples, 1130755 words/s, in_qsize 15, out_qsize 0\n",
      "2020-12-10 20:27:37,966 : INFO : EPOCH 15 - PROGRESS: at 41.80% examples, 1140128 words/s, in_qsize 13, out_qsize 2\n",
      "2020-12-10 20:27:38,971 : INFO : EPOCH 15 - PROGRESS: at 55.53% examples, 1136870 words/s, in_qsize 14, out_qsize 1\n",
      "2020-12-10 20:27:39,975 : INFO : EPOCH 15 - PROGRESS: at 69.50% examples, 1138335 words/s, in_qsize 16, out_qsize 0\n",
      "2020-12-10 20:27:40,983 : INFO : EPOCH 15 - PROGRESS: at 83.51% examples, 1138682 words/s, in_qsize 14, out_qsize 1\n",
      "2020-12-10 20:27:41,983 : INFO : EPOCH 15 - PROGRESS: at 97.28% examples, 1137447 words/s, in_qsize 16, out_qsize 0\n",
      "2020-12-10 20:27:42,108 : INFO : worker thread finished; awaiting finish of 7 more threads\n",
      "2020-12-10 20:27:42,111 : INFO : worker thread finished; awaiting finish of 6 more threads\n",
      "2020-12-10 20:27:42,114 : INFO : worker thread finished; awaiting finish of 5 more threads\n",
      "2020-12-10 20:27:42,116 : INFO : worker thread finished; awaiting finish of 4 more threads\n",
      "2020-12-10 20:27:42,123 : INFO : worker thread finished; awaiting finish of 3 more threads\n",
      "2020-12-10 20:27:42,131 : INFO : worker thread finished; awaiting finish of 2 more threads\n",
      "2020-12-10 20:27:42,137 : INFO : worker thread finished; awaiting finish of 1 more threads\n",
      "2020-12-10 20:27:42,139 : INFO : worker thread finished; awaiting finish of 0 more threads\n",
      "2020-12-10 20:27:42,140 : INFO : EPOCH - 15 : training on 9227204 raw words (8223793 effective words) took 7.2s, 1143782 effective words/s\n",
      "2020-12-10 20:27:43,189 : INFO : EPOCH 16 - PROGRESS: at 13.90% examples, 1130942 words/s, in_qsize 16, out_qsize 0\n",
      "2020-12-10 20:27:44,197 : INFO : EPOCH 16 - PROGRESS: at 28.07% examples, 1145100 words/s, in_qsize 16, out_qsize 0\n",
      "2020-12-10 20:27:45,199 : INFO : EPOCH 16 - PROGRESS: at 42.24% examples, 1151492 words/s, in_qsize 16, out_qsize 0\n",
      "2020-12-10 20:27:46,212 : INFO : EPOCH 16 - PROGRESS: at 56.29% examples, 1149488 words/s, in_qsize 16, out_qsize 1\n",
      "2020-12-10 20:27:47,243 : INFO : EPOCH 16 - PROGRESS: at 70.59% examples, 1147768 words/s, in_qsize 15, out_qsize 0\n",
      "2020-12-10 20:27:48,256 : INFO : EPOCH 16 - PROGRESS: at 84.80% examples, 1148436 words/s, in_qsize 13, out_qsize 2\n",
      "2020-12-10 20:27:49,268 : INFO : EPOCH 16 - PROGRESS: at 99.12% examples, 1150274 words/s, in_qsize 8, out_qsize 1\n",
      "2020-12-10 20:27:49,277 : INFO : worker thread finished; awaiting finish of 7 more threads\n",
      "2020-12-10 20:27:49,281 : INFO : worker thread finished; awaiting finish of 6 more threads\n",
      "2020-12-10 20:27:49,283 : INFO : worker thread finished; awaiting finish of 5 more threads\n",
      "2020-12-10 20:27:49,284 : INFO : worker thread finished; awaiting finish of 4 more threads\n",
      "2020-12-10 20:27:49,297 : INFO : worker thread finished; awaiting finish of 3 more threads\n",
      "2020-12-10 20:27:49,298 : INFO : worker thread finished; awaiting finish of 2 more threads\n",
      "2020-12-10 20:27:49,299 : INFO : worker thread finished; awaiting finish of 1 more threads\n",
      "2020-12-10 20:27:49,306 : INFO : worker thread finished; awaiting finish of 0 more threads\n",
      "2020-12-10 20:27:49,307 : INFO : EPOCH - 16 : training on 9227204 raw words (8223335 effective words) took 7.1s, 1154030 effective words/s\n",
      "2020-12-10 20:27:50,360 : INFO : EPOCH 17 - PROGRESS: at 14.00% examples, 1133301 words/s, in_qsize 16, out_qsize 0\n",
      "2020-12-10 20:27:51,365 : INFO : EPOCH 17 - PROGRESS: at 27.96% examples, 1138530 words/s, in_qsize 16, out_qsize 0\n",
      "2020-12-10 20:27:52,367 : INFO : EPOCH 17 - PROGRESS: at 41.37% examples, 1126471 words/s, in_qsize 15, out_qsize 2\n",
      "2020-12-10 20:27:53,368 : INFO : EPOCH 17 - PROGRESS: at 55.21% examples, 1129910 words/s, in_qsize 14, out_qsize 1\n",
      "2020-12-10 20:27:54,370 : INFO : EPOCH 17 - PROGRESS: at 69.40% examples, 1136539 words/s, in_qsize 16, out_qsize 0\n",
      "2020-12-10 20:27:55,376 : INFO : EPOCH 17 - PROGRESS: at 83.83% examples, 1143361 words/s, in_qsize 16, out_qsize 1\n",
      "2020-12-10 20:27:56,381 : INFO : EPOCH 17 - PROGRESS: at 98.36% examples, 1149738 words/s, in_qsize 15, out_qsize 1\n",
      "2020-12-10 20:27:56,433 : INFO : worker thread finished; awaiting finish of 7 more threads\n",
      "2020-12-10 20:27:56,441 : INFO : worker thread finished; awaiting finish of 6 more threads\n",
      "2020-12-10 20:27:56,446 : INFO : worker thread finished; awaiting finish of 5 more threads\n",
      "2020-12-10 20:27:56,455 : INFO : worker thread finished; awaiting finish of 4 more threads\n",
      "2020-12-10 20:27:56,456 : INFO : worker thread finished; awaiting finish of 3 more threads\n",
      "2020-12-10 20:27:56,457 : INFO : worker thread finished; awaiting finish of 2 more threads\n",
      "2020-12-10 20:27:56,466 : INFO : worker thread finished; awaiting finish of 1 more threads\n",
      "2020-12-10 20:27:56,467 : INFO : worker thread finished; awaiting finish of 0 more threads\n",
      "2020-12-10 20:27:56,467 : INFO : EPOCH - 17 : training on 9227204 raw words (8222598 effective words) took 7.1s, 1154688 effective words/s\n",
      "2020-12-10 20:27:57,509 : INFO : EPOCH 18 - PROGRESS: at 13.47% examples, 1101556 words/s, in_qsize 15, out_qsize 0\n",
      "2020-12-10 20:27:58,531 : INFO : EPOCH 18 - PROGRESS: at 26.34% examples, 1069295 words/s, in_qsize 16, out_qsize 1\n",
      "2020-12-10 20:27:59,544 : INFO : EPOCH 18 - PROGRESS: at 38.89% examples, 1052660 words/s, in_qsize 15, out_qsize 0\n",
      "2020-12-10 20:28:00,557 : INFO : EPOCH 18 - PROGRESS: at 52.51% examples, 1066683 words/s, in_qsize 14, out_qsize 1\n",
      "2020-12-10 20:28:01,561 : INFO : EPOCH 18 - PROGRESS: at 66.15% examples, 1076705 words/s, in_qsize 15, out_qsize 0\n",
      "2020-12-10 20:28:02,565 : INFO : EPOCH 18 - PROGRESS: at 79.60% examples, 1080572 words/s, in_qsize 15, out_qsize 0\n",
      "2020-12-10 20:28:03,567 : INFO : EPOCH 18 - PROGRESS: at 93.37% examples, 1087473 words/s, in_qsize 15, out_qsize 0\n",
      "2020-12-10 20:28:03,999 : INFO : worker thread finished; awaiting finish of 7 more threads\n",
      "2020-12-10 20:28:04,010 : INFO : worker thread finished; awaiting finish of 6 more threads\n",
      "2020-12-10 20:28:04,011 : INFO : worker thread finished; awaiting finish of 5 more threads\n",
      "2020-12-10 20:28:04,012 : INFO : worker thread finished; awaiting finish of 4 more threads\n",
      "2020-12-10 20:28:04,027 : INFO : worker thread finished; awaiting finish of 3 more threads\n",
      "2020-12-10 20:28:04,028 : INFO : worker thread finished; awaiting finish of 2 more threads\n",
      "2020-12-10 20:28:04,029 : INFO : worker thread finished; awaiting finish of 1 more threads\n",
      "2020-12-10 20:28:04,035 : INFO : worker thread finished; awaiting finish of 0 more threads\n",
      "2020-12-10 20:28:04,036 : INFO : EPOCH - 18 : training on 9227204 raw words (8222464 effective words) took 7.5s, 1092067 effective words/s\n",
      "2020-12-10 20:28:05,094 : INFO : EPOCH 19 - PROGRESS: at 13.25% examples, 1067535 words/s, in_qsize 15, out_qsize 0\n",
      "2020-12-10 20:28:06,100 : INFO : EPOCH 19 - PROGRESS: at 26.67% examples, 1082542 words/s, in_qsize 15, out_qsize 0\n",
      "2020-12-10 20:28:07,108 : INFO : EPOCH 19 - PROGRESS: at 39.97% examples, 1084092 words/s, in_qsize 16, out_qsize 0\n",
      "2020-12-10 20:28:08,128 : INFO : EPOCH 19 - PROGRESS: at 53.59% examples, 1088223 words/s, in_qsize 15, out_qsize 0\n",
      "2020-12-10 20:28:09,141 : INFO : EPOCH 19 - PROGRESS: at 66.37% examples, 1078149 words/s, in_qsize 16, out_qsize 1\n",
      "2020-12-10 20:28:10,142 : INFO : EPOCH 19 - PROGRESS: at 79.27% examples, 1074756 words/s, in_qsize 15, out_qsize 0\n",
      "2020-12-10 20:28:11,155 : INFO : EPOCH 19 - PROGRESS: at 91.52% examples, 1063190 words/s, in_qsize 16, out_qsize 0\n",
      "2020-12-10 20:28:11,717 : INFO : worker thread finished; awaiting finish of 7 more threads\n",
      "2020-12-10 20:28:11,720 : INFO : worker thread finished; awaiting finish of 6 more threads\n",
      "2020-12-10 20:28:11,723 : INFO : worker thread finished; awaiting finish of 5 more threads\n",
      "2020-12-10 20:28:11,738 : INFO : worker thread finished; awaiting finish of 4 more threads\n",
      "2020-12-10 20:28:11,739 : INFO : worker thread finished; awaiting finish of 3 more threads\n",
      "2020-12-10 20:28:11,741 : INFO : worker thread finished; awaiting finish of 2 more threads\n",
      "2020-12-10 20:28:11,752 : INFO : worker thread finished; awaiting finish of 1 more threads\n",
      "2020-12-10 20:28:11,755 : INFO : worker thread finished; awaiting finish of 0 more threads\n",
      "2020-12-10 20:28:11,756 : INFO : EPOCH - 19 : training on 9227204 raw words (8221808 effective words) took 7.7s, 1070575 effective words/s\n",
      "2020-12-10 20:28:12,786 : INFO : EPOCH 20 - PROGRESS: at 12.27% examples, 995937 words/s, in_qsize 13, out_qsize 2\n",
      "2020-12-10 20:28:13,787 : INFO : EPOCH 20 - PROGRESS: at 24.94% examples, 1018118 words/s, in_qsize 15, out_qsize 0\n",
      "2020-12-10 20:28:14,795 : INFO : EPOCH 20 - PROGRESS: at 37.05% examples, 1008881 words/s, in_qsize 15, out_qsize 0\n",
      "2020-12-10 20:28:15,815 : INFO : EPOCH 20 - PROGRESS: at 49.38% examples, 1005485 words/s, in_qsize 14, out_qsize 1\n",
      "2020-12-10 20:28:16,828 : INFO : EPOCH 20 - PROGRESS: at 61.71% examples, 1004829 words/s, in_qsize 16, out_qsize 1\n",
      "2020-12-10 20:28:17,831 : INFO : EPOCH 20 - PROGRESS: at 74.37% examples, 1010628 words/s, in_qsize 15, out_qsize 0\n",
      "2020-12-10 20:28:18,842 : INFO : EPOCH 20 - PROGRESS: at 86.75% examples, 1009691 words/s, in_qsize 15, out_qsize 0\n",
      "2020-12-10 20:28:19,785 : INFO : worker thread finished; awaiting finish of 7 more threads\n",
      "2020-12-10 20:28:19,789 : INFO : worker thread finished; awaiting finish of 6 more threads\n",
      "2020-12-10 20:28:19,790 : INFO : worker thread finished; awaiting finish of 5 more threads\n",
      "2020-12-10 20:28:19,791 : INFO : worker thread finished; awaiting finish of 4 more threads\n",
      "2020-12-10 20:28:19,797 : INFO : worker thread finished; awaiting finish of 3 more threads\n",
      "2020-12-10 20:28:19,808 : INFO : worker thread finished; awaiting finish of 2 more threads\n",
      "2020-12-10 20:28:19,810 : INFO : worker thread finished; awaiting finish of 1 more threads\n",
      "2020-12-10 20:28:19,814 : INFO : worker thread finished; awaiting finish of 0 more threads\n",
      "2020-12-10 20:28:19,815 : INFO : EPOCH - 20 : training on 9227204 raw words (8223421 effective words) took 8.0s, 1022726 effective words/s\n",
      "2020-12-10 20:28:20,865 : INFO : EPOCH 21 - PROGRESS: at 13.58% examples, 1113269 words/s, in_qsize 16, out_qsize 0\n",
      "2020-12-10 20:28:21,881 : INFO : EPOCH 21 - PROGRESS: at 26.23% examples, 1068922 words/s, in_qsize 15, out_qsize 0\n",
      "2020-12-10 20:28:22,900 : INFO : EPOCH 21 - PROGRESS: at 39.22% examples, 1062527 words/s, in_qsize 16, out_qsize 1\n",
      "2020-12-10 20:28:23,903 : INFO : EPOCH 21 - PROGRESS: at 51.86% examples, 1056720 words/s, in_qsize 15, out_qsize 0\n",
      "2020-12-10 20:28:24,917 : INFO : EPOCH 21 - PROGRESS: at 64.95% examples, 1058046 words/s, in_qsize 16, out_qsize 1\n",
      "2020-12-10 20:28:25,929 : INFO : EPOCH 21 - PROGRESS: at 78.51% examples, 1065012 words/s, in_qsize 15, out_qsize 0\n",
      "2020-12-10 20:28:26,939 : INFO : EPOCH 21 - PROGRESS: at 92.17% examples, 1071427 words/s, in_qsize 16, out_qsize 1\n",
      "2020-12-10 20:28:27,456 : INFO : worker thread finished; awaiting finish of 7 more threads\n",
      "2020-12-10 20:28:27,458 : INFO : worker thread finished; awaiting finish of 6 more threads\n",
      "2020-12-10 20:28:27,460 : INFO : worker thread finished; awaiting finish of 5 more threads\n",
      "2020-12-10 20:28:27,463 : INFO : worker thread finished; awaiting finish of 4 more threads\n",
      "2020-12-10 20:28:27,468 : INFO : worker thread finished; awaiting finish of 3 more threads\n",
      "2020-12-10 20:28:27,482 : INFO : worker thread finished; awaiting finish of 2 more threads\n",
      "2020-12-10 20:28:27,484 : INFO : worker thread finished; awaiting finish of 1 more threads\n",
      "2020-12-10 20:28:27,485 : INFO : worker thread finished; awaiting finish of 0 more threads\n",
      "2020-12-10 20:28:27,486 : INFO : EPOCH - 21 : training on 9227204 raw words (8222232 effective words) took 7.6s, 1078860 effective words/s\n",
      "2020-12-10 20:28:28,529 : INFO : EPOCH 22 - PROGRESS: at 13.25% examples, 1080404 words/s, in_qsize 16, out_qsize 0\n",
      "2020-12-10 20:28:29,550 : INFO : EPOCH 22 - PROGRESS: at 26.56% examples, 1076587 words/s, in_qsize 16, out_qsize 2\n",
      "2020-12-10 20:28:30,557 : INFO : EPOCH 22 - PROGRESS: at 40.19% examples, 1089164 words/s, in_qsize 15, out_qsize 0\n",
      "2020-12-10 20:28:31,566 : INFO : EPOCH 22 - PROGRESS: at 53.81% examples, 1095171 words/s, in_qsize 16, out_qsize 0\n",
      "2020-12-10 20:28:32,569 : INFO : EPOCH 22 - PROGRESS: at 66.91% examples, 1091175 words/s, in_qsize 16, out_qsize 0\n",
      "2020-12-10 20:28:33,580 : INFO : EPOCH 22 - PROGRESS: at 79.92% examples, 1085402 words/s, in_qsize 14, out_qsize 1\n",
      "2020-12-10 20:28:34,598 : INFO : EPOCH 22 - PROGRESS: at 92.83% examples, 1078893 words/s, in_qsize 15, out_qsize 0\n",
      "2020-12-10 20:28:35,047 : INFO : worker thread finished; awaiting finish of 7 more threads\n",
      "2020-12-10 20:28:35,058 : INFO : worker thread finished; awaiting finish of 6 more threads\n",
      "2020-12-10 20:28:35,059 : INFO : worker thread finished; awaiting finish of 5 more threads\n",
      "2020-12-10 20:28:35,061 : INFO : worker thread finished; awaiting finish of 4 more threads\n",
      "2020-12-10 20:28:35,077 : INFO : worker thread finished; awaiting finish of 3 more threads\n",
      "2020-12-10 20:28:35,078 : INFO : worker thread finished; awaiting finish of 2 more threads\n",
      "2020-12-10 20:28:35,079 : INFO : worker thread finished; awaiting finish of 1 more threads\n",
      "2020-12-10 20:28:35,086 : INFO : worker thread finished; awaiting finish of 0 more threads\n",
      "2020-12-10 20:28:35,087 : INFO : EPOCH - 22 : training on 9227204 raw words (8222138 effective words) took 7.6s, 1087002 effective words/s\n",
      "2020-12-10 20:28:36,124 : INFO : EPOCH 23 - PROGRESS: at 13.04% examples, 1058051 words/s, in_qsize 16, out_qsize 0\n",
      "2020-12-10 20:28:37,130 : INFO : EPOCH 23 - PROGRESS: at 26.23% examples, 1068882 words/s, in_qsize 14, out_qsize 1\n",
      "2020-12-10 20:28:38,146 : INFO : EPOCH 23 - PROGRESS: at 40.62% examples, 1101623 words/s, in_qsize 15, out_qsize 0\n",
      "2020-12-10 20:28:39,155 : INFO : EPOCH 23 - PROGRESS: at 54.25% examples, 1104399 words/s, in_qsize 14, out_qsize 1\n",
      "2020-12-10 20:28:40,168 : INFO : EPOCH 23 - PROGRESS: at 67.77% examples, 1103161 words/s, in_qsize 14, out_qsize 1\n",
      "2020-12-10 20:28:41,175 : INFO : EPOCH 23 - PROGRESS: at 81.45% examples, 1105207 words/s, in_qsize 14, out_qsize 1\n",
      "2020-12-10 20:28:42,177 : INFO : EPOCH 23 - PROGRESS: at 96.31% examples, 1121063 words/s, in_qsize 15, out_qsize 0\n",
      "2020-12-10 20:28:42,369 : INFO : worker thread finished; awaiting finish of 7 more threads\n",
      "2020-12-10 20:28:42,375 : INFO : worker thread finished; awaiting finish of 6 more threads\n",
      "2020-12-10 20:28:42,379 : INFO : worker thread finished; awaiting finish of 5 more threads\n",
      "2020-12-10 20:28:42,383 : INFO : worker thread finished; awaiting finish of 4 more threads\n",
      "2020-12-10 20:28:42,385 : INFO : worker thread finished; awaiting finish of 3 more threads\n",
      "2020-12-10 20:28:42,400 : INFO : worker thread finished; awaiting finish of 2 more threads\n",
      "2020-12-10 20:28:42,402 : INFO : worker thread finished; awaiting finish of 1 more threads\n",
      "2020-12-10 20:28:42,407 : INFO : worker thread finished; awaiting finish of 0 more threads\n",
      "2020-12-10 20:28:42,408 : INFO : EPOCH - 23 : training on 9227204 raw words (8221158 effective words) took 7.3s, 1127262 effective words/s\n",
      "2020-12-10 20:28:43,430 : INFO : EPOCH 24 - PROGRESS: at 13.79% examples, 1131132 words/s, in_qsize 13, out_qsize 2\n",
      "2020-12-10 20:28:44,437 : INFO : EPOCH 24 - PROGRESS: at 28.18% examples, 1153398 words/s, in_qsize 15, out_qsize 0\n",
      "2020-12-10 20:28:45,439 : INFO : EPOCH 24 - PROGRESS: at 42.68% examples, 1166024 words/s, in_qsize 15, out_qsize 0\n",
      "2020-12-10 20:28:46,444 : INFO : EPOCH 24 - PROGRESS: at 57.49% examples, 1178297 words/s, in_qsize 16, out_qsize 0\n",
      "2020-12-10 20:28:47,446 : INFO : EPOCH 24 - PROGRESS: at 72.32% examples, 1186421 words/s, in_qsize 15, out_qsize 0\n",
      "2020-12-10 20:28:48,455 : INFO : EPOCH 24 - PROGRESS: at 86.85% examples, 1185756 words/s, in_qsize 15, out_qsize 1\n",
      "2020-12-10 20:28:49,282 : INFO : worker thread finished; awaiting finish of 7 more threads\n",
      "2020-12-10 20:28:49,289 : INFO : worker thread finished; awaiting finish of 6 more threads\n",
      "2020-12-10 20:28:49,293 : INFO : worker thread finished; awaiting finish of 5 more threads\n",
      "2020-12-10 20:28:49,298 : INFO : worker thread finished; awaiting finish of 4 more threads\n",
      "2020-12-10 20:28:49,300 : INFO : worker thread finished; awaiting finish of 3 more threads\n",
      "2020-12-10 20:28:49,302 : INFO : worker thread finished; awaiting finish of 2 more threads\n",
      "2020-12-10 20:28:49,312 : INFO : worker thread finished; awaiting finish of 1 more threads\n",
      "2020-12-10 20:28:49,318 : INFO : worker thread finished; awaiting finish of 0 more threads\n",
      "2020-12-10 20:28:49,319 : INFO : EPOCH - 24 : training on 9227204 raw words (8223270 effective words) took 6.9s, 1193603 effective words/s\n",
      "2020-12-10 20:28:50,343 : INFO : EPOCH 25 - PROGRESS: at 13.68% examples, 1121497 words/s, in_qsize 15, out_qsize 0\n",
      "2020-12-10 20:28:51,350 : INFO : EPOCH 25 - PROGRESS: at 28.07% examples, 1149253 words/s, in_qsize 16, out_qsize 1\n",
      "2020-12-10 20:28:52,353 : INFO : EPOCH 25 - PROGRESS: at 42.35% examples, 1156922 words/s, in_qsize 16, out_qsize 0\n",
      "2020-12-10 20:28:53,356 : INFO : EPOCH 25 - PROGRESS: at 57.16% examples, 1171929 words/s, in_qsize 16, out_qsize 0\n",
      "2020-12-10 20:28:54,362 : INFO : EPOCH 25 - PROGRESS: at 71.45% examples, 1171573 words/s, in_qsize 15, out_qsize 0\n",
      "2020-12-10 20:28:55,378 : INFO : EPOCH 25 - PROGRESS: at 86.21% examples, 1174966 words/s, in_qsize 16, out_qsize 0\n",
      "2020-12-10 20:28:56,256 : INFO : worker thread finished; awaiting finish of 7 more threads\n",
      "2020-12-10 20:28:56,261 : INFO : worker thread finished; awaiting finish of 6 more threads\n",
      "2020-12-10 20:28:56,272 : INFO : worker thread finished; awaiting finish of 5 more threads\n",
      "2020-12-10 20:28:56,273 : INFO : worker thread finished; awaiting finish of 4 more threads\n",
      "2020-12-10 20:28:56,275 : INFO : worker thread finished; awaiting finish of 3 more threads\n",
      "2020-12-10 20:28:56,275 : INFO : worker thread finished; awaiting finish of 2 more threads\n",
      "2020-12-10 20:28:56,284 : INFO : worker thread finished; awaiting finish of 1 more threads\n",
      "2020-12-10 20:28:56,290 : INFO : worker thread finished; awaiting finish of 0 more threads\n",
      "2020-12-10 20:28:56,291 : INFO : EPOCH - 25 : training on 9227204 raw words (8222835 effective words) took 6.9s, 1183336 effective words/s\n",
      "2020-12-10 20:28:57,312 : INFO : EPOCH 26 - PROGRESS: at 14.22% examples, 1164867 words/s, in_qsize 16, out_qsize 0\n",
      "2020-12-10 20:28:58,330 : INFO : EPOCH 26 - PROGRESS: at 27.10% examples, 1102972 words/s, in_qsize 14, out_qsize 1\n",
      "2020-12-10 20:28:59,337 : INFO : EPOCH 26 - PROGRESS: at 39.76% examples, 1080147 words/s, in_qsize 15, out_qsize 0\n",
      "2020-12-10 20:29:00,342 : INFO : EPOCH 26 - PROGRESS: at 52.73% examples, 1076078 words/s, in_qsize 16, out_qsize 0\n",
      "2020-12-10 20:29:01,351 : INFO : EPOCH 26 - PROGRESS: at 66.15% examples, 1079728 words/s, in_qsize 16, out_qsize 0\n",
      "2020-12-10 20:29:02,362 : INFO : EPOCH 26 - PROGRESS: at 80.36% examples, 1092205 words/s, in_qsize 15, out_qsize 0\n",
      "2020-12-10 20:29:03,372 : INFO : EPOCH 26 - PROGRESS: at 93.59% examples, 1089687 words/s, in_qsize 16, out_qsize 0\n",
      "2020-12-10 20:29:03,750 : INFO : worker thread finished; awaiting finish of 7 more threads\n",
      "2020-12-10 20:29:03,755 : INFO : worker thread finished; awaiting finish of 6 more threads\n",
      "2020-12-10 20:29:03,756 : INFO : worker thread finished; awaiting finish of 5 more threads\n",
      "2020-12-10 20:29:03,758 : INFO : worker thread finished; awaiting finish of 4 more threads\n",
      "2020-12-10 20:29:03,765 : INFO : worker thread finished; awaiting finish of 3 more threads\n",
      "2020-12-10 20:29:03,775 : INFO : worker thread finished; awaiting finish of 2 more threads\n",
      "2020-12-10 20:29:03,776 : INFO : worker thread finished; awaiting finish of 1 more threads\n",
      "2020-12-10 20:29:03,783 : INFO : worker thread finished; awaiting finish of 0 more threads\n",
      "2020-12-10 20:29:03,784 : INFO : EPOCH - 26 : training on 9227204 raw words (8221752 effective words) took 7.5s, 1100042 effective words/s\n",
      "2020-12-10 20:29:04,813 : INFO : EPOCH 27 - PROGRESS: at 13.68% examples, 1119794 words/s, in_qsize 14, out_qsize 1\n",
      "2020-12-10 20:29:05,822 : INFO : EPOCH 27 - PROGRESS: at 27.32% examples, 1116411 words/s, in_qsize 15, out_qsize 0\n",
      "2020-12-10 20:29:06,834 : INFO : EPOCH 27 - PROGRESS: at 41.59% examples, 1131908 words/s, in_qsize 16, out_qsize 1\n",
      "2020-12-10 20:29:07,833 : INFO : EPOCH 27 - PROGRESS: at 55.54% examples, 1136192 words/s, in_qsize 13, out_qsize 2\n",
      "2020-12-10 20:29:08,840 : INFO : EPOCH 27 - PROGRESS: at 69.18% examples, 1132008 words/s, in_qsize 16, out_qsize 1\n",
      "2020-12-10 20:29:09,860 : INFO : EPOCH 27 - PROGRESS: at 83.40% examples, 1134036 words/s, in_qsize 16, out_qsize 1\n",
      "2020-12-10 20:29:10,886 : INFO : EPOCH 27 - PROGRESS: at 97.39% examples, 1131769 words/s, in_qsize 15, out_qsize 0\n",
      "2020-12-10 20:29:10,985 : INFO : worker thread finished; awaiting finish of 7 more threads\n",
      "2020-12-10 20:29:10,992 : INFO : worker thread finished; awaiting finish of 6 more threads\n",
      "2020-12-10 20:29:10,997 : INFO : worker thread finished; awaiting finish of 5 more threads\n",
      "2020-12-10 20:29:10,999 : INFO : worker thread finished; awaiting finish of 4 more threads\n",
      "2020-12-10 20:29:11,017 : INFO : worker thread finished; awaiting finish of 3 more threads\n",
      "2020-12-10 20:29:11,019 : INFO : worker thread finished; awaiting finish of 2 more threads\n",
      "2020-12-10 20:29:11,023 : INFO : worker thread finished; awaiting finish of 1 more threads\n",
      "2020-12-10 20:29:11,028 : INFO : worker thread finished; awaiting finish of 0 more threads\n",
      "2020-12-10 20:29:11,028 : INFO : EPOCH - 27 : training on 9227204 raw words (8222082 effective words) took 7.2s, 1139242 effective words/s\n",
      "2020-12-10 20:29:12,068 : INFO : EPOCH 28 - PROGRESS: at 13.25% examples, 1076021 words/s, in_qsize 16, out_qsize 1\n",
      "2020-12-10 20:29:13,072 : INFO : EPOCH 28 - PROGRESS: at 26.99% examples, 1100806 words/s, in_qsize 14, out_qsize 1\n",
      "2020-12-10 20:29:14,086 : INFO : EPOCH 28 - PROGRESS: at 41.59% examples, 1128938 words/s, in_qsize 15, out_qsize 0\n",
      "2020-12-10 20:29:15,092 : INFO : EPOCH 28 - PROGRESS: at 55.75% examples, 1137071 words/s, in_qsize 16, out_qsize 0\n",
      "2020-12-10 20:29:16,107 : INFO : EPOCH 28 - PROGRESS: at 69.72% examples, 1136355 words/s, in_qsize 16, out_qsize 0\n",
      "2020-12-10 20:29:17,114 : INFO : EPOCH 28 - PROGRESS: at 84.26% examples, 1144365 words/s, in_qsize 16, out_qsize 0\n",
      "2020-12-10 20:29:18,126 : INFO : EPOCH 28 - PROGRESS: at 98.47% examples, 1145398 words/s, in_qsize 15, out_qsize 0\n",
      "2020-12-10 20:29:18,167 : INFO : worker thread finished; awaiting finish of 7 more threads\n",
      "2020-12-10 20:29:18,173 : INFO : worker thread finished; awaiting finish of 6 more threads\n",
      "2020-12-10 20:29:18,177 : INFO : worker thread finished; awaiting finish of 5 more threads\n",
      "2020-12-10 20:29:18,185 : INFO : worker thread finished; awaiting finish of 4 more threads\n",
      "2020-12-10 20:29:18,188 : INFO : worker thread finished; awaiting finish of 3 more threads\n",
      "2020-12-10 20:29:18,190 : INFO : worker thread finished; awaiting finish of 2 more threads\n",
      "2020-12-10 20:29:18,198 : INFO : worker thread finished; awaiting finish of 1 more threads\n",
      "2020-12-10 20:29:18,201 : INFO : worker thread finished; awaiting finish of 0 more threads\n",
      "2020-12-10 20:29:18,202 : INFO : EPOCH - 28 : training on 9227204 raw words (8222907 effective words) took 7.1s, 1150844 effective words/s\n",
      "2020-12-10 20:29:19,236 : INFO : EPOCH 29 - PROGRESS: at 13.68% examples, 1117310 words/s, in_qsize 14, out_qsize 1\n",
      "2020-12-10 20:29:20,250 : INFO : EPOCH 29 - PROGRESS: at 27.64% examples, 1124539 words/s, in_qsize 16, out_qsize 0\n",
      "2020-12-10 20:29:21,266 : INFO : EPOCH 29 - PROGRESS: at 42.02% examples, 1138597 words/s, in_qsize 15, out_qsize 0\n",
      "2020-12-10 20:29:22,268 : INFO : EPOCH 29 - PROGRESS: at 55.53% examples, 1132061 words/s, in_qsize 16, out_qsize 2\n",
      "2020-12-10 20:29:23,270 : INFO : EPOCH 29 - PROGRESS: at 69.83% examples, 1140077 words/s, in_qsize 15, out_qsize 0\n",
      "2020-12-10 20:29:24,272 : INFO : EPOCH 29 - PROGRESS: at 84.26% examples, 1147074 words/s, in_qsize 15, out_qsize 0\n",
      "2020-12-10 20:29:25,287 : INFO : EPOCH 29 - PROGRESS: at 98.58% examples, 1148800 words/s, in_qsize 12, out_qsize 2\n",
      "2020-12-10 20:29:25,317 : INFO : worker thread finished; awaiting finish of 7 more threads\n",
      "2020-12-10 20:29:25,332 : INFO : worker thread finished; awaiting finish of 6 more threads\n",
      "2020-12-10 20:29:25,334 : INFO : worker thread finished; awaiting finish of 5 more threads\n",
      "2020-12-10 20:29:25,337 : INFO : worker thread finished; awaiting finish of 4 more threads\n",
      "2020-12-10 20:29:25,338 : INFO : worker thread finished; awaiting finish of 3 more threads\n",
      "2020-12-10 20:29:25,345 : INFO : worker thread finished; awaiting finish of 2 more threads\n",
      "2020-12-10 20:29:25,354 : INFO : worker thread finished; awaiting finish of 1 more threads\n",
      "2020-12-10 20:29:25,358 : INFO : worker thread finished; awaiting finish of 0 more threads\n",
      "2020-12-10 20:29:25,359 : INFO : EPOCH - 29 : training on 9227204 raw words (8222094 effective words) took 7.1s, 1153484 effective words/s\n",
      "2020-12-10 20:29:26,385 : INFO : EPOCH 30 - PROGRESS: at 13.79% examples, 1121018 words/s, in_qsize 16, out_qsize 0\n",
      "2020-12-10 20:29:27,393 : INFO : EPOCH 30 - PROGRESS: at 27.75% examples, 1130434 words/s, in_qsize 16, out_qsize 2\n",
      "2020-12-10 20:29:28,399 : INFO : EPOCH 30 - PROGRESS: at 42.13% examples, 1146623 words/s, in_qsize 16, out_qsize 0\n",
      "2020-12-10 20:29:29,402 : INFO : EPOCH 30 - PROGRESS: at 56.62% examples, 1157429 words/s, in_qsize 15, out_qsize 0\n",
      "2020-12-10 20:29:30,415 : INFO : EPOCH 30 - PROGRESS: at 70.91% examples, 1158168 words/s, in_qsize 15, out_qsize 0\n",
      "2020-12-10 20:29:31,416 : INFO : EPOCH 30 - PROGRESS: at 85.02% examples, 1157817 words/s, in_qsize 15, out_qsize 0\n",
      "2020-12-10 20:29:32,424 : INFO : EPOCH 30 - PROGRESS: at 99.01% examples, 1155175 words/s, in_qsize 10, out_qsize 0\n",
      "2020-12-10 20:29:32,441 : INFO : worker thread finished; awaiting finish of 7 more threads\n",
      "2020-12-10 20:29:32,443 : INFO : worker thread finished; awaiting finish of 6 more threads\n",
      "2020-12-10 20:29:32,445 : INFO : worker thread finished; awaiting finish of 5 more threads\n",
      "2020-12-10 20:29:32,446 : INFO : worker thread finished; awaiting finish of 4 more threads\n",
      "2020-12-10 20:29:32,456 : INFO : worker thread finished; awaiting finish of 3 more threads\n",
      "2020-12-10 20:29:32,461 : INFO : worker thread finished; awaiting finish of 2 more threads\n",
      "2020-12-10 20:29:32,463 : INFO : worker thread finished; awaiting finish of 1 more threads\n",
      "2020-12-10 20:29:32,470 : INFO : worker thread finished; awaiting finish of 0 more threads\n",
      "2020-12-10 20:29:32,470 : INFO : EPOCH - 30 : training on 9227204 raw words (8223027 effective words) took 7.1s, 1159159 effective words/s\n",
      "2020-12-10 20:29:33,502 : INFO : EPOCH 31 - PROGRESS: at 13.47% examples, 1093864 words/s, in_qsize 15, out_qsize 0\n",
      "2020-12-10 20:29:34,507 : INFO : EPOCH 31 - PROGRESS: at 27.10% examples, 1105384 words/s, in_qsize 15, out_qsize 0\n",
      "2020-12-10 20:29:35,514 : INFO : EPOCH 31 - PROGRESS: at 41.48% examples, 1129115 words/s, in_qsize 16, out_qsize 0\n",
      "2020-12-10 20:29:36,517 : INFO : EPOCH 31 - PROGRESS: at 55.75% examples, 1140112 words/s, in_qsize 16, out_qsize 2\n",
      "2020-12-10 20:29:37,524 : INFO : EPOCH 31 - PROGRESS: at 70.48% examples, 1152650 words/s, in_qsize 16, out_qsize 0\n",
      "2020-12-10 20:29:38,530 : INFO : EPOCH 31 - PROGRESS: at 84.37% examples, 1149381 words/s, in_qsize 15, out_qsize 0\n",
      "2020-12-10 20:29:39,539 : INFO : EPOCH 31 - PROGRESS: at 98.58% examples, 1150218 words/s, in_qsize 14, out_qsize 0\n",
      "2020-12-10 20:29:39,563 : INFO : worker thread finished; awaiting finish of 7 more threads\n",
      "2020-12-10 20:29:39,576 : INFO : worker thread finished; awaiting finish of 6 more threads\n",
      "2020-12-10 20:29:39,580 : INFO : worker thread finished; awaiting finish of 5 more threads\n",
      "2020-12-10 20:29:39,587 : INFO : worker thread finished; awaiting finish of 4 more threads\n",
      "2020-12-10 20:29:39,600 : INFO : worker thread finished; awaiting finish of 3 more threads\n",
      "2020-12-10 20:29:39,602 : INFO : worker thread finished; awaiting finish of 2 more threads\n",
      "2020-12-10 20:29:39,604 : INFO : worker thread finished; awaiting finish of 1 more threads\n",
      "2020-12-10 20:29:39,605 : INFO : worker thread finished; awaiting finish of 0 more threads\n",
      "2020-12-10 20:29:39,606 : INFO : EPOCH - 31 : training on 9227204 raw words (8223094 effective words) took 7.1s, 1155923 effective words/s\n",
      "2020-12-10 20:29:40,649 : INFO : EPOCH 32 - PROGRESS: at 13.90% examples, 1135616 words/s, in_qsize 16, out_qsize 0\n",
      "2020-12-10 20:29:41,662 : INFO : EPOCH 32 - PROGRESS: at 28.18% examples, 1148139 words/s, in_qsize 15, out_qsize 0\n",
      "2020-12-10 20:29:42,679 : INFO : EPOCH 32 - PROGRESS: at 42.13% examples, 1142045 words/s, in_qsize 16, out_qsize 0\n",
      "2020-12-10 20:29:43,685 : INFO : EPOCH 32 - PROGRESS: at 56.62% examples, 1153399 words/s, in_qsize 16, out_qsize 0\n",
      "2020-12-10 20:29:44,686 : INFO : EPOCH 32 - PROGRESS: at 70.59% examples, 1152207 words/s, in_qsize 16, out_qsize 0\n",
      "2020-12-10 20:29:45,690 : INFO : EPOCH 32 - PROGRESS: at 84.69% examples, 1152348 words/s, in_qsize 13, out_qsize 2\n",
      "2020-12-10 20:29:46,701 : INFO : EPOCH 32 - PROGRESS: at 99.23% examples, 1156237 words/s, in_qsize 8, out_qsize 0\n",
      "2020-12-10 20:29:46,707 : INFO : worker thread finished; awaiting finish of 7 more threads\n",
      "2020-12-10 20:29:46,708 : INFO : worker thread finished; awaiting finish of 6 more threads\n",
      "2020-12-10 20:29:46,709 : INFO : worker thread finished; awaiting finish of 5 more threads\n",
      "2020-12-10 20:29:46,710 : INFO : worker thread finished; awaiting finish of 4 more threads\n",
      "2020-12-10 20:29:46,725 : INFO : worker thread finished; awaiting finish of 3 more threads\n",
      "2020-12-10 20:29:46,727 : INFO : worker thread finished; awaiting finish of 2 more threads\n",
      "2020-12-10 20:29:46,731 : INFO : worker thread finished; awaiting finish of 1 more threads\n",
      "2020-12-10 20:29:46,732 : INFO : worker thread finished; awaiting finish of 0 more threads\n",
      "2020-12-10 20:29:46,732 : INFO : EPOCH - 32 : training on 9227204 raw words (8222540 effective words) took 7.1s, 1160122 effective words/s\n",
      "2020-12-10 20:29:46,733 : INFO : training on a 295270528 raw words (263125543 effective words) took 233.2s, 1128268 effective words/s\n"
     ]
    },
    {
     "name": "stdout",
     "output_type": "stream",
     "text": [
      "Wall time: 3min 53s\n"
     ]
    },
    {
     "data": {
      "text/plain": [
       "(263125543, 295270528)"
      ]
     },
     "execution_count": 19,
     "metadata": {},
     "output_type": "execute_result"
    }
   ],
   "source": [
    "%%time\n",
    "w2v_model.train(documents, total_examples=len(documents), epochs=W2V_EPOCH)"
   ]
  },
  {
   "cell_type": "code",
   "execution_count": 20,
   "metadata": {},
   "outputs": [
    {
     "name": "stderr",
     "output_type": "stream",
     "text": [
      "<ipython-input-20-9e1a4c826e7b>:1: DeprecationWarning: Call to deprecated `most_similar` (Method will be removed in 4.0.0, use self.wv.most_similar() instead).\n",
      "  w2v_model.most_similar(\"love\")\n",
      "2020-12-10 20:29:46,745 : INFO : precomputing L2-norms of word weight vectors\n"
     ]
    },
    {
     "data": {
      "text/plain": [
       "[('luv', 0.5687564015388489),\n",
       " ('loves', 0.5656490325927734),\n",
       " ('loved', 0.5201522707939148),\n",
       " ('looove', 0.5159773826599121),\n",
       " ('amazing', 0.5081393122673035),\n",
       " ('adore', 0.5033565759658813),\n",
       " ('awesome', 0.46679264307022095),\n",
       " ('loveee', 0.4652930200099945),\n",
       " ('lovee', 0.4582024812698364),\n",
       " ('miss', 0.43126583099365234)]"
      ]
     },
     "execution_count": 20,
     "metadata": {},
     "output_type": "execute_result"
    }
   ],
   "source": [
    "w2v_model.most_similar(\"love\")"
   ]
  },
  {
   "cell_type": "markdown",
   "metadata": {},
   "source": [
    "<p style=\"font-family: Arial; font-size:1.4em;color:blue;\"> Tokenizar el texto </p> "
   ]
  },
  {
   "cell_type": "markdown",
   "metadata": {},
   "source": [
    "- Función fit_on_texts : Actualiza el vocabulario interno basado en una lista de textos. \n",
    "En el caso de que los textos contengan listas, asumimos que cada entrada de las listas es un token.\n",
    "Es requirido antes de usar texts_to_sequences o texts_to_matrix."
   ]
  },
  {
   "cell_type": "code",
   "execution_count": 69,
   "metadata": {},
   "outputs": [
    {
     "name": "stdout",
     "output_type": "stream",
     "text": [
      "Total de palabras:  290419\n",
      "Wall time: 16.3 s\n"
     ]
    }
   ],
   "source": [
    "%%time\n",
    "tokenizer = Tokenizer()\n",
    "tokenizer.fit_on_texts(df_train.text)\n",
    "\n",
    "vocab_size = len(tokenizer.word_index) + 1\n",
    "\n",
    "print(\"Total de palabras: \", vocab_size)"
   ]
  },
  {
   "cell_type": "markdown",
   "metadata": {},
   "source": [
    "- Función texts_to_sequences: Transforma cada texto en textos en una secuencia de números enteros.\n",
    "Solo se tendrán en cuenta las primeras num_words-1 palabras más frecuentes. Solo se tendrán en cuenta las palabras conocidas por el tokenizador.\n",
    "\n",
    "- Función pad_sequences : Esta función transforma una lista (de longitud num_samples) de secuencias (listas de enteros) en una matriz Numpy 2D de forma (num_samples, num_timesteps). num_timesteps es el argumento maxlen si se proporciona, o la longitud de la secuencia más larga de la lista.\n",
    "Las secuencias que son más cortas que num_timesteps se rellenan con valor hasta que tengan una longitud de num_timesteps.\n",
    "Las secuencias de más de num_timesteps se truncan para que se ajusten a la longitud deseada."
   ]
  },
  {
   "cell_type": "code",
   "execution_count": 22,
   "metadata": {},
   "outputs": [
    {
     "name": "stdout",
     "output_type": "stream",
     "text": [
      "Wall time: 24.4 s\n"
     ]
    }
   ],
   "source": [
    "%%time\n",
    "SEQUENCE_LENGTH = 300\n",
    "x_train = pad_sequences(tokenizer.texts_to_sequences(df_train.text), maxlen=SEQUENCE_LENGTH)\n",
    "x_test = pad_sequences(tokenizer.texts_to_sequences(df_test.text), maxlen=SEQUENCE_LENGTH)"
   ]
  },
  {
   "cell_type": "code",
   "execution_count": 71,
   "metadata": {},
   "outputs": [],
   "source": [
    "encoder = LabelEncoder()\n",
    "encoder.fit(df_train.target.tolist())\n",
    "\n",
    "y_train = encoder.transform(df_train.target.tolist())\n",
    "y_test = encoder.transform(df_test.target.tolist())\n",
    "\n",
    "y_train = y_train.reshape(-1,1)\n",
    "y_test = y_test.reshape(-1,1)"
   ]
  },
  {
   "cell_type": "code",
   "execution_count": 25,
   "metadata": {},
   "outputs": [
    {
     "name": "stdout",
     "output_type": "stream",
     "text": [
      "x_train (1280000, 300)\n",
      "y_train (1280000, 1)\n",
      "\n",
      "x_test (320000, 300)\n",
      "y_test (320000, 1)\n"
     ]
    }
   ],
   "source": [
    "print(\"x_train\", x_train.shape)\n",
    "print(\"y_train\", y_train.shape)\n",
    "print()\n",
    "print(\"x_test\", x_test.shape)\n",
    "print(\"y_test\", y_test.shape)"
   ]
  },
  {
   "cell_type": "code",
   "execution_count": 26,
   "metadata": {},
   "outputs": [
    {
     "data": {
      "text/plain": [
       "array([[1],\n",
       "       [1],\n",
       "       [1],\n",
       "       [0],\n",
       "       [1],\n",
       "       [1],\n",
       "       [1],\n",
       "       [1],\n",
       "       [1],\n",
       "       [1]], dtype=int64)"
      ]
     },
     "execution_count": 26,
     "metadata": {},
     "output_type": "execute_result"
    }
   ],
   "source": [
    "y_train[:10]"
   ]
  },
  {
   "cell_type": "markdown",
   "metadata": {},
   "source": [
    "Embedding layer"
   ]
  },
  {
   "cell_type": "markdown",
   "metadata": {},
   "source": [
    "Ejemplo:\n",
    "Nuestro conjunto de entrenamiento consta solo de dos frases:\n",
    "\n",
    "- Hope to see you soon\n",
    "- Nice to see you again\n",
    "\n",
    "Entonces, podemos codificar estas frases asignando a cada palabra un número entero único (por orden de aparición en nuestro conjunto de datos de entrenamiento, por ejemplo). Entonces nuestras frases podrían reescribirse como:   \n",
    "- [0, 1, 2, 3, 4]\n",
    "\n",
    "- [5, 1, 2, 3, 6]\n",
    "\n",
    "Ahora imagine que queremos entrenar una red cuya primera capa es una embedding layer. En este caso, debemos inicializarlo de la siguiente manera:\n",
    "\n",
    "- Embedding(7, 2, input_length=5)\n",
    "\n",
    "El primer argumento (7) es el número de palabras distintas en el conjunto de entrenamiento. El segundo argumento (2) indica el tamaño de los vectores de embedding. El argumento input_length, por supuesto, determina el tamaño de cada secuencia de entrada.\n",
    "\n",
    "Una vez que se ha entrenado la red, podemos obtener los pesos de la capa de embedding, que en este caso será de tamaño (7, 2) y se puede pensar como la tabla utilizada para mapear enteros a vectores de embedding:\n",
    "\n",
    "+------------+------------+\n",
    "\n",
    "|   index    |  Embedding |\n",
    "\n",
    "+------------+------------+\n",
    "\n",
    "|     0      | [1.2, 3.1] |\n",
    "\n",
    "|     1      | [0.1, 4.2] |\n",
    "\n",
    "|     2      | [1.0, 3.1] |\n",
    "\n",
    "|     3      | [0.3, 2.1] |\n",
    "\n",
    "|     4      | [2.2, 1.4] |\n",
    "\n",
    "|     5      | [0.7, 1.7] |\n",
    "\n",
    "|     6      | [4.1, 2.0] |\n",
    "\n",
    "+------------+------------+\n"
   ]
  },
  {
   "cell_type": "code",
   "execution_count": 27,
   "metadata": {},
   "outputs": [
    {
     "name": "stdout",
     "output_type": "stream",
     "text": [
      "(290419, 300)\n"
     ]
    }
   ],
   "source": [
    "embedding_matrix = np.zeros((vocab_size, W2V_SIZE))\n",
    "for word, i in tokenizer.word_index.items():\n",
    "    if word in w2v_model.wv:\n",
    "        embedding_matrix[i] = w2v_model.wv[word]\n",
    "print(embedding_matrix.shape)"
   ]
  },
  {
   "cell_type": "markdown",
   "metadata": {},
   "source": [
    "Convierte números enteros positivos (índices) en vectores densos de tamaño fijo.\n",
    "Esta capa solo se puede utilizar como primera capa en un modelo."
   ]
  },
  {
   "cell_type": "code",
   "execution_count": 28,
   "metadata": {},
   "outputs": [],
   "source": [
    "embedding_layer = Embedding(vocab_size, W2V_SIZE, weights=[embedding_matrix], input_length=SEQUENCE_LENGTH, trainable=False)"
   ]
  },
  {
   "cell_type": "markdown",
   "metadata": {},
   "source": [
    "Construir el modelo"
   ]
  },
  {
   "cell_type": "code",
   "execution_count": 29,
   "metadata": {},
   "outputs": [
    {
     "name": "stdout",
     "output_type": "stream",
     "text": [
      "Model: \"sequential_1\"\n",
      "_________________________________________________________________\n",
      "Layer (type)                 Output Shape              Param #   \n",
      "=================================================================\n",
      "embedding_1 (Embedding)      (None, 300, 300)          87125700  \n",
      "_________________________________________________________________\n",
      "dropout_1 (Dropout)          (None, 300, 300)          0         \n",
      "_________________________________________________________________\n",
      "lstm_1 (LSTM)                (None, 100)               160400    \n",
      "_________________________________________________________________\n",
      "dense_1 (Dense)              (None, 1)                 101       \n",
      "=================================================================\n",
      "Total params: 87,286,201\n",
      "Trainable params: 160,501\n",
      "Non-trainable params: 87,125,700\n",
      "_________________________________________________________________\n"
     ]
    }
   ],
   "source": [
    "model = Sequential()\n",
    "model.add(embedding_layer)\n",
    "model.add(Dropout(0.5))\n",
    "model.add(LSTM(100, dropout=0.2, recurrent_dropout=0.2))\n",
    "model.add(Dense(1, activation='sigmoid'))\n",
    "\n",
    "model.summary()"
   ]
  },
  {
   "cell_type": "markdown",
   "metadata": {},
   "source": [
    "Compilar el modelo"
   ]
  },
  {
   "cell_type": "code",
   "execution_count": 30,
   "metadata": {},
   "outputs": [],
   "source": [
    "model.compile(loss='binary_crossentropy',\n",
    "              optimizer=\"adam\",\n",
    "              metrics=['accuracy'])"
   ]
  },
  {
   "cell_type": "markdown",
   "metadata": {},
   "source": [
    "Callbacks"
   ]
  },
  {
   "cell_type": "markdown",
   "metadata": {},
   "source": [
    "En Keras 'Callback' es una clase de python destinada a ser subclase para proporcionar una funcionalidad específica, con un conjunto de métodos llamados en varias etapas de entrenamiento (incluyendo el inicio y fin de los batch/epoch), pruebas y predicciones. Los Callbacks son útiles para tener visibilidad de los estados internos y las estadísticas del modelo durante el entrenamiento. "
   ]
  },
  {
   "cell_type": "code",
   "execution_count": 31,
   "metadata": {},
   "outputs": [],
   "source": [
    "callbacks = [ ReduceLROnPlateau(monitor='val_loss', patience=5, cooldown=0),\n",
    "              EarlyStopping(monitor='val_acc', min_delta=1e-4, patience=5)]"
   ]
  },
  {
   "cell_type": "markdown",
   "metadata": {},
   "source": [
    "Entrenamiento"
   ]
  },
  {
   "cell_type": "code",
   "execution_count": 32,
   "metadata": {},
   "outputs": [
    {
     "name": "stdout",
     "output_type": "stream",
     "text": [
      "Train on 1152000 samples, validate on 128000 samples\n",
      "Epoch 1/5\n",
      "1152000/1152000 [==============================] - 5626s 5ms/step - loss: 0.5076 - accuracy: 0.7477 - val_loss: 0.4688 - val_accuracy: 0.7781\n",
      "Epoch 2/5\n"
     ]
    },
    {
     "name": "stderr",
     "output_type": "stream",
     "text": [
      "C:\\Users\\jazmi\\AppData\\Roaming\\Python\\Python38\\site-packages\\keras\\callbacks\\callbacks.py:843: RuntimeWarning: Early stopping conditioned on metric `val_acc` which is not available. Available metrics are: val_loss,val_accuracy,loss,accuracy,lr\n",
      "  warnings.warn(\n"
     ]
    },
    {
     "name": "stdout",
     "output_type": "stream",
     "text": [
      "1152000/1152000 [==============================] - 6059s 5ms/step - loss: 0.4823 - accuracy: 0.7649 - val_loss: 0.4574 - val_accuracy: 0.7839\n",
      "Epoch 3/5\n",
      "1152000/1152000 [==============================] - 7069s 6ms/step - loss: 0.4755 - accuracy: 0.7695 - val_loss: 0.4563 - val_accuracy: 0.7854\n",
      "Epoch 4/5\n",
      "1152000/1152000 [==============================] - 5710s 5ms/step - loss: 0.4730 - accuracy: 0.7709 - val_loss: 0.4500 - val_accuracy: 0.7870\n",
      "Epoch 5/5\n",
      "1152000/1152000 [==============================] - 5740s 5ms/step - loss: 0.4696 - accuracy: 0.7734 - val_loss: 0.4500 - val_accuracy: 0.7882\n",
      "Wall time: 8h 23min 24s\n"
     ]
    }
   ],
   "source": [
    "EPOCHS = 5\n",
    "BATCH_SIZE = 1024\n",
    "\n",
    "%%time\n",
    "history = model.fit(x_train, y_train,\n",
    "                    batch_size=BATCH_SIZE,\n",
    "                    epochs=EPOCHS,\n",
    "                    validation_split=0.1,\n",
    "                    verbose=1,\n",
    "                    callbacks=callbacks)"
   ]
  },
  {
   "cell_type": "markdown",
   "metadata": {},
   "source": [
    "Evaluar"
   ]
  },
  {
   "cell_type": "code",
   "execution_count": 33,
   "metadata": {},
   "outputs": [
    {
     "name": "stdout",
     "output_type": "stream",
     "text": [
      "320000/320000 [==============================] - 369s 1ms/step\n",
      "\n",
      "ACCURACY: 0.7883594036102295\n",
      "LOSS: 0.44861537132263185\n",
      "Wall time: 6min 9s\n"
     ]
    }
   ],
   "source": [
    "%%time\n",
    "score = model.evaluate(x_test, y_test, batch_size=BATCH_SIZE)\n",
    "print()\n",
    "print(\"ACCURACY:\",score[1])\n",
    "print(\"LOSS:\",score[0])"
   ]
  },
  {
   "cell_type": "code",
   "execution_count": 40,
   "metadata": {},
   "outputs": [
    {
     "data": {
      "image/png": "[encoded data removed]",
      "text/plain": [
       "<Figure size 432x288 with 1 Axes>"
      ]
     },
     "metadata": {
      "needs_background": "light"
     },
     "output_type": "display_data"
    },
    {
     "data": {
      "image/png": "[encoded data removed]",
      "text/plain": [
       "<Figure size 432x288 with 1 Axes>"
      ]
     },
     "metadata": {
      "needs_background": "light"
     },
     "output_type": "display_data"
    }
   ],
   "source": [
    "acc = history.history['accuracy']\n",
    "val_acc = history.history['val_accuracy']\n",
    "loss = history.history['loss']\n",
    "val_loss = history.history['val_loss']\n",
    " \n",
    "epochs = range(len(acc))\n",
    " \n",
    "plt.plot(epochs, acc, 'b', label='Training acc')\n",
    "plt.plot(epochs, val_acc, 'r', label='Validation acc')\n",
    "plt.title('Training and validation accuracy')\n",
    "plt.legend()\n",
    " \n",
    "plt.figure()\n",
    " \n",
    "plt.plot(epochs, loss, 'b', label='Training loss')\n",
    "plt.plot(epochs, val_loss, 'r', label='Validation loss')\n",
    "plt.title('Training and validation loss')\n",
    "plt.legend()\n",
    " \n",
    "plt.show()"
   ]
  },
  {
   "cell_type": "markdown",
   "metadata": {},
   "source": [
    "Predecir"
   ]
  },
  {
   "cell_type": "code",
   "execution_count": 41,
   "metadata": {},
   "outputs": [],
   "source": [
    "POSITIVE = \"POSITIVE\"\n",
    "NEGATIVE = \"NEGATIVE\"\n",
    "NEUTRAL = \"NEUTRAL\"\n",
    "SENTIMENT_THRESHOLDS = (0.4, 0.7)\n",
    "\n",
    "def decode_sentiment(score, include_neutral=True):\n",
    "    if include_neutral:        \n",
    "        label = NEUTRAL\n",
    "        if score <= SENTIMENT_THRESHOLDS[0]:\n",
    "            label = NEGATIVE\n",
    "        elif score >= SENTIMENT_THRESHOLDS[1]:\n",
    "            label = POSITIVE\n",
    "\n",
    "        return label\n",
    "    else:\n",
    "        return NEGATIVE if score < 0.5 else POSITIVE"
   ]
  },
  {
   "cell_type": "code",
   "execution_count": 42,
   "metadata": {},
   "outputs": [],
   "source": [
    "def predict(text, include_neutral=True):\n",
    "    start_at = time.time()\n",
    "    # Tokenize text\n",
    "    x_test = pad_sequences(tokenizer.texts_to_sequences([text]), maxlen=SEQUENCE_LENGTH)\n",
    "    # Predict\n",
    "    score = model.predict([x_test])[0]\n",
    "    # Decode sentiment\n",
    "    label = decode_sentiment(score, include_neutral=include_neutral)\n",
    "\n",
    "    return {\"label\": label, \"score\": float(score),\n",
    "       \"elapsed_time\": time.time()-start_at}  "
   ]
  },
  {
   "cell_type": "code",
   "execution_count": 43,
   "metadata": {},
   "outputs": [
    {
     "data": {
      "text/plain": [
       "{'label': 'POSITIVE',\n",
       " 'score': 0.9755492806434631,\n",
       " 'elapsed_time': 0.28643202781677246}"
      ]
     },
     "execution_count": 43,
     "metadata": {},
     "output_type": "execute_result"
    }
   ],
   "source": [
    "predict(\"I love the music\")"
   ]
  },
  {
   "cell_type": "code",
   "execution_count": 44,
   "metadata": {},
   "outputs": [
    {
     "data": {
      "text/plain": [
       "{'label': 'NEGATIVE',\n",
       " 'score': 0.011914847418665886,\n",
       " 'elapsed_time': 0.02089524269104004}"
      ]
     },
     "execution_count": 44,
     "metadata": {},
     "output_type": "execute_result"
    }
   ],
   "source": [
    "predict(\"I hate the rain\")"
   ]
  },
  {
   "cell_type": "code",
   "execution_count": 45,
   "metadata": {},
   "outputs": [
    {
     "data": {
      "text/plain": [
       "{'label': 'NEGATIVE',\n",
       " 'score': 0.2864530384540558,\n",
       " 'elapsed_time': 0.019969940185546875}"
      ]
     },
     "execution_count": 45,
     "metadata": {},
     "output_type": "execute_result"
    }
   ],
   "source": [
    "predict(\"i don't know what i'm doing\")"
   ]
  },
  {
   "cell_type": "markdown",
   "metadata": {},
   "source": [
    "Métricas"
   ]
  },
  {
   "cell_type": "code",
   "execution_count": 46,
   "metadata": {},
   "outputs": [
    {
     "name": "stdout",
     "output_type": "stream",
     "text": [
      "320000/320000 [==============================] - 383s 1ms/step\n",
      "Wall time: 6min 23s\n"
     ]
    }
   ],
   "source": [
    "%%time\n",
    "y_pred_1d = []\n",
    "y_test_1d = list(df_test.target)\n",
    "scores = model.predict(x_test, verbose=1, batch_size=8000)\n",
    "y_pred_1d = [decode_sentiment(score, include_neutral=False) for score in scores]"
   ]
  },
  {
   "cell_type": "code",
   "execution_count": 47,
   "metadata": {},
   "outputs": [],
   "source": [
    "def plot_confusion_matrix(cm, classes,\n",
    "                          title='Confusion matrix',\n",
    "                          cmap=plt.cm.Blues):\n",
    "    \"\"\"\n",
    "    This function prints and plots the confusion matrix.\n",
    "    Normalization can be applied by setting `normalize=True`.\n",
    "    \"\"\"\n",
    "\n",
    "    cm = cm.astype('float') / cm.sum(axis=1)[:, np.newaxis]\n",
    "\n",
    "    plt.imshow(cm, interpolation='nearest', cmap=cmap)\n",
    "    plt.title(title, fontsize=30)\n",
    "    plt.colorbar()\n",
    "    tick_marks = np.arange(len(classes))\n",
    "    plt.xticks(tick_marks, classes, rotation=90, fontsize=22)\n",
    "    plt.yticks(tick_marks, classes, fontsize=22)\n",
    "\n",
    "    fmt = '.2f'\n",
    "    thresh = cm.max() / 2.\n",
    "    for i, j in itertools.product(range(cm.shape[0]), range(cm.shape[1])):\n",
    "        plt.text(j, i, format(cm[i, j], fmt),\n",
    "                 horizontalalignment=\"center\",\n",
    "                 color=\"white\" if cm[i, j] > thresh else \"black\")\n",
    "\n",
    "    plt.ylabel('True label', fontsize=25)\n",
    "    plt.xlabel('Predicted label', fontsize=25)"
   ]
  },
  {
   "cell_type": "code",
   "execution_count": 48,
   "metadata": {},
   "outputs": [
    {
     "data": {
      "image/png": "[encoded data removed]",
      "text/plain": [
       "<Figure size 864x864 with 2 Axes>"
      ]
     },
     "metadata": {
      "needs_background": "light"
     },
     "output_type": "display_data"
    },
    {
     "name": "stdout",
     "output_type": "stream",
     "text": [
      "Wall time: 1.11 s\n"
     ]
    }
   ],
   "source": [
    "%%time\n",
    "\n",
    "cnf_matrix = confusion_matrix(y_test_1d, y_pred_1d)\n",
    "plt.figure(figsize=(12,12))\n",
    "plot_confusion_matrix(cnf_matrix, classes=df_train.target.unique(), title=\"Confusion matrix\")\n",
    "plt.show()"
   ]
  },
  {
   "cell_type": "code",
   "execution_count": 49,
   "metadata": {},
   "outputs": [
    {
     "name": "stdout",
     "output_type": "stream",
     "text": [
      "              precision    recall  f1-score   support\n",
      "\n",
      "    NEGATIVE       0.80      0.77      0.78    159494\n",
      "    POSITIVE       0.78      0.80      0.79    160506\n",
      "\n",
      "    accuracy                           0.79    320000\n",
      "   macro avg       0.79      0.79      0.79    320000\n",
      "weighted avg       0.79      0.79      0.79    320000\n",
      "\n"
     ]
    }
   ],
   "source": [
    "print(classification_report(y_test_1d, y_pred_1d))"
   ]
  },
  {
   "cell_type": "code",
   "execution_count": 50,
   "metadata": {},
   "outputs": [
    {
     "data": {
      "text/plain": [
       "0.788359375"
      ]
     },
     "execution_count": 50,
     "metadata": {},
     "output_type": "execute_result"
    }
   ],
   "source": [
    "accuracy_score(y_test_1d, y_pred_1d)"
   ]
  },
  {
   "cell_type": "code",
   "execution_count": 51,
   "metadata": {},
   "outputs": [
    {
     "name": "stderr",
     "output_type": "stream",
     "text": [
      "2020-12-11 06:49:20,990 : INFO : saving Word2Vec object under model.w2v, separately None\n",
      "2020-12-11 06:49:20,992 : INFO : not storing attribute vectors_norm\n",
      "2020-12-11 06:49:20,992 : INFO : not storing attribute cum_table\n",
      "2020-12-11 06:49:21,851 : INFO : saved model.w2v\n"
     ]
    }
   ],
   "source": [
    "model.save(\"model.h5\")\n",
    "w2v_model.save(\"model.w2v\")\n",
    "pickle.dump(tokenizer, open(\"tokenizer.pkl\", \"wb\"), protocol=0)\n",
    "pickle.dump(encoder, open(\"encoder.pkl\", \"wb\"), protocol=0)"
   ]
  }
 ],
 "metadata": {
  "kernelspec": {
   "display_name": "Python 3",
   "language": "python",
   "name": "python3"
  },
  "language_info": {
   "codemirror_mode": {
    "name": "ipython",
    "version": 3
   },
   "file_extension": ".py",
   "mimetype": "text/x-python",
   "name": "python",
   "nbconvert_exporter": "python",
   "pygments_lexer": "ipython3",
   "version": "3.8.3"
  }
 },
 "nbformat": 4,
 "nbformat_minor": 4
}
