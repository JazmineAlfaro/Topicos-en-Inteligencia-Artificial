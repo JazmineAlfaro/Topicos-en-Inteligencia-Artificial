{
 "cells": [
  {
   "cell_type": "code",
   "execution_count": 1,
   "metadata": {
    "colab": {},
    "colab_type": "code",
    "id": "-YaKdyDBXxeK"
   },
   "outputs": [],
   "source": [
    "import pandas as pd\n",
    "import numpy as np\n",
    "import time\n",
    "import spacy\n",
    "import random\n",
    "from pathlib import Path\n",
    "import torch \n",
    "import torch.nn as nn\n",
    "import torch.nn.functional as F\n",
    "import torch.optim as optim\n",
    "from torchtext import data \n",
    "import torchtext\n",
    "import en_core_web_sm\n",
    "from nltk.tokenize.treebank import TreebankWordDetokenizer\n",
    "import matplotlib.pyplot as plt\n",
    "%matplotlib inline"
   ]
  },
  {
   "cell_type": "markdown",
   "metadata": {},
   "source": [
    "<a id='section1'></a>\n",
    "# 1. Obtener los datos"
   ]
  },
  {
   "cell_type": "markdown",
   "metadata": {},
   "source": [
    "El conjunto de datos a utilizar será sentiment140."
   ]
  },
  {
   "cell_type": "code",
   "execution_count": 2,
   "metadata": {},
   "outputs": [
    {
     "data": {
      "text/html": [
       "<div>\n",
       "<style scoped>\n",
       "    .dataframe tbody tr th:only-of-type {\n",
       "        vertical-align: middle;\n",
       "    }\n",
       "\n",
       "    .dataframe tbody tr th {\n",
       "        vertical-align: top;\n",
       "    }\n",
       "\n",
       "    .dataframe thead th {\n",
       "        text-align: right;\n",
       "    }\n",
       "</style>\n",
       "<table border=\"1\" class=\"dataframe\">\n",
       "  <thead>\n",
       "    <tr style=\"text-align: right;\">\n",
       "      <th></th>\n",
       "      <th>target</th>\n",
       "      <th>id</th>\n",
       "      <th>date</th>\n",
       "      <th>flag</th>\n",
       "      <th>user</th>\n",
       "      <th>text</th>\n",
       "    </tr>\n",
       "  </thead>\n",
       "  <tbody>\n",
       "    <tr>\n",
       "      <th>0</th>\n",
       "      <td>0</td>\n",
       "      <td>1467810369</td>\n",
       "      <td>Mon Apr 06 22:19:45 PDT 2009</td>\n",
       "      <td>NO_QUERY</td>\n",
       "      <td>_TheSpecialOne_</td>\n",
       "      <td>@switchfoot http://twitpic.com/2y1zl - Awww, t...</td>\n",
       "    </tr>\n",
       "    <tr>\n",
       "      <th>1</th>\n",
       "      <td>0</td>\n",
       "      <td>1467810672</td>\n",
       "      <td>Mon Apr 06 22:19:49 PDT 2009</td>\n",
       "      <td>NO_QUERY</td>\n",
       "      <td>scotthamilton</td>\n",
       "      <td>is upset that he can't update his Facebook by ...</td>\n",
       "    </tr>\n",
       "    <tr>\n",
       "      <th>2</th>\n",
       "      <td>0</td>\n",
       "      <td>1467810917</td>\n",
       "      <td>Mon Apr 06 22:19:53 PDT 2009</td>\n",
       "      <td>NO_QUERY</td>\n",
       "      <td>mattycus</td>\n",
       "      <td>@Kenichan I dived many times for the ball. Man...</td>\n",
       "    </tr>\n",
       "    <tr>\n",
       "      <th>3</th>\n",
       "      <td>0</td>\n",
       "      <td>1467811184</td>\n",
       "      <td>Mon Apr 06 22:19:57 PDT 2009</td>\n",
       "      <td>NO_QUERY</td>\n",
       "      <td>ElleCTF</td>\n",
       "      <td>my whole body feels itchy and like its on fire</td>\n",
       "    </tr>\n",
       "    <tr>\n",
       "      <th>4</th>\n",
       "      <td>0</td>\n",
       "      <td>1467811193</td>\n",
       "      <td>Mon Apr 06 22:19:57 PDT 2009</td>\n",
       "      <td>NO_QUERY</td>\n",
       "      <td>Karoli</td>\n",
       "      <td>@nationwideclass no, it's not behaving at all....</td>\n",
       "    </tr>\n",
       "  </tbody>\n",
       "</table>\n",
       "</div>"
      ],
      "text/plain": [
       "   target          id                          date      flag  \\\n",
       "0       0  1467810369  Mon Apr 06 22:19:45 PDT 2009  NO_QUERY   \n",
       "1       0  1467810672  Mon Apr 06 22:19:49 PDT 2009  NO_QUERY   \n",
       "2       0  1467810917  Mon Apr 06 22:19:53 PDT 2009  NO_QUERY   \n",
       "3       0  1467811184  Mon Apr 06 22:19:57 PDT 2009  NO_QUERY   \n",
       "4       0  1467811193  Mon Apr 06 22:19:57 PDT 2009  NO_QUERY   \n",
       "\n",
       "              user                                               text  \n",
       "0  _TheSpecialOne_  @switchfoot http://twitpic.com/2y1zl - Awww, t...  \n",
       "1    scotthamilton  is upset that he can't update his Facebook by ...  \n",
       "2         mattycus  @Kenichan I dived many times for the ball. Man...  \n",
       "3          ElleCTF    my whole body feels itchy and like its on fire   \n",
       "4           Karoli  @nationwideclass no, it's not behaving at all....  "
      ]
     },
     "execution_count": 2,
     "metadata": {},
     "output_type": "execute_result"
    }
   ],
   "source": [
    "ENCODING = \"ISO-8859-1\"\n",
    "COLUMNS = [\"target\", \"id\", \"date\", \"flag\", \"user\", \"text\"]\n",
    "\n",
    "twitter_data = pd.read_csv('dataset.csv',  encoding =ENCODING , names=COLUMNS)\n",
    "twitter_data.head()"
   ]
  },
  {
   "cell_type": "markdown",
   "metadata": {},
   "source": [
    "<a id='section2'></a>\n",
    "# 2. Explorar los datos para obtener información"
   ]
  },
  {
   "cell_type": "markdown",
   "metadata": {},
   "source": [
    "Contiene 1,600,000 tweets extraídos usando la API de Twitter. Los tweets se han anotado (0 = negativo, 2 = neutral, 4 = positivo) y se pueden utilizar para detectar sentimientos. El idioma en el que están es el inglés."
   ]
  },
  {
   "cell_type": "code",
   "execution_count": 3,
   "metadata": {},
   "outputs": [
    {
     "name": "stdout",
     "output_type": "stream",
     "text": [
      "Tamaño del conjunto de datos: 1600000\n"
     ]
    }
   ],
   "source": [
    "print(\"Tamaño del conjunto de datos:\", len(twitter_data))"
   ]
  },
  {
   "cell_type": "markdown",
   "metadata": {},
   "source": [
    "El conjunto de datos contiene los siguientes 6 campos:\n",
    "- target: la polaridad del tweet (0 = negativo, 2 = neutral, 4 = positivo)\n",
    "- ids: la identificación del tweet \n",
    "- date: la fecha del tweet\n",
    "- flag: la consulta. Si no hay ninguna consulta, este valor es NO_QUERY.\n",
    "- user: el usuario que tuiteó \n",
    "- text: el texto del tweet"
   ]
  },
  {
   "cell_type": "code",
   "execution_count": 4,
   "metadata": {},
   "outputs": [
    {
     "name": "stdout",
     "output_type": "stream",
     "text": [
      "Información sobre el conjunto de datos \n",
      "\n",
      "<class 'pandas.core.frame.DataFrame'>\n",
      "RangeIndex: 1600000 entries, 0 to 1599999\n",
      "Data columns (total 6 columns):\n",
      " #   Column  Non-Null Count    Dtype \n",
      "---  ------  --------------    ----- \n",
      " 0   target  1600000 non-null  int64 \n",
      " 1   id      1600000 non-null  int64 \n",
      " 2   date    1600000 non-null  object\n",
      " 3   flag    1600000 non-null  object\n",
      " 4   user    1600000 non-null  object\n",
      " 5   text    1600000 non-null  object\n",
      "dtypes: int64(2), object(4)\n",
      "memory usage: 73.2+ MB\n",
      "None\n"
     ]
    }
   ],
   "source": [
    "print(\"Información sobre el conjunto de datos \\n\")\n",
    "print(twitter_data.info())"
   ]
  },
  {
   "cell_type": "markdown",
   "metadata": {},
   "source": [
    "<p style=\"font-family: Arial; font-size:1.4em;color:blue;\"> Sentimientos </p>"
   ]
  },
  {
   "cell_type": "markdown",
   "metadata": {},
   "source": [
    "Los sentimientos dentro del conjunto de datos se distribuye entre los valores de sentimiento positivo y negativo. En un gráfico de barras se desplegará la cantidad de tweets negativos en rojo y tweets positivos en verde."
   ]
  },
  {
   "cell_type": "code",
   "execution_count": 5,
   "metadata": {},
   "outputs": [
    {
     "data": {
      "image/png": "[encoded data removed]",
      "text/plain": [
       "<Figure size 432x432 with 1 Axes>"
      ]
     },
     "metadata": {
      "needs_background": "light"
     },
     "output_type": "display_data"
    }
   ],
   "source": [
    "class_count = twitter_data['target'].value_counts()\n",
    "plt.figure(figsize = (6, 6))\n",
    "plt.xticks([4, 0], ['Positivo', 'Negativo'])\n",
    "plt.xticks([4, 0])\n",
    "plt.bar(x = class_count.keys(), \n",
    "        height = class_count.values, \n",
    "        color = ['g', 'r'], width = 2.5)\n",
    "plt.xlabel(\"Sentimiento del tweet\")\n",
    "plt.ylabel(\"Cantidad de tweets\")\n",
    "plt.title(\"Cantidad de tweets por cada sentimiento\")\n",
    "plt.show()"
   ]
  },
  {
   "cell_type": "markdown",
   "metadata": {},
   "source": [
    "Ya que dentro del conjunto de datos sólo encontramos sentimientos positivos o negativos, se hará un reemplazo de la etiqueta target con el valor 4 al valor 1, donde 0 es negativo y 1 es positivo."
   ]
  },
  {
   "cell_type": "code",
   "execution_count": 6,
   "metadata": {
    "colab": {
     "base_uri": "https://localhost:8080/",
     "height": 71
    },
    "colab_type": "code",
    "id": "6CSfGCIF5Thr",
    "outputId": "b7412833-092d-4990-d7e5-e6d97a2319fa"
   },
   "outputs": [],
   "source": [
    "twitter_data['target']=twitter_data['target'].replace(to_replace=4,value=1)"
   ]
  },
  {
   "cell_type": "markdown",
   "metadata": {},
   "source": [
    "Al tener un conjunto de datos tan grande, se optó por tomar un subconjunto más pequeño para el entrenamiento, este contará con un tamaño de 100000 tweets."
   ]
  },
  {
   "cell_type": "code",
   "execution_count": 94,
   "metadata": {
    "colab": {},
    "colab_type": "code",
    "id": "3b728ELHelAt"
   },
   "outputs": [],
   "source": [
    "twitter_data.sample(100000).to_csv(\"small_dataset.csv\", header=None, index=None)"
   ]
  },
  {
   "cell_type": "code",
   "execution_count": 59,
   "metadata": {},
   "outputs": [
    {
     "data": {
      "text/html": [
       "<div>\n",
       "<style scoped>\n",
       "    .dataframe tbody tr th:only-of-type {\n",
       "        vertical-align: middle;\n",
       "    }\n",
       "\n",
       "    .dataframe tbody tr th {\n",
       "        vertical-align: top;\n",
       "    }\n",
       "\n",
       "    .dataframe thead th {\n",
       "        text-align: right;\n",
       "    }\n",
       "</style>\n",
       "<table border=\"1\" class=\"dataframe\">\n",
       "  <thead>\n",
       "    <tr style=\"text-align: right;\">\n",
       "      <th></th>\n",
       "      <th>target</th>\n",
       "      <th>id</th>\n",
       "      <th>date</th>\n",
       "      <th>flag</th>\n",
       "      <th>user</th>\n",
       "      <th>text</th>\n",
       "    </tr>\n",
       "  </thead>\n",
       "  <tbody>\n",
       "    <tr>\n",
       "      <th>0</th>\n",
       "      <td>1</td>\n",
       "      <td>1981456280</td>\n",
       "      <td>Sun May 31 09:11:30 PDT 2009</td>\n",
       "      <td>NO_QUERY</td>\n",
       "      <td>mealooove</td>\n",
       "      <td>says @^&amp;amp;$%*@!#$ andaming errors sa post ko...</td>\n",
       "    </tr>\n",
       "    <tr>\n",
       "      <th>1</th>\n",
       "      <td>1</td>\n",
       "      <td>2187344639</td>\n",
       "      <td>Mon Jun 15 20:08:43 PDT 2009</td>\n",
       "      <td>NO_QUERY</td>\n",
       "      <td>DanielleluvsGod</td>\n",
       "      <td>yay! the bachelorette is on now!</td>\n",
       "    </tr>\n",
       "    <tr>\n",
       "      <th>2</th>\n",
       "      <td>1</td>\n",
       "      <td>1970521453</td>\n",
       "      <td>Sat May 30 04:12:02 PDT 2009</td>\n",
       "      <td>NO_QUERY</td>\n",
       "      <td>ahunsal</td>\n",
       "      <td>Kahkahaya haz?r olun.  --&amp;gt; Stavros Flatly -...</td>\n",
       "    </tr>\n",
       "    <tr>\n",
       "      <th>3</th>\n",
       "      <td>1</td>\n",
       "      <td>2067454342</td>\n",
       "      <td>Sun Jun 07 12:22:20 PDT 2009</td>\n",
       "      <td>NO_QUERY</td>\n",
       "      <td>natflores</td>\n",
       "      <td>Had so much Fun with the Abu Dhabi Group...</td>\n",
       "    </tr>\n",
       "    <tr>\n",
       "      <th>4</th>\n",
       "      <td>0</td>\n",
       "      <td>1964685230</td>\n",
       "      <td>Fri May 29 14:38:08 PDT 2009</td>\n",
       "      <td>NO_QUERY</td>\n",
       "      <td>ardowdle</td>\n",
       "      <td>@dennispillion @WaffleSauce Ugh, you people an...</td>\n",
       "    </tr>\n",
       "  </tbody>\n",
       "</table>\n",
       "</div>"
      ],
      "text/plain": [
       "   target          id                          date      flag  \\\n",
       "0       1  1981456280  Sun May 31 09:11:30 PDT 2009  NO_QUERY   \n",
       "1       1  2187344639  Mon Jun 15 20:08:43 PDT 2009  NO_QUERY   \n",
       "2       1  1970521453  Sat May 30 04:12:02 PDT 2009  NO_QUERY   \n",
       "3       1  2067454342  Sun Jun 07 12:22:20 PDT 2009  NO_QUERY   \n",
       "4       0  1964685230  Fri May 29 14:38:08 PDT 2009  NO_QUERY   \n",
       "\n",
       "              user                                               text  \n",
       "0        mealooove  says @^&amp;$%*@!#$ andaming errors sa post ko...  \n",
       "1  DanielleluvsGod                  yay! the bachelorette is on now!   \n",
       "2          ahunsal  Kahkahaya haz?r olun.  --&gt; Stavros Flatly -...  \n",
       "3        natflores       Had so much Fun with the Abu Dhabi Group...   \n",
       "4         ardowdle  @dennispillion @WaffleSauce Ugh, you people an...  "
      ]
     },
     "execution_count": 59,
     "metadata": {},
     "output_type": "execute_result"
    }
   ],
   "source": [
    "dataset = pd.read_csv('small_dataset.csv',  encoding =ENCODING , names=COLUMNS)\n",
    "dataset.head()"
   ]
  },
  {
   "cell_type": "code",
   "execution_count": 60,
   "metadata": {},
   "outputs": [
    {
     "data": {
      "image/png": "[encoded data removed]",
      "text/plain": [
       "<Figure size 432x432 with 1 Axes>"
      ]
     },
     "metadata": {
      "needs_background": "light"
     },
     "output_type": "display_data"
    }
   ],
   "source": [
    "class_count = dataset['target'].value_counts()\n",
    "plt.figure(figsize = (6, 6))\n",
    "plt.xticks([1, 0], ['Positivo', 'Negativo'])\n",
    "plt.xticks([1, 0])\n",
    "plt.bar(x = class_count.keys(), \n",
    "        height = class_count.values, \n",
    "        color = ['r', 'g'], width = 0.7)\n",
    "plt.xlabel(\"Sentimiento del tweet\")\n",
    "plt.ylabel(\"Cantidad de tweets\")\n",
    "plt.title(\"Cantidad de tweets por cada sentimiento\")\n",
    "plt.show()"
   ]
  },
  {
   "cell_type": "markdown",
   "metadata": {},
   "source": [
    "<a id='section3'></a>\n",
    "# 3. Preparación de los datos"
   ]
  },
  {
   "cell_type": "code",
   "execution_count": 95,
   "metadata": {
    "colab": {
     "base_uri": "https://localhost:8080/",
     "height": 71
    },
    "colab_type": "code",
    "id": "eQT5JZvN8tB0",
    "outputId": "5d88197b-be9e-40c6-ec0a-526693d0c677"
   },
   "outputs": [],
   "source": [
    "TEXT = data.Field(tokenize='spacy',  tokenizer_language='en_core_web_sm',lower=True, include_lengths= True)\n",
    "LABEL = data.LabelField(dtype=torch.float)\n",
    "\n",
    "cols = [('target', LABEL), ('id',None),('date',None),('flag',None),('user',None), ('text', TEXT)]\n",
    "\n",
    "dataset = torchtext.data.TabularDataset(\n",
    "        path=\"small_dataset.csv\",\n",
    "        format=\"CSV\",\n",
    "        fields=cols,\n",
    "        skip_header=False)"
   ]
  },
  {
   "cell_type": "markdown",
   "metadata": {},
   "source": [
    "Dividir los datos en los conjuntos de entrenamiento(70%), prueba(20%) y validación (10%)."
   ]
  },
  {
   "cell_type": "code",
   "execution_count": 96,
   "metadata": {},
   "outputs": [
    {
     "name": "stdout",
     "output_type": "stream",
     "text": [
      "Tamaño del conjunto de entrenamiento: 70000\n",
      "Tamaño del conjunto de validación: 10000\n",
      "Tamaño del conjunto de prueba: 20000\n"
     ]
    }
   ],
   "source": [
    "(train, test, valid) = dataset.split(split_ratio=[0.7,0.1,0.2])\n",
    "\n",
    "print(\"Tamaño del conjunto de entrenamiento: {}\".format(len(train)))\n",
    "print(\"Tamaño del conjunto de validación: {}\".format(len(valid)))\n",
    "print(\"Tamaño del conjunto de prueba: {}\".format(len(test)))"
   ]
  },
  {
   "cell_type": "code",
   "execution_count": 63,
   "metadata": {
    "colab": {
     "base_uri": "https://localhost:8080/",
     "height": 35
    },
    "colab_type": "code",
    "id": "mlZ9-mBFhw8L",
    "outputId": "bab39e21-7ed9-4125-d3a9-31c6bc94c5bf"
   },
   "outputs": [
    {
     "name": "stdout",
     "output_type": "stream",
     "text": [
      "{'target': '1', 'text': ['had', 'a', 'good', 'night', 'at', 'open', 'mic', 'at', 'the', 'yucca', 'tap', 'room', '.']}\n"
     ]
    }
   ],
   "source": [
    "print(vars(train.examples[2]))"
   ]
  },
  {
   "cell_type": "markdown",
   "metadata": {
    "colab_type": "text",
    "id": "TwbtK5lDlJj2"
   },
   "source": [
    "### **Build Vocabulary**\n",
    "Build the vocabulary for the training set using pre-trained GloVe embeddings.\n",
    "GloVe embeddings were trained on 6 billion tokens and the embeddings are 100-dimensional."
   ]
  },
  {
   "cell_type": "code",
   "execution_count": 97,
   "metadata": {
    "colab": {
     "base_uri": "https://localhost:8080/",
     "height": 197
    },
    "colab_type": "code",
    "id": "fz_aN0Zl_Wwh",
    "outputId": "0202546b-fd25-4eb7-c76e-2bdeee054c6d"
   },
   "outputs": [],
   "source": [
    "MAX_VOCAB_SIZE = 25000\n",
    "\n",
    "# unk_init initializes words in the vocab using the Gaussian distribution\n",
    "TEXT.build_vocab(train, \n",
    "                 max_size = MAX_VOCAB_SIZE,\n",
    "                 vectors = \"glove.6B.100d\",\n",
    "                 unk_init = torch.Tensor.normal_)"
   ]
  },
  {
   "cell_type": "code",
   "execution_count": 98,
   "metadata": {},
   "outputs": [],
   "source": [
    "# build vocab for training set - convert words into integers\n",
    "LABEL.build_vocab(train)"
   ]
  },
  {
   "cell_type": "code",
   "execution_count": 99,
   "metadata": {},
   "outputs": [
    {
     "data": {
      "text/plain": [
       "[('i', 43731),\n",
       " ('!', 39589),\n",
       " ('.', 35379),\n",
       " (' ', 25605),\n",
       " ('to', 24890),\n",
       " ('the', 23134),\n",
       " (',', 21035),\n",
       " ('a', 16378),\n",
       " ('my', 13799),\n",
       " ('it', 13391)]"
      ]
     },
     "execution_count": 99,
     "metadata": {},
     "output_type": "execute_result"
    }
   ],
   "source": [
    "# Most frequent tokens\n",
    "TEXT.vocab.freqs.most_common(10)"
   ]
  },
  {
   "cell_type": "markdown",
   "metadata": {
    "colab_type": "text",
    "id": "3d58JkuABB1d"
   },
   "source": [
    "### **Iterator**\n",
    "Pad each tweet to be the same length to process in batch. \n",
    "The BucketIterator will group tweets of similar lengths together for minimized padding in each batch.\n"
   ]
  },
  {
   "cell_type": "code",
   "execution_count": 100,
   "metadata": {},
   "outputs": [
    {
     "name": "stdout",
     "output_type": "stream",
     "text": [
      "Using device: cpu\n",
      "\n"
     ]
    }
   ],
   "source": [
    "device = torch.device('cuda' if torch.cuda.is_available() else 'cpu')\n",
    "print('Using device:', device)\n",
    "print()"
   ]
  },
  {
   "cell_type": "code",
   "execution_count": 101,
   "metadata": {
    "colab": {},
    "colab_type": "code",
    "id": "HsrRy3dhAlSr"
   },
   "outputs": [],
   "source": [
    "BATCH_SIZE = 128\n",
    "train_iterator, valid_iterator, test_iterator = data.BucketIterator.splits(\n",
    "    (train, valid, test),\n",
    "    batch_size = BATCH_SIZE,\n",
    "    sort_key = lambda x: len(x.text),\n",
    "    sort_within_batch = True)"
   ]
  },
  {
   "cell_type": "markdown",
   "metadata": {
    "colab_type": "text",
    "id": "braesWjckkJu"
   },
   "source": [
    "<a id='section4'></a>\n",
    "# **4. Modelo**"
   ]
  },
  {
   "cell_type": "code",
   "execution_count": 69,
   "metadata": {
    "colab": {},
    "colab_type": "code",
    "id": "Cst_rAeZaB1G"
   },
   "outputs": [],
   "source": [
    "class LSTM(nn.Module):\n",
    "    def __init__(self, vocab_size, embedding_dim, hidden_dim, output_dim, n_layers, \n",
    "                 bidirectional, dropout, pad_idx):\n",
    "        super().__init__()\n",
    "        self.embedding = nn.Embedding(vocab_size, embedding_dim, padding_idx = pad_idx)\n",
    "        self.encoder = nn.LSTM(embedding_dim, \n",
    "                               hidden_dim, \n",
    "                               num_layers=n_layers,\n",
    "                               bidirectional=bidirectional,\n",
    "                               dropout=dropout)\n",
    "        self.predictor = nn.Linear(hidden_dim*2, output_dim)\n",
    "        self.dropout = nn.Dropout(dropout)\n",
    "      \n",
    "    def forward(self, text, text_lengths):\n",
    "        embedded = self.dropout(self.embedding(text))    \n",
    "        packed_embedded = nn.utils.rnn.pack_padded_sequence(embedded, text_lengths)\n",
    "        packed_output, (hidden, cell) = self.encoder(packed_embedded)\n",
    "        output, output_lengths = nn.utils.rnn.pad_packed_sequence(packed_output)\n",
    "        hidden = self.dropout(torch.cat((hidden[-2,:,:], hidden[-1,:,:]), dim = 1))\n",
    "        return self.predictor(hidden)"
   ]
  },
  {
   "cell_type": "markdown",
   "metadata": {
    "colab_type": "text",
    "id": "MAk1scwU_g3d"
   },
   "source": [
    "### **Creación del Modelo**"
   ]
  },
  {
   "cell_type": "code",
   "execution_count": 102,
   "metadata": {
    "colab": {},
    "colab_type": "code",
    "id": "P6vpUuzkdCah"
   },
   "outputs": [],
   "source": [
    "INPUT_DIM = len(TEXT.vocab)\n",
    "EMBEDDING_DIM = 100\n",
    "HIDDEN_DIM = 256\n",
    "OUTPUT_DIM = 1\n",
    "N_LAYERS = 2\n",
    "DROPOUT = 0.5\n",
    "PAD_IDX = TEXT.vocab.stoi[TEXT.pad_token]\n",
    "\n",
    "model_LSTM = LSTM(INPUT_DIM,\n",
    "            EMBEDDING_DIM,\n",
    "            HIDDEN_DIM,\n",
    "            OUTPUT_DIM,\n",
    "            N_LAYERS,\n",
    "            False,\n",
    "            DROPOUT,\n",
    "            PAD_IDX)\n",
    "\n",
    "model_BiLSTM = LSTM(INPUT_DIM,\n",
    "            EMBEDDING_DIM,\n",
    "            HIDDEN_DIM,\n",
    "            OUTPUT_DIM,\n",
    "            N_LAYERS,\n",
    "            True,\n",
    "            DROPOUT,\n",
    "            PAD_IDX)"
   ]
  },
  {
   "cell_type": "markdown",
   "metadata": {},
   "source": [
    "#Copy the pre-trained word embeddings into the embedding layer"
   ]
  },
  {
   "cell_type": "code",
   "execution_count": 103,
   "metadata": {
    "colab": {
     "base_uri": "https://localhost:8080/",
     "height": 35
    },
    "colab_type": "code",
    "id": "2xPD99rLd5Fk",
    "outputId": "fddfa17d-bd08-4bab-d0e2-ff4a11d2ee1c"
   },
   "outputs": [
    {
     "name": "stdout",
     "output_type": "stream",
     "text": [
      "Tamaño del vocabulario:  25002\n",
      "Dimensión del embedding:  100\n"
     ]
    }
   ],
   "source": [
    "pretrained_embeddings = TEXT.vocab.vectors\n",
    "\n",
    "print(\"Tamaño del vocabulario: \", pretrained_embeddings.shape[0])\n",
    "print(\"Dimensión del embedding: \",pretrained_embeddings.shape[1])"
   ]
  },
  {
   "cell_type": "markdown",
   "metadata": {},
   "source": [
    "#Replace the initial weights of the embedding layer with the pre-trained embeddings"
   ]
  },
  {
   "cell_type": "code",
   "execution_count": 72,
   "metadata": {
    "colab": {
     "base_uri": "https://localhost:8080/",
     "height": 143
    },
    "colab_type": "code",
    "id": "We1MEJwZd9pp",
    "outputId": "a9e97fc7-d07c-4187-9cb1-97ec98e2639b"
   },
   "outputs": [
    {
     "data": {
      "text/plain": [
       "tensor([[ 0.2681, -0.8466,  0.5953,  ...,  0.2383,  1.4950,  0.8300],\n",
       "        [-1.1811,  0.3584, -1.0999,  ..., -0.1563,  0.1947, -1.1907],\n",
       "        [-0.0465,  0.6197,  0.5665,  ..., -0.3762, -0.0325,  0.8062],\n",
       "        ...,\n",
       "        [ 1.0689, -1.5650,  0.1727,  ...,  1.2660,  0.1263,  1.0982],\n",
       "        [ 0.6092,  1.5649, -0.1410,  ...,  0.3049,  0.1241, -2.2766],\n",
       "        [-1.4339, -0.7381, -0.0157,  ..., -0.5093, -2.3181,  0.6670]])"
      ]
     },
     "execution_count": 72,
     "metadata": {},
     "output_type": "execute_result"
    }
   ],
   "source": [
    "model_LSTM.embedding.weight.data.copy_(pretrained_embeddings)"
   ]
  },
  {
   "cell_type": "code",
   "execution_count": 104,
   "metadata": {},
   "outputs": [
    {
     "data": {
      "text/plain": [
       "tensor([[ 1.8366,  0.5447,  2.2488,  ...,  1.6172, -0.0787, -0.6226],\n",
       "        [-1.4872,  0.8297,  0.4875,  ...,  0.3673,  0.8060,  1.0164],\n",
       "        [-0.0465,  0.6197,  0.5665,  ..., -0.3762, -0.0325,  0.8062],\n",
       "        ...,\n",
       "        [-0.9095, -0.0151, -0.2626,  ...,  1.6059,  1.6248,  2.0685],\n",
       "        [ 0.9254,  1.5394,  1.6576,  ..., -0.2449,  1.0148,  0.3398],\n",
       "        [-0.3455,  1.0553, -1.8628,  ..., -0.4209, -0.5933, -0.0934]])"
      ]
     },
     "execution_count": 104,
     "metadata": {},
     "output_type": "execute_result"
    }
   ],
   "source": [
    "model_BiLSTM.embedding.weight.data.copy_(pretrained_embeddings)"
   ]
  },
  {
   "cell_type": "code",
   "execution_count": 105,
   "metadata": {
    "colab": {
     "base_uri": "https://localhost:8080/",
     "height": 143
    },
    "colab_type": "code",
    "id": "p24pobL2eCqj",
    "outputId": "d48582e6-60c8-4147-c8d3-367d8093ffb1"
   },
   "outputs": [],
   "source": [
    "UNK_IDX = TEXT.vocab.stoi[TEXT.unk_token]"
   ]
  },
  {
   "cell_type": "markdown",
   "metadata": {},
   "source": [
    "#Setting row in the embedding weights matrix to zero using the token index"
   ]
  },
  {
   "cell_type": "code",
   "execution_count": 75,
   "metadata": {},
   "outputs": [
    {
     "name": "stdout",
     "output_type": "stream",
     "text": [
      "tensor([[ 0.0000,  0.0000,  0.0000,  ...,  0.0000,  0.0000,  0.0000],\n",
      "        [ 0.0000,  0.0000,  0.0000,  ...,  0.0000,  0.0000,  0.0000],\n",
      "        [-0.0465,  0.6197,  0.5665,  ..., -0.3762, -0.0325,  0.8062],\n",
      "        ...,\n",
      "        [ 1.0689, -1.5650,  0.1727,  ...,  1.2660,  0.1263,  1.0982],\n",
      "        [ 0.6092,  1.5649, -0.1410,  ...,  0.3049,  0.1241, -2.2766],\n",
      "        [-1.4339, -0.7381, -0.0157,  ..., -0.5093, -2.3181,  0.6670]])\n"
     ]
    }
   ],
   "source": [
    "model_LSTM.embedding.weight.data[UNK_IDX] = torch.zeros(EMBEDDING_DIM)\n",
    "model_LSTM.embedding.weight.data[PAD_IDX] = torch.zeros(EMBEDDING_DIM)\n",
    "\n",
    "print(model_LSTM.embedding.weight.data)"
   ]
  },
  {
   "cell_type": "code",
   "execution_count": 106,
   "metadata": {},
   "outputs": [
    {
     "name": "stdout",
     "output_type": "stream",
     "text": [
      "tensor([[ 0.0000,  0.0000,  0.0000,  ...,  0.0000,  0.0000,  0.0000],\n",
      "        [ 0.0000,  0.0000,  0.0000,  ...,  0.0000,  0.0000,  0.0000],\n",
      "        [-0.0465,  0.6197,  0.5665,  ..., -0.3762, -0.0325,  0.8062],\n",
      "        ...,\n",
      "        [-0.9095, -0.0151, -0.2626,  ...,  1.6059,  1.6248,  2.0685],\n",
      "        [ 0.9254,  1.5394,  1.6576,  ..., -0.2449,  1.0148,  0.3398],\n",
      "        [-0.3455,  1.0553, -1.8628,  ..., -0.4209, -0.5933, -0.0934]])\n"
     ]
    }
   ],
   "source": [
    "model_BiLSTM.embedding.weight.data[UNK_IDX] = torch.zeros(EMBEDDING_DIM)\n",
    "model_BiLSTM.embedding.weight.data[PAD_IDX] = torch.zeros(EMBEDDING_DIM)\n",
    "\n",
    "print(model_BiLSTM.embedding.weight.data)"
   ]
  },
  {
   "cell_type": "markdown",
   "metadata": {
    "colab_type": "text",
    "id": "1FzS3q48u3bA"
   },
   "source": [
    "<a id='section4'></a>\n",
    "# **4. Training**"
   ]
  },
  {
   "cell_type": "code",
   "execution_count": 107,
   "metadata": {
    "colab": {},
    "colab_type": "code",
    "id": "mp-WpuhLk1np"
   },
   "outputs": [],
   "source": [
    "optimizer = optim.Adam(model_LSTM.parameters(), lr=2e-2)\n",
    "criterion = nn.BCEWithLogitsLoss()\n",
    "model = model_LSTM.to(device)\n",
    "criterion = criterion.to(device)"
   ]
  },
  {
   "cell_type": "code",
   "execution_count": 108,
   "metadata": {},
   "outputs": [],
   "source": [
    "model2 = model_BiLSTM.to(device)"
   ]
  },
  {
   "cell_type": "code",
   "execution_count": 111,
   "metadata": {
    "colab": {},
    "colab_type": "code",
    "id": "mkVIS45Tejg0"
   },
   "outputs": [],
   "source": [
    "def batch_accuracy(predictions, label):\n",
    "    preds = torch.round(torch.sigmoid(predictions))\n",
    "    correct = (preds == label).float()\n",
    "    accuracy = correct.sum() / len(correct)\n",
    "    return accuracy\n",
    "\n",
    "def timer(start_time, end_time):\n",
    "    time = end_time - start_time\n",
    "    mins = int(time / 60)\n",
    "    secs = int(time - (mins * 60))\n",
    "\n",
    "    return mins, secs"
   ]
  },
  {
   "cell_type": "code",
   "execution_count": 112,
   "metadata": {},
   "outputs": [],
   "source": [
    "def train(model, iterator, optimizer, criterion):\n",
    "    training_acc = 0.0\n",
    "    training_loss = 0.0\n",
    "    \n",
    "    model.train()\n",
    "    for batch in iterator:\n",
    "        optimizer.zero_grad()\n",
    "        text, text_lengths = batch.text\n",
    "        predictions = model(text, text_lengths).squeeze(1)\n",
    "        loss = criterion(predictions, batch.target)\n",
    "        accuracy = batch_accuracy(predictions, batch.target)\n",
    "        loss.backward()\n",
    "        optimizer.step()\n",
    "        training_acc += accuracy.item()\n",
    "        training_loss += loss.item()\n",
    "        \n",
    "\n",
    "    return training_loss / len(iterator), training_acc / len(iterator)"
   ]
  },
  {
   "cell_type": "code",
   "execution_count": 113,
   "metadata": {
    "colab": {},
    "colab_type": "code",
    "id": "V_0IWDF_fQ-u"
   },
   "outputs": [],
   "source": [
    "def evaluate(model, iterator, criterion):\n",
    "    eval_acc = 0.0\n",
    "    eval_loss = 0.0\n",
    "   \n",
    "    model.eval()\n",
    "    with torch.no_grad():\n",
    "        for batch in iterator:\n",
    "            text, text_lengths = batch.text\n",
    "            predictions = model(text, text_lengths).squeeze(1)\n",
    "            loss = criterion(predictions, batch.target)\n",
    "            accuracy = batch_accuracy(predictions, batch.target)\n",
    "            eval_loss += loss.item()\n",
    "            eval_acc += accuracy.item()\n",
    "\n",
    "    return eval_loss / len(iterator), eval_acc / len(iterator)"
   ]
  },
  {
   "cell_type": "markdown",
   "metadata": {
    "colab_type": "text",
    "id": "gsuG6zKbDk8t"
   },
   "source": [
    "### **Train the model**"
   ]
  },
  {
   "cell_type": "code",
   "execution_count": 82,
   "metadata": {},
   "outputs": [],
   "source": [
    "history_train_loss = []\n",
    "history_train_acc = []\n",
    "history_valid_loss = []\n",
    "history_valid_acc = []\n",
    "history_epochs = []"
   ]
  },
  {
   "cell_type": "code",
   "execution_count": 83,
   "metadata": {},
   "outputs": [
    {
     "name": "stdout",
     "output_type": "stream",
     "text": [
      "Época 1:\n",
      "\t Tiempo Total : 2m 52s\n",
      "\t Pérdida en entrenamiento : 0.54 | Accuracy en entrenamiento: 72.97%\n",
      "\t Pérdida en validación : 0.46 | Accuracy en validación: 78.64%\n",
      "Época 2:\n",
      "\t Tiempo Total : 2m 56s\n",
      "\t Pérdida en entrenamiento : 0.47 | Accuracy en entrenamiento: 78.61%\n",
      "\t Pérdida en validación : 0.49 | Accuracy en validación: 77.45%\n",
      "Época 3:\n",
      "\t Tiempo Total : 4m 18s\n",
      "\t Pérdida en entrenamiento : 0.61 | Accuracy en entrenamiento: 68.35%\n",
      "\t Pérdida en validación : 0.63 | Accuracy en validación: 64.73%\n",
      "Época 4:\n",
      "\t Tiempo Total : 5m 22s\n",
      "\t Pérdida en entrenamiento : 0.72 | Accuracy en entrenamiento: 58.49%\n",
      "\t Pérdida en validación : 0.65 | Accuracy en validación: 61.68%\n",
      "Época 5:\n",
      "\t Tiempo Total : 5m 31s\n",
      "\t Pérdida en entrenamiento : 0.73 | Accuracy en entrenamiento: 56.8%\n",
      "\t Pérdida en validación : 0.69 | Accuracy en validación: 56.96%\n"
     ]
    }
   ],
   "source": [
    "EPOCHS = 5\n",
    "best_valid_loss = float('inf')\n",
    "\n",
    "for epoch in range(EPOCHS):\n",
    "    start_time = time.time()\n",
    "    train_loss, train_acc = train(model, train_iterator, optimizer, criterion)\n",
    "    valid_loss, valid_acc = evaluate(model, valid_iterator, criterion)\n",
    "    \n",
    "    history_train_loss.append(train_loss) \n",
    "    history_train_acc.append(train_acc)\n",
    "    history_valid_loss.append(valid_loss)\n",
    "    history_valid_acc.append(valid_acc)\n",
    "    history_epochs.append(epoch)\n",
    "    \n",
    "    end_time = time.time()\n",
    "    mins, secs = timer(start_time, end_time)\n",
    "\n",
    "    if valid_loss < best_valid_loss:\n",
    "        best_valid_loss = valid_loss\n",
    "        torch.save(model.state_dict(), 'model-sd.pt')\n",
    "\n",
    "    print(\"Época {}:\".format(epoch+1))\n",
    "    print(\"\\t Tiempo Total : {}m {}s\".format(mins, secs))\n",
    "    print(\"\\t Pérdida en entrenamiento : {} | Accuracy en entrenamiento: {}%\".format(round(train_loss, 2), round(train_acc*100, 2)))\n",
    "    print(\"\\t Pérdida en validación : {} | Accuracy en validación: {}%\".format(round(valid_loss, 2), round(valid_acc*100, 2)))"
   ]
  },
  {
   "cell_type": "code",
   "execution_count": 84,
   "metadata": {},
   "outputs": [
    {
     "data": {
      "image/png": "[encoded data removed]",
      "text/plain": [
       "<Figure size 432x288 with 1 Axes>"
      ]
     },
     "metadata": {
      "needs_background": "light"
     },
     "output_type": "display_data"
    },
    {
     "data": {
      "image/png": "[encoded data removed]",
      "text/plain": [
       "<Figure size 432x288 with 1 Axes>"
      ]
     },
     "metadata": {
      "needs_background": "light"
     },
     "output_type": "display_data"
    }
   ],
   "source": [
    "plt.plot(history_epochs,history_train_acc, 'b', label='Accuracy en entrenamiento')\n",
    "plt.plot(history_epochs,history_valid_acc, 'r', label='Accuracy en validación')\n",
    "plt.title('Accuracy en entrenamiento y validación')\n",
    "plt.legend()\n",
    "\n",
    "plt.figure()\n",
    "\n",
    "plt.plot(history_epochs, history_train_loss, 'b', label='Pérdida en entrenamiento')\n",
    "plt.plot(history_epochs, history_valid_loss, 'r', label='Pérdida en validación')\n",
    "plt.title('Pérdida en entrenamiento y validación')\n",
    "plt.legend()\n",
    "\n",
    "plt.show()"
   ]
  },
  {
   "cell_type": "code",
   "execution_count": 114,
   "metadata": {},
   "outputs": [],
   "source": [
    "history_train_loss2 = []\n",
    "history_train_acc2 = []\n",
    "history_valid_loss2 = []\n",
    "history_valid_acc2 = []\n",
    "history_epochs2 = []"
   ]
  },
  {
   "cell_type": "code",
   "execution_count": 115,
   "metadata": {},
   "outputs": [
    {
     "name": "stdout",
     "output_type": "stream",
     "text": [
      "Época 1:\n",
      "\t Tiempo Total : 5m 35s\n",
      "\t Pérdida en entrenamiento : 0.69 | Accuracy en entrenamiento: 51.73%\n",
      "\t Pérdida en validación : 0.69 | Accuracy en validación: 50.1%\n",
      "Época 2:\n",
      "\t Tiempo Total : 5m 41s\n",
      "\t Pérdida en entrenamiento : 0.69 | Accuracy en entrenamiento: 51.68%\n",
      "\t Pérdida en validación : 0.69 | Accuracy en validación: 50.1%\n",
      "Época 3:\n",
      "\t Tiempo Total : 5m 39s\n",
      "\t Pérdida en entrenamiento : 0.69 | Accuracy en entrenamiento: 51.77%\n",
      "\t Pérdida en validación : 0.69 | Accuracy en validación: 50.1%\n",
      "Época 4:\n",
      "\t Tiempo Total : 5m 33s\n",
      "\t Pérdida en entrenamiento : 0.69 | Accuracy en entrenamiento: 51.69%\n",
      "\t Pérdida en validación : 0.69 | Accuracy en validación: 50.1%\n",
      "Época 5:\n",
      "\t Tiempo Total : 5m 21s\n",
      "\t Pérdida en entrenamiento : 0.69 | Accuracy en entrenamiento: 51.84%\n",
      "\t Pérdida en validación : 0.69 | Accuracy en validación: 50.1%\n"
     ]
    }
   ],
   "source": [
    "EPOCHS = 5\n",
    "best_valid_loss = float('inf')\n",
    "\n",
    "for epoch in range(EPOCHS):\n",
    "    start_time = time.time()\n",
    "    train_loss, train_acc = train(model2, train_iterator, optimizer, criterion)\n",
    "    valid_loss, valid_acc = evaluate(model2, valid_iterator, criterion)\n",
    "    \n",
    "    history_train_loss2.append(train_loss) \n",
    "    history_train_acc2.append(train_acc)\n",
    "    history_valid_loss2.append(valid_loss)\n",
    "    history_valid_acc2.append(valid_acc)\n",
    "    history_epochs2.append(epoch)\n",
    "    \n",
    "    end_time = time.time()\n",
    "    mins, secs = timer(start_time, end_time)\n",
    "\n",
    "    if valid_loss < best_valid_loss:\n",
    "        best_valid_loss = valid_loss\n",
    "        torch.save(model2.state_dict(), 'model2-sd.pt')\n",
    "\n",
    "    print(\"Época {}:\".format(epoch+1))\n",
    "    print(\"\\t Tiempo Total : {}m {}s\".format(mins, secs))\n",
    "    print(\"\\t Pérdida en entrenamiento : {} | Accuracy en entrenamiento: {}%\".format(round(train_loss, 2), round(train_acc*100, 2)))\n",
    "    print(\"\\t Pérdida en validación : {} | Accuracy en validación: {}%\".format(round(valid_loss, 2), round(valid_acc*100, 2)))"
   ]
  },
  {
   "cell_type": "code",
   "execution_count": 93,
   "metadata": {},
   "outputs": [
    {
     "data": {
      "image/png": "[encoded data removed]",
      "text/plain": [
       "<Figure size 432x288 with 1 Axes>"
      ]
     },
     "metadata": {
      "needs_background": "light"
     },
     "output_type": "display_data"
    },
    {
     "data": {
      "image/png": "[encoded data removed]",
      "text/plain": [
       "<Figure size 432x288 with 1 Axes>"
      ]
     },
     "metadata": {
      "needs_background": "light"
     },
     "output_type": "display_data"
    }
   ],
   "source": [
    "plt.plot(history_epochs2,history_train_acc2, 'b', label='Accuracy en entrenamiento')\n",
    "plt.plot(history_epochs2,history_valid_acc2, 'r', label='Accuracy en validación')\n",
    "plt.title('Accuracy en entrenamiento y validación')\n",
    "plt.legend()\n",
    "\n",
    "plt.figure()\n",
    "\n",
    "plt.plot(history_epochs2, history_train_loss2, 'b', label='Pérdida en entrenamiento')\n",
    "plt.plot(history_epochs2, history_valid_loss2, 'r', label='Pérdida en validación')\n",
    "plt.title('Pérdida en entrenamiento y validación')\n",
    "plt.legend()\n",
    "\n",
    "plt.show()"
   ]
  },
  {
   "cell_type": "markdown",
   "metadata": {
    "colab_type": "text",
    "id": "WRHo-gVszo9H"
   },
   "source": [
    "<a id='section5'></a>\n",
    "# **5. Predicción**"
   ]
  },
  {
   "cell_type": "code",
   "execution_count": 90,
   "metadata": {
    "colab": {
     "base_uri": "https://localhost:8080/",
     "height": 35
    },
    "colab_type": "code",
    "id": "n40NoCEniiL6",
    "outputId": "5bfdc497-c2de-4f0c-d3fe-b722422fd4ec"
   },
   "outputs": [
    {
     "name": "stdout",
     "output_type": "stream",
     "text": [
      "Pérdida en prueba: 0.45 | Accuracy en prueba: 79.02%\n"
     ]
    }
   ],
   "source": [
    "model.load_state_dict(torch.load('model-sd.pt'))\n",
    "test_loss, test_acc = evaluate(model, test_iterator, criterion)\n",
    "\n",
    "print(\"Pérdida en prueba: {} | Accuracy en prueba: {}%\".format(round(test_loss, 2), round(test_acc*100, 2)))"
   ]
  },
  {
   "cell_type": "code",
   "execution_count": 116,
   "metadata": {
    "colab": {},
    "colab_type": "code",
    "id": "cEzb31Turmm_"
   },
   "outputs": [],
   "source": [
    "nlp = spacy.load('en_core_web_sm')\n",
    "\n",
    "def predict(model, text, tokenized=True):\n",
    "    model.eval()\n",
    "\n",
    "    if tokenized == False:\n",
    "        tokens = [token.text for token in nlp.tokenizer(text)]\n",
    "    else:\n",
    "        tokens = text\n",
    "\n",
    "    indexed_tokens = [TEXT.vocab.stoi[t] for t in tokens]\n",
    "    length = [len(indexed_tokens)]\n",
    "    tensor = torch.LongTensor(indexed_tokens).to(device)\n",
    "    tensor = tensor.unsqueeze(1)\n",
    "    length_tensor = torch.LongTensor(length)\n",
    "    prediction = torch.sigmoid(model(tensor, length_tensor))\n",
    "    return prediction.item()"
   ]
  },
  {
   "cell_type": "code",
   "execution_count": 118,
   "metadata": {
    "colab": {
     "base_uri": "https://localhost:8080/",
     "height": 71
    },
    "colab_type": "code",
    "id": "LNVfJSHooMus",
    "outputId": "9a7ccf8a-a352-4bf9-a025-1425d1e3761d"
   },
   "outputs": [
    {
     "name": "stdout",
     "output_type": "stream",
     "text": [
      "Tweet: listening to music\n",
      "Predicción: 0.52\n",
      "Etiqueta verdadera: 1\n"
     ]
    }
   ],
   "source": [
    "print(\"Tweet: {}\".format(TreebankWordDetokenizer().detokenize(test[10].text)))\n",
    "print(\"Predicción: {}\".format(round(predict(model, test[10].text), 2)))\n",
    "print(\"Etiqueta verdadera: {}\".format(test[10].target))"
   ]
  },
  {
   "cell_type": "code",
   "execution_count": 119,
   "metadata": {
    "colab": {
     "base_uri": "https://localhost:8080/",
     "height": 359
    },
    "colab_type": "code",
    "id": "8GD0zC4Fugk-",
    "outputId": "6f14da85-f61e-401e-fc07-d33533ec7250"
   },
   "outputs": [
    {
     "ename": "AttributeError",
     "evalue": "'Example' object has no attribute 'label'",
     "output_type": "error",
     "traceback": [
      "\u001b[1;31m---------------------------------------------------------------------------\u001b[0m",
      "\u001b[1;31mAttributeError\u001b[0m                            Traceback (most recent call last)",
      "\u001b[1;32m<ipython-input-119-b60394a070fb>\u001b[0m in \u001b[0;36m<module>\u001b[1;34m\u001b[0m\n\u001b[0;32m      3\u001b[0m \u001b[1;32mfor\u001b[0m \u001b[0midx\u001b[0m \u001b[1;32min\u001b[0m \u001b[0mrange\u001b[0m\u001b[1;33m(\u001b[0m\u001b[1;36m10\u001b[0m\u001b[1;33m)\u001b[0m\u001b[1;33m:\u001b[0m\u001b[1;33m\u001b[0m\u001b[1;33m\u001b[0m\u001b[0m\n\u001b[0;32m      4\u001b[0m     \u001b[0mtweet\u001b[0m \u001b[1;33m=\u001b[0m \u001b[0mTreebankWordDetokenizer\u001b[0m\u001b[1;33m(\u001b[0m\u001b[1;33m)\u001b[0m\u001b[1;33m.\u001b[0m\u001b[0mdetokenize\u001b[0m\u001b[1;33m(\u001b[0m\u001b[0mtest\u001b[0m\u001b[1;33m[\u001b[0m\u001b[0midx\u001b[0m\u001b[1;33m]\u001b[0m\u001b[1;33m.\u001b[0m\u001b[0mtext\u001b[0m\u001b[1;33m)\u001b[0m\u001b[1;33m\u001b[0m\u001b[1;33m\u001b[0m\u001b[0m\n\u001b[1;32m----> 5\u001b[1;33m     \u001b[0md\u001b[0m\u001b[1;33m.\u001b[0m\u001b[0mappend\u001b[0m\u001b[1;33m(\u001b[0m\u001b[1;33m{\u001b[0m\u001b[1;34m'Tweet'\u001b[0m\u001b[1;33m:\u001b[0m \u001b[0mtweet\u001b[0m\u001b[1;33m,\u001b[0m \u001b[1;34m'Predicción'\u001b[0m\u001b[1;33m:\u001b[0m \u001b[0mpredict\u001b[0m\u001b[1;33m(\u001b[0m\u001b[0mmodel\u001b[0m\u001b[1;33m,\u001b[0m \u001b[0mtest\u001b[0m\u001b[1;33m[\u001b[0m\u001b[0midx\u001b[0m\u001b[1;33m]\u001b[0m\u001b[1;33m.\u001b[0m\u001b[0mtext\u001b[0m\u001b[1;33m)\u001b[0m\u001b[1;33m,\u001b[0m \u001b[1;34m'Etiqueta verdadera'\u001b[0m\u001b[1;33m:\u001b[0m \u001b[0mtest\u001b[0m\u001b[1;33m[\u001b[0m\u001b[0midx\u001b[0m\u001b[1;33m]\u001b[0m\u001b[1;33m.\u001b[0m\u001b[0mlabel\u001b[0m\u001b[1;33m}\u001b[0m\u001b[1;33m)\u001b[0m\u001b[1;33m\u001b[0m\u001b[1;33m\u001b[0m\u001b[0m\n\u001b[0m\u001b[0;32m      6\u001b[0m \u001b[1;33m\u001b[0m\u001b[0m\n\u001b[0;32m      7\u001b[0m \u001b[0mpd\u001b[0m\u001b[1;33m.\u001b[0m\u001b[0mDataFrame\u001b[0m\u001b[1;33m(\u001b[0m\u001b[0md\u001b[0m\u001b[1;33m)\u001b[0m\u001b[1;33m\u001b[0m\u001b[1;33m\u001b[0m\u001b[0m\n",
      "\u001b[1;31mAttributeError\u001b[0m: 'Example' object has no attribute 'label'"
     ]
    }
   ],
   "source": [
    "d = []\n",
    "\n",
    "for idx in range(10):\n",
    "    tweet = TreebankWordDetokenizer().detokenize(test[idx].text)\n",
    "    d.append({'Tweet': tweet, 'Predicción': predict(model, test[idx].text), 'Etiqueta verdadera': test[idx].target})\n",
    "\n",
    "pd.DataFrame(d)"
   ]
  },
  {
   "cell_type": "code",
   "execution_count": null,
   "metadata": {},
   "outputs": [],
   "source": []
  }
 ],
 "metadata": {
  "accelerator": "GPU",
  "colab": {
   "collapsed_sections": [],
   "name": "sentiment140",
   "provenance": []
  },
  "kernelspec": {
   "display_name": "Python 3",
   "language": "python",
   "name": "python3"
  },
  "language_info": {
   "codemirror_mode": {
    "name": "ipython",
    "version": 3
   },
   "file_extension": ".py",
   "mimetype": "text/x-python",
   "name": "python",
   "nbconvert_exporter": "python",
   "pygments_lexer": "ipython3",
   "version": "3.8.3"
  }
 },
 "nbformat": 4,
 "nbformat_minor": 1
}
